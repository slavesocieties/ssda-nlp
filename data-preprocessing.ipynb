{
 "cells": [
  {
   "cell_type": "code",
   "execution_count": null,
   "metadata": {},
   "outputs": [],
   "source": [
    "# default_exp preprocessing"
   ]
  },
  {
   "cell_type": "code",
   "execution_count": null,
   "metadata": {},
   "outputs": [],
   "source": [
    "#export\n",
    "\n",
    "def xml_to_jsonl(path_to_xml_transcription):\n",
    "    xml_transcription = open(path_to_xml_transcription, 'r', encoding=\"utf-8\")\n",
    "    prodigy_input = open(path_to_xml_transcription[:path_to_xml_transcription.find(\".xml\")] + \".jsonl\", 'w', encoding=\"utf-8\")\n",
    "    \n",
    "    in_entry = False\n",
    "    current_entry = ''\n",
    "    \n",
    "    for line in xml_transcription:\n",
    "        if \"<entry>\" in line:\n",
    "            in_entry = True            \n",
    "        elif in_entry and (\"</entry>\" in line):\n",
    "            current_entry += line[:line.find(\"</entry>\")]\n",
    "            in_entry = False            \n",
    "            prodigy_input.write(\"{\\\"text\\\":\\\"\" + current_entry + \"\\\"}\\n\")\n",
    "            current_entry = ''\n",
    "        elif in_entry:\n",
    "            if ((line[len(line) - 1] == '\\n') or (line[len(line) - 1] == '\\r')) and (line[len(line) - 2] == '-'):\n",
    "                current_entry += line[:len(line) - 2]\n",
    "            elif line[len(line) - 1] == '-':\n",
    "                current_entry += line[:len(line) - 1]\n",
    "            elif (line[len(line) - 1] == '\\n') or (line[len(line) - 1] == '\\r'):\n",
    "                current_entry += line[:len(line) - 1] + ' '\n",
    "            else:\n",
    "                current_entry += line\n",
    "            \n",
    "    xml_transcription.close()\n",
    "    prodigy_input.close()\n",
    "    \n",
    "    return"
   ]
  },
  {
   "cell_type": "code",
   "execution_count": null,
   "metadata": {},
   "outputs": [],
   "source": [
    "#no_test\n",
    "\n",
    "xml_to_jsonl(\"transcriptions/matanzas_baut_1.xml\")"
   ]
  },
  {
   "cell_type": "code",
   "execution_count": null,
   "metadata": {},
   "outputs": [
    {
     "name": "stdout",
     "output_type": "stream",
     "text": [
      "Converted data-preprocessing.ipynb.\n"
     ]
    }
   ],
   "source": [
    "#no_test\n",
    "\n",
    "from nbdev.export import notebook2script\n",
    "notebook2script()"
   ]
  }
 ],
 "metadata": {
  "kernelspec": {
   "display_name": "Python 3",
   "language": "python",
   "name": "python3"
  }
 },
 "nbformat": 4,
 "nbformat_minor": 2
}
