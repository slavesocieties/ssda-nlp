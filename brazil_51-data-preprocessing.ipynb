{
 "cells": [
  {
   "cell_type": "code",
   "execution_count": null,
   "metadata": {},
   "outputs": [],
   "source": [
    "# default_exp preprocessing"
   ]
  },
  {
   "cell_type": "code",
   "execution_count": 33,
   "metadata": {},
   "outputs": [],
   "source": [
    "#export\n",
    "\n",
    "import srsly\n",
    "from ssda_nlp.xml_parser import *\n",
    "import pandas as pd"
   ]
  },
  {
   "cell_type": "code",
   "execution_count": 34,
   "metadata": {},
   "outputs": [],
   "source": [
    "#export\n",
    "\n",
    "def xml_to_jsonl(path_to_xml_transcription):\n",
    "    xml_transcription = open(path_to_xml_transcription, 'r', encoding=\"utf-8\")\n",
    "    prodigy_input = open(path_to_xml_transcription[:path_to_xml_transcription.find(\".xml\")] + \".jsonl\", 'w', encoding=\"utf-8\")\n",
    "    \n",
    "    in_entry = False\n",
    "    current_entry = ''\n",
    "    \n",
    "    for line in xml_transcription:\n",
    "        if \"<entry>\" in line:\n",
    "            in_entry = True            \n",
    "        elif in_entry and (\"</entry>\" in line):\n",
    "            current_entry += line[:line.find(\"</entry>\")]\n",
    "            in_entry = False            \n",
    "            prodigy_input.write(\"{\\\"text\\\":\\\"\" + current_entry + \"\\\"}\\n\")\n",
    "            current_entry = ''\n",
    "        elif in_entry:\n",
    "            if ((line[len(line) - 1] == '\\n') or (line[len(line) - 1] == '\\r')) and (line[len(line) - 2] == '-'):\n",
    "                current_entry += line[:len(line) - 2]\n",
    "            elif line[len(line) - 1] == '-':\n",
    "                current_entry += line[:len(line) - 1]\n",
    "            elif (line[len(line) - 1] == '\\n') or (line[len(line) - 1] == '\\r'):\n",
    "                current_entry += line[:len(line) - 1] + ' '\n",
    "            else:\n",
    "                current_entry += line\n",
    "            \n",
    "    xml_transcription.close()\n",
    "    prodigy_input.close()\n",
    "    \n",
    "    return"
   ]
  },
  {
   "cell_type": "code",
   "execution_count": 35,
   "metadata": {},
   "outputs": [],
   "source": [
    "#no_test\n",
    "\n",
    "xml_to_jsonl(\"brazilsourcesvalid.xml\")"
   ]
  },
  {
   "cell_type": "code",
   "execution_count": 36,
   "metadata": {},
   "outputs": [],
   "source": [
    "#export\n",
    "\n",
    "def parse_annotation(path_to_annotation):   \n",
    "    annotation = srsly.read_jsonl(path_to_annotation)\n",
    "    \n",
    "    spans = []\n",
    "    texts = []\n",
    "    \n",
    "    for entry in annotation:        \n",
    "        texts.append(entry[\"text\"])\n",
    "        temp = []\n",
    "        if \"spans\" in entry:            \n",
    "            for span in entry[\"spans\"]:\n",
    "                temp.append([span[\"start\"], span[\"end\"], span[\"label\"]])\n",
    "        spans.append(temp)\n",
    "    \n",
    "    #build list of unique entries and list of empty annotation dictionaries for each    \n",
    "    annot_ls = []\n",
    "    \n",
    "    for text in texts:        \n",
    "        annot_ls.append({\"entities\":[]})\n",
    "            \n",
    "    #populate annotation dictionaries\n",
    "    for i in range(len(texts)):\n",
    "        for span in spans[i]:        \n",
    "            annot_ls[i][\"entities\"].append((int(span[0]), int(span[1]), span[2]))       \n",
    "        \n",
    "    #build list of tuples\n",
    "    tuples = []    \n",
    "    for i in range(len(texts)):\n",
    "        tuples.append((texts[i], annot_ls[i]))\n",
    "        \n",
    "    return tuples       "
   ]
  },
  {
   "cell_type": "code",
   "execution_count": 37,
   "metadata": {},
   "outputs": [
    {
     "name": "stdout",
     "output_type": "stream",
     "text": [
      "('[margin]: Balthezar.Aos Aos treze do mes de janeiro da era de mil e seis centos e setenta e seis baptizei e pusos s.tos oleos a B.ar filho de Manoel Gonsalves e de sua m.er Domingas de Almeida forão padrinhos o Capitam Bartholomeu [] e Francisca de Magalhães mulher de Antonio.[signed]: Vigario Padre João Pereira. ', {'entities': [(10, 19, 'PER'), (24, 33, 'DATE'), (37, 51, 'DATE'), (52, 96, 'DATE'), (128, 132, 'PER'), (133, 138, 'REL'), (142, 158, 'PER'), (168, 172, 'REL'), (173, 192, 'PER'), (199, 208, 'REL'), (211, 218, 'CHAR'), (219, 230, 'PER'), (236, 258, 'PER'), (259, 265, 'REL'), (269, 284, 'PER'), (287, 300, 'CHAR'), (301, 313, 'PER')]})\n"
     ]
    }
   ],
   "source": [
    "#no_test\n",
    "\n",
    "print(parse_annotation(\"cabofrio_brazil_1675_1717.annotations.jsonl\")[0])"
   ]
  },
  {
   "cell_type": "code",
   "execution_count": 38,
   "metadata": {},
   "outputs": [],
   "source": [
    "#export\n",
    "\n",
    "def prodigy_output_to_collated_df(path_to_annotation):\n",
    "    tuples = parse_annotation(path_to_annotation)\n",
    "    entry_nos = []\n",
    "    entry_texts = []\n",
    "    entities = []\n",
    "    starts = []\n",
    "    ends = []\n",
    "    labels = []\n",
    "    entry = 1\n",
    "    for tup in tuples:\n",
    "        for entity in tup[1][\"entities\"]:\n",
    "            entry_nos.append(entry)\n",
    "            entry_texts.append(tup[0])\n",
    "            entities.append(tup[0][entity[0]:entity[1]])\n",
    "            starts.append(entity[0])\n",
    "            ends.append(entity[1])\n",
    "            labels.append(entity[2])\n",
    "        entry += 1\n",
    "    \n",
    "    collated_dict = {\"entry_no\": entry_nos, \"text\": entry_texts, \"entity\": entities, \"start\": starts, \"end\": ends, \"label\": labels}\n",
    "    \n",
    "    collated_df = pd.DataFrame(collated_dict)    \n",
    "    \n",
    "    return collated_df"
   ]
  },
  {
   "cell_type": "code",
   "execution_count": 39,
   "metadata": {},
   "outputs": [
    {
     "data": {
      "text/html": [
       "<div>\n",
       "<style scoped>\n",
       "    .dataframe tbody tr th:only-of-type {\n",
       "        vertical-align: middle;\n",
       "    }\n",
       "\n",
       "    .dataframe tbody tr th {\n",
       "        vertical-align: top;\n",
       "    }\n",
       "\n",
       "    .dataframe thead th {\n",
       "        text-align: right;\n",
       "    }\n",
       "</style>\n",
       "<table border=\"1\" class=\"dataframe\">\n",
       "  <thead>\n",
       "    <tr style=\"text-align: right;\">\n",
       "      <th></th>\n",
       "      <th>entry_no</th>\n",
       "      <th>text</th>\n",
       "      <th>entity</th>\n",
       "      <th>start</th>\n",
       "      <th>end</th>\n",
       "      <th>label</th>\n",
       "    </tr>\n",
       "  </thead>\n",
       "  <tbody>\n",
       "    <tr>\n",
       "      <th>0</th>\n",
       "      <td>1</td>\n",
       "      <td>[margin]: Balthezar.Aos Aos treze do mes de ja...</td>\n",
       "      <td>Balthezar</td>\n",
       "      <td>10</td>\n",
       "      <td>19</td>\n",
       "      <td>PER</td>\n",
       "    </tr>\n",
       "    <tr>\n",
       "      <th>1</th>\n",
       "      <td>1</td>\n",
       "      <td>[margin]: Balthezar.Aos Aos treze do mes de ja...</td>\n",
       "      <td>Aos treze</td>\n",
       "      <td>24</td>\n",
       "      <td>33</td>\n",
       "      <td>DATE</td>\n",
       "    </tr>\n",
       "    <tr>\n",
       "      <th>2</th>\n",
       "      <td>1</td>\n",
       "      <td>[margin]: Balthezar.Aos Aos treze do mes de ja...</td>\n",
       "      <td>mes de janeiro</td>\n",
       "      <td>37</td>\n",
       "      <td>51</td>\n",
       "      <td>DATE</td>\n",
       "    </tr>\n",
       "    <tr>\n",
       "      <th>3</th>\n",
       "      <td>1</td>\n",
       "      <td>[margin]: Balthezar.Aos Aos treze do mes de ja...</td>\n",
       "      <td>da era de mil e seis centos e setenta e seis</td>\n",
       "      <td>52</td>\n",
       "      <td>96</td>\n",
       "      <td>DATE</td>\n",
       "    </tr>\n",
       "    <tr>\n",
       "      <th>4</th>\n",
       "      <td>1</td>\n",
       "      <td>[margin]: Balthezar.Aos Aos treze do mes de ja...</td>\n",
       "      <td>B.ar</td>\n",
       "      <td>128</td>\n",
       "      <td>132</td>\n",
       "      <td>PER</td>\n",
       "    </tr>\n",
       "  </tbody>\n",
       "</table>\n",
       "</div>"
      ],
      "text/plain": [
       "   entry_no                                               text  \\\n",
       "0         1  [margin]: Balthezar.Aos Aos treze do mes de ja...   \n",
       "1         1  [margin]: Balthezar.Aos Aos treze do mes de ja...   \n",
       "2         1  [margin]: Balthezar.Aos Aos treze do mes de ja...   \n",
       "3         1  [margin]: Balthezar.Aos Aos treze do mes de ja...   \n",
       "4         1  [margin]: Balthezar.Aos Aos treze do mes de ja...   \n",
       "\n",
       "                                         entity  start  end label  \n",
       "0                                     Balthezar     10   19   PER  \n",
       "1                                     Aos treze     24   33  DATE  \n",
       "2                                mes de janeiro     37   51  DATE  \n",
       "3  da era de mil e seis centos e setenta e seis     52   96  DATE  \n",
       "4                                          B.ar    128  132   PER  "
      ]
     },
     "execution_count": 39,
     "metadata": {},
     "output_type": "execute_result"
    }
   ],
   "source": [
    "#no_test\n",
    "\n",
    "mat_xml_df = prodigy_output_to_collated_df(\"cabofrio_brazil_1675_1717.annotations.jsonl\")\n",
    "mat_xml_df.head()"
   ]
  },
  {
   "cell_type": "code",
   "execution_count": 40,
   "metadata": {},
   "outputs": [
    {
     "ename": "ModuleNotFoundError",
     "evalue": "No module named '_nbdev'",
     "output_type": "error",
     "traceback": [
      "\u001b[1;31m---------------------------------------------------------------------------\u001b[0m",
      "\u001b[1;31mModuleNotFoundError\u001b[0m                       Traceback (most recent call last)",
      "\u001b[1;32m<ipython-input-40-4b137b4e7eca>\u001b[0m in \u001b[0;36m<module>\u001b[1;34m\u001b[0m\n\u001b[0;32m      1\u001b[0m \u001b[1;31m#no_test\u001b[0m\u001b[1;33m\u001b[0m\u001b[1;33m\u001b[0m\u001b[1;33m\u001b[0m\u001b[0m\n\u001b[0;32m      2\u001b[0m \u001b[1;33m\u001b[0m\u001b[0m\n\u001b[1;32m----> 3\u001b[1;33m \u001b[1;32mfrom\u001b[0m \u001b[0m_nbdev\u001b[0m\u001b[1;33m.\u001b[0m\u001b[0mexport\u001b[0m \u001b[1;32mimport\u001b[0m \u001b[0mnotebook2script\u001b[0m\u001b[1;33m\u001b[0m\u001b[1;33m\u001b[0m\u001b[0m\n\u001b[0m\u001b[0;32m      4\u001b[0m \u001b[0mnotebook2script\u001b[0m\u001b[1;33m(\u001b[0m\u001b[1;33m)\u001b[0m\u001b[1;33m\u001b[0m\u001b[1;33m\u001b[0m\u001b[0m\n",
      "\u001b[1;31mModuleNotFoundError\u001b[0m: No module named '_nbdev'"
     ]
    }
   ],
   "source": [
    "#no_test\n",
    "\n",
    "from nbdev.export import notebook2script\n",
    "notebook2script()"
   ]
  },
  {
   "cell_type": "code",
   "execution_count": null,
   "metadata": {},
   "outputs": [],
   "source": []
  },
  {
   "cell_type": "code",
   "execution_count": null,
   "metadata": {},
   "outputs": [],
   "source": []
  }
 ],
 "metadata": {
  "kernelspec": {
   "display_name": "Python 3",
   "language": "python",
   "name": "python3"
  },
  "language_info": {
   "codemirror_mode": {
    "name": "ipython",
    "version": 3
   },
   "file_extension": ".py",
   "mimetype": "text/x-python",
   "name": "python",
   "nbconvert_exporter": "python",
   "pygments_lexer": "ipython3",
   "version": "3.8.3"
  }
 },
 "nbformat": 4,
 "nbformat_minor": 4
}
