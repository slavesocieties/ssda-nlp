{
 "cells": [
  {
   "cell_type": "code",
   "execution_count": null,
   "metadata": {},
   "outputs": [],
   "source": [
    "#default_exp exhaustive_training"
   ]
  },
  {
   "cell_type": "markdown",
   "metadata": {},
   "source": [
    "# 70-exhaustive-training\n",
    "> Create systematic testing procedure and document conclusions\n",
    "\n",
    "**Purpose**  The purpose of this notebook is to provide comprehensive testing with respect to:\n",
    "1. Hyper-parameters (learning rate, dropout rate, compounding, etc)\n",
    "2. Training data: this includes varying language (Spanish, Portuguese) and record type (baptismal, burial, and marriage)\n",
    "\n",
    "Errors I'm Getting:\n",
    "1. C:\\Users\\14193\\anaconda3\\lib\\site-packages\\spacy\\language.py:639: UserWarning: [W033] Training a new parser or NER using a model with no lexeme normalization table. This may degrade the performance of the model to some degree. If this is intentional or the language you're using doesn't have a normalization table, please ignore this warning. If this is surprising, make sure you have the spacy-lookups-data package installed. The languages with lexeme normalization tables are currently: da, de, el, en, id, lb, pt, ru, sr, ta, th.\n",
    "  **kwargs\n",
    "2. C:\\Users\\14193\\anaconda3\\lib\\site-packages\\spacy\\language.py:482: UserWarning: [W030] Some entities could not be aligned in the text \"[margin]: Fran.co esc.o Domingo dos de Marco de mi...\" with entities \"[(10, 17, 'PER'), (18, 23, 'CHAR'), (24, 78, 'DATE...\". Use `spacy.gold.biluo_tags_from_offsets(nlp.make_doc(text), entities)` to check the alignment. Misaligned entities ('-') will be ignored during training.\n",
    "  gold = GoldParse(doc, **gold)"
   ]
  },
  {
   "cell_type": "code",
   "execution_count": null,
   "metadata": {},
   "outputs": [],
   "source": [
    "#no_test\n",
    "\n",
    "#data structure imports\n",
    "import pandas as pd\n",
    "import numpy as np\n",
    "import matplotlib.pyplot as plt\n",
    "import spacy\n",
    "\n",
    "#python imports\n",
    "import random\n",
    "\n",
    "#modeling imports\n",
    "from spacy.util import fix_random_seed\n",
    "from ssda_nlp.collate import *\n",
    "from ssda_nlp.split_data import *\n",
    "from ssda_nlp.modeling import *\n",
    "from ssda_nlp.preprocessing import *\n",
    "from ssda_nlp.model_performance_utils import *"
   ]
  },
  {
   "cell_type": "code",
   "execution_count": null,
   "metadata": {},
   "outputs": [],
   "source": [
    "#no_test\n",
    "#if you want the same model everytime:\n",
    "seed = 2436\n",
    "random.seed(seed)\n",
    "fix_random_seed(seed)"
   ]
  },
  {
   "cell_type": "markdown",
   "metadata": {},
   "source": [
    "# Available Training Data\n",
    "    1. 15834_annot.jsonl:                Baptism, Cuba\n",
    "    2. 239746_annot.jsonl:               Baptism, Florida\n",
    "    3. 419324_annot.jsonl:               Baptism, Colombia\n",
    "    4. 701075_annot.jsonl:               Baptism, Brazil\n",
    "    5. deathandbirthdata.jsonl:          ?\n",
    "    6. guatemala.annotations.jsonl:      ?"
   ]
  },
  {
   "cell_type": "code",
   "execution_count": null,
   "metadata": {},
   "outputs": [
    {
     "name": "stdout",
     "output_type": "stream",
     "text": [
      "(2206, 6)\n",
      "(2839, 6)\n",
      "(947, 6)\n"
     ]
    },
    {
     "data": {
      "text/html": [
       "<div>\n",
       "<style scoped>\n",
       "    .dataframe tbody tr th:only-of-type {\n",
       "        vertical-align: middle;\n",
       "    }\n",
       "\n",
       "    .dataframe tbody tr th {\n",
       "        vertical-align: top;\n",
       "    }\n",
       "\n",
       "    .dataframe thead th {\n",
       "        text-align: right;\n",
       "    }\n",
       "</style>\n",
       "<table border=\"1\" class=\"dataframe\">\n",
       "  <thead>\n",
       "    <tr style=\"text-align: right;\">\n",
       "      <th></th>\n",
       "      <th>entry_no</th>\n",
       "      <th>text</th>\n",
       "      <th>entity</th>\n",
       "      <th>start</th>\n",
       "      <th>end</th>\n",
       "      <th>label</th>\n",
       "    </tr>\n",
       "  </thead>\n",
       "  <tbody>\n",
       "    <tr>\n",
       "      <td>0</td>\n",
       "      <td>1</td>\n",
       "      <td>[margin]: Juana. Esc.va Domingo veinte y dos d...</td>\n",
       "      <td>Juana</td>\n",
       "      <td>10</td>\n",
       "      <td>15</td>\n",
       "      <td>PER</td>\n",
       "    </tr>\n",
       "    <tr>\n",
       "      <td>1</td>\n",
       "      <td>1</td>\n",
       "      <td>[margin]: Juana. Esc.va Domingo veinte y dos d...</td>\n",
       "      <td>Esc.va</td>\n",
       "      <td>17</td>\n",
       "      <td>23</td>\n",
       "      <td>CHAR</td>\n",
       "    </tr>\n",
       "    <tr>\n",
       "      <td>2</td>\n",
       "      <td>1</td>\n",
       "      <td>[margin]: Juana. Esc.va Domingo veinte y dos d...</td>\n",
       "      <td>Domingo veinte y dos de [roto] y nueve</td>\n",
       "      <td>24</td>\n",
       "      <td>62</td>\n",
       "      <td>DATE</td>\n",
       "    </tr>\n",
       "    <tr>\n",
       "      <td>3</td>\n",
       "      <td>1</td>\n",
       "      <td>[margin]: Juana. Esc.va Domingo veinte y dos d...</td>\n",
       "      <td>Thomas de Orvera</td>\n",
       "      <td>66</td>\n",
       "      <td>82</td>\n",
       "      <td>PER</td>\n",
       "    </tr>\n",
       "    <tr>\n",
       "      <td>4</td>\n",
       "      <td>1</td>\n",
       "      <td>[margin]: Juana. Esc.va Domingo veinte y dos d...</td>\n",
       "      <td>Juana</td>\n",
       "      <td>121</td>\n",
       "      <td>126</td>\n",
       "      <td>PER</td>\n",
       "    </tr>\n",
       "  </tbody>\n",
       "</table>\n",
       "</div>"
      ],
      "text/plain": [
       "   entry_no                                               text  \\\n",
       "0         1  [margin]: Juana. Esc.va Domingo veinte y dos d...   \n",
       "1         1  [margin]: Juana. Esc.va Domingo veinte y dos d...   \n",
       "2         1  [margin]: Juana. Esc.va Domingo veinte y dos d...   \n",
       "3         1  [margin]: Juana. Esc.va Domingo veinte y dos d...   \n",
       "4         1  [margin]: Juana. Esc.va Domingo veinte y dos d...   \n",
       "\n",
       "                                   entity  start  end label  \n",
       "0                                   Juana     10   15   PER  \n",
       "1                                  Esc.va     17   23  CHAR  \n",
       "2  Domingo veinte y dos de [roto] y nueve     24   62  DATE  \n",
       "3                        Thomas de Orvera     66   82   PER  \n",
       "4                                   Juana    121  126   PER  "
      ]
     },
     "metadata": {},
     "output_type": "display_data"
    },
    {
     "data": {
      "text/html": [
       "<div>\n",
       "<style scoped>\n",
       "    .dataframe tbody tr th:only-of-type {\n",
       "        vertical-align: middle;\n",
       "    }\n",
       "\n",
       "    .dataframe tbody tr th {\n",
       "        vertical-align: top;\n",
       "    }\n",
       "\n",
       "    .dataframe thead th {\n",
       "        text-align: right;\n",
       "    }\n",
       "</style>\n",
       "<table border=\"1\" class=\"dataframe\">\n",
       "  <thead>\n",
       "    <tr style=\"text-align: right;\">\n",
       "      <th></th>\n",
       "      <th>entry_no</th>\n",
       "      <th>text</th>\n",
       "      <th>entity</th>\n",
       "      <th>start</th>\n",
       "      <th>end</th>\n",
       "      <th>label</th>\n",
       "    </tr>\n",
       "  </thead>\n",
       "  <tbody>\n",
       "    <tr>\n",
       "      <td>0</td>\n",
       "      <td>1</td>\n",
       "      <td>1. María Dolores Sanchez Lunes, día veinte y u...</td>\n",
       "      <td>María Dolores Sanchez</td>\n",
       "      <td>3</td>\n",
       "      <td>24</td>\n",
       "      <td>PER</td>\n",
       "    </tr>\n",
       "    <tr>\n",
       "      <td>1</td>\n",
       "      <td>1</td>\n",
       "      <td>1. María Dolores Sanchez Lunes, día veinte y u...</td>\n",
       "      <td>Lunes, día veinte y uno de Octubre de Mil Sete...</td>\n",
       "      <td>25</td>\n",
       "      <td>94</td>\n",
       "      <td>DATE</td>\n",
       "    </tr>\n",
       "    <tr>\n",
       "      <td>2</td>\n",
       "      <td>1</td>\n",
       "      <td>1. María Dolores Sanchez Lunes, día veinte y u...</td>\n",
       "      <td>Don Miguel o’Reilly</td>\n",
       "      <td>98</td>\n",
       "      <td>117</td>\n",
       "      <td>PER</td>\n",
       "    </tr>\n",
       "    <tr>\n",
       "      <td>3</td>\n",
       "      <td>1</td>\n",
       "      <td>1. María Dolores Sanchez Lunes, día veinte y u...</td>\n",
       "      <td>Teniente de Cura Beneficiado,</td>\n",
       "      <td>118</td>\n",
       "      <td>147</td>\n",
       "      <td>CHAR</td>\n",
       "    </tr>\n",
       "    <tr>\n",
       "      <td>4</td>\n",
       "      <td>1</td>\n",
       "      <td>1. María Dolores Sanchez Lunes, día veinte y u...</td>\n",
       "      <td>Vicario</td>\n",
       "      <td>148</td>\n",
       "      <td>155</td>\n",
       "      <td>CHAR</td>\n",
       "    </tr>\n",
       "  </tbody>\n",
       "</table>\n",
       "</div>"
      ],
      "text/plain": [
       "   entry_no                                               text  \\\n",
       "0         1  1. María Dolores Sanchez Lunes, día veinte y u...   \n",
       "1         1  1. María Dolores Sanchez Lunes, día veinte y u...   \n",
       "2         1  1. María Dolores Sanchez Lunes, día veinte y u...   \n",
       "3         1  1. María Dolores Sanchez Lunes, día veinte y u...   \n",
       "4         1  1. María Dolores Sanchez Lunes, día veinte y u...   \n",
       "\n",
       "                                              entity  start  end label  \n",
       "0                              María Dolores Sanchez      3   24   PER  \n",
       "1  Lunes, día veinte y uno de Octubre de Mil Sete...     25   94  DATE  \n",
       "2                                Don Miguel o’Reilly     98  117   PER  \n",
       "3                      Teniente de Cura Beneficiado,    118  147  CHAR  \n",
       "4                                            Vicario    148  155  CHAR  "
      ]
     },
     "metadata": {},
     "output_type": "display_data"
    },
    {
     "data": {
      "text/html": [
       "<div>\n",
       "<style scoped>\n",
       "    .dataframe tbody tr th:only-of-type {\n",
       "        vertical-align: middle;\n",
       "    }\n",
       "\n",
       "    .dataframe tbody tr th {\n",
       "        vertical-align: top;\n",
       "    }\n",
       "\n",
       "    .dataframe thead th {\n",
       "        text-align: right;\n",
       "    }\n",
       "</style>\n",
       "<table border=\"1\" class=\"dataframe\">\n",
       "  <thead>\n",
       "    <tr style=\"text-align: right;\">\n",
       "      <th></th>\n",
       "      <th>entry_no</th>\n",
       "      <th>text</th>\n",
       "      <th>entity</th>\n",
       "      <th>start</th>\n",
       "      <th>end</th>\n",
       "      <th>label</th>\n",
       "    </tr>\n",
       "  </thead>\n",
       "  <tbody>\n",
       "    <tr>\n",
       "      <td>0</td>\n",
       "      <td>1</td>\n",
       "      <td>Partida 8236 En esta Santa Iglecia de Santa Cr...</td>\n",
       "      <td>Santa Iglecia de Santa Cruz de Lorica</td>\n",
       "      <td>21</td>\n",
       "      <td>58</td>\n",
       "      <td>LOCATION</td>\n",
       "    </tr>\n",
       "    <tr>\n",
       "      <td>1</td>\n",
       "      <td>1</td>\n",
       "      <td>Partida 8236 En esta Santa Iglecia de Santa Cr...</td>\n",
       "      <td>veinte de Mayo de mil ochocien tos ochenta y c...</td>\n",
       "      <td>61</td>\n",
       "      <td>111</td>\n",
       "      <td>DATE</td>\n",
       "    </tr>\n",
       "    <tr>\n",
       "      <td>2</td>\n",
       "      <td>1</td>\n",
       "      <td>Partida 8236 En esta Santa Iglecia de Santa Cr...</td>\n",
       "      <td>José Maria Lugo</td>\n",
       "      <td>129</td>\n",
       "      <td>144</td>\n",
       "      <td>PERSON</td>\n",
       "    </tr>\n",
       "    <tr>\n",
       "      <td>3</td>\n",
       "      <td>1</td>\n",
       "      <td>Partida 8236 En esta Santa Iglecia de Santa Cr...</td>\n",
       "      <td>Eva Justina</td>\n",
       "      <td>182</td>\n",
       "      <td>193</td>\n",
       "      <td>PERSON</td>\n",
       "    </tr>\n",
       "    <tr>\n",
       "      <td>4</td>\n",
       "      <td>1</td>\n",
       "      <td>Partida 8236 En esta Santa Iglecia de Santa Cr...</td>\n",
       "      <td>cuatro de Febrero</td>\n",
       "      <td>207</td>\n",
       "      <td>224</td>\n",
       "      <td>DATE</td>\n",
       "    </tr>\n",
       "  </tbody>\n",
       "</table>\n",
       "</div>"
      ],
      "text/plain": [
       "   entry_no                                               text  \\\n",
       "0         1  Partida 8236 En esta Santa Iglecia de Santa Cr...   \n",
       "1         1  Partida 8236 En esta Santa Iglecia de Santa Cr...   \n",
       "2         1  Partida 8236 En esta Santa Iglecia de Santa Cr...   \n",
       "3         1  Partida 8236 En esta Santa Iglecia de Santa Cr...   \n",
       "4         1  Partida 8236 En esta Santa Iglecia de Santa Cr...   \n",
       "\n",
       "                                              entity  start  end     label  \n",
       "0              Santa Iglecia de Santa Cruz de Lorica     21   58  LOCATION  \n",
       "1  veinte de Mayo de mil ochocien tos ochenta y c...     61  111      DATE  \n",
       "2                                    José Maria Lugo    129  144    PERSON  \n",
       "3                                        Eva Justina    182  193    PERSON  \n",
       "4                                  cuatro de Febrero    207  224      DATE  "
      ]
     },
     "metadata": {},
     "output_type": "display_data"
    }
   ],
   "source": [
    "#no_test\n",
    "\n",
    "collated_df1 = prodigy_output_to_collated_df(\"transcriptions/15834_annot.jsonl\")\n",
    "collated_df2 = prodigy_output_to_collated_df(\"transcriptions/239746_annot.jsonl\")\n",
    "collated_df3 = prodigy_output_to_collated_df(\"transcriptions/419324_annot.jsonl\")\n",
    "\n",
    "collated_df = collated_df1\n",
    "\n",
    "print(collated_df1.shape)\n",
    "print(collated_df2.shape)\n",
    "print(collated_df3.shape)\n",
    "\n",
    "display(collated_df1.head())\n",
    "display(collated_df2.head())\n",
    "display(collated_df3.head())"
   ]
  },
  {
   "cell_type": "code",
   "execution_count": null,
   "metadata": {},
   "outputs": [
    {
     "data": {
      "text/html": [
       "<div>\n",
       "<style scoped>\n",
       "    .dataframe tbody tr th:only-of-type {\n",
       "        vertical-align: middle;\n",
       "    }\n",
       "\n",
       "    .dataframe tbody tr th {\n",
       "        vertical-align: top;\n",
       "    }\n",
       "\n",
       "    .dataframe thead th {\n",
       "        text-align: right;\n",
       "    }\n",
       "</style>\n",
       "<table border=\"1\" class=\"dataframe\">\n",
       "  <thead>\n",
       "    <tr style=\"text-align: right;\">\n",
       "      <th></th>\n",
       "      <th>entry_no</th>\n",
       "      <th>text</th>\n",
       "      <th>entity</th>\n",
       "      <th>start</th>\n",
       "      <th>end</th>\n",
       "      <th>label</th>\n",
       "    </tr>\n",
       "  </thead>\n",
       "  <tbody>\n",
       "    <tr>\n",
       "      <td>13</td>\n",
       "      <td>2</td>\n",
       "      <td>[margin]: Paula. Esc.a Juebes veinte y tres de...</td>\n",
       "      <td>Paula</td>\n",
       "      <td>10</td>\n",
       "      <td>15</td>\n",
       "      <td>PER</td>\n",
       "    </tr>\n",
       "    <tr>\n",
       "      <td>14</td>\n",
       "      <td>2</td>\n",
       "      <td>[margin]: Paula. Esc.a Juebes veinte y tres de...</td>\n",
       "      <td>Esc.a</td>\n",
       "      <td>17</td>\n",
       "      <td>22</td>\n",
       "      <td>CHAR</td>\n",
       "    </tr>\n",
       "    <tr>\n",
       "      <td>15</td>\n",
       "      <td>2</td>\n",
       "      <td>[margin]: Paula. Esc.a Juebes veinte y tres de...</td>\n",
       "      <td>Juebes veinte y tres de feb.o de mil sietec.to...</td>\n",
       "      <td>23</td>\n",
       "      <td>86</td>\n",
       "      <td>DATE</td>\n",
       "    </tr>\n",
       "    <tr>\n",
       "      <td>16</td>\n",
       "      <td>2</td>\n",
       "      <td>[margin]: Paula. Esc.a Juebes veinte y tres de...</td>\n",
       "      <td>Thomas de Orvera</td>\n",
       "      <td>90</td>\n",
       "      <td>106</td>\n",
       "      <td>PER</td>\n",
       "    </tr>\n",
       "    <tr>\n",
       "      <td>17</td>\n",
       "      <td>2</td>\n",
       "      <td>[margin]: Paula. Esc.a Juebes veinte y tres de...</td>\n",
       "      <td>Paula</td>\n",
       "      <td>145</td>\n",
       "      <td>150</td>\n",
       "      <td>PER</td>\n",
       "    </tr>\n",
       "    <tr>\n",
       "      <td>18</td>\n",
       "      <td>2</td>\n",
       "      <td>[margin]: Paula. Esc.a Juebes veinte y tres de...</td>\n",
       "      <td>h. l.16</td>\n",
       "      <td>151</td>\n",
       "      <td>158</td>\n",
       "      <td>CHAR</td>\n",
       "    </tr>\n",
       "    <tr>\n",
       "      <td>19</td>\n",
       "      <td>2</td>\n",
       "      <td>[margin]: Paula. Esc.a Juebes veinte y tres de...</td>\n",
       "      <td>Juan Joseph</td>\n",
       "      <td>162</td>\n",
       "      <td>173</td>\n",
       "      <td>PER</td>\n",
       "    </tr>\n",
       "    <tr>\n",
       "      <td>20</td>\n",
       "      <td>2</td>\n",
       "      <td>[margin]: Paula. Esc.a Juebes veinte y tres de...</td>\n",
       "      <td>Maria Josepha</td>\n",
       "      <td>177</td>\n",
       "      <td>190</td>\n",
       "      <td>PER</td>\n",
       "    </tr>\n",
       "    <tr>\n",
       "      <td>21</td>\n",
       "      <td>2</td>\n",
       "      <td>[margin]: Paula. Esc.a Juebes veinte y tres de...</td>\n",
       "      <td>esc.s</td>\n",
       "      <td>191</td>\n",
       "      <td>196</td>\n",
       "      <td>CHAR</td>\n",
       "    </tr>\n",
       "    <tr>\n",
       "      <td>22</td>\n",
       "      <td>2</td>\n",
       "      <td>[margin]: Paula. Esc.a Juebes veinte y tres de...</td>\n",
       "      <td>Capitan D. Luis Hurtado de Mendoza</td>\n",
       "      <td>201</td>\n",
       "      <td>235</td>\n",
       "      <td>PER</td>\n",
       "    </tr>\n",
       "  </tbody>\n",
       "</table>\n",
       "</div>"
      ],
      "text/plain": [
       "    entry_no                                               text  \\\n",
       "13         2  [margin]: Paula. Esc.a Juebes veinte y tres de...   \n",
       "14         2  [margin]: Paula. Esc.a Juebes veinte y tres de...   \n",
       "15         2  [margin]: Paula. Esc.a Juebes veinte y tres de...   \n",
       "16         2  [margin]: Paula. Esc.a Juebes veinte y tres de...   \n",
       "17         2  [margin]: Paula. Esc.a Juebes veinte y tres de...   \n",
       "18         2  [margin]: Paula. Esc.a Juebes veinte y tres de...   \n",
       "19         2  [margin]: Paula. Esc.a Juebes veinte y tres de...   \n",
       "20         2  [margin]: Paula. Esc.a Juebes veinte y tres de...   \n",
       "21         2  [margin]: Paula. Esc.a Juebes veinte y tres de...   \n",
       "22         2  [margin]: Paula. Esc.a Juebes veinte y tres de...   \n",
       "\n",
       "                                               entity  start  end label  \n",
       "13                                              Paula     10   15   PER  \n",
       "14                                              Esc.a     17   22  CHAR  \n",
       "15  Juebes veinte y tres de feb.o de mil sietec.to...     23   86  DATE  \n",
       "16                                   Thomas de Orvera     90  106   PER  \n",
       "17                                              Paula    145  150   PER  \n",
       "18                                            h. l.16    151  158  CHAR  \n",
       "19                                        Juan Joseph    162  173   PER  \n",
       "20                                      Maria Josepha    177  190   PER  \n",
       "21                                              esc.s    191  196  CHAR  \n",
       "22                 Capitan D. Luis Hurtado de Mendoza    201  235   PER  "
      ]
     },
     "execution_count": null,
     "metadata": {},
     "output_type": "execute_result"
    }
   ],
   "source": [
    "#no_test\n",
    "\n",
    "collated_df = prodigy_output_to_collated_df(\"transcriptions/15834_annot.jsonl\")\n",
    "# Split data\n",
    "train_df, valid_df, test_df = split_data_grp(collated_df, prop_train = 0.7, prop_validation = 0.2, grp_var = 'entry_no', seed=seed)\n",
    "# Generate Spacy datasets\n",
    "train_spacy = genSpaCyInput(train_df)\n",
    "# Look at column names\n",
    "train_df.head(10)"
   ]
  },
  {
   "cell_type": "code",
   "execution_count": null,
   "metadata": {},
   "outputs": [
    {
     "name": "stdout",
     "output_type": "stream",
     "text": [
      "['O', 'O', 'O', 'O', 'U-PER', 'U-CHAR', 'B-DATE', 'I-DATE', 'I-DATE', 'I-DATE', 'I-DATE', 'I-DATE', 'I-DATE', 'I-DATE', 'I-DATE', 'I-DATE', 'I-DATE', 'L-DATE', 'O', 'O', 'O', 'O', 'B-PER', 'I-PER', 'L-PER', 'U-CHAR', 'O', 'O', 'O', 'O', 'O', 'O', 'O', 'O', 'O', 'O', 'O', 'O', 'O', 'O', 'U-PER', 'U-CHAR', 'U-CHAR', 'O', 'O', 'O', 'U-CHAR', 'U-CHAR', 'O', 'B-PER', 'I-PER', 'I-PER', 'I-PER', 'L-PER', 'O', 'O', 'O', 'O', 'O', 'O', '-', '-', '-', 'O', 'O', 'O', 'O', 'O', 'O', 'O', 'O', 'O', 'O', 'B-PER', 'I-PER', 'L-PER', 'B-PER', 'I-PER', 'I-PER', 'I-PER', 'I-PER', 'L-PER']\n"
     ]
    },
    {
     "name": "stderr",
     "output_type": "stream",
     "text": [
      "C:\\Users\\genkindn\\AppData\\Local\\Continuum\\anaconda3\\lib\\site-packages\\spacy\\training\\iob_utils.py:142: UserWarning: [W030] Some entities could not be aligned in the text \"[margin]: Fran.co esc.o Domingo dos de Marco de mi...\" with entities \"[(10, 17, 'PER'), (18, 23, 'CHAR'), (24, 78, 'DATE...\". Use `spacy.training.offsets_to_biluo_tags(nlp.make_doc(text), entities)` to check the alignment. Misaligned entities ('-') will be ignored during training.\n",
      "  entities=ent_str[:50] + \"...\" if len(ent_str) > 50 else ent_str,\n"
     ]
    }
   ],
   "source": [
    "#no_test\n",
    "\n",
    "nlp = load_model()\n",
    "\n",
    "for text, annots in train_spacy:\n",
    "    if \"[margin]: Fran.co esc.o Domingo dos de Marco\" in text:\n",
    "        print(spacy.training.offsets_to_biluo_tags(nlp.make_doc(text), annots[\"entities\"]))"
   ]
  },
  {
   "cell_type": "code",
   "execution_count": null,
   "metadata": {},
   "outputs": [],
   "source": [
    "#no_test\n",
    "#Functioning code that this was all based off of\n",
    "\n",
    "#spacy parameters\n",
    "#cping = {'start':16, 'end':32, 'cp_rate':1.05}\n",
    "#solves = {'learn_rate':0.001}\n",
    "#dpout = 0.6\n",
    "#save_mdir = 'models/exhaustive_models'\n",
    "\n",
    "#load model from pretrained\n",
    "#nlp_model = load_model()\n",
    "\n",
    "#nlp_model, perf_df = model_meta_training(nlp_model, train_spacy, valid_df, verbose=True, save_dir = save_mdir,\n",
    "#                                                 n_iter=10, solver_params=solves, compound_params=cping, dropout=dpout)\n",
    "        \n",
    "#display('Successful run')"
   ]
  },
  {
   "cell_type": "markdown",
   "metadata": {},
   "source": [
    "# Plan\n",
    "1. Run lots of trials varying learning rate and dropout, get a sense of what ranges might be the best\n",
    "2. Repeat the above, but focused in on the identified areas\n",
    "3. Repeat, but instead of varying hyper parameters, vary the training data"
   ]
  },
  {
   "cell_type": "code",
   "execution_count": null,
   "metadata": {},
   "outputs": [
    {
     "name": "stderr",
     "output_type": "stream",
     "text": [
      "C:\\Users\\genkindn\\AppData\\Local\\Continuum\\anaconda3\\lib\\site-packages\\spacy\\training\\iob_utils.py:142: UserWarning: [W030] Some entities could not be aligned in the text \"[margin]: Fran.co esc.o Domingo dos de Marco de mi...\" with entities \"[(10, 17, 'PER'), (18, 23, 'CHAR'), (24, 78, 'DATE...\". Use `spacy.training.offsets_to_biluo_tags(nlp.make_doc(text), entities)` to check the alignment. Misaligned entities ('-') will be ignored during training.\n",
      "  entities=ent_str[:50] + \"...\" if len(ent_str) > 50 else ent_str,\n"
     ]
    },
    {
     "data": {
      "text/html": [
       "<div>\n",
       "<style scoped>\n",
       "    .dataframe tbody tr th:only-of-type {\n",
       "        vertical-align: middle;\n",
       "    }\n",
       "\n",
       "    .dataframe tbody tr th {\n",
       "        vertical-align: top;\n",
       "    }\n",
       "\n",
       "    .dataframe thead th {\n",
       "        text-align: right;\n",
       "    }\n",
       "</style>\n",
       "<table border=\"1\" class=\"dataframe\">\n",
       "  <thead>\n",
       "    <tr style=\"text-align: right;\">\n",
       "      <th></th>\n",
       "      <th>cycle_no</th>\n",
       "      <th>avg_cycle_loss</th>\n",
       "      <th>precision</th>\n",
       "      <th>recall</th>\n",
       "      <th>f_score</th>\n",
       "    </tr>\n",
       "  </thead>\n",
       "  <tbody>\n",
       "    <tr>\n",
       "      <td>0</td>\n",
       "      <td>1.0</td>\n",
       "      <td>7140.336597</td>\n",
       "      <td>0.0</td>\n",
       "      <td>0.0</td>\n",
       "      <td>0.0</td>\n",
       "    </tr>\n",
       "  </tbody>\n",
       "</table>\n",
       "</div>"
      ],
      "text/plain": [
       "   cycle_no  avg_cycle_loss  precision  recall  f_score\n",
       "0       1.0     7140.336597        0.0     0.0      0.0"
      ]
     },
     "metadata": {},
     "output_type": "display_data"
    },
    {
     "name": "stdout",
     "output_type": "stream",
     "text": [
      "Saved model to models\\exhaustive_models\n"
     ]
    },
    {
     "name": "stderr",
     "output_type": "stream",
     "text": [
      "C:\\Users\\genkindn\\AppData\\Local\\Continuum\\anaconda3\\lib\\site-packages\\spacy\\training\\iob_utils.py:142: UserWarning: [W030] Some entities could not be aligned in the text \"[margin]: Fran.co esc.o Domingo dos de Marco de mi...\" with entities \"[(10, 17, 'PER'), (18, 23, 'CHAR'), (24, 78, 'DATE...\". Use `spacy.training.offsets_to_biluo_tags(nlp.make_doc(text), entities)` to check the alignment. Misaligned entities ('-') will be ignored during training.\n",
      "  entities=ent_str[:50] + \"...\" if len(ent_str) > 50 else ent_str,\n"
     ]
    },
    {
     "data": {
      "text/html": [
       "<div>\n",
       "<style scoped>\n",
       "    .dataframe tbody tr th:only-of-type {\n",
       "        vertical-align: middle;\n",
       "    }\n",
       "\n",
       "    .dataframe tbody tr th {\n",
       "        vertical-align: top;\n",
       "    }\n",
       "\n",
       "    .dataframe thead th {\n",
       "        text-align: right;\n",
       "    }\n",
       "</style>\n",
       "<table border=\"1\" class=\"dataframe\">\n",
       "  <thead>\n",
       "    <tr style=\"text-align: right;\">\n",
       "      <th></th>\n",
       "      <th>cycle_no</th>\n",
       "      <th>avg_cycle_loss</th>\n",
       "      <th>precision</th>\n",
       "      <th>recall</th>\n",
       "      <th>f_score</th>\n",
       "    </tr>\n",
       "  </thead>\n",
       "  <tbody>\n",
       "    <tr>\n",
       "      <td>0</td>\n",
       "      <td>2.0</td>\n",
       "      <td>2465.767262</td>\n",
       "      <td>14.893617</td>\n",
       "      <td>1.587302</td>\n",
       "      <td>2.868852</td>\n",
       "    </tr>\n",
       "  </tbody>\n",
       "</table>\n",
       "</div>"
      ],
      "text/plain": [
       "   cycle_no  avg_cycle_loss  precision    recall   f_score\n",
       "0       2.0     2465.767262  14.893617  1.587302  2.868852"
      ]
     },
     "metadata": {},
     "output_type": "display_data"
    },
    {
     "name": "stdout",
     "output_type": "stream",
     "text": [
      "Saved model to models\\exhaustive_models\n"
     ]
    },
    {
     "name": "stderr",
     "output_type": "stream",
     "text": [
      "C:\\Users\\genkindn\\AppData\\Local\\Continuum\\anaconda3\\lib\\site-packages\\spacy\\training\\iob_utils.py:142: UserWarning: [W030] Some entities could not be aligned in the text \"[margin]: Fran.co esc.o Domingo dos de Marco de mi...\" with entities \"[(10, 17, 'PER'), (18, 23, 'CHAR'), (24, 78, 'DATE...\". Use `spacy.training.offsets_to_biluo_tags(nlp.make_doc(text), entities)` to check the alignment. Misaligned entities ('-') will be ignored during training.\n",
      "  entities=ent_str[:50] + \"...\" if len(ent_str) > 50 else ent_str,\n"
     ]
    },
    {
     "data": {
      "text/html": [
       "<div>\n",
       "<style scoped>\n",
       "    .dataframe tbody tr th:only-of-type {\n",
       "        vertical-align: middle;\n",
       "    }\n",
       "\n",
       "    .dataframe tbody tr th {\n",
       "        vertical-align: top;\n",
       "    }\n",
       "\n",
       "    .dataframe thead th {\n",
       "        text-align: right;\n",
       "    }\n",
       "</style>\n",
       "<table border=\"1\" class=\"dataframe\">\n",
       "  <thead>\n",
       "    <tr style=\"text-align: right;\">\n",
       "      <th></th>\n",
       "      <th>cycle_no</th>\n",
       "      <th>avg_cycle_loss</th>\n",
       "      <th>precision</th>\n",
       "      <th>recall</th>\n",
       "      <th>f_score</th>\n",
       "    </tr>\n",
       "  </thead>\n",
       "  <tbody>\n",
       "    <tr>\n",
       "      <td>0</td>\n",
       "      <td>3.0</td>\n",
       "      <td>4591.641506</td>\n",
       "      <td>35.606061</td>\n",
       "      <td>10.657596</td>\n",
       "      <td>16.404887</td>\n",
       "    </tr>\n",
       "  </tbody>\n",
       "</table>\n",
       "</div>"
      ],
      "text/plain": [
       "   cycle_no  avg_cycle_loss  precision     recall    f_score\n",
       "0       3.0     4591.641506  35.606061  10.657596  16.404887"
      ]
     },
     "metadata": {},
     "output_type": "display_data"
    },
    {
     "name": "stdout",
     "output_type": "stream",
     "text": [
      "Saved model to models\\exhaustive_models\n"
     ]
    },
    {
     "name": "stderr",
     "output_type": "stream",
     "text": [
      "C:\\Users\\genkindn\\AppData\\Local\\Continuum\\anaconda3\\lib\\site-packages\\spacy\\training\\iob_utils.py:142: UserWarning: [W030] Some entities could not be aligned in the text \"[margin]: Fran.co esc.o Domingo dos de Marco de mi...\" with entities \"[(10, 17, 'PER'), (18, 23, 'CHAR'), (24, 78, 'DATE...\". Use `spacy.training.offsets_to_biluo_tags(nlp.make_doc(text), entities)` to check the alignment. Misaligned entities ('-') will be ignored during training.\n",
      "  entities=ent_str[:50] + \"...\" if len(ent_str) > 50 else ent_str,\n"
     ]
    },
    {
     "data": {
      "text/html": [
       "<div>\n",
       "<style scoped>\n",
       "    .dataframe tbody tr th:only-of-type {\n",
       "        vertical-align: middle;\n",
       "    }\n",
       "\n",
       "    .dataframe tbody tr th {\n",
       "        vertical-align: top;\n",
       "    }\n",
       "\n",
       "    .dataframe thead th {\n",
       "        text-align: right;\n",
       "    }\n",
       "</style>\n",
       "<table border=\"1\" class=\"dataframe\">\n",
       "  <thead>\n",
       "    <tr style=\"text-align: right;\">\n",
       "      <th></th>\n",
       "      <th>cycle_no</th>\n",
       "      <th>avg_cycle_loss</th>\n",
       "      <th>precision</th>\n",
       "      <th>recall</th>\n",
       "      <th>f_score</th>\n",
       "    </tr>\n",
       "  </thead>\n",
       "  <tbody>\n",
       "    <tr>\n",
       "      <td>0</td>\n",
       "      <td>4.0</td>\n",
       "      <td>1418.578852</td>\n",
       "      <td>47.811448</td>\n",
       "      <td>32.199546</td>\n",
       "      <td>38.482385</td>\n",
       "    </tr>\n",
       "  </tbody>\n",
       "</table>\n",
       "</div>"
      ],
      "text/plain": [
       "   cycle_no  avg_cycle_loss  precision     recall    f_score\n",
       "0       4.0     1418.578852  47.811448  32.199546  38.482385"
      ]
     },
     "metadata": {},
     "output_type": "display_data"
    },
    {
     "name": "stdout",
     "output_type": "stream",
     "text": [
      "Saved model to models\\exhaustive_models\n"
     ]
    },
    {
     "name": "stderr",
     "output_type": "stream",
     "text": [
      "C:\\Users\\genkindn\\AppData\\Local\\Continuum\\anaconda3\\lib\\site-packages\\spacy\\training\\iob_utils.py:142: UserWarning: [W030] Some entities could not be aligned in the text \"[margin]: Fran.co esc.o Domingo dos de Marco de mi...\" with entities \"[(10, 17, 'PER'), (18, 23, 'CHAR'), (24, 78, 'DATE...\". Use `spacy.training.offsets_to_biluo_tags(nlp.make_doc(text), entities)` to check the alignment. Misaligned entities ('-') will be ignored during training.\n",
      "  entities=ent_str[:50] + \"...\" if len(ent_str) > 50 else ent_str,\n"
     ]
    },
    {
     "data": {
      "text/html": [
       "<div>\n",
       "<style scoped>\n",
       "    .dataframe tbody tr th:only-of-type {\n",
       "        vertical-align: middle;\n",
       "    }\n",
       "\n",
       "    .dataframe tbody tr th {\n",
       "        vertical-align: top;\n",
       "    }\n",
       "\n",
       "    .dataframe thead th {\n",
       "        text-align: right;\n",
       "    }\n",
       "</style>\n",
       "<table border=\"1\" class=\"dataframe\">\n",
       "  <thead>\n",
       "    <tr style=\"text-align: right;\">\n",
       "      <th></th>\n",
       "      <th>cycle_no</th>\n",
       "      <th>avg_cycle_loss</th>\n",
       "      <th>precision</th>\n",
       "      <th>recall</th>\n",
       "      <th>f_score</th>\n",
       "    </tr>\n",
       "  </thead>\n",
       "  <tbody>\n",
       "    <tr>\n",
       "      <td>0</td>\n",
       "      <td>5.0</td>\n",
       "      <td>1135.471674</td>\n",
       "      <td>63.917526</td>\n",
       "      <td>56.235828</td>\n",
       "      <td>59.831122</td>\n",
       "    </tr>\n",
       "  </tbody>\n",
       "</table>\n",
       "</div>"
      ],
      "text/plain": [
       "   cycle_no  avg_cycle_loss  precision     recall    f_score\n",
       "0       5.0     1135.471674  63.917526  56.235828  59.831122"
      ]
     },
     "metadata": {},
     "output_type": "display_data"
    },
    {
     "name": "stdout",
     "output_type": "stream",
     "text": [
      "Saved model to models\\exhaustive_models\n"
     ]
    },
    {
     "name": "stderr",
     "output_type": "stream",
     "text": [
      "C:\\Users\\genkindn\\AppData\\Local\\Continuum\\anaconda3\\lib\\site-packages\\spacy\\training\\iob_utils.py:142: UserWarning: [W030] Some entities could not be aligned in the text \"[margin]: Fran.co esc.o Domingo dos de Marco de mi...\" with entities \"[(10, 17, 'PER'), (18, 23, 'CHAR'), (24, 78, 'DATE...\". Use `spacy.training.offsets_to_biluo_tags(nlp.make_doc(text), entities)` to check the alignment. Misaligned entities ('-') will be ignored during training.\n",
      "  entities=ent_str[:50] + \"...\" if len(ent_str) > 50 else ent_str,\n"
     ]
    },
    {
     "data": {
      "text/html": [
       "<div>\n",
       "<style scoped>\n",
       "    .dataframe tbody tr th:only-of-type {\n",
       "        vertical-align: middle;\n",
       "    }\n",
       "\n",
       "    .dataframe tbody tr th {\n",
       "        vertical-align: top;\n",
       "    }\n",
       "\n",
       "    .dataframe thead th {\n",
       "        text-align: right;\n",
       "    }\n",
       "</style>\n",
       "<table border=\"1\" class=\"dataframe\">\n",
       "  <thead>\n",
       "    <tr style=\"text-align: right;\">\n",
       "      <th></th>\n",
       "      <th>cycle_no</th>\n",
       "      <th>avg_cycle_loss</th>\n",
       "      <th>precision</th>\n",
       "      <th>recall</th>\n",
       "      <th>f_score</th>\n",
       "    </tr>\n",
       "  </thead>\n",
       "  <tbody>\n",
       "    <tr>\n",
       "      <td>0</td>\n",
       "      <td>6.0</td>\n",
       "      <td>952.417323</td>\n",
       "      <td>72.797927</td>\n",
       "      <td>63.718821</td>\n",
       "      <td>67.956469</td>\n",
       "    </tr>\n",
       "  </tbody>\n",
       "</table>\n",
       "</div>"
      ],
      "text/plain": [
       "   cycle_no  avg_cycle_loss  precision     recall    f_score\n",
       "0       6.0      952.417323  72.797927  63.718821  67.956469"
      ]
     },
     "metadata": {},
     "output_type": "display_data"
    },
    {
     "name": "stdout",
     "output_type": "stream",
     "text": [
      "Saved model to models\\exhaustive_models\n"
     ]
    },
    {
     "name": "stderr",
     "output_type": "stream",
     "text": [
      "C:\\Users\\genkindn\\AppData\\Local\\Continuum\\anaconda3\\lib\\site-packages\\spacy\\training\\iob_utils.py:142: UserWarning: [W030] Some entities could not be aligned in the text \"[margin]: Fran.co esc.o Domingo dos de Marco de mi...\" with entities \"[(10, 17, 'PER'), (18, 23, 'CHAR'), (24, 78, 'DATE...\". Use `spacy.training.offsets_to_biluo_tags(nlp.make_doc(text), entities)` to check the alignment. Misaligned entities ('-') will be ignored during training.\n",
      "  entities=ent_str[:50] + \"...\" if len(ent_str) > 50 else ent_str,\n"
     ]
    },
    {
     "data": {
      "text/html": [
       "<div>\n",
       "<style scoped>\n",
       "    .dataframe tbody tr th:only-of-type {\n",
       "        vertical-align: middle;\n",
       "    }\n",
       "\n",
       "    .dataframe tbody tr th {\n",
       "        vertical-align: top;\n",
       "    }\n",
       "\n",
       "    .dataframe thead th {\n",
       "        text-align: right;\n",
       "    }\n",
       "</style>\n",
       "<table border=\"1\" class=\"dataframe\">\n",
       "  <thead>\n",
       "    <tr style=\"text-align: right;\">\n",
       "      <th></th>\n",
       "      <th>cycle_no</th>\n",
       "      <th>avg_cycle_loss</th>\n",
       "      <th>precision</th>\n",
       "      <th>recall</th>\n",
       "      <th>f_score</th>\n",
       "    </tr>\n",
       "  </thead>\n",
       "  <tbody>\n",
       "    <tr>\n",
       "      <td>0</td>\n",
       "      <td>7.0</td>\n",
       "      <td>819.376636</td>\n",
       "      <td>78.947368</td>\n",
       "      <td>74.829932</td>\n",
       "      <td>76.833527</td>\n",
       "    </tr>\n",
       "  </tbody>\n",
       "</table>\n",
       "</div>"
      ],
      "text/plain": [
       "   cycle_no  avg_cycle_loss  precision     recall    f_score\n",
       "0       7.0      819.376636  78.947368  74.829932  76.833527"
      ]
     },
     "metadata": {},
     "output_type": "display_data"
    },
    {
     "name": "stdout",
     "output_type": "stream",
     "text": [
      "Saved model to models\\exhaustive_models\n"
     ]
    },
    {
     "name": "stderr",
     "output_type": "stream",
     "text": [
      "C:\\Users\\genkindn\\AppData\\Local\\Continuum\\anaconda3\\lib\\site-packages\\spacy\\training\\iob_utils.py:142: UserWarning: [W030] Some entities could not be aligned in the text \"[margin]: Fran.co esc.o Domingo dos de Marco de mi...\" with entities \"[(10, 17, 'PER'), (18, 23, 'CHAR'), (24, 78, 'DATE...\". Use `spacy.training.offsets_to_biluo_tags(nlp.make_doc(text), entities)` to check the alignment. Misaligned entities ('-') will be ignored during training.\n",
      "  entities=ent_str[:50] + \"...\" if len(ent_str) > 50 else ent_str,\n"
     ]
    },
    {
     "data": {
      "text/html": [
       "<div>\n",
       "<style scoped>\n",
       "    .dataframe tbody tr th:only-of-type {\n",
       "        vertical-align: middle;\n",
       "    }\n",
       "\n",
       "    .dataframe tbody tr th {\n",
       "        vertical-align: top;\n",
       "    }\n",
       "\n",
       "    .dataframe thead th {\n",
       "        text-align: right;\n",
       "    }\n",
       "</style>\n",
       "<table border=\"1\" class=\"dataframe\">\n",
       "  <thead>\n",
       "    <tr style=\"text-align: right;\">\n",
       "      <th></th>\n",
       "      <th>cycle_no</th>\n",
       "      <th>avg_cycle_loss</th>\n",
       "      <th>precision</th>\n",
       "      <th>recall</th>\n",
       "      <th>f_score</th>\n",
       "    </tr>\n",
       "  </thead>\n",
       "  <tbody>\n",
       "    <tr>\n",
       "      <td>0</td>\n",
       "      <td>8.0</td>\n",
       "      <td>422.260005</td>\n",
       "      <td>86.492891</td>\n",
       "      <td>82.76644</td>\n",
       "      <td>84.588644</td>\n",
       "    </tr>\n",
       "  </tbody>\n",
       "</table>\n",
       "</div>"
      ],
      "text/plain": [
       "   cycle_no  avg_cycle_loss  precision    recall    f_score\n",
       "0       8.0      422.260005  86.492891  82.76644  84.588644"
      ]
     },
     "metadata": {},
     "output_type": "display_data"
    },
    {
     "name": "stdout",
     "output_type": "stream",
     "text": [
      "Saved model to models\\exhaustive_models\n"
     ]
    },
    {
     "name": "stderr",
     "output_type": "stream",
     "text": [
      "C:\\Users\\genkindn\\AppData\\Local\\Continuum\\anaconda3\\lib\\site-packages\\spacy\\training\\iob_utils.py:142: UserWarning: [W030] Some entities could not be aligned in the text \"[margin]: Fran.co esc.o Domingo dos de Marco de mi...\" with entities \"[(10, 17, 'PER'), (18, 23, 'CHAR'), (24, 78, 'DATE...\". Use `spacy.training.offsets_to_biluo_tags(nlp.make_doc(text), entities)` to check the alignment. Misaligned entities ('-') will be ignored during training.\n",
      "  entities=ent_str[:50] + \"...\" if len(ent_str) > 50 else ent_str,\n"
     ]
    },
    {
     "data": {
      "text/html": [
       "<div>\n",
       "<style scoped>\n",
       "    .dataframe tbody tr th:only-of-type {\n",
       "        vertical-align: middle;\n",
       "    }\n",
       "\n",
       "    .dataframe tbody tr th {\n",
       "        vertical-align: top;\n",
       "    }\n",
       "\n",
       "    .dataframe thead th {\n",
       "        text-align: right;\n",
       "    }\n",
       "</style>\n",
       "<table border=\"1\" class=\"dataframe\">\n",
       "  <thead>\n",
       "    <tr style=\"text-align: right;\">\n",
       "      <th></th>\n",
       "      <th>cycle_no</th>\n",
       "      <th>avg_cycle_loss</th>\n",
       "      <th>precision</th>\n",
       "      <th>recall</th>\n",
       "      <th>f_score</th>\n",
       "    </tr>\n",
       "  </thead>\n",
       "  <tbody>\n",
       "    <tr>\n",
       "      <td>0</td>\n",
       "      <td>9.0</td>\n",
       "      <td>234.729551</td>\n",
       "      <td>86.416862</td>\n",
       "      <td>83.673469</td>\n",
       "      <td>85.023041</td>\n",
       "    </tr>\n",
       "  </tbody>\n",
       "</table>\n",
       "</div>"
      ],
      "text/plain": [
       "   cycle_no  avg_cycle_loss  precision     recall    f_score\n",
       "0       9.0      234.729551  86.416862  83.673469  85.023041"
      ]
     },
     "metadata": {},
     "output_type": "display_data"
    },
    {
     "name": "stdout",
     "output_type": "stream",
     "text": [
      "Saved model to models\\exhaustive_models\n"
     ]
    },
    {
     "name": "stderr",
     "output_type": "stream",
     "text": [
      "C:\\Users\\genkindn\\AppData\\Local\\Continuum\\anaconda3\\lib\\site-packages\\spacy\\training\\iob_utils.py:142: UserWarning: [W030] Some entities could not be aligned in the text \"[margin]: Fran.co esc.o Domingo dos de Marco de mi...\" with entities \"[(10, 17, 'PER'), (18, 23, 'CHAR'), (24, 78, 'DATE...\". Use `spacy.training.offsets_to_biluo_tags(nlp.make_doc(text), entities)` to check the alignment. Misaligned entities ('-') will be ignored during training.\n",
      "  entities=ent_str[:50] + \"...\" if len(ent_str) > 50 else ent_str,\n"
     ]
    },
    {
     "data": {
      "text/html": [
       "<div>\n",
       "<style scoped>\n",
       "    .dataframe tbody tr th:only-of-type {\n",
       "        vertical-align: middle;\n",
       "    }\n",
       "\n",
       "    .dataframe tbody tr th {\n",
       "        vertical-align: top;\n",
       "    }\n",
       "\n",
       "    .dataframe thead th {\n",
       "        text-align: right;\n",
       "    }\n",
       "</style>\n",
       "<table border=\"1\" class=\"dataframe\">\n",
       "  <thead>\n",
       "    <tr style=\"text-align: right;\">\n",
       "      <th></th>\n",
       "      <th>cycle_no</th>\n",
       "      <th>avg_cycle_loss</th>\n",
       "      <th>precision</th>\n",
       "      <th>recall</th>\n",
       "      <th>f_score</th>\n",
       "    </tr>\n",
       "  </thead>\n",
       "  <tbody>\n",
       "    <tr>\n",
       "      <td>0</td>\n",
       "      <td>10.0</td>\n",
       "      <td>147.795466</td>\n",
       "      <td>87.209302</td>\n",
       "      <td>85.034014</td>\n",
       "      <td>86.107922</td>\n",
       "    </tr>\n",
       "  </tbody>\n",
       "</table>\n",
       "</div>"
      ],
      "text/plain": [
       "   cycle_no  avg_cycle_loss  precision     recall    f_score\n",
       "0      10.0      147.795466  87.209302  85.034014  86.107922"
      ]
     },
     "metadata": {},
     "output_type": "display_data"
    },
    {
     "name": "stdout",
     "output_type": "stream",
     "text": [
      "Saved model to models\\exhaustive_models\n"
     ]
    },
    {
     "name": "stderr",
     "output_type": "stream",
     "text": [
      "C:\\Users\\genkindn\\AppData\\Local\\Continuum\\anaconda3\\lib\\site-packages\\spacy\\training\\iob_utils.py:142: UserWarning: [W030] Some entities could not be aligned in the text \"[margin]: Fran.co esc.o Domingo dos de Marco de mi...\" with entities \"[(10, 17, 'PER'), (18, 23, 'CHAR'), (24, 78, 'DATE...\". Use `spacy.training.offsets_to_biluo_tags(nlp.make_doc(text), entities)` to check the alignment. Misaligned entities ('-') will be ignored during training.\n",
      "  entities=ent_str[:50] + \"...\" if len(ent_str) > 50 else ent_str,\n"
     ]
    },
    {
     "data": {
      "text/html": [
       "<div>\n",
       "<style scoped>\n",
       "    .dataframe tbody tr th:only-of-type {\n",
       "        vertical-align: middle;\n",
       "    }\n",
       "\n",
       "    .dataframe tbody tr th {\n",
       "        vertical-align: top;\n",
       "    }\n",
       "\n",
       "    .dataframe thead th {\n",
       "        text-align: right;\n",
       "    }\n",
       "</style>\n",
       "<table border=\"1\" class=\"dataframe\">\n",
       "  <thead>\n",
       "    <tr style=\"text-align: right;\">\n",
       "      <th></th>\n",
       "      <th>cycle_no</th>\n",
       "      <th>avg_cycle_loss</th>\n",
       "      <th>precision</th>\n",
       "      <th>recall</th>\n",
       "      <th>f_score</th>\n",
       "    </tr>\n",
       "  </thead>\n",
       "  <tbody>\n",
       "    <tr>\n",
       "      <td>0</td>\n",
       "      <td>11.0</td>\n",
       "      <td>108.543797</td>\n",
       "      <td>87.327189</td>\n",
       "      <td>85.941043</td>\n",
       "      <td>86.628571</td>\n",
       "    </tr>\n",
       "  </tbody>\n",
       "</table>\n",
       "</div>"
      ],
      "text/plain": [
       "   cycle_no  avg_cycle_loss  precision     recall    f_score\n",
       "0      11.0      108.543797  87.327189  85.941043  86.628571"
      ]
     },
     "metadata": {},
     "output_type": "display_data"
    },
    {
     "name": "stdout",
     "output_type": "stream",
     "text": [
      "Saved model to models\\exhaustive_models\n"
     ]
    },
    {
     "name": "stderr",
     "output_type": "stream",
     "text": [
      "C:\\Users\\genkindn\\AppData\\Local\\Continuum\\anaconda3\\lib\\site-packages\\spacy\\training\\iob_utils.py:142: UserWarning: [W030] Some entities could not be aligned in the text \"[margin]: Fran.co esc.o Domingo dos de Marco de mi...\" with entities \"[(10, 17, 'PER'), (18, 23, 'CHAR'), (24, 78, 'DATE...\". Use `spacy.training.offsets_to_biluo_tags(nlp.make_doc(text), entities)` to check the alignment. Misaligned entities ('-') will be ignored during training.\n",
      "  entities=ent_str[:50] + \"...\" if len(ent_str) > 50 else ent_str,\n"
     ]
    },
    {
     "data": {
      "text/html": [
       "<div>\n",
       "<style scoped>\n",
       "    .dataframe tbody tr th:only-of-type {\n",
       "        vertical-align: middle;\n",
       "    }\n",
       "\n",
       "    .dataframe tbody tr th {\n",
       "        vertical-align: top;\n",
       "    }\n",
       "\n",
       "    .dataframe thead th {\n",
       "        text-align: right;\n",
       "    }\n",
       "</style>\n",
       "<table border=\"1\" class=\"dataframe\">\n",
       "  <thead>\n",
       "    <tr style=\"text-align: right;\">\n",
       "      <th></th>\n",
       "      <th>cycle_no</th>\n",
       "      <th>avg_cycle_loss</th>\n",
       "      <th>precision</th>\n",
       "      <th>recall</th>\n",
       "      <th>f_score</th>\n",
       "    </tr>\n",
       "  </thead>\n",
       "  <tbody>\n",
       "    <tr>\n",
       "      <td>0</td>\n",
       "      <td>12.0</td>\n",
       "      <td>83.161305</td>\n",
       "      <td>85.909091</td>\n",
       "      <td>85.714286</td>\n",
       "      <td>85.811578</td>\n",
       "    </tr>\n",
       "  </tbody>\n",
       "</table>\n",
       "</div>"
      ],
      "text/plain": [
       "   cycle_no  avg_cycle_loss  precision     recall    f_score\n",
       "0      12.0       83.161305  85.909091  85.714286  85.811578"
      ]
     },
     "metadata": {},
     "output_type": "display_data"
    },
    {
     "name": "stdout",
     "output_type": "stream",
     "text": [
      "Performance hasn't improved for 1 cycles...\n"
     ]
    },
    {
     "name": "stderr",
     "output_type": "stream",
     "text": [
      "C:\\Users\\genkindn\\AppData\\Local\\Continuum\\anaconda3\\lib\\site-packages\\spacy\\training\\iob_utils.py:142: UserWarning: [W030] Some entities could not be aligned in the text \"[margin]: Fran.co esc.o Domingo dos de Marco de mi...\" with entities \"[(10, 17, 'PER'), (18, 23, 'CHAR'), (24, 78, 'DATE...\". Use `spacy.training.offsets_to_biluo_tags(nlp.make_doc(text), entities)` to check the alignment. Misaligned entities ('-') will be ignored during training.\n",
      "  entities=ent_str[:50] + \"...\" if len(ent_str) > 50 else ent_str,\n"
     ]
    },
    {
     "data": {
      "text/html": [
       "<div>\n",
       "<style scoped>\n",
       "    .dataframe tbody tr th:only-of-type {\n",
       "        vertical-align: middle;\n",
       "    }\n",
       "\n",
       "    .dataframe tbody tr th {\n",
       "        vertical-align: top;\n",
       "    }\n",
       "\n",
       "    .dataframe thead th {\n",
       "        text-align: right;\n",
       "    }\n",
       "</style>\n",
       "<table border=\"1\" class=\"dataframe\">\n",
       "  <thead>\n",
       "    <tr style=\"text-align: right;\">\n",
       "      <th></th>\n",
       "      <th>cycle_no</th>\n",
       "      <th>avg_cycle_loss</th>\n",
       "      <th>precision</th>\n",
       "      <th>recall</th>\n",
       "      <th>f_score</th>\n",
       "    </tr>\n",
       "  </thead>\n",
       "  <tbody>\n",
       "    <tr>\n",
       "      <td>0</td>\n",
       "      <td>13.0</td>\n",
       "      <td>73.941861</td>\n",
       "      <td>87.385321</td>\n",
       "      <td>86.394558</td>\n",
       "      <td>86.887115</td>\n",
       "    </tr>\n",
       "  </tbody>\n",
       "</table>\n",
       "</div>"
      ],
      "text/plain": [
       "   cycle_no  avg_cycle_loss  precision     recall    f_score\n",
       "0      13.0       73.941861  87.385321  86.394558  86.887115"
      ]
     },
     "metadata": {},
     "output_type": "display_data"
    },
    {
     "name": "stdout",
     "output_type": "stream",
     "text": [
      "Saved model to models\\exhaustive_models\n"
     ]
    },
    {
     "name": "stderr",
     "output_type": "stream",
     "text": [
      "C:\\Users\\genkindn\\AppData\\Local\\Continuum\\anaconda3\\lib\\site-packages\\spacy\\training\\iob_utils.py:142: UserWarning: [W030] Some entities could not be aligned in the text \"[margin]: Fran.co esc.o Domingo dos de Marco de mi...\" with entities \"[(10, 17, 'PER'), (18, 23, 'CHAR'), (24, 78, 'DATE...\". Use `spacy.training.offsets_to_biluo_tags(nlp.make_doc(text), entities)` to check the alignment. Misaligned entities ('-') will be ignored during training.\n",
      "  entities=ent_str[:50] + \"...\" if len(ent_str) > 50 else ent_str,\n"
     ]
    },
    {
     "data": {
      "text/html": [
       "<div>\n",
       "<style scoped>\n",
       "    .dataframe tbody tr th:only-of-type {\n",
       "        vertical-align: middle;\n",
       "    }\n",
       "\n",
       "    .dataframe tbody tr th {\n",
       "        vertical-align: top;\n",
       "    }\n",
       "\n",
       "    .dataframe thead th {\n",
       "        text-align: right;\n",
       "    }\n",
       "</style>\n",
       "<table border=\"1\" class=\"dataframe\">\n",
       "  <thead>\n",
       "    <tr style=\"text-align: right;\">\n",
       "      <th></th>\n",
       "      <th>cycle_no</th>\n",
       "      <th>avg_cycle_loss</th>\n",
       "      <th>precision</th>\n",
       "      <th>recall</th>\n",
       "      <th>f_score</th>\n",
       "    </tr>\n",
       "  </thead>\n",
       "  <tbody>\n",
       "    <tr>\n",
       "      <td>0</td>\n",
       "      <td>14.0</td>\n",
       "      <td>53.240066</td>\n",
       "      <td>86.590909</td>\n",
       "      <td>86.394558</td>\n",
       "      <td>86.492622</td>\n",
       "    </tr>\n",
       "  </tbody>\n",
       "</table>\n",
       "</div>"
      ],
      "text/plain": [
       "   cycle_no  avg_cycle_loss  precision     recall    f_score\n",
       "0      14.0       53.240066  86.590909  86.394558  86.492622"
      ]
     },
     "metadata": {},
     "output_type": "display_data"
    },
    {
     "name": "stdout",
     "output_type": "stream",
     "text": [
      "Performance hasn't improved for 1 cycles...\n"
     ]
    },
    {
     "name": "stderr",
     "output_type": "stream",
     "text": [
      "C:\\Users\\genkindn\\AppData\\Local\\Continuum\\anaconda3\\lib\\site-packages\\spacy\\training\\iob_utils.py:142: UserWarning: [W030] Some entities could not be aligned in the text \"[margin]: Fran.co esc.o Domingo dos de Marco de mi...\" with entities \"[(10, 17, 'PER'), (18, 23, 'CHAR'), (24, 78, 'DATE...\". Use `spacy.training.offsets_to_biluo_tags(nlp.make_doc(text), entities)` to check the alignment. Misaligned entities ('-') will be ignored during training.\n",
      "  entities=ent_str[:50] + \"...\" if len(ent_str) > 50 else ent_str,\n"
     ]
    },
    {
     "data": {
      "text/html": [
       "<div>\n",
       "<style scoped>\n",
       "    .dataframe tbody tr th:only-of-type {\n",
       "        vertical-align: middle;\n",
       "    }\n",
       "\n",
       "    .dataframe tbody tr th {\n",
       "        vertical-align: top;\n",
       "    }\n",
       "\n",
       "    .dataframe thead th {\n",
       "        text-align: right;\n",
       "    }\n",
       "</style>\n",
       "<table border=\"1\" class=\"dataframe\">\n",
       "  <thead>\n",
       "    <tr style=\"text-align: right;\">\n",
       "      <th></th>\n",
       "      <th>cycle_no</th>\n",
       "      <th>avg_cycle_loss</th>\n",
       "      <th>precision</th>\n",
       "      <th>recall</th>\n",
       "      <th>f_score</th>\n",
       "    </tr>\n",
       "  </thead>\n",
       "  <tbody>\n",
       "    <tr>\n",
       "      <td>0</td>\n",
       "      <td>15.0</td>\n",
       "      <td>36.274684</td>\n",
       "      <td>87.272727</td>\n",
       "      <td>87.07483</td>\n",
       "      <td>87.173666</td>\n",
       "    </tr>\n",
       "  </tbody>\n",
       "</table>\n",
       "</div>"
      ],
      "text/plain": [
       "   cycle_no  avg_cycle_loss  precision    recall    f_score\n",
       "0      15.0       36.274684  87.272727  87.07483  87.173666"
      ]
     },
     "metadata": {},
     "output_type": "display_data"
    },
    {
     "name": "stdout",
     "output_type": "stream",
     "text": [
      "Saved model to models\\exhaustive_models\n"
     ]
    },
    {
     "name": "stderr",
     "output_type": "stream",
     "text": [
      "C:\\Users\\genkindn\\AppData\\Local\\Continuum\\anaconda3\\lib\\site-packages\\spacy\\training\\iob_utils.py:142: UserWarning: [W030] Some entities could not be aligned in the text \"[margin]: Fran.co esc.o Domingo dos de Marco de mi...\" with entities \"[(10, 17, 'PER'), (18, 23, 'CHAR'), (24, 78, 'DATE...\". Use `spacy.training.offsets_to_biluo_tags(nlp.make_doc(text), entities)` to check the alignment. Misaligned entities ('-') will be ignored during training.\n",
      "  entities=ent_str[:50] + \"...\" if len(ent_str) > 50 else ent_str,\n"
     ]
    },
    {
     "data": {
      "text/html": [
       "<div>\n",
       "<style scoped>\n",
       "    .dataframe tbody tr th:only-of-type {\n",
       "        vertical-align: middle;\n",
       "    }\n",
       "\n",
       "    .dataframe tbody tr th {\n",
       "        vertical-align: top;\n",
       "    }\n",
       "\n",
       "    .dataframe thead th {\n",
       "        text-align: right;\n",
       "    }\n",
       "</style>\n",
       "<table border=\"1\" class=\"dataframe\">\n",
       "  <thead>\n",
       "    <tr style=\"text-align: right;\">\n",
       "      <th></th>\n",
       "      <th>cycle_no</th>\n",
       "      <th>avg_cycle_loss</th>\n",
       "      <th>precision</th>\n",
       "      <th>recall</th>\n",
       "      <th>f_score</th>\n",
       "    </tr>\n",
       "  </thead>\n",
       "  <tbody>\n",
       "    <tr>\n",
       "      <td>0</td>\n",
       "      <td>16.0</td>\n",
       "      <td>28.179814</td>\n",
       "      <td>87.528345</td>\n",
       "      <td>87.528345</td>\n",
       "      <td>87.528345</td>\n",
       "    </tr>\n",
       "  </tbody>\n",
       "</table>\n",
       "</div>"
      ],
      "text/plain": [
       "   cycle_no  avg_cycle_loss  precision     recall    f_score\n",
       "0      16.0       28.179814  87.528345  87.528345  87.528345"
      ]
     },
     "metadata": {},
     "output_type": "display_data"
    },
    {
     "name": "stdout",
     "output_type": "stream",
     "text": [
      "Saved model to models\\exhaustive_models\n"
     ]
    },
    {
     "name": "stderr",
     "output_type": "stream",
     "text": [
      "C:\\Users\\genkindn\\AppData\\Local\\Continuum\\anaconda3\\lib\\site-packages\\spacy\\training\\iob_utils.py:142: UserWarning: [W030] Some entities could not be aligned in the text \"[margin]: Fran.co esc.o Domingo dos de Marco de mi...\" with entities \"[(10, 17, 'PER'), (18, 23, 'CHAR'), (24, 78, 'DATE...\". Use `spacy.training.offsets_to_biluo_tags(nlp.make_doc(text), entities)` to check the alignment. Misaligned entities ('-') will be ignored during training.\n",
      "  entities=ent_str[:50] + \"...\" if len(ent_str) > 50 else ent_str,\n"
     ]
    },
    {
     "data": {
      "text/html": [
       "<div>\n",
       "<style scoped>\n",
       "    .dataframe tbody tr th:only-of-type {\n",
       "        vertical-align: middle;\n",
       "    }\n",
       "\n",
       "    .dataframe tbody tr th {\n",
       "        vertical-align: top;\n",
       "    }\n",
       "\n",
       "    .dataframe thead th {\n",
       "        text-align: right;\n",
       "    }\n",
       "</style>\n",
       "<table border=\"1\" class=\"dataframe\">\n",
       "  <thead>\n",
       "    <tr style=\"text-align: right;\">\n",
       "      <th></th>\n",
       "      <th>cycle_no</th>\n",
       "      <th>avg_cycle_loss</th>\n",
       "      <th>precision</th>\n",
       "      <th>recall</th>\n",
       "      <th>f_score</th>\n",
       "    </tr>\n",
       "  </thead>\n",
       "  <tbody>\n",
       "    <tr>\n",
       "      <td>0</td>\n",
       "      <td>17.0</td>\n",
       "      <td>23.714342</td>\n",
       "      <td>87.671233</td>\n",
       "      <td>87.07483</td>\n",
       "      <td>87.372014</td>\n",
       "    </tr>\n",
       "  </tbody>\n",
       "</table>\n",
       "</div>"
      ],
      "text/plain": [
       "   cycle_no  avg_cycle_loss  precision    recall    f_score\n",
       "0      17.0       23.714342  87.671233  87.07483  87.372014"
      ]
     },
     "metadata": {},
     "output_type": "display_data"
    },
    {
     "name": "stdout",
     "output_type": "stream",
     "text": [
      "Performance hasn't improved for 1 cycles...\n"
     ]
    },
    {
     "name": "stderr",
     "output_type": "stream",
     "text": [
      "C:\\Users\\genkindn\\AppData\\Local\\Continuum\\anaconda3\\lib\\site-packages\\spacy\\training\\iob_utils.py:142: UserWarning: [W030] Some entities could not be aligned in the text \"[margin]: Fran.co esc.o Domingo dos de Marco de mi...\" with entities \"[(10, 17, 'PER'), (18, 23, 'CHAR'), (24, 78, 'DATE...\". Use `spacy.training.offsets_to_biluo_tags(nlp.make_doc(text), entities)` to check the alignment. Misaligned entities ('-') will be ignored during training.\n",
      "  entities=ent_str[:50] + \"...\" if len(ent_str) > 50 else ent_str,\n"
     ]
    },
    {
     "data": {
      "text/html": [
       "<div>\n",
       "<style scoped>\n",
       "    .dataframe tbody tr th:only-of-type {\n",
       "        vertical-align: middle;\n",
       "    }\n",
       "\n",
       "    .dataframe tbody tr th {\n",
       "        vertical-align: top;\n",
       "    }\n",
       "\n",
       "    .dataframe thead th {\n",
       "        text-align: right;\n",
       "    }\n",
       "</style>\n",
       "<table border=\"1\" class=\"dataframe\">\n",
       "  <thead>\n",
       "    <tr style=\"text-align: right;\">\n",
       "      <th></th>\n",
       "      <th>cycle_no</th>\n",
       "      <th>avg_cycle_loss</th>\n",
       "      <th>precision</th>\n",
       "      <th>recall</th>\n",
       "      <th>f_score</th>\n",
       "    </tr>\n",
       "  </thead>\n",
       "  <tbody>\n",
       "    <tr>\n",
       "      <td>0</td>\n",
       "      <td>18.0</td>\n",
       "      <td>17.017371</td>\n",
       "      <td>88.683603</td>\n",
       "      <td>87.07483</td>\n",
       "      <td>87.871854</td>\n",
       "    </tr>\n",
       "  </tbody>\n",
       "</table>\n",
       "</div>"
      ],
      "text/plain": [
       "   cycle_no  avg_cycle_loss  precision    recall    f_score\n",
       "0      18.0       17.017371  88.683603  87.07483  87.871854"
      ]
     },
     "metadata": {},
     "output_type": "display_data"
    },
    {
     "name": "stdout",
     "output_type": "stream",
     "text": [
      "Saved model to models\\exhaustive_models\n"
     ]
    },
    {
     "name": "stderr",
     "output_type": "stream",
     "text": [
      "C:\\Users\\genkindn\\AppData\\Local\\Continuum\\anaconda3\\lib\\site-packages\\spacy\\training\\iob_utils.py:142: UserWarning: [W030] Some entities could not be aligned in the text \"[margin]: Fran.co esc.o Domingo dos de Marco de mi...\" with entities \"[(10, 17, 'PER'), (18, 23, 'CHAR'), (24, 78, 'DATE...\". Use `spacy.training.offsets_to_biluo_tags(nlp.make_doc(text), entities)` to check the alignment. Misaligned entities ('-') will be ignored during training.\n",
      "  entities=ent_str[:50] + \"...\" if len(ent_str) > 50 else ent_str,\n"
     ]
    },
    {
     "data": {
      "text/html": [
       "<div>\n",
       "<style scoped>\n",
       "    .dataframe tbody tr th:only-of-type {\n",
       "        vertical-align: middle;\n",
       "    }\n",
       "\n",
       "    .dataframe tbody tr th {\n",
       "        vertical-align: top;\n",
       "    }\n",
       "\n",
       "    .dataframe thead th {\n",
       "        text-align: right;\n",
       "    }\n",
       "</style>\n",
       "<table border=\"1\" class=\"dataframe\">\n",
       "  <thead>\n",
       "    <tr style=\"text-align: right;\">\n",
       "      <th></th>\n",
       "      <th>cycle_no</th>\n",
       "      <th>avg_cycle_loss</th>\n",
       "      <th>precision</th>\n",
       "      <th>recall</th>\n",
       "      <th>f_score</th>\n",
       "    </tr>\n",
       "  </thead>\n",
       "  <tbody>\n",
       "    <tr>\n",
       "      <td>0</td>\n",
       "      <td>19.0</td>\n",
       "      <td>12.900618</td>\n",
       "      <td>87.612613</td>\n",
       "      <td>88.208617</td>\n",
       "      <td>87.909605</td>\n",
       "    </tr>\n",
       "  </tbody>\n",
       "</table>\n",
       "</div>"
      ],
      "text/plain": [
       "   cycle_no  avg_cycle_loss  precision     recall    f_score\n",
       "0      19.0       12.900618  87.612613  88.208617  87.909605"
      ]
     },
     "metadata": {},
     "output_type": "display_data"
    },
    {
     "name": "stdout",
     "output_type": "stream",
     "text": [
      "Saved model to models\\exhaustive_models\n"
     ]
    },
    {
     "name": "stderr",
     "output_type": "stream",
     "text": [
      "C:\\Users\\genkindn\\AppData\\Local\\Continuum\\anaconda3\\lib\\site-packages\\spacy\\training\\iob_utils.py:142: UserWarning: [W030] Some entities could not be aligned in the text \"[margin]: Fran.co esc.o Domingo dos de Marco de mi...\" with entities \"[(10, 17, 'PER'), (18, 23, 'CHAR'), (24, 78, 'DATE...\". Use `spacy.training.offsets_to_biluo_tags(nlp.make_doc(text), entities)` to check the alignment. Misaligned entities ('-') will be ignored during training.\n",
      "  entities=ent_str[:50] + \"...\" if len(ent_str) > 50 else ent_str,\n"
     ]
    },
    {
     "data": {
      "text/html": [
       "<div>\n",
       "<style scoped>\n",
       "    .dataframe tbody tr th:only-of-type {\n",
       "        vertical-align: middle;\n",
       "    }\n",
       "\n",
       "    .dataframe tbody tr th {\n",
       "        vertical-align: top;\n",
       "    }\n",
       "\n",
       "    .dataframe thead th {\n",
       "        text-align: right;\n",
       "    }\n",
       "</style>\n",
       "<table border=\"1\" class=\"dataframe\">\n",
       "  <thead>\n",
       "    <tr style=\"text-align: right;\">\n",
       "      <th></th>\n",
       "      <th>cycle_no</th>\n",
       "      <th>avg_cycle_loss</th>\n",
       "      <th>precision</th>\n",
       "      <th>recall</th>\n",
       "      <th>f_score</th>\n",
       "    </tr>\n",
       "  </thead>\n",
       "  <tbody>\n",
       "    <tr>\n",
       "      <td>0</td>\n",
       "      <td>20.0</td>\n",
       "      <td>12.843138</td>\n",
       "      <td>88.235294</td>\n",
       "      <td>88.435374</td>\n",
       "      <td>88.335221</td>\n",
       "    </tr>\n",
       "  </tbody>\n",
       "</table>\n",
       "</div>"
      ],
      "text/plain": [
       "   cycle_no  avg_cycle_loss  precision     recall    f_score\n",
       "0      20.0       12.843138  88.235294  88.435374  88.335221"
      ]
     },
     "metadata": {},
     "output_type": "display_data"
    },
    {
     "name": "stdout",
     "output_type": "stream",
     "text": [
      "Saved model to models\\exhaustive_models\n"
     ]
    },
    {
     "name": "stderr",
     "output_type": "stream",
     "text": [
      "C:\\Users\\genkindn\\AppData\\Local\\Continuum\\anaconda3\\lib\\site-packages\\spacy\\training\\iob_utils.py:142: UserWarning: [W030] Some entities could not be aligned in the text \"[margin]: Fran.co esc.o Domingo dos de Marco de mi...\" with entities \"[(10, 17, 'PER'), (18, 23, 'CHAR'), (24, 78, 'DATE...\". Use `spacy.training.offsets_to_biluo_tags(nlp.make_doc(text), entities)` to check the alignment. Misaligned entities ('-') will be ignored during training.\n",
      "  entities=ent_str[:50] + \"...\" if len(ent_str) > 50 else ent_str,\n"
     ]
    },
    {
     "data": {
      "text/html": [
       "<div>\n",
       "<style scoped>\n",
       "    .dataframe tbody tr th:only-of-type {\n",
       "        vertical-align: middle;\n",
       "    }\n",
       "\n",
       "    .dataframe tbody tr th {\n",
       "        vertical-align: top;\n",
       "    }\n",
       "\n",
       "    .dataframe thead th {\n",
       "        text-align: right;\n",
       "    }\n",
       "</style>\n",
       "<table border=\"1\" class=\"dataframe\">\n",
       "  <thead>\n",
       "    <tr style=\"text-align: right;\">\n",
       "      <th></th>\n",
       "      <th>cycle_no</th>\n",
       "      <th>avg_cycle_loss</th>\n",
       "      <th>precision</th>\n",
       "      <th>recall</th>\n",
       "      <th>f_score</th>\n",
       "    </tr>\n",
       "  </thead>\n",
       "  <tbody>\n",
       "    <tr>\n",
       "      <td>0</td>\n",
       "      <td>21.0</td>\n",
       "      <td>10.597292</td>\n",
       "      <td>88.208617</td>\n",
       "      <td>88.208617</td>\n",
       "      <td>88.208617</td>\n",
       "    </tr>\n",
       "  </tbody>\n",
       "</table>\n",
       "</div>"
      ],
      "text/plain": [
       "   cycle_no  avg_cycle_loss  precision     recall    f_score\n",
       "0      21.0       10.597292  88.208617  88.208617  88.208617"
      ]
     },
     "metadata": {},
     "output_type": "display_data"
    },
    {
     "name": "stdout",
     "output_type": "stream",
     "text": [
      "Performance hasn't improved for 1 cycles...\n"
     ]
    },
    {
     "name": "stderr",
     "output_type": "stream",
     "text": [
      "C:\\Users\\genkindn\\AppData\\Local\\Continuum\\anaconda3\\lib\\site-packages\\spacy\\training\\iob_utils.py:142: UserWarning: [W030] Some entities could not be aligned in the text \"[margin]: Fran.co esc.o Domingo dos de Marco de mi...\" with entities \"[(10, 17, 'PER'), (18, 23, 'CHAR'), (24, 78, 'DATE...\". Use `spacy.training.offsets_to_biluo_tags(nlp.make_doc(text), entities)` to check the alignment. Misaligned entities ('-') will be ignored during training.\n",
      "  entities=ent_str[:50] + \"...\" if len(ent_str) > 50 else ent_str,\n"
     ]
    },
    {
     "data": {
      "text/html": [
       "<div>\n",
       "<style scoped>\n",
       "    .dataframe tbody tr th:only-of-type {\n",
       "        vertical-align: middle;\n",
       "    }\n",
       "\n",
       "    .dataframe tbody tr th {\n",
       "        vertical-align: top;\n",
       "    }\n",
       "\n",
       "    .dataframe thead th {\n",
       "        text-align: right;\n",
       "    }\n",
       "</style>\n",
       "<table border=\"1\" class=\"dataframe\">\n",
       "  <thead>\n",
       "    <tr style=\"text-align: right;\">\n",
       "      <th></th>\n",
       "      <th>cycle_no</th>\n",
       "      <th>avg_cycle_loss</th>\n",
       "      <th>precision</th>\n",
       "      <th>recall</th>\n",
       "      <th>f_score</th>\n",
       "    </tr>\n",
       "  </thead>\n",
       "  <tbody>\n",
       "    <tr>\n",
       "      <td>0</td>\n",
       "      <td>22.0</td>\n",
       "      <td>7.872859</td>\n",
       "      <td>87.755102</td>\n",
       "      <td>87.755102</td>\n",
       "      <td>87.755102</td>\n",
       "    </tr>\n",
       "  </tbody>\n",
       "</table>\n",
       "</div>"
      ],
      "text/plain": [
       "   cycle_no  avg_cycle_loss  precision     recall    f_score\n",
       "0      22.0        7.872859  87.755102  87.755102  87.755102"
      ]
     },
     "metadata": {},
     "output_type": "display_data"
    },
    {
     "name": "stdout",
     "output_type": "stream",
     "text": [
      "Performance hasn't improved for 2 cycles...\n"
     ]
    },
    {
     "name": "stderr",
     "output_type": "stream",
     "text": [
      "C:\\Users\\genkindn\\AppData\\Local\\Continuum\\anaconda3\\lib\\site-packages\\spacy\\training\\iob_utils.py:142: UserWarning: [W030] Some entities could not be aligned in the text \"[margin]: Fran.co esc.o Domingo dos de Marco de mi...\" with entities \"[(10, 17, 'PER'), (18, 23, 'CHAR'), (24, 78, 'DATE...\". Use `spacy.training.offsets_to_biluo_tags(nlp.make_doc(text), entities)` to check the alignment. Misaligned entities ('-') will be ignored during training.\n",
      "  entities=ent_str[:50] + \"...\" if len(ent_str) > 50 else ent_str,\n"
     ]
    },
    {
     "data": {
      "text/html": [
       "<div>\n",
       "<style scoped>\n",
       "    .dataframe tbody tr th:only-of-type {\n",
       "        vertical-align: middle;\n",
       "    }\n",
       "\n",
       "    .dataframe tbody tr th {\n",
       "        vertical-align: top;\n",
       "    }\n",
       "\n",
       "    .dataframe thead th {\n",
       "        text-align: right;\n",
       "    }\n",
       "</style>\n",
       "<table border=\"1\" class=\"dataframe\">\n",
       "  <thead>\n",
       "    <tr style=\"text-align: right;\">\n",
       "      <th></th>\n",
       "      <th>cycle_no</th>\n",
       "      <th>avg_cycle_loss</th>\n",
       "      <th>precision</th>\n",
       "      <th>recall</th>\n",
       "      <th>f_score</th>\n",
       "    </tr>\n",
       "  </thead>\n",
       "  <tbody>\n",
       "    <tr>\n",
       "      <td>0</td>\n",
       "      <td>23.0</td>\n",
       "      <td>8.213114</td>\n",
       "      <td>87.755102</td>\n",
       "      <td>87.755102</td>\n",
       "      <td>87.755102</td>\n",
       "    </tr>\n",
       "  </tbody>\n",
       "</table>\n",
       "</div>"
      ],
      "text/plain": [
       "   cycle_no  avg_cycle_loss  precision     recall    f_score\n",
       "0      23.0        8.213114  87.755102  87.755102  87.755102"
      ]
     },
     "metadata": {},
     "output_type": "display_data"
    },
    {
     "name": "stdout",
     "output_type": "stream",
     "text": [
      "Performance hasn't improved for 3 cycles...\n"
     ]
    },
    {
     "name": "stderr",
     "output_type": "stream",
     "text": [
      "C:\\Users\\genkindn\\AppData\\Local\\Continuum\\anaconda3\\lib\\site-packages\\spacy\\training\\iob_utils.py:142: UserWarning: [W030] Some entities could not be aligned in the text \"[margin]: Fran.co esc.o Domingo dos de Marco de mi...\" with entities \"[(10, 17, 'PER'), (18, 23, 'CHAR'), (24, 78, 'DATE...\". Use `spacy.training.offsets_to_biluo_tags(nlp.make_doc(text), entities)` to check the alignment. Misaligned entities ('-') will be ignored during training.\n",
      "  entities=ent_str[:50] + \"...\" if len(ent_str) > 50 else ent_str,\n"
     ]
    },
    {
     "data": {
      "text/html": [
       "<div>\n",
       "<style scoped>\n",
       "    .dataframe tbody tr th:only-of-type {\n",
       "        vertical-align: middle;\n",
       "    }\n",
       "\n",
       "    .dataframe tbody tr th {\n",
       "        vertical-align: top;\n",
       "    }\n",
       "\n",
       "    .dataframe thead th {\n",
       "        text-align: right;\n",
       "    }\n",
       "</style>\n",
       "<table border=\"1\" class=\"dataframe\">\n",
       "  <thead>\n",
       "    <tr style=\"text-align: right;\">\n",
       "      <th></th>\n",
       "      <th>cycle_no</th>\n",
       "      <th>avg_cycle_loss</th>\n",
       "      <th>precision</th>\n",
       "      <th>recall</th>\n",
       "      <th>f_score</th>\n",
       "    </tr>\n",
       "  </thead>\n",
       "  <tbody>\n",
       "    <tr>\n",
       "      <td>0</td>\n",
       "      <td>24.0</td>\n",
       "      <td>6.749229</td>\n",
       "      <td>88.154897</td>\n",
       "      <td>87.755102</td>\n",
       "      <td>87.954545</td>\n",
       "    </tr>\n",
       "  </tbody>\n",
       "</table>\n",
       "</div>"
      ],
      "text/plain": [
       "   cycle_no  avg_cycle_loss  precision     recall    f_score\n",
       "0      24.0        6.749229  88.154897  87.755102  87.954545"
      ]
     },
     "metadata": {},
     "output_type": "display_data"
    },
    {
     "name": "stdout",
     "output_type": "stream",
     "text": [
      "Performance hasn't improved for 4 cycles...\n"
     ]
    },
    {
     "name": "stderr",
     "output_type": "stream",
     "text": [
      "C:\\Users\\genkindn\\AppData\\Local\\Continuum\\anaconda3\\lib\\site-packages\\spacy\\training\\iob_utils.py:142: UserWarning: [W030] Some entities could not be aligned in the text \"[margin]: Fran.co esc.o Domingo dos de Marco de mi...\" with entities \"[(10, 17, 'PER'), (18, 23, 'CHAR'), (24, 78, 'DATE...\". Use `spacy.training.offsets_to_biluo_tags(nlp.make_doc(text), entities)` to check the alignment. Misaligned entities ('-') will be ignored during training.\n",
      "  entities=ent_str[:50] + \"...\" if len(ent_str) > 50 else ent_str,\n"
     ]
    },
    {
     "data": {
      "text/html": [
       "<div>\n",
       "<style scoped>\n",
       "    .dataframe tbody tr th:only-of-type {\n",
       "        vertical-align: middle;\n",
       "    }\n",
       "\n",
       "    .dataframe tbody tr th {\n",
       "        vertical-align: top;\n",
       "    }\n",
       "\n",
       "    .dataframe thead th {\n",
       "        text-align: right;\n",
       "    }\n",
       "</style>\n",
       "<table border=\"1\" class=\"dataframe\">\n",
       "  <thead>\n",
       "    <tr style=\"text-align: right;\">\n",
       "      <th></th>\n",
       "      <th>cycle_no</th>\n",
       "      <th>avg_cycle_loss</th>\n",
       "      <th>precision</th>\n",
       "      <th>recall</th>\n",
       "      <th>f_score</th>\n",
       "    </tr>\n",
       "  </thead>\n",
       "  <tbody>\n",
       "    <tr>\n",
       "      <td>0</td>\n",
       "      <td>25.0</td>\n",
       "      <td>6.83896</td>\n",
       "      <td>88.127854</td>\n",
       "      <td>87.528345</td>\n",
       "      <td>87.827076</td>\n",
       "    </tr>\n",
       "  </tbody>\n",
       "</table>\n",
       "</div>"
      ],
      "text/plain": [
       "   cycle_no  avg_cycle_loss  precision     recall    f_score\n",
       "0      25.0         6.83896  88.127854  87.528345  87.827076"
      ]
     },
     "metadata": {},
     "output_type": "display_data"
    },
    {
     "name": "stdout",
     "output_type": "stream",
     "text": [
      "Performance hasn't improved for 5 cycles...\n",
      "Done training after 25 meta cycles.\n"
     ]
    },
    {
     "data": {
      "text/plain": [
       "'Successful run'"
      ]
     },
     "metadata": {},
     "output_type": "display_data"
    }
   ],
   "source": [
    "#no_test\n",
    "\n",
    "#if you want the same model everytime:\n",
    "#random.seed(seed)\n",
    "#fix_random_seed(seed)\n",
    "\n",
    "#spacy parameters setup\n",
    "#my_lr = [0.0001, 0.001, 0.01, 0.1]\n",
    "#my_dps = [0.1, 0.3, 0.5, 0.7, 0.9]\n",
    "my_lr = [.0001]\n",
    "my_dps = [.1]\n",
    "\n",
    "#spacy parameters\n",
    "for i in range(len(my_lr)):\n",
    "    cping = {'start':16, 'end':32, 'cp_rate':1.05}\n",
    "    solves = {'learn_rate':my_lr[i]} #Original 0.001\n",
    "    for j in range(len(my_dps)):\n",
    "        dpout = my_dps[j] #Original 0.6\n",
    "        save_mdir = 'models/exhaustive_models'\n",
    "\n",
    "        #load model from pretrained\n",
    "        nlp_model = load_model()\n",
    "\n",
    "        nlp_model, perf_df = model_meta_training(nlp_model, train_spacy, valid_df, verbose=True, save_dir = save_mdir,\n",
    "                                                 n_iter=10, solver_params=solves, compound_params=cping, dropout=dpout)\n",
    "    \n",
    "        perf_df['learning rate'] = my_lr[i]\n",
    "        perf_df['dropout'] = my_dps[j]\n",
    "        perf_df['compounding rate'] = cping['cp_rate']\n",
    "        #Basis: schoolCopy = schoolDataFrame[allTheColumnsRequired].copy(deep=True)\n",
    "        history_df = perf_df.copy(deep=True)\n",
    "        \n",
    "        #Going back and fixing this so that history_df is iterative\n",
    "        \n",
    "        \n",
    "display('Successful run')"
   ]
  },
  {
   "cell_type": "code",
   "execution_count": null,
   "metadata": {},
   "outputs": [],
   "source": [
    "#no_test\n",
    "\n",
    "#Manually working with the above data:\n",
    "#I didn't configure history_df correctly originally so I manually upload this data:\n",
    "\n",
    "lr_vec = [0.0001, 0.0001, 0.0001, 0.0001, 0.0001, 0.001, 0.001, 0.001, 0.001, 0.001, 0.01, 0.01, 0.01, 0.01, 0.01, 0.1, 0.1, 0.1, 0.1, 0.1]\n",
    "dpt_vec = [0.1, 0.3, 0.5, 0.7, 0.9, 0.1, 0.3, 0.5, 0.7, 0.9, 0.1, 0.3, 0.5, 0.7, 0.9, 0.1, 0.3, 0.5, 0.7, 0.9]\n",
    "pre_vec = [89.183223, 89.910314, 90.227273, 0, 0, 89.686099, 89.532294, 89.662821, 88.487585, 0, 89.52164, 87.387387, 89.013453, 90.137615, 0, 88.564477, 84.009547, 53.82529, 0, 0]\n",
    "rec_vec = [91.609977, 90.929705, 90.022676, 0, 0, 90.702948, 91.156463, 90.47619, 88.888889, 0, 89.115646, 87.981859, 90.022676, 89.115646, 0, 82.539683, 79.818594, 41.496599, 0, 0]\n",
    "f_vec = [90.380313, 90.417136, 90.124858, 0, 0, 90.191657, 90.337079, 90.06772, 88.687783, 0, 89.318182, 87.683616, 89.51522, 89.623717, 0, 85.446009, 81.860465, 46.862996, 0, 0]\n",
    "\n",
    "manual_data = {'Learning_Rate':lr_vec, 'Dropout':dpt_vec, 'Precision':pre_vec, 'Recall':rec_vec, 'F_Score':f_vec}\n",
    "\n",
    "results_df = pd.DataFrame(manual_data)\n",
    "results_df.head(20)"
   ]
  },
  {
   "cell_type": "code",
   "execution_count": null,
   "metadata": {},
   "outputs": [],
   "source": [
    "suspect_df = results_df.loc[results_df['Recall'] == 0]\n",
    "suspect_df.head(10)"
   ]
  },
  {
   "cell_type": "markdown",
   "metadata": {},
   "source": [
    "Note that when dropout was 0.9, no results were generated.  Likewise, when either extreme of the learning rate (0.1 or 0.0001) were tested alongside the next highest dropout (0.7), there were also no results generated"
   ]
  },
  {
   "cell_type": "code",
   "execution_count": null,
   "metadata": {},
   "outputs": [],
   "source": [
    "#no_test\n",
    "\n",
    "#spacy parameters setup\n",
    "my_lr = [0.0001, 0.001, 0.01, 0.1]\n",
    "my_dps = [0.1, 0.3, 0.5, 0.7, 0.9]\n",
    "\n",
    "#Note that these are dfs, need to be lists to use in plots\n",
    "dps1 = results_df.loc[results_df['Dropout'] == 0.1]\n",
    "dps3 = results_df.loc[results_df['Dropout'] == 0.3]\n",
    "dps5 = results_df.loc[results_df['Dropout'] == 0.5]\n",
    "dps7 = results_df.loc[results_df['Dropout'] == 0.7]\n",
    "dps9 = results_df.loc[results_df['Dropout'] == 0.9]\n",
    "\n",
    "lr0001 = results_df.loc[results_df['Learning_Rate'] == 0.0001]\n",
    "lr001 = results_df.loc[results_df['Learning_Rate'] == 0.001]\n",
    "lr01 = results_df.loc[results_df['Learning_Rate'] == 0.01]\n",
    "lr1 = results_df.loc[results_df['Learning_Rate'] == 0.1]\n",
    "\n",
    "print('dps3')\n",
    "display(dps3.head())\n",
    "\n",
    "print('lr0001')\n",
    "display(lr0001.head())"
   ]
  },
  {
   "cell_type": "code",
   "execution_count": null,
   "metadata": {},
   "outputs": [],
   "source": [
    "### DROP THE ROWS OF JUST 0s\n",
    "\n",
    "print('Plot columns wrt same dropout, different learning rates')\n",
    "\n",
    "plt.figure(1)\n",
    "#plt.subplot(511)\n",
    "dps1_precision = dps1['Precision'].tolist()\n",
    "dps1_recall = dps1['Recall'].tolist()\n",
    "dps1_f = dps1['F_Score'].tolist()\n",
    "plt.plot(my_lr, dps1_precision, label='Precision')\n",
    "plt.plot(my_lr, dps1_recall, label='Recall')\n",
    "plt.plot(my_lr, dps1_f, label='F_Score')\n",
    "plt.xlabel('Learning Rate')\n",
    "plt.ylabel('Score')\n",
    "plt.title('Dropout 0.1: Scores wrt Learning Rate')\n",
    "plt.legend()\n",
    "plt.show()\n",
    "\n",
    "plt.figure(2)\n",
    "#plt.subplot(511)\n",
    "dps3_precision = dps3['Precision'].tolist()\n",
    "dps3_recall = dps3['Recall'].tolist()\n",
    "dps3_f = dps3['F_Score'].tolist()\n",
    "plt.plot(my_lr, dps3_precision, label='Precision')\n",
    "plt.plot(my_lr, dps3_recall, label='Recall')\n",
    "plt.plot(my_lr, dps3_f, label='F_Score')\n",
    "plt.xlabel('Learning Rate')\n",
    "plt.ylabel('Score')\n",
    "plt.title('Dropout 0.3: Scores wrt Learning Rate')\n",
    "plt.legend()\n",
    "plt.show()\n",
    "\n",
    "plt.figure(3)\n",
    "#plt.subplot(511)\n",
    "dps5_precision = dps5['Precision'].tolist()\n",
    "dps5_recall = dps5['Recall'].tolist()\n",
    "dps5_f = dps5['F_Score'].tolist()\n",
    "plt.plot(my_lr, dps5_precision, label='Precision')\n",
    "plt.plot(my_lr, dps5_recall, label='Recall')\n",
    "plt.plot(my_lr, dps5_f, label='F_Score')\n",
    "plt.xlabel('Learning Rate')\n",
    "plt.ylabel('Score')\n",
    "plt.title('Dropout 0.5: Scores wrt Learning Rate')\n",
    "plt.legend()\n",
    "plt.show()\n",
    "\n",
    "plt.figure(4)\n",
    "#plt.subplot(511)\n",
    "dps7_precision = dps7['Precision'].tolist()\n",
    "dps7_recall = dps7['Recall'].tolist()\n",
    "dps7_f = dps7['F_Score'].tolist()\n",
    "plt.plot(my_lr, dps7_precision, label='Precision')\n",
    "plt.plot(my_lr, dps7_recall, label='Recall')\n",
    "plt.plot(my_lr, dps7_f, label='F_Score')\n",
    "plt.xlabel('Learning Rate')\n",
    "plt.ylabel('Score')\n",
    "plt.title('Dropout 0.7: Scores wrt Learning Rate')\n",
    "plt.legend()\n",
    "plt.show()\n"
   ]
  },
  {
   "cell_type": "markdown",
   "metadata": {},
   "source": [
    "Repeating the above with respect to learning rate.  Note that we expect the lower learning rates to have the best scores"
   ]
  },
  {
   "cell_type": "code",
   "execution_count": null,
   "metadata": {},
   "outputs": [],
   "source": [
    "#no_test\n",
    "\n",
    "my_lr = [0.0001, 0.001, 0.01, 0.1]\n",
    "my_dps = [0.1, 0.3, 0.5]\n",
    "\n",
    "#Note: added [0:3] to the backs of tolist() in order to drop the dropouts of 0\n",
    "print('Plot columns wrt same learning rates, different dropout')\n",
    "plt.figure(1)\n",
    "#plt.subplot(511)\n",
    "lr0001_precision = lr0001['Precision'].tolist()[0:3]\n",
    "lr0001_recall = lr0001['Recall'].tolist()[0:3]\n",
    "lr0001_f = lr0001['F_Score'].tolist()[0:3]\n",
    "plt.plot(my_dps, lr0001_precision, label='Precision')\n",
    "plt.plot(my_dps, lr0001_recall, label='Recall')\n",
    "plt.plot(my_dps, lr0001_f, label='F_Score')\n",
    "plt.xlabel('Dropout')\n",
    "plt.ylabel('Score')\n",
    "plt.title('Learning Rate 0.0001: Scores wrt Dropout')\n",
    "plt.legend()\n",
    "plt.show()\n",
    "\n",
    "plt.figure(2)\n",
    "#plt.subplot(511)\n",
    "lr001_precision = lr001['Precision'].tolist()[0:3]\n",
    "lr001_recall = lr001['Recall'].tolist()[0:3]\n",
    "lr001_f = lr001['F_Score'].tolist()[0:3]\n",
    "plt.plot(my_dps, lr001_precision, label='Precision')\n",
    "plt.plot(my_dps, lr001_recall, label='Recall')\n",
    "plt.plot(my_dps, lr001_f, label='F_Score')\n",
    "plt.xlabel('Dropout')\n",
    "plt.ylabel('Score')\n",
    "plt.title('Learning Rate 0.0001: Scores wrt Dropout')\n",
    "plt.legend()\n",
    "plt.show()"
   ]
  },
  {
   "cell_type": "markdown",
   "metadata": {},
   "source": [
    "Repeat the above but focus in on the plateua around 90, ignore the drop to 0"
   ]
  },
  {
   "cell_type": "code",
   "execution_count": null,
   "metadata": {},
   "outputs": [],
   "source": [
    "#no_test\n",
    "\n",
    "#Updated to drop ones we don't care about\n",
    "my_lr = [0.0001, 0.001, 0.01, 0.1]\n",
    "my_dps = [0.1, 0.3, 0.5]\n",
    "\n",
    "print('Plot columns wrt same learning rates, different dropout')\n",
    "plt.figure(1)\n",
    "#plt.subplot(511)\n",
    "lr0001_precision = lr0001['Precision'].tolist()[0:3]\n",
    "lr0001_recall = lr0001['Recall'].tolist()[0:3]\n",
    "lr0001_f = lr0001['F_Score'].tolist()[0:3]\n",
    "plt.plot(my_dps, lr0001_precision, label='Precision')\n",
    "plt.plot(my_dps, lr0001_recall, label='Recall')\n",
    "plt.plot(my_dps, lr0001_f, label='F_Score')\n",
    "plt.xlabel('Dropout')\n",
    "plt.ylabel('Score')\n",
    "plt.title('Learning Rate 0.0001: Scores wrt Dropout')\n",
    "plt.show()\n",
    "\n",
    "plt.figure(2)\n",
    "#plt.subplot(511)\n",
    "lr001_precision = lr001['Precision'].tolist()[0:3]\n",
    "lr001_recall = lr001['Recall'].tolist()[0:3]\n",
    "lr001_f = lr001['F_Score'].tolist()[0:3]\n",
    "plt.plot(my_dps, lr001_precision, label='Precision')\n",
    "plt.plot(my_dps, lr001_recall, label='Recall')\n",
    "plt.plot(my_dps, lr001_f, label='F_Score')\n",
    "plt.xlabel('Dropout')\n",
    "plt.ylabel('Score')\n",
    "plt.title('Learning Rate 0.0001: Scores wrt Dropout')\n",
    "plt.show()"
   ]
  },
  {
   "cell_type": "code",
   "execution_count": null,
   "metadata": {},
   "outputs": [],
   "source": [
    "#no_test\n",
    "\n",
    "#This block hasn't been written yet, will do the above but as a callable function\n",
    "#Note that history_df is wrong, needs to be updated on every run, not just overwriting a new copy...\n",
    "\n",
    "#load saved model and performance metrics if desired:\n",
    "#this_model_dir = 'models/42-initial-model/4e0f496_dp0.4_lr0.0003'\n",
    "#nlp_model = load_model(this_model_dir)\n",
    "#perf_df = read_csv(this_model_dir + '\\perf_df.csv')\n",
    "\n",
    "#perf_df.set_index('cycle_no', drop=True, inplace=True)\n",
    "#perf_df.head()\n",
    "\n",
    "#Plotting\n",
    "#Columns: cycle_no avg_cycle_loss precission recall f_score dropout learning_rate\n",
    "\n",
    "#Note that training curves already exist in NB 42:\n",
    "\n",
    "#scale the losses a bit just to see things together\n",
    "#perf_df['loss_scaled'] = perf_df['avg_cycle_loss']/10\n",
    "#perf_df.drop(columns=['avg_cycle_loss']).plot()"
   ]
  },
  {
   "cell_type": "code",
   "execution_count": null,
   "metadata": {},
   "outputs": [],
   "source": [
    "#no_test\n",
    "\n",
    "from nbdev.export import notebook2script\n",
    "notebook2script()"
   ]
  },
  {
   "cell_type": "code",
   "execution_count": null,
   "metadata": {},
   "outputs": [],
   "source": []
  }
 ],
 "metadata": {
  "kernelspec": {
   "display_name": "Python 3",
   "language": "python",
   "name": "python3"
  }
 },
 "nbformat": 4,
 "nbformat_minor": 4
}
