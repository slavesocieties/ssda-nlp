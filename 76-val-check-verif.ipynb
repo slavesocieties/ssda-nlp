{
 "cells": [
  {
   "cell_type": "markdown",
   "id": "0b53529e",
   "metadata": {},
   "source": [
    "> __Purpose__: The purpose of this notebook is to take the best meta model from NB75, then test it on unseen data, and use this to determine the performance of how the validation checks are performing (e.g. are the validation checks working as expected)."
   ]
  },
  {
   "cell_type": "code",
   "execution_count": 13,
   "id": "90cb378e",
   "metadata": {},
   "outputs": [],
   "source": [
    "#no_test\n",
    "\n",
    "#data structure imports\n",
    "import pandas as pd\n",
    "import numpy as np\n",
    "import matplotlib.pyplot as plt\n",
    "import spacy\n",
    "from os import listdir\n",
    "\n",
    "#python imports\n",
    "import random\n",
    "\n",
    "#modeling imports\n",
    "from spacy.util import fix_random_seed\n",
    "from ssda_nlp.collate import *\n",
    "from ssda_nlp.split_data import *\n",
    "from ssda_nlp.modeling import *\n",
    "from ssda_nlp.preprocessing import *\n",
    "from ssda_nlp.model_performance_utils import *\n",
    "from ssda_nlp.utility import *\n",
    "from ssda_nlp.relationships import *\n",
    "from ssda_nlp.full_volume import *\n",
    "from ssda_nlp.validation_visuals import *\n",
    "\n",
    "#if you want the same model everytime:\n",
    "seed = 2436\n",
    "random.seed(seed)\n",
    "fix_random_seed(seed)"
   ]
  },
  {
   "cell_type": "markdown",
   "id": "d3a1f25a",
   "metadata": {},
   "source": [
    "## From NB 74\n",
    "- Update to best meta model. Doesn't need to rotate through multiple models"
   ]
  },
  {
   "cell_type": "code",
   "execution_count": 2,
   "id": "a6107e89",
   "metadata": {},
   "outputs": [
    {
     "name": "stdout",
     "output_type": "stream",
     "text": [
      "Loaded model 'models/75/best_meta_model'\n",
      "Entities extracted.\n",
      "Enslaver found, but thinks principal is not enslaved... Principal dict:\n",
      "[{'id': '15834-1033-3-P1;15834-1033-3-P3', 'name': 'Maria', 'origin': None, 'ethnicities': None, 'age': None, 'legitimacy': None, 'occupation': None, 'phenotype': None, 'status': 'Esc.a', 'titles': None, 'ranks': None, 'relationships': [{'related_person': '15834-1033-3-P6', 'relationship_type': 'godparent'}, {'related_person': '15834-1033-3-P5', 'relationship_type': 'enslaver'}]}]\n",
      "-------------------------\n",
      "Enslaver found, but thinks principal is not enslaved... Principal dict:\n",
      "[{'id': '15834-1034-3-P1;15834-1034-3-P3', 'name': 'Antonia', 'origin': None, 'ethnicities': 'mina', 'age': 'adulta', 'legitimacy': None, 'occupation': None, 'phenotype': 'negra', 'status': 'Esc.va', 'titles': None, 'ranks': None, 'relationships': [{'related_person': '15834-1034-3-P5', 'relationship_type': 'godparent'}, {'related_person': '15834-1034-3-P4', 'relationship_type': 'enslaver'}]}]\n",
      "-------------------------\n",
      "Enslaver with assigned ethnicities?\n",
      "{'id': '15834-1039-4-P4', 'name': 'D. Ju.o Joseph de Justis', 'origin': None, 'ethnicities': 'Mina', 'age': None, 'legitimacy': None, 'occupation': None, 'phenotype': None, 'status': None, 'titles': None, 'ranks': None, 'relationships': [{'related_person': '15834-1039-4-P3', 'relationship_type': 'slave'}]}\n",
      "-------------------------\n",
      "Enslaver found, but thinks principal is not enslaved... Principal dict:\n",
      "[{'id': '15834-1048-2-P1;15834-1048-2-P3', 'name': 'Fernando', 'origin': None, 'ethnicities': 'Arara', 'age': 'adulto', 'legitimacy': None, 'occupation': None, 'phenotype': None, 'status': 'Esc.vo', 'titles': None, 'ranks': None, 'relationships': [{'related_person': '15834-1048-2-P4', 'relationship_type': 'enslaver'}]}]\n",
      "-------------------------\n",
      "Enslaver found, but thinks principal is not enslaved... Principal dict:\n",
      "[{'id': '15834-1081-3-P1;15834-1081-3-P3', 'name': 'Manuel', 'origin': None, 'ethnicities': None, 'age': 'adulto', 'legitimacy': None, 'occupation': None, 'phenotype': 'moreno', 'status': None, 'titles': None, 'ranks': None, 'relationships': [{'related_person': '15834-1081-3-P5', 'relationship_type': 'enslaver'}]}]\n",
      "-------------------------\n",
      "Enslaver found, but thinks principal is not enslaved... Principal dict:\n",
      "[{'id': '15834-1155-3-P1;15834-1155-3-P5', 'name': 'Juo Antonio', 'origin': None, 'ethnicities': None, 'age': 'niño', 'legitimacy': None, 'occupation': None, 'phenotype': None, 'status': None, 'titles': None, 'ranks': None, 'relationships': [{'related_person': '15834-1155-3-P6', 'relationship_type': 'godparent'}, {'related_person': '15834-1155-3-P7', 'relationship_type': 'enslaver'}]}]\n",
      "-------------------------\n",
      "Relationships linked.\n",
      "Events configured.\n",
      "People records enhanced and disambiguated.\n",
      "Single ID generated for each individual.\n",
      "JSON built, processing completed.\n",
      "--------------------------------------\n"
     ]
    }
   ],
   "source": [
    "#no_test\n",
    "\n",
    "#row names: people, places, events, json_path, entities, noCategory, validation_list\n",
    "num_rows = 7\n",
    "cols = np.zeros((num_rows,1))\n",
    "\n",
    "path = 'models/75'\n",
    "best_model_path = path + r\"/\" + \"best_meta_model\"\n",
    "\n",
    "#\"transcriptions\\\\15834.xml\", \"models/15834\"\n",
    "my_trans = \"transcriptions\\\\15834.xml\"\n",
    "my_dir = best_model_path\n",
    "people, places, events, json_path, entities, noCategory, validation_list = process_volume(my_trans, my_dir)\n",
    "print(\"--------------------------------------\")"
   ]
  },
  {
   "cell_type": "code",
   "execution_count": 14,
   "id": "a92b8885",
   "metadata": {},
   "outputs": [
    {
     "ename": "NameError",
     "evalue": "name 'val_vis_bar' is not defined",
     "output_type": "error",
     "traceback": [
      "\u001b[1;31m---------------------------------------------------------------------------\u001b[0m",
      "\u001b[1;31mNameError\u001b[0m                                 Traceback (most recent call last)",
      "\u001b[1;32m~\\AppData\\Local\\Temp/ipykernel_17316/4068369190.py\u001b[0m in \u001b[0;36m<module>\u001b[1;34m\u001b[0m\n\u001b[0;32m      1\u001b[0m \u001b[1;31m#no_test\u001b[0m\u001b[1;33m\u001b[0m\u001b[1;33m\u001b[0m\u001b[1;33m\u001b[0m\u001b[0m\n\u001b[1;32m----> 2\u001b[1;33m \u001b[0mval_vis_bar\u001b[0m\u001b[1;33m(\u001b[0m\u001b[0mvalidation_list\u001b[0m\u001b[1;33m)\u001b[0m\u001b[1;33m\u001b[0m\u001b[1;33m\u001b[0m\u001b[0m\n\u001b[0m",
      "\u001b[1;31mNameError\u001b[0m: name 'val_vis_bar' is not defined"
     ]
    }
   ],
   "source": [
    "#no_test\n",
    "val_vis_bar(validation_list)"
   ]
  },
  {
   "cell_type": "code",
   "execution_count": 12,
   "id": "c6f92104",
   "metadata": {},
   "outputs": [
    {
     "name": "stdout",
     "output_type": "stream",
     "text": [
      "Converted 12-ssda-xml-parser.ipynb.\n",
      "Converted 31-collate-xml-entities-spans.ipynb.\n",
      "Converted 33-split-data.ipynb.\n",
      "Converted 41-generic-framework-for-spacy-training.ipynb.\n",
      "Converted 42-initial-model.ipynb.\n",
      "Converted 51-data-preprocessing.ipynb.\n",
      "Converted 52-unstructured-to-markup.ipynb.\n",
      "Converted 53-markup-to-spatial-historian.ipynb.\n",
      "Converted 54-utility-functions.ipynb.\n",
      "Converted 61-prodigy-output-training-demo.ipynb.\n",
      "Converted 62-full-model-application-demo.ipynb.\n",
      "Converted 63-pt-model-training.ipynb.\n",
      "Converted 64-es-model-training.ipynb.\n",
      "Converted 65-all-annotations-model-training.ipynb.\n",
      "Converted 66-es-guatemala-model-training.ipynb.\n",
      "Converted 67-death-and-birth-records-together.ipynb.\n",
      "Converted 70-exhaustive-training.ipynb.\n",
      "Converted 71-relationship-builder.ipynb.\n",
      "Converted 72-full-volume-processor.ipynb.\n",
      "Converted 73-table-output.ipynb.\n",
      "Converted 74-validation-visuals.ipynb.\n",
      "Converted 75-meta-model.ipynb.\n",
      "Converted 76-val-check-verif.ipynb.\n"
     ]
    }
   ],
   "source": [
    "#no_test\n",
    "from nbdev.export import notebook2script\n",
    "notebook2script();"
   ]
  },
  {
   "cell_type": "code",
   "execution_count": null,
   "id": "07c694ee",
   "metadata": {},
   "outputs": [],
   "source": []
  }
 ],
 "metadata": {
  "kernelspec": {
   "display_name": "Python 3 (ipykernel)",
   "language": "python",
   "name": "python3"
  },
  "language_info": {
   "codemirror_mode": {
    "name": "ipython",
    "version": 3
   },
   "file_extension": ".py",
   "mimetype": "text/x-python",
   "name": "python",
   "nbconvert_exporter": "python",
   "pygments_lexer": "ipython3",
   "version": "3.7.10"
  }
 },
 "nbformat": 4,
 "nbformat_minor": 5
}
