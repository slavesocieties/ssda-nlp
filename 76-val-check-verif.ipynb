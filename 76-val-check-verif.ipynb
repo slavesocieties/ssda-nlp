{
 "cells": [
  {
   "cell_type": "markdown",
   "id": "0b53529e",
   "metadata": {},
   "source": [
    "> __Purpose__: The purpose of this notebook is to take the best meta model from NB75, then test it on unseen data, and use this to determine the performance of how the validation checks are performing (e.g. are the validation checks working as expected)."
   ]
  },
  {
   "cell_type": "code",
   "execution_count": 1,
   "id": "90cb378e",
   "metadata": {},
   "outputs": [],
   "source": [
    "#no_test\n",
    "\n",
    "#data structure imports\n",
    "import pandas as pd\n",
    "import numpy as np\n",
    "import matplotlib.pyplot as plt\n",
    "import spacy\n",
    "from os import listdir\n",
    "\n",
    "#python imports\n",
    "import random\n",
    "\n",
    "#modeling imports\n",
    "from spacy.util import fix_random_seed\n",
    "from ssda_nlp.collate import *\n",
    "from ssda_nlp.split_data import *\n",
    "from ssda_nlp.modeling import *\n",
    "from ssda_nlp.preprocessing import *\n",
    "from ssda_nlp.model_performance_utils import *\n",
    "from ssda_nlp.utility import *\n",
    "from ssda_nlp.relationships import *\n",
    "from ssda_nlp.full_volume import *\n",
    "\n",
    "#if you want the same model everytime:\n",
    "seed = 2436\n",
    "random.seed(seed)\n",
    "fix_random_seed(seed)"
   ]
  },
  {
   "cell_type": "markdown",
   "id": "d3a1f25a",
   "metadata": {},
   "source": [
    "## From NB 74\n",
    "- Update to best meta model. Doesn't need to rotate through multiple models"
   ]
  },
  {
   "cell_type": "markdown",
   "id": "e7d96254",
   "metadata": {},
   "source": [
    "## This is the line that is broken\n",
    "- Either \"signal_entity_index - 1\" or \"signal_entity_index + 1\" is breaking it.  Presumably the +1 extends it too far\n",
    "\n",
    "if (entities_df[\"pred_label\"][signal_entity_index - 1] == \"PER\") and (entities_df[\"pred_label\"][signal_entity_index + 1] == \"LOC\") and (entities_df[\"pred_start\"][signal_entity_index + 1] - entities_df[\"pred_end\"][signal_entity_index - 1] <= 20):\n",
    "    689                 place = entities_df[\"pred_entity\"][signal_entity_index + 1]\n",
    "    690                 multiple = False"
   ]
  },
  {
   "cell_type": "code",
   "execution_count": 2,
   "id": "a6107e89",
   "metadata": {},
   "outputs": [
    {
     "name": "stdout",
     "output_type": "stream",
     "text": [
      "Loaded model 'models/75/best_meta_model'\n",
      "Entities extracted.\n",
      "Enslaver found, but thinks principal is not enslaved... Principal dict:\n",
      "[{'id': '15834-1033-3-P1;15834-1033-3-P3', 'name': 'Maria', 'origin': None, 'ethnicities': None, 'age': None, 'legitimacy': None, 'occupation': None, 'phenotype': None, 'status': 'Esc.a', 'titles': None, 'ranks': None, 'relationships': [{'related_person': '15834-1033-3-P6', 'relationship_type': 'godparent'}, {'related_person': '15834-1033-3-P5', 'relationship_type': 'enslaver'}]}]\n",
      "-------------------------\n",
      "Enslaver found, but thinks principal is not enslaved... Principal dict:\n",
      "[{'id': '15834-1034-3-P1;15834-1034-3-P3', 'name': 'Antonia', 'origin': None, 'ethnicities': 'mina', 'age': 'adulta', 'legitimacy': None, 'occupation': None, 'phenotype': 'negra', 'status': 'Esc.va', 'titles': None, 'ranks': None, 'relationships': [{'related_person': '15834-1034-3-P5', 'relationship_type': 'godparent'}, {'related_person': '15834-1034-3-P4', 'relationship_type': 'enslaver'}]}]\n",
      "-------------------------\n",
      "Enslaver with assigned ethnicities?\n",
      "{'id': '15834-1039-4-P4', 'name': 'D. Ju.o Joseph de Justis', 'origin': None, 'ethnicities': 'Mina', 'age': None, 'legitimacy': None, 'occupation': None, 'phenotype': None, 'status': None, 'titles': None, 'ranks': None, 'relationships': [{'related_person': '15834-1039-4-P3', 'relationship_type': 'slave'}]}\n",
      "-------------------------\n",
      "Enslaver found, but thinks principal is not enslaved... Principal dict:\n",
      "[{'id': '15834-1048-2-P1;15834-1048-2-P3', 'name': 'Fernando', 'origin': None, 'ethnicities': 'Arara', 'age': 'adulto', 'legitimacy': None, 'occupation': None, 'phenotype': None, 'status': 'Esc.vo', 'titles': None, 'ranks': None, 'relationships': [{'related_person': '15834-1048-2-P4', 'relationship_type': 'enslaver'}]}]\n",
      "-------------------------\n",
      "Enslaver found, but thinks principal is not enslaved... Principal dict:\n",
      "[{'id': '15834-1081-3-P1;15834-1081-3-P3', 'name': 'Manuel', 'origin': None, 'ethnicities': None, 'age': 'adulto', 'legitimacy': None, 'occupation': None, 'phenotype': 'moreno', 'status': None, 'titles': None, 'ranks': None, 'relationships': [{'related_person': '15834-1081-3-P5', 'relationship_type': 'enslaver'}]}]\n",
      "-------------------------\n",
      "Enslaver found, but thinks principal is not enslaved... Principal dict:\n",
      "[{'id': '15834-1155-3-P1;15834-1155-3-P5', 'name': 'Juo Antonio', 'origin': None, 'ethnicities': None, 'age': 'niño', 'legitimacy': None, 'occupation': None, 'phenotype': None, 'status': None, 'titles': None, 'ranks': None, 'relationships': [{'related_person': '15834-1155-3-P6', 'relationship_type': 'godparent'}, {'related_person': '15834-1155-3-P7', 'relationship_type': 'enslaver'}]}]\n",
      "-------------------------\n"
     ]
    },
    {
     "ename": "KeyError",
     "evalue": "11",
     "output_type": "error",
     "traceback": [
      "\u001b[1;31m---------------------------------------------------------------------------\u001b[0m",
      "\u001b[1;31mValueError\u001b[0m                                Traceback (most recent call last)",
      "\u001b[1;32m~\\miniconda3\\envs\\ssda\\lib\\site-packages\\pandas\\core\\indexes\\range.py\u001b[0m in \u001b[0;36mget_loc\u001b[1;34m(self, key, method, tolerance)\u001b[0m\n\u001b[0;32m    384\u001b[0m                 \u001b[1;32mtry\u001b[0m\u001b[1;33m:\u001b[0m\u001b[1;33m\u001b[0m\u001b[1;33m\u001b[0m\u001b[0m\n\u001b[1;32m--> 385\u001b[1;33m                     \u001b[1;32mreturn\u001b[0m \u001b[0mself\u001b[0m\u001b[1;33m.\u001b[0m\u001b[0m_range\u001b[0m\u001b[1;33m.\u001b[0m\u001b[0mindex\u001b[0m\u001b[1;33m(\u001b[0m\u001b[0mnew_key\u001b[0m\u001b[1;33m)\u001b[0m\u001b[1;33m\u001b[0m\u001b[1;33m\u001b[0m\u001b[0m\n\u001b[0m\u001b[0;32m    386\u001b[0m                 \u001b[1;32mexcept\u001b[0m \u001b[0mValueError\u001b[0m \u001b[1;32mas\u001b[0m \u001b[0merr\u001b[0m\u001b[1;33m:\u001b[0m\u001b[1;33m\u001b[0m\u001b[1;33m\u001b[0m\u001b[0m\n",
      "\u001b[1;31mValueError\u001b[0m: 11 is not in range",
      "\nThe above exception was the direct cause of the following exception:\n",
      "\u001b[1;31mKeyError\u001b[0m                                  Traceback (most recent call last)",
      "\u001b[1;32m~\\AppData\\Local\\Temp/ipykernel_22316/935721858.py\u001b[0m in \u001b[0;36m<module>\u001b[1;34m\u001b[0m\n\u001b[0;32m     12\u001b[0m \u001b[1;31m# \"transcriptions\\\\\" + str(modelTemp) + \".xml\" <-- use for loops, modelTemp must match the annotation numerical ID (e.g. 15834)\u001b[0m\u001b[1;33m\u001b[0m\u001b[1;33m\u001b[0m\u001b[1;33m\u001b[0m\u001b[0m\n\u001b[0;32m     13\u001b[0m \u001b[0mmy_dir\u001b[0m \u001b[1;33m=\u001b[0m \u001b[0mbest_model_path\u001b[0m\u001b[1;33m\u001b[0m\u001b[1;33m\u001b[0m\u001b[0m\n\u001b[1;32m---> 14\u001b[1;33m \u001b[0mpeople\u001b[0m\u001b[1;33m,\u001b[0m \u001b[0mplaces\u001b[0m\u001b[1;33m,\u001b[0m \u001b[0mevents\u001b[0m\u001b[1;33m,\u001b[0m \u001b[0mjson_path\u001b[0m\u001b[1;33m,\u001b[0m \u001b[0mentities\u001b[0m\u001b[1;33m,\u001b[0m \u001b[0mnoCategory\u001b[0m\u001b[1;33m,\u001b[0m \u001b[0mvalidation_list\u001b[0m \u001b[1;33m=\u001b[0m \u001b[0mprocess_volume\u001b[0m\u001b[1;33m(\u001b[0m\u001b[0mmy_trans\u001b[0m\u001b[1;33m,\u001b[0m \u001b[0mmy_dir\u001b[0m\u001b[1;33m)\u001b[0m\u001b[1;33m\u001b[0m\u001b[1;33m\u001b[0m\u001b[0m\n\u001b[0m\u001b[0;32m     15\u001b[0m \u001b[0mprint\u001b[0m\u001b[1;33m(\u001b[0m\u001b[1;34m\"--------------------------------------\"\u001b[0m\u001b[1;33m)\u001b[0m\u001b[1;33m\u001b[0m\u001b[1;33m\u001b[0m\u001b[0m\n",
      "\u001b[1;32m~\\Desktop\\MetaFolder\\SSDA\\ssda-nlp\\ssda_nlp\\full_volume.py\u001b[0m in \u001b[0;36mprocess_volume\u001b[1;34m(path_to_transcription, path_to_model)\u001b[0m\n\u001b[0;32m    430\u001b[0m         \u001b[0mentities\u001b[0m\u001b[1;33m[\u001b[0m\u001b[1;34m\"assigned\"\u001b[0m\u001b[1;33m]\u001b[0m \u001b[1;33m=\u001b[0m \u001b[1;32mTrue\u001b[0m\u001b[1;33m\u001b[0m\u001b[1;33m\u001b[0m\u001b[0m\n\u001b[0;32m    431\u001b[0m \u001b[1;33m\u001b[0m\u001b[0m\n\u001b[1;32m--> 432\u001b[1;33m         \u001b[0mentry_people\u001b[0m\u001b[1;33m,\u001b[0m \u001b[0mentry_places\u001b[0m\u001b[1;33m,\u001b[0m \u001b[0mentry_events\u001b[0m\u001b[1;33m,\u001b[0m \u001b[0mentities\u001b[0m\u001b[1;33m,\u001b[0m \u001b[0mcharacteristics_df\u001b[0m\u001b[1;33m,\u001b[0m \u001b[0mcategorized_characteristics\u001b[0m\u001b[1;33m,\u001b[0m \u001b[0muncategorized_characteristics\u001b[0m \u001b[1;33m=\u001b[0m \u001b[0mbuild_entry_metadata\u001b[0m\u001b[1;33m(\u001b[0m\u001b[0mentry_text\u001b[0m\u001b[1;33m,\u001b[0m \u001b[0mentities\u001b[0m\u001b[1;33m,\u001b[0m \u001b[0mpath_to_transcription\u001b[0m\u001b[1;33m,\u001b[0m \u001b[0mentry_no\u001b[0m\u001b[1;33m)\u001b[0m\u001b[1;33m\u001b[0m\u001b[1;33m\u001b[0m\u001b[0m\n\u001b[0m\u001b[0;32m    433\u001b[0m \u001b[1;33m\u001b[0m\u001b[0m\n\u001b[0;32m    434\u001b[0m         \u001b[1;32mif\u001b[0m \u001b[0muncategorized_characteristics\u001b[0m\u001b[1;33m.\u001b[0m\u001b[0mshape\u001b[0m\u001b[1;33m[\u001b[0m\u001b[1;36m0\u001b[0m\u001b[1;33m]\u001b[0m \u001b[1;33m>\u001b[0m \u001b[1;36m0\u001b[0m\u001b[1;33m:\u001b[0m\u001b[1;33m\u001b[0m\u001b[1;33m\u001b[0m\u001b[0m\n",
      "\u001b[1;32m~\\Desktop\\MetaFolder\\SSDA\\ssda-nlp\\ssda_nlp\\relationships.py\u001b[0m in \u001b[0;36mbuild_entry_metadata\u001b[1;34m(entry_text, entities, path_to_volume_xml, entry_number)\u001b[0m\n\u001b[0;32m   1544\u001b[0m \u001b[1;33m\u001b[0m\u001b[0m\n\u001b[0;32m   1545\u001b[0m         \u001b[0mcharacteristics_df\u001b[0m\u001b[1;33m,\u001b[0m \u001b[0muncategorized_characteristics\u001b[0m \u001b[1;33m=\u001b[0m \u001b[0mcategorize_characteristics\u001b[0m\u001b[1;33m(\u001b[0m\u001b[0mentities\u001b[0m\u001b[1;33m,\u001b[0m \u001b[0mcharacteristics_df\u001b[0m\u001b[1;33m)\u001b[0m\u001b[1;33m\u001b[0m\u001b[1;33m\u001b[0m\u001b[0m\n\u001b[1;32m-> 1546\u001b[1;33m         \u001b[0mpeople\u001b[0m\u001b[1;33m,\u001b[0m \u001b[0mcategorized_characteristics\u001b[0m \u001b[1;33m=\u001b[0m \u001b[0massign_characteristics\u001b[0m\u001b[1;33m(\u001b[0m\u001b[0mentry_text\u001b[0m\u001b[1;33m,\u001b[0m \u001b[0mentities\u001b[0m\u001b[1;33m,\u001b[0m \u001b[0mcharacteristics_df\u001b[0m\u001b[1;33m,\u001b[0m \u001b[0mpeople_df\u001b[0m\u001b[1;33m,\u001b[0m \u001b[0mvolume_metadata\u001b[0m\u001b[1;33m)\u001b[0m\u001b[1;33m\u001b[0m\u001b[1;33m\u001b[0m\u001b[0m\n\u001b[0m\u001b[0;32m   1547\u001b[0m         \u001b[1;31m#############################################################\u001b[0m\u001b[1;33m\u001b[0m\u001b[1;33m\u001b[0m\u001b[1;33m\u001b[0m\u001b[0m\n\u001b[0;32m   1548\u001b[0m         \u001b[1;31m### KAI EDIT: added entities here as output ###\u001b[0m\u001b[1;33m\u001b[0m\u001b[1;33m\u001b[0m\u001b[1;33m\u001b[0m\u001b[0m\n",
      "\u001b[1;32m~\\Desktop\\MetaFolder\\SSDA\\ssda-nlp\\ssda_nlp\\relationships.py\u001b[0m in \u001b[0;36massign_characteristics\u001b[1;34m(entry_text, entities_df, characteristics_df, unique_individuals, volume_metadata)\u001b[0m\n\u001b[0;32m    686\u001b[0m                     \u001b[0msignal_entity_index\u001b[0m \u001b[1;33m=\u001b[0m \u001b[0mi\u001b[0m\u001b[1;33m\u001b[0m\u001b[1;33m\u001b[0m\u001b[0m\n\u001b[0;32m    687\u001b[0m                     \u001b[1;32mbreak\u001b[0m\u001b[1;33m\u001b[0m\u001b[1;33m\u001b[0m\u001b[0m\n\u001b[1;32m--> 688\u001b[1;33m             \u001b[1;32mif\u001b[0m \u001b[1;33m(\u001b[0m\u001b[0mentities_df\u001b[0m\u001b[1;33m[\u001b[0m\u001b[1;34m\"pred_label\"\u001b[0m\u001b[1;33m]\u001b[0m\u001b[1;33m[\u001b[0m\u001b[0msignal_entity_index\u001b[0m \u001b[1;33m-\u001b[0m \u001b[1;36m1\u001b[0m\u001b[1;33m]\u001b[0m \u001b[1;33m==\u001b[0m \u001b[1;34m\"PER\"\u001b[0m\u001b[1;33m)\u001b[0m \u001b[1;32mand\u001b[0m \u001b[1;33m(\u001b[0m\u001b[0mentities_df\u001b[0m\u001b[1;33m[\u001b[0m\u001b[1;34m\"pred_label\"\u001b[0m\u001b[1;33m]\u001b[0m\u001b[1;33m[\u001b[0m\u001b[0msignal_entity_index\u001b[0m \u001b[1;33m+\u001b[0m \u001b[1;36m1\u001b[0m\u001b[1;33m]\u001b[0m \u001b[1;33m==\u001b[0m \u001b[1;34m\"LOC\"\u001b[0m\u001b[1;33m)\u001b[0m \u001b[1;32mand\u001b[0m \u001b[1;33m(\u001b[0m\u001b[0mentities_df\u001b[0m\u001b[1;33m[\u001b[0m\u001b[1;34m\"pred_start\"\u001b[0m\u001b[1;33m]\u001b[0m\u001b[1;33m[\u001b[0m\u001b[0msignal_entity_index\u001b[0m \u001b[1;33m+\u001b[0m \u001b[1;36m1\u001b[0m\u001b[1;33m]\u001b[0m \u001b[1;33m-\u001b[0m \u001b[0mentities_df\u001b[0m\u001b[1;33m[\u001b[0m\u001b[1;34m\"pred_end\"\u001b[0m\u001b[1;33m]\u001b[0m\u001b[1;33m[\u001b[0m\u001b[0msignal_entity_index\u001b[0m \u001b[1;33m-\u001b[0m \u001b[1;36m1\u001b[0m\u001b[1;33m]\u001b[0m \u001b[1;33m<=\u001b[0m \u001b[1;36m20\u001b[0m\u001b[1;33m)\u001b[0m\u001b[1;33m:\u001b[0m\u001b[1;33m\u001b[0m\u001b[1;33m\u001b[0m\u001b[0m\n\u001b[0m\u001b[0;32m    689\u001b[0m                 \u001b[0mplace\u001b[0m \u001b[1;33m=\u001b[0m \u001b[0mentities_df\u001b[0m\u001b[1;33m[\u001b[0m\u001b[1;34m\"pred_entity\"\u001b[0m\u001b[1;33m]\u001b[0m\u001b[1;33m[\u001b[0m\u001b[0msignal_entity_index\u001b[0m \u001b[1;33m+\u001b[0m \u001b[1;36m1\u001b[0m\u001b[1;33m]\u001b[0m\u001b[1;33m\u001b[0m\u001b[1;33m\u001b[0m\u001b[0m\n\u001b[0;32m    690\u001b[0m                 \u001b[0mmultiple\u001b[0m \u001b[1;33m=\u001b[0m \u001b[1;32mFalse\u001b[0m\u001b[1;33m\u001b[0m\u001b[1;33m\u001b[0m\u001b[0m\n",
      "\u001b[1;32m~\\miniconda3\\envs\\ssda\\lib\\site-packages\\pandas\\core\\series.py\u001b[0m in \u001b[0;36m__getitem__\u001b[1;34m(self, key)\u001b[0m\n\u001b[0;32m    940\u001b[0m \u001b[1;33m\u001b[0m\u001b[0m\n\u001b[0;32m    941\u001b[0m         \u001b[1;32melif\u001b[0m \u001b[0mkey_is_scalar\u001b[0m\u001b[1;33m:\u001b[0m\u001b[1;33m\u001b[0m\u001b[1;33m\u001b[0m\u001b[0m\n\u001b[1;32m--> 942\u001b[1;33m             \u001b[1;32mreturn\u001b[0m \u001b[0mself\u001b[0m\u001b[1;33m.\u001b[0m\u001b[0m_get_value\u001b[0m\u001b[1;33m(\u001b[0m\u001b[0mkey\u001b[0m\u001b[1;33m)\u001b[0m\u001b[1;33m\u001b[0m\u001b[1;33m\u001b[0m\u001b[0m\n\u001b[0m\u001b[0;32m    943\u001b[0m \u001b[1;33m\u001b[0m\u001b[0m\n\u001b[0;32m    944\u001b[0m         \u001b[1;32mif\u001b[0m \u001b[0mis_hashable\u001b[0m\u001b[1;33m(\u001b[0m\u001b[0mkey\u001b[0m\u001b[1;33m)\u001b[0m\u001b[1;33m:\u001b[0m\u001b[1;33m\u001b[0m\u001b[1;33m\u001b[0m\u001b[0m\n",
      "\u001b[1;32m~\\miniconda3\\envs\\ssda\\lib\\site-packages\\pandas\\core\\series.py\u001b[0m in \u001b[0;36m_get_value\u001b[1;34m(self, label, takeable)\u001b[0m\n\u001b[0;32m   1049\u001b[0m \u001b[1;33m\u001b[0m\u001b[0m\n\u001b[0;32m   1050\u001b[0m         \u001b[1;31m# Similar to Index.get_value, but we do not fall back to positional\u001b[0m\u001b[1;33m\u001b[0m\u001b[1;33m\u001b[0m\u001b[1;33m\u001b[0m\u001b[0m\n\u001b[1;32m-> 1051\u001b[1;33m         \u001b[0mloc\u001b[0m \u001b[1;33m=\u001b[0m \u001b[0mself\u001b[0m\u001b[1;33m.\u001b[0m\u001b[0mindex\u001b[0m\u001b[1;33m.\u001b[0m\u001b[0mget_loc\u001b[0m\u001b[1;33m(\u001b[0m\u001b[0mlabel\u001b[0m\u001b[1;33m)\u001b[0m\u001b[1;33m\u001b[0m\u001b[1;33m\u001b[0m\u001b[0m\n\u001b[0m\u001b[0;32m   1052\u001b[0m         \u001b[1;32mreturn\u001b[0m \u001b[0mself\u001b[0m\u001b[1;33m.\u001b[0m\u001b[0mindex\u001b[0m\u001b[1;33m.\u001b[0m\u001b[0m_get_values_for_loc\u001b[0m\u001b[1;33m(\u001b[0m\u001b[0mself\u001b[0m\u001b[1;33m,\u001b[0m \u001b[0mloc\u001b[0m\u001b[1;33m,\u001b[0m \u001b[0mlabel\u001b[0m\u001b[1;33m)\u001b[0m\u001b[1;33m\u001b[0m\u001b[1;33m\u001b[0m\u001b[0m\n\u001b[0;32m   1053\u001b[0m \u001b[1;33m\u001b[0m\u001b[0m\n",
      "\u001b[1;32m~\\miniconda3\\envs\\ssda\\lib\\site-packages\\pandas\\core\\indexes\\range.py\u001b[0m in \u001b[0;36mget_loc\u001b[1;34m(self, key, method, tolerance)\u001b[0m\n\u001b[0;32m    385\u001b[0m                     \u001b[1;32mreturn\u001b[0m \u001b[0mself\u001b[0m\u001b[1;33m.\u001b[0m\u001b[0m_range\u001b[0m\u001b[1;33m.\u001b[0m\u001b[0mindex\u001b[0m\u001b[1;33m(\u001b[0m\u001b[0mnew_key\u001b[0m\u001b[1;33m)\u001b[0m\u001b[1;33m\u001b[0m\u001b[1;33m\u001b[0m\u001b[0m\n\u001b[0;32m    386\u001b[0m                 \u001b[1;32mexcept\u001b[0m \u001b[0mValueError\u001b[0m \u001b[1;32mas\u001b[0m \u001b[0merr\u001b[0m\u001b[1;33m:\u001b[0m\u001b[1;33m\u001b[0m\u001b[1;33m\u001b[0m\u001b[0m\n\u001b[1;32m--> 387\u001b[1;33m                     \u001b[1;32mraise\u001b[0m \u001b[0mKeyError\u001b[0m\u001b[1;33m(\u001b[0m\u001b[0mkey\u001b[0m\u001b[1;33m)\u001b[0m \u001b[1;32mfrom\u001b[0m \u001b[0merr\u001b[0m\u001b[1;33m\u001b[0m\u001b[1;33m\u001b[0m\u001b[0m\n\u001b[0m\u001b[0;32m    388\u001b[0m             \u001b[1;32mraise\u001b[0m \u001b[0mKeyError\u001b[0m\u001b[1;33m(\u001b[0m\u001b[0mkey\u001b[0m\u001b[1;33m)\u001b[0m\u001b[1;33m\u001b[0m\u001b[1;33m\u001b[0m\u001b[0m\n\u001b[0;32m    389\u001b[0m         \u001b[1;32mreturn\u001b[0m \u001b[0msuper\u001b[0m\u001b[1;33m(\u001b[0m\u001b[1;33m)\u001b[0m\u001b[1;33m.\u001b[0m\u001b[0mget_loc\u001b[0m\u001b[1;33m(\u001b[0m\u001b[0mkey\u001b[0m\u001b[1;33m,\u001b[0m \u001b[0mmethod\u001b[0m\u001b[1;33m=\u001b[0m\u001b[0mmethod\u001b[0m\u001b[1;33m,\u001b[0m \u001b[0mtolerance\u001b[0m\u001b[1;33m=\u001b[0m\u001b[0mtolerance\u001b[0m\u001b[1;33m)\u001b[0m\u001b[1;33m\u001b[0m\u001b[1;33m\u001b[0m\u001b[0m\n",
      "\u001b[1;31mKeyError\u001b[0m: 11"
     ]
    }
   ],
   "source": [
    "#no_test\n",
    "\n",
    "#row names: people, places, events, json_path, entities, noCategory, validation_list\n",
    "num_rows = 7\n",
    "cols = np.zeros((num_rows,1))\n",
    "\n",
    "path = 'models/75'\n",
    "best_model_path = path + r\"/\" + \"best_meta_model\"\n",
    "\n",
    "#\"transcriptions\\\\15834.xml\", \"models/15834\"\n",
    "my_trans = \"transcriptions\\\\15834.xml\"\n",
    "my_dir = best_model_path\n",
    "people, places, events, json_path, entities, noCategory, validation_list = process_volume(my_trans, my_dir)\n",
    "print(\"--------------------------------------\")"
   ]
  },
  {
   "cell_type": "code",
   "execution_count": null,
   "id": "a92b8885",
   "metadata": {},
   "outputs": [],
   "source": [
    "#no_test\n",
    "val_vis_bar(validation_list)"
   ]
  },
  {
   "cell_type": "code",
   "execution_count": 3,
   "id": "c6f92104",
   "metadata": {},
   "outputs": [
    {
     "name": "stdout",
     "output_type": "stream",
     "text": [
      "Converted 12-ssda-xml-parser.ipynb.\n",
      "Converted 31-collate-xml-entities-spans.ipynb.\n",
      "Converted 33-split-data.ipynb.\n",
      "Converted 41-generic-framework-for-spacy-training.ipynb.\n",
      "Converted 42-initial-model.ipynb.\n",
      "Converted 51-data-preprocessing.ipynb.\n",
      "Converted 52-unstructured-to-markup.ipynb.\n",
      "Converted 53-markup-to-spatial-historian.ipynb.\n",
      "Converted 54-utility-functions.ipynb.\n",
      "Converted 61-prodigy-output-training-demo.ipynb.\n",
      "Converted 62-full-model-application-demo.ipynb.\n",
      "Converted 63-pt-model-training.ipynb.\n",
      "Converted 64-es-model-training.ipynb.\n",
      "Converted 65-all-annotations-model-training.ipynb.\n",
      "Converted 66-es-guatemala-model-training.ipynb.\n",
      "Converted 67-death-and-birth-records-together.ipynb.\n",
      "Converted 70-exhaustive-training.ipynb.\n",
      "Converted 71-relationship-builder.ipynb.\n",
      "Converted 72-full-volume-processor.ipynb.\n",
      "Converted 73-table-output.ipynb.\n",
      "Converted 74-validation-visuals.ipynb.\n",
      "Converted 75-meta-model.ipynb.\n",
      "Converted 76-val-check-verif.ipynb.\n"
     ]
    }
   ],
   "source": [
    "#no_test\n",
    "from nbdev.export import notebook2script\n",
    "notebook2script();"
   ]
  },
  {
   "cell_type": "code",
   "execution_count": null,
   "id": "d6dba943",
   "metadata": {},
   "outputs": [],
   "source": []
  }
 ],
 "metadata": {
  "kernelspec": {
   "display_name": "Python 3 (ipykernel)",
   "language": "python",
   "name": "python3"
  },
  "language_info": {
   "codemirror_mode": {
    "name": "ipython",
    "version": 3
   },
   "file_extension": ".py",
   "mimetype": "text/x-python",
   "name": "python",
   "nbconvert_exporter": "python",
   "pygments_lexer": "ipython3",
   "version": "3.7.10"
  }
 },
 "nbformat": 4,
 "nbformat_minor": 5
}
