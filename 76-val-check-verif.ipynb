{
 "cells": [
  {
   "cell_type": "markdown",
   "id": "0b53529e",
   "metadata": {},
   "source": [
    "> __Purpose__: The purpose of this notebook is to take the best meta model from NB75, then test it on unseen data, and use this to determine the performance of how the validation checks are perfomring (e.g. are the validation checks working as expected)."
   ]
  },
  {
   "cell_type": "code",
   "execution_count": null,
   "id": "90cb378e",
   "metadata": {},
   "outputs": [],
   "source": [
    "#no_test\n",
    "\n",
    "#data structure imports\n",
    "import pandas as pd\n",
    "import numpy as np\n",
    "import matplotlib.pyplot as plt\n",
    "import spacy\n",
    "from os import listdir\n",
    "\n",
    "#python imports\n",
    "import random\n",
    "\n",
    "#modeling imports\n",
    "from spacy.util import fix_random_seed\n",
    "from ssda_nlp.collate import *\n",
    "from ssda_nlp.split_data import *\n",
    "from ssda_nlp.modeling import *\n",
    "from ssda_nlp.preprocessing import *\n",
    "from ssda_nlp.model_performance_utils import *\n",
    "from ssda_nlp.utility import *\n",
    "\n",
    "#if you want the same model everytime:\n",
    "seed = 2436\n",
    "random.seed(seed)\n",
    "fix_random_seed(seed)"
   ]
  },
  {
   "cell_type": "markdown",
   "id": "d3a1f25a",
   "metadata": {},
   "source": [
    "## From NB 74\n",
    "- Update to best meta model. Doesn't need to rotate through multiple models"
   ]
  },
  {
   "cell_type": "code",
   "execution_count": null,
   "id": "a6107e89",
   "metadata": {},
   "outputs": [],
   "source": [
    "#no_test\n",
    "\n",
    "models_list = [\"15834\", \"166470\", \"239746\"] #\"exhaustive_models\", \"mat_baut_1\", \"port01\", \"st_aug_bapt_2\"]\n",
    "models_list.reverse()\n",
    "#row names: people, places, events, json_path, entities, noCategory, validation_list\n",
    "num_rows = 7\n",
    "num_models = len(models_list)\n",
    "cols = np.zeros((num_rows,num_models))\n",
    "\n",
    "for idx, modelTemp in enumerate(models_list):\n",
    "    #\"transcriptions\\\\15834.xml\", \"models/15834\"\n",
    "    print(modelTemp)\n",
    "    my_trans = \"transcriptions\\\\\" + str(modelTemp) + \".xml\"\n",
    "    my_dir = \"models/\" + str(modelTemp)\n",
    "    people, places, events, json_path, entities, noCategory, validation_list = process_volume(my_trans, my_dir)\n",
    "    print(\"--------------------------------------\")\n",
    "    val_vis_bar(validation_list)"
   ]
  }
 ],
 "metadata": {
  "kernelspec": {
   "display_name": "Python 3 (ipykernel)",
   "language": "python",
   "name": "python3"
  },
  "language_info": {
   "codemirror_mode": {
    "name": "ipython",
    "version": 3
   },
   "file_extension": ".py",
   "mimetype": "text/x-python",
   "name": "python",
   "nbconvert_exporter": "python",
   "pygments_lexer": "ipython3",
   "version": "3.7.10"
  }
 },
 "nbformat": 4,
 "nbformat_minor": 5
}
