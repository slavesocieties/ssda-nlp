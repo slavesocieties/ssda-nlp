{
 "cells": [
  {
   "cell_type": "markdown",
   "id": "0b53529e",
   "metadata": {},
   "source": [
    "> __Purpose__: The purpose of this notebook is to take the best meta model from NB75, then test it on unseen data, and use this to determine the performance of how the validation checks are perfomring (e.g. are the validation checks working as expected)."
   ]
  },
  {
   "cell_type": "code",
   "execution_count": null,
   "id": "90cb378e",
   "metadata": {},
   "outputs": [],
   "source": []
  }
 ],
 "metadata": {
  "kernelspec": {
   "display_name": "Python 3 (ipykernel)",
   "language": "python",
   "name": "python3"
  },
  "language_info": {
   "codemirror_mode": {
    "name": "ipython",
    "version": 3
   },
   "file_extension": ".py",
   "mimetype": "text/x-python",
   "name": "python",
   "nbconvert_exporter": "python",
   "pygments_lexer": "ipython3",
   "version": "3.7.10"
  }
 },
 "nbformat": 4,
 "nbformat_minor": 5
}
