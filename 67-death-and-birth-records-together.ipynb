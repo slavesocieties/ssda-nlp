{
 "cells": [
  {
   "cell_type": "code",
   "execution_count": null,
   "metadata": {},
   "outputs": [],
   "source": [
    "#default_exp death_and_birth_records_model_training"
   ]
  },
  {
   "cell_type": "code",
   "execution_count": null,
   "metadata": {},
   "outputs": [],
   "source": [
    "#no_test\n",
    "\n",
    "#data structure imports\n",
    "import pandas as pd\n",
    "import numpy as np\n",
    "import spacy\n",
    "\n",
    "\n",
    "#python imports\n",
    "import random\n",
    "\n",
    "\n",
    "#modeling imports\n",
    "from spacy.util import fix_random_seed\n",
    "from ssda_nlp.collate import *\n",
    "from ssda_nlp.split_data import *\n",
    "from ssda_nlp.modeling import *\n",
    "from ssda_nlp.preprocessing import *\n",
    "from ssda_nlp.model_performance_utils import *"
   ]
  },
  {
   "cell_type": "code",
   "execution_count": null,
   "metadata": {},
   "outputs": [],
   "source": [
    "#no_test\n",
    "seed = 2436\n",
    "random.seed(seed)\n",
    "fix_random_seed(seed)"
   ]
  },
  {
   "cell_type": "code",
   "execution_count": null,
   "metadata": {},
   "outputs": [
    {
     "data": {
      "text/html": [
       "<div>\n",
       "<style scoped>\n",
       "    .dataframe tbody tr th:only-of-type {\n",
       "        vertical-align: middle;\n",
       "    }\n",
       "\n",
       "    .dataframe tbody tr th {\n",
       "        vertical-align: top;\n",
       "    }\n",
       "\n",
       "    .dataframe thead th {\n",
       "        text-align: right;\n",
       "    }\n",
       "</style>\n",
       "<table border=\"1\" class=\"dataframe\">\n",
       "  <thead>\n",
       "    <tr style=\"text-align: right;\">\n",
       "      <th></th>\n",
       "      <th>entry_no</th>\n",
       "      <th>text</th>\n",
       "      <th>entity</th>\n",
       "      <th>start</th>\n",
       "      <th>end</th>\n",
       "      <th>label</th>\n",
       "    </tr>\n",
       "  </thead>\n",
       "  <tbody>\n",
       "    <tr>\n",
       "      <th>0</th>\n",
       "      <td>1</td>\n",
       "      <td>[margin]: Manoel. Aos vinte e quatro dias do m...</td>\n",
       "      <td>Manoel</td>\n",
       "      <td>10</td>\n",
       "      <td>16</td>\n",
       "      <td>PERSON</td>\n",
       "    </tr>\n",
       "    <tr>\n",
       "      <th>1</th>\n",
       "      <td>1</td>\n",
       "      <td>[margin]: Manoel. Aos vinte e quatro dias do m...</td>\n",
       "      <td>vinte e quatro dias do mes de Agosto de mil e ...</td>\n",
       "      <td>22</td>\n",
       "      <td>97</td>\n",
       "      <td>DATE</td>\n",
       "    </tr>\n",
       "    <tr>\n",
       "      <th>2</th>\n",
       "      <td>1</td>\n",
       "      <td>[margin]: Manoel. Aos vinte e quatro dias do m...</td>\n",
       "      <td>Manoel</td>\n",
       "      <td>132</td>\n",
       "      <td>138</td>\n",
       "      <td>PERSON</td>\n",
       "    </tr>\n",
       "    <tr>\n",
       "      <th>3</th>\n",
       "      <td>1</td>\n",
       "      <td>[margin]: Manoel. Aos vinte e quatro dias do m...</td>\n",
       "      <td>filho</td>\n",
       "      <td>139</td>\n",
       "      <td>144</td>\n",
       "      <td>REL</td>\n",
       "    </tr>\n",
       "    <tr>\n",
       "      <th>4</th>\n",
       "      <td>1</td>\n",
       "      <td>[margin]: Manoel. Aos vinte e quatro dias do m...</td>\n",
       "      <td>alferes</td>\n",
       "      <td>149</td>\n",
       "      <td>156</td>\n",
       "      <td>CHAR</td>\n",
       "    </tr>\n",
       "    <tr>\n",
       "      <th>5</th>\n",
       "      <td>1</td>\n",
       "      <td>[margin]: Manoel. Aos vinte e quatro dias do m...</td>\n",
       "      <td>Antonio Correa Cardozo</td>\n",
       "      <td>157</td>\n",
       "      <td>179</td>\n",
       "      <td>PERSON</td>\n",
       "    </tr>\n",
       "    <tr>\n",
       "      <th>6</th>\n",
       "      <td>1</td>\n",
       "      <td>[margin]: Manoel. Aos vinte e quatro dias do m...</td>\n",
       "      <td>molher</td>\n",
       "      <td>190</td>\n",
       "      <td>196</td>\n",
       "      <td>REL</td>\n",
       "    </tr>\n",
       "    <tr>\n",
       "      <th>7</th>\n",
       "      <td>1</td>\n",
       "      <td>[margin]: Manoel. Aos vinte e quatro dias do m...</td>\n",
       "      <td>padrinhos</td>\n",
       "      <td>215</td>\n",
       "      <td>224</td>\n",
       "      <td>REL</td>\n",
       "    </tr>\n",
       "    <tr>\n",
       "      <th>8</th>\n",
       "      <td>1</td>\n",
       "      <td>[margin]: Manoel. Aos vinte e quatro dias do m...</td>\n",
       "      <td>ouvidor</td>\n",
       "      <td>227</td>\n",
       "      <td>234</td>\n",
       "      <td>CHAR</td>\n",
       "    </tr>\n",
       "    <tr>\n",
       "      <th>9</th>\n",
       "      <td>1</td>\n",
       "      <td>[margin]: Manoel. Aos vinte e quatro dias do m...</td>\n",
       "      <td>Bastião Ferras</td>\n",
       "      <td>238</td>\n",
       "      <td>252</td>\n",
       "      <td>PERSON</td>\n",
       "    </tr>\n",
       "  </tbody>\n",
       "</table>\n",
       "</div>"
      ],
      "text/plain": [
       "   entry_no                                               text  \\\n",
       "0         1  [margin]: Manoel. Aos vinte e quatro dias do m...   \n",
       "1         1  [margin]: Manoel. Aos vinte e quatro dias do m...   \n",
       "2         1  [margin]: Manoel. Aos vinte e quatro dias do m...   \n",
       "3         1  [margin]: Manoel. Aos vinte e quatro dias do m...   \n",
       "4         1  [margin]: Manoel. Aos vinte e quatro dias do m...   \n",
       "5         1  [margin]: Manoel. Aos vinte e quatro dias do m...   \n",
       "6         1  [margin]: Manoel. Aos vinte e quatro dias do m...   \n",
       "7         1  [margin]: Manoel. Aos vinte e quatro dias do m...   \n",
       "8         1  [margin]: Manoel. Aos vinte e quatro dias do m...   \n",
       "9         1  [margin]: Manoel. Aos vinte e quatro dias do m...   \n",
       "\n",
       "                                              entity  start  end   label  \n",
       "0                                             Manoel     10   16  PERSON  \n",
       "1  vinte e quatro dias do mes de Agosto de mil e ...     22   97    DATE  \n",
       "2                                             Manoel    132  138  PERSON  \n",
       "3                                              filho    139  144     REL  \n",
       "4                                            alferes    149  156    CHAR  \n",
       "5                             Antonio Correa Cardozo    157  179  PERSON  \n",
       "6                                             molher    190  196     REL  \n",
       "7                                          padrinhos    215  224     REL  \n",
       "8                                            ouvidor    227  234    CHAR  \n",
       "9                                     Bastião Ferras    238  252  PERSON  "
      ]
     },
     "execution_count": null,
     "metadata": {},
     "output_type": "execute_result"
    }
   ],
   "source": [
    "#no_test\n",
    "\n",
    "collated_df = prodigy_output_to_collated_df(\"deathandbirthdata.jsonl\")\n",
    "\n",
    "# Split data\n",
    "train_df, valid_df, test_df = split_data_grp(collated_df, prop_train = 0.7, prop_validation = 0.2, grp_var = 'entry_no', seed=seed)\n",
    "\n",
    "# Generate Spacy datasets\n",
    "train_spacy = genSpaCyInput(train_df)\n",
    "\n",
    "# Look at column names\n",
    "train_df.head(10)"
   ]
  },
  {
   "cell_type": "code",
   "execution_count": null,
   "metadata": {},
   "outputs": [
    {
     "data": {
      "text/plain": [
       "[('[margin]: Manoel. Aos vinte e quatro dias do mes de Agosto de mil e seis centos e setenta e sinco, baptizei e pus os santos oleos a Manoel filho  do alferes Antonio Correa Cardozo, e de sua molher [] da Costa forão padrinhos o ouvidor de Bastião Ferras e Maria da Silva mulher do sargento Maior Antonio Vaz. [signed]: Padre João Pereira. ',\n",
       "  {'entities': [(10, 16, 'PERSON'),\n",
       "    (22, 97, 'DATE'),\n",
       "    (132, 138, 'PERSON'),\n",
       "    (139, 144, 'REL'),\n",
       "    (149, 156, 'CHAR'),\n",
       "    (157, 179, 'PERSON'),\n",
       "    (190, 196, 'REL'),\n",
       "    (215, 224, 'REL'),\n",
       "    (227, 234, 'CHAR'),\n",
       "    (238, 252, 'PERSON'),\n",
       "    (255, 269, 'PERSON'),\n",
       "    (270, 276, 'REL'),\n",
       "    (280, 288, 'CHAR'),\n",
       "    (289, 306, 'PERSON'),\n",
       "    (318, 323, 'CHAR'),\n",
       "    (324, 336, 'PERSON')]}),\n",
       " ('[margin]: Balthezar. Aos treze do mes de janeiro da era de mil e seis centos e setenta e seis baptizei e pus os santos oleos a Balthezar filho de Manoel Gonsalves e de sua mulher Domingas de Almeida forão padrinhos o Capitam Bartholomeu [] e Francisca de Magalhães mulher de Antonio. [signed]: Vigario Padre Joãoo Pereira. ',\n",
       "  {'entities': [(10, 19, 'PER'),\n",
       "    (25, 93, 'DATE'),\n",
       "    (127, 136, 'PER'),\n",
       "    (137, 142, 'REL'),\n",
       "    (146, 162, 'PER'),\n",
       "    (172, 178, 'REL'),\n",
       "    (179, 198, 'PER'),\n",
       "    (205, 214, 'REL'),\n",
       "    (217, 224, 'CHAR'),\n",
       "    (225, 236, 'PER'),\n",
       "    (242, 264, 'PER'),\n",
       "    (275, 282, 'PER'),\n",
       "    (294, 307, 'CHAR'),\n",
       "    (308, 322, 'PER')]})]"
      ]
     },
     "execution_count": null,
     "metadata": {},
     "output_type": "execute_result"
    }
   ],
   "source": [
    "#no_test\n",
    "\n",
    "train_spacy[:2]"
   ]
  },
  {
   "cell_type": "code",
   "execution_count": null,
   "metadata": {},
   "outputs": [
    {
     "name": "stderr",
     "output_type": "stream",
     "text": [
      "C:\\Users\\paula\\anaconda3\\lib\\site-packages\\spacy\\language.py:635: UserWarning: [W033] Training a new parser or NER using a model with no lexeme normalization table. This may degrade the performance of the model to some degree. If this is intentional or the language you're using doesn't have a normalization table, please ignore this warning. If this is surprising, make sure you have the spacy-lookups-data package installed. The languages with lexeme normalization tables are currently: da, de, el, en, id, lb, pt, ru, sr, ta, th.\n",
      "  proc.begin_training(\n"
     ]
    },
    {
     "data": {
      "text/html": [
       "<div>\n",
       "<style scoped>\n",
       "    .dataframe tbody tr th:only-of-type {\n",
       "        vertical-align: middle;\n",
       "    }\n",
       "\n",
       "    .dataframe tbody tr th {\n",
       "        vertical-align: top;\n",
       "    }\n",
       "\n",
       "    .dataframe thead th {\n",
       "        text-align: right;\n",
       "    }\n",
       "</style>\n",
       "<table border=\"1\" class=\"dataframe\">\n",
       "  <thead>\n",
       "    <tr style=\"text-align: right;\">\n",
       "      <th></th>\n",
       "      <th>cycle_no</th>\n",
       "      <th>avg_cycle_loss</th>\n",
       "      <th>precision</th>\n",
       "      <th>recall</th>\n",
       "      <th>f_score</th>\n",
       "    </tr>\n",
       "  </thead>\n",
       "  <tbody>\n",
       "    <tr>\n",
       "      <th>0</th>\n",
       "      <td>1.0</td>\n",
       "      <td>7961.686503</td>\n",
       "      <td>54.580897</td>\n",
       "      <td>48.951049</td>\n",
       "      <td>51.612903</td>\n",
       "    </tr>\n",
       "  </tbody>\n",
       "</table>\n",
       "</div>"
      ],
      "text/plain": [
       "   cycle_no  avg_cycle_loss  precision     recall    f_score\n",
       "0       1.0     7961.686503  54.580897  48.951049  51.612903"
      ]
     },
     "metadata": {},
     "output_type": "display_data"
    },
    {
     "name": "stdout",
     "output_type": "stream",
     "text": [
      "Saved model to models\\death_birth_data_01\n"
     ]
    },
    {
     "data": {
      "text/html": [
       "<div>\n",
       "<style scoped>\n",
       "    .dataframe tbody tr th:only-of-type {\n",
       "        vertical-align: middle;\n",
       "    }\n",
       "\n",
       "    .dataframe tbody tr th {\n",
       "        vertical-align: top;\n",
       "    }\n",
       "\n",
       "    .dataframe thead th {\n",
       "        text-align: right;\n",
       "    }\n",
       "</style>\n",
       "<table border=\"1\" class=\"dataframe\">\n",
       "  <thead>\n",
       "    <tr style=\"text-align: right;\">\n",
       "      <th></th>\n",
       "      <th>cycle_no</th>\n",
       "      <th>avg_cycle_loss</th>\n",
       "      <th>precision</th>\n",
       "      <th>recall</th>\n",
       "      <th>f_score</th>\n",
       "    </tr>\n",
       "  </thead>\n",
       "  <tbody>\n",
       "    <tr>\n",
       "      <th>0</th>\n",
       "      <td>2.0</td>\n",
       "      <td>7309.038461</td>\n",
       "      <td>69.237918</td>\n",
       "      <td>65.122378</td>\n",
       "      <td>67.117117</td>\n",
       "    </tr>\n",
       "  </tbody>\n",
       "</table>\n",
       "</div>"
      ],
      "text/plain": [
       "   cycle_no  avg_cycle_loss  precision     recall    f_score\n",
       "0       2.0     7309.038461  69.237918  65.122378  67.117117"
      ]
     },
     "metadata": {},
     "output_type": "display_data"
    },
    {
     "name": "stdout",
     "output_type": "stream",
     "text": [
      "Saved model to models\\death_birth_data_01\n"
     ]
    },
    {
     "data": {
      "text/html": [
       "<div>\n",
       "<style scoped>\n",
       "    .dataframe tbody tr th:only-of-type {\n",
       "        vertical-align: middle;\n",
       "    }\n",
       "\n",
       "    .dataframe tbody tr th {\n",
       "        vertical-align: top;\n",
       "    }\n",
       "\n",
       "    .dataframe thead th {\n",
       "        text-align: right;\n",
       "    }\n",
       "</style>\n",
       "<table border=\"1\" class=\"dataframe\">\n",
       "  <thead>\n",
       "    <tr style=\"text-align: right;\">\n",
       "      <th></th>\n",
       "      <th>cycle_no</th>\n",
       "      <th>avg_cycle_loss</th>\n",
       "      <th>precision</th>\n",
       "      <th>recall</th>\n",
       "      <th>f_score</th>\n",
       "    </tr>\n",
       "  </thead>\n",
       "  <tbody>\n",
       "    <tr>\n",
       "      <th>0</th>\n",
       "      <td>3.0</td>\n",
       "      <td>5421.983138</td>\n",
       "      <td>74.887082</td>\n",
       "      <td>72.465035</td>\n",
       "      <td>73.656153</td>\n",
       "    </tr>\n",
       "  </tbody>\n",
       "</table>\n",
       "</div>"
      ],
      "text/plain": [
       "   cycle_no  avg_cycle_loss  precision     recall    f_score\n",
       "0       3.0     5421.983138  74.887082  72.465035  73.656153"
      ]
     },
     "metadata": {},
     "output_type": "display_data"
    },
    {
     "name": "stdout",
     "output_type": "stream",
     "text": [
      "Saved model to models\\death_birth_data_01\n"
     ]
    },
    {
     "data": {
      "text/html": [
       "<div>\n",
       "<style scoped>\n",
       "    .dataframe tbody tr th:only-of-type {\n",
       "        vertical-align: middle;\n",
       "    }\n",
       "\n",
       "    .dataframe tbody tr th {\n",
       "        vertical-align: top;\n",
       "    }\n",
       "\n",
       "    .dataframe thead th {\n",
       "        text-align: right;\n",
       "    }\n",
       "</style>\n",
       "<table border=\"1\" class=\"dataframe\">\n",
       "  <thead>\n",
       "    <tr style=\"text-align: right;\">\n",
       "      <th></th>\n",
       "      <th>cycle_no</th>\n",
       "      <th>avg_cycle_loss</th>\n",
       "      <th>precision</th>\n",
       "      <th>recall</th>\n",
       "      <th>f_score</th>\n",
       "    </tr>\n",
       "  </thead>\n",
       "  <tbody>\n",
       "    <tr>\n",
       "      <th>0</th>\n",
       "      <td>4.0</td>\n",
       "      <td>3730.219386</td>\n",
       "      <td>82.09607</td>\n",
       "      <td>82.167832</td>\n",
       "      <td>82.131935</td>\n",
       "    </tr>\n",
       "  </tbody>\n",
       "</table>\n",
       "</div>"
      ],
      "text/plain": [
       "   cycle_no  avg_cycle_loss  precision     recall    f_score\n",
       "0       4.0     3730.219386   82.09607  82.167832  82.131935"
      ]
     },
     "metadata": {},
     "output_type": "display_data"
    },
    {
     "name": "stdout",
     "output_type": "stream",
     "text": [
      "Saved model to models\\death_birth_data_01\n"
     ]
    },
    {
     "data": {
      "text/html": [
       "<div>\n",
       "<style scoped>\n",
       "    .dataframe tbody tr th:only-of-type {\n",
       "        vertical-align: middle;\n",
       "    }\n",
       "\n",
       "    .dataframe tbody tr th {\n",
       "        vertical-align: top;\n",
       "    }\n",
       "\n",
       "    .dataframe thead th {\n",
       "        text-align: right;\n",
       "    }\n",
       "</style>\n",
       "<table border=\"1\" class=\"dataframe\">\n",
       "  <thead>\n",
       "    <tr style=\"text-align: right;\">\n",
       "      <th></th>\n",
       "      <th>cycle_no</th>\n",
       "      <th>avg_cycle_loss</th>\n",
       "      <th>precision</th>\n",
       "      <th>recall</th>\n",
       "      <th>f_score</th>\n",
       "    </tr>\n",
       "  </thead>\n",
       "  <tbody>\n",
       "    <tr>\n",
       "      <th>0</th>\n",
       "      <td>5.0</td>\n",
       "      <td>2850.744741</td>\n",
       "      <td>83.989501</td>\n",
       "      <td>83.916084</td>\n",
       "      <td>83.952777</td>\n",
       "    </tr>\n",
       "  </tbody>\n",
       "</table>\n",
       "</div>"
      ],
      "text/plain": [
       "   cycle_no  avg_cycle_loss  precision     recall    f_score\n",
       "0       5.0     2850.744741  83.989501  83.916084  83.952777"
      ]
     },
     "metadata": {},
     "output_type": "display_data"
    },
    {
     "name": "stdout",
     "output_type": "stream",
     "text": [
      "Saved model to models\\death_birth_data_01\n"
     ]
    },
    {
     "data": {
      "text/html": [
       "<div>\n",
       "<style scoped>\n",
       "    .dataframe tbody tr th:only-of-type {\n",
       "        vertical-align: middle;\n",
       "    }\n",
       "\n",
       "    .dataframe tbody tr th {\n",
       "        vertical-align: top;\n",
       "    }\n",
       "\n",
       "    .dataframe thead th {\n",
       "        text-align: right;\n",
       "    }\n",
       "</style>\n",
       "<table border=\"1\" class=\"dataframe\">\n",
       "  <thead>\n",
       "    <tr style=\"text-align: right;\">\n",
       "      <th></th>\n",
       "      <th>cycle_no</th>\n",
       "      <th>avg_cycle_loss</th>\n",
       "      <th>precision</th>\n",
       "      <th>recall</th>\n",
       "      <th>f_score</th>\n",
       "    </tr>\n",
       "  </thead>\n",
       "  <tbody>\n",
       "    <tr>\n",
       "      <th>0</th>\n",
       "      <td>6.0</td>\n",
       "      <td>2452.109902</td>\n",
       "      <td>84.487292</td>\n",
       "      <td>84.265734</td>\n",
       "      <td>84.376368</td>\n",
       "    </tr>\n",
       "  </tbody>\n",
       "</table>\n",
       "</div>"
      ],
      "text/plain": [
       "   cycle_no  avg_cycle_loss  precision     recall    f_score\n",
       "0       6.0     2452.109902  84.487292  84.265734  84.376368"
      ]
     },
     "metadata": {},
     "output_type": "display_data"
    },
    {
     "name": "stdout",
     "output_type": "stream",
     "text": [
      "Saved model to models\\death_birth_data_01\n"
     ]
    },
    {
     "data": {
      "text/html": [
       "<div>\n",
       "<style scoped>\n",
       "    .dataframe tbody tr th:only-of-type {\n",
       "        vertical-align: middle;\n",
       "    }\n",
       "\n",
       "    .dataframe tbody tr th {\n",
       "        vertical-align: top;\n",
       "    }\n",
       "\n",
       "    .dataframe thead th {\n",
       "        text-align: right;\n",
       "    }\n",
       "</style>\n",
       "<table border=\"1\" class=\"dataframe\">\n",
       "  <thead>\n",
       "    <tr style=\"text-align: right;\">\n",
       "      <th></th>\n",
       "      <th>cycle_no</th>\n",
       "      <th>avg_cycle_loss</th>\n",
       "      <th>precision</th>\n",
       "      <th>recall</th>\n",
       "      <th>f_score</th>\n",
       "    </tr>\n",
       "  </thead>\n",
       "  <tbody>\n",
       "    <tr>\n",
       "      <th>0</th>\n",
       "      <td>7.0</td>\n",
       "      <td>2128.490258</td>\n",
       "      <td>84.716157</td>\n",
       "      <td>84.79021</td>\n",
       "      <td>84.753167</td>\n",
       "    </tr>\n",
       "  </tbody>\n",
       "</table>\n",
       "</div>"
      ],
      "text/plain": [
       "   cycle_no  avg_cycle_loss  precision    recall    f_score\n",
       "0       7.0     2128.490258  84.716157  84.79021  84.753167"
      ]
     },
     "metadata": {},
     "output_type": "display_data"
    },
    {
     "name": "stdout",
     "output_type": "stream",
     "text": [
      "Saved model to models\\death_birth_data_01\n"
     ]
    },
    {
     "data": {
      "text/html": [
       "<div>\n",
       "<style scoped>\n",
       "    .dataframe tbody tr th:only-of-type {\n",
       "        vertical-align: middle;\n",
       "    }\n",
       "\n",
       "    .dataframe tbody tr th {\n",
       "        vertical-align: top;\n",
       "    }\n",
       "\n",
       "    .dataframe thead th {\n",
       "        text-align: right;\n",
       "    }\n",
       "</style>\n",
       "<table border=\"1\" class=\"dataframe\">\n",
       "  <thead>\n",
       "    <tr style=\"text-align: right;\">\n",
       "      <th></th>\n",
       "      <th>cycle_no</th>\n",
       "      <th>avg_cycle_loss</th>\n",
       "      <th>precision</th>\n",
       "      <th>recall</th>\n",
       "      <th>f_score</th>\n",
       "    </tr>\n",
       "  </thead>\n",
       "  <tbody>\n",
       "    <tr>\n",
       "      <th>0</th>\n",
       "      <td>8.0</td>\n",
       "      <td>1979.122549</td>\n",
       "      <td>84.588441</td>\n",
       "      <td>84.440559</td>\n",
       "      <td>84.514436</td>\n",
       "    </tr>\n",
       "  </tbody>\n",
       "</table>\n",
       "</div>"
      ],
      "text/plain": [
       "   cycle_no  avg_cycle_loss  precision     recall    f_score\n",
       "0       8.0     1979.122549  84.588441  84.440559  84.514436"
      ]
     },
     "metadata": {},
     "output_type": "display_data"
    },
    {
     "name": "stdout",
     "output_type": "stream",
     "text": [
      "Performance hasn't improved for 1 cycles...\n"
     ]
    },
    {
     "data": {
      "text/html": [
       "<div>\n",
       "<style scoped>\n",
       "    .dataframe tbody tr th:only-of-type {\n",
       "        vertical-align: middle;\n",
       "    }\n",
       "\n",
       "    .dataframe tbody tr th {\n",
       "        vertical-align: top;\n",
       "    }\n",
       "\n",
       "    .dataframe thead th {\n",
       "        text-align: right;\n",
       "    }\n",
       "</style>\n",
       "<table border=\"1\" class=\"dataframe\">\n",
       "  <thead>\n",
       "    <tr style=\"text-align: right;\">\n",
       "      <th></th>\n",
       "      <th>cycle_no</th>\n",
       "      <th>avg_cycle_loss</th>\n",
       "      <th>precision</th>\n",
       "      <th>recall</th>\n",
       "      <th>f_score</th>\n",
       "    </tr>\n",
       "  </thead>\n",
       "  <tbody>\n",
       "    <tr>\n",
       "      <th>0</th>\n",
       "      <td>9.0</td>\n",
       "      <td>1725.953724</td>\n",
       "      <td>85.48951</td>\n",
       "      <td>85.48951</td>\n",
       "      <td>85.48951</td>\n",
       "    </tr>\n",
       "  </tbody>\n",
       "</table>\n",
       "</div>"
      ],
      "text/plain": [
       "   cycle_no  avg_cycle_loss  precision    recall   f_score\n",
       "0       9.0     1725.953724   85.48951  85.48951  85.48951"
      ]
     },
     "metadata": {},
     "output_type": "display_data"
    },
    {
     "name": "stdout",
     "output_type": "stream",
     "text": [
      "Saved model to models\\death_birth_data_01\n"
     ]
    },
    {
     "data": {
      "text/html": [
       "<div>\n",
       "<style scoped>\n",
       "    .dataframe tbody tr th:only-of-type {\n",
       "        vertical-align: middle;\n",
       "    }\n",
       "\n",
       "    .dataframe tbody tr th {\n",
       "        vertical-align: top;\n",
       "    }\n",
       "\n",
       "    .dataframe thead th {\n",
       "        text-align: right;\n",
       "    }\n",
       "</style>\n",
       "<table border=\"1\" class=\"dataframe\">\n",
       "  <thead>\n",
       "    <tr style=\"text-align: right;\">\n",
       "      <th></th>\n",
       "      <th>cycle_no</th>\n",
       "      <th>avg_cycle_loss</th>\n",
       "      <th>precision</th>\n",
       "      <th>recall</th>\n",
       "      <th>f_score</th>\n",
       "    </tr>\n",
       "  </thead>\n",
       "  <tbody>\n",
       "    <tr>\n",
       "      <th>0</th>\n",
       "      <td>10.0</td>\n",
       "      <td>1658.391535</td>\n",
       "      <td>85.726795</td>\n",
       "      <td>85.576923</td>\n",
       "      <td>85.651794</td>\n",
       "    </tr>\n",
       "  </tbody>\n",
       "</table>\n",
       "</div>"
      ],
      "text/plain": [
       "   cycle_no  avg_cycle_loss  precision     recall    f_score\n",
       "0      10.0     1658.391535  85.726795  85.576923  85.651794"
      ]
     },
     "metadata": {},
     "output_type": "display_data"
    },
    {
     "name": "stdout",
     "output_type": "stream",
     "text": [
      "Saved model to models\\death_birth_data_01\n"
     ]
    },
    {
     "data": {
      "text/html": [
       "<div>\n",
       "<style scoped>\n",
       "    .dataframe tbody tr th:only-of-type {\n",
       "        vertical-align: middle;\n",
       "    }\n",
       "\n",
       "    .dataframe tbody tr th {\n",
       "        vertical-align: top;\n",
       "    }\n",
       "\n",
       "    .dataframe thead th {\n",
       "        text-align: right;\n",
       "    }\n",
       "</style>\n",
       "<table border=\"1\" class=\"dataframe\">\n",
       "  <thead>\n",
       "    <tr style=\"text-align: right;\">\n",
       "      <th></th>\n",
       "      <th>cycle_no</th>\n",
       "      <th>avg_cycle_loss</th>\n",
       "      <th>precision</th>\n",
       "      <th>recall</th>\n",
       "      <th>f_score</th>\n",
       "    </tr>\n",
       "  </thead>\n",
       "  <tbody>\n",
       "    <tr>\n",
       "      <th>0</th>\n",
       "      <td>11.0</td>\n",
       "      <td>1535.683241</td>\n",
       "      <td>85.465622</td>\n",
       "      <td>85.839161</td>\n",
       "      <td>85.651984</td>\n",
       "    </tr>\n",
       "  </tbody>\n",
       "</table>\n",
       "</div>"
      ],
      "text/plain": [
       "   cycle_no  avg_cycle_loss  precision     recall    f_score\n",
       "0      11.0     1535.683241  85.465622  85.839161  85.651984"
      ]
     },
     "metadata": {},
     "output_type": "display_data"
    },
    {
     "name": "stdout",
     "output_type": "stream",
     "text": [
      "Saved model to models\\death_birth_data_01\n"
     ]
    },
    {
     "data": {
      "text/html": [
       "<div>\n",
       "<style scoped>\n",
       "    .dataframe tbody tr th:only-of-type {\n",
       "        vertical-align: middle;\n",
       "    }\n",
       "\n",
       "    .dataframe tbody tr th {\n",
       "        vertical-align: top;\n",
       "    }\n",
       "\n",
       "    .dataframe thead th {\n",
       "        text-align: right;\n",
       "    }\n",
       "</style>\n",
       "<table border=\"1\" class=\"dataframe\">\n",
       "  <thead>\n",
       "    <tr style=\"text-align: right;\">\n",
       "      <th></th>\n",
       "      <th>cycle_no</th>\n",
       "      <th>avg_cycle_loss</th>\n",
       "      <th>precision</th>\n",
       "      <th>recall</th>\n",
       "      <th>f_score</th>\n",
       "    </tr>\n",
       "  </thead>\n",
       "  <tbody>\n",
       "    <tr>\n",
       "      <th>0</th>\n",
       "      <td>12.0</td>\n",
       "      <td>1471.738295</td>\n",
       "      <td>85.826087</td>\n",
       "      <td>86.276224</td>\n",
       "      <td>86.050567</td>\n",
       "    </tr>\n",
       "  </tbody>\n",
       "</table>\n",
       "</div>"
      ],
      "text/plain": [
       "   cycle_no  avg_cycle_loss  precision     recall    f_score\n",
       "0      12.0     1471.738295  85.826087  86.276224  86.050567"
      ]
     },
     "metadata": {},
     "output_type": "display_data"
    },
    {
     "name": "stdout",
     "output_type": "stream",
     "text": [
      "Saved model to models\\death_birth_data_01\n"
     ]
    },
    {
     "data": {
      "text/html": [
       "<div>\n",
       "<style scoped>\n",
       "    .dataframe tbody tr th:only-of-type {\n",
       "        vertical-align: middle;\n",
       "    }\n",
       "\n",
       "    .dataframe tbody tr th {\n",
       "        vertical-align: top;\n",
       "    }\n",
       "\n",
       "    .dataframe thead th {\n",
       "        text-align: right;\n",
       "    }\n",
       "</style>\n",
       "<table border=\"1\" class=\"dataframe\">\n",
       "  <thead>\n",
       "    <tr style=\"text-align: right;\">\n",
       "      <th></th>\n",
       "      <th>cycle_no</th>\n",
       "      <th>avg_cycle_loss</th>\n",
       "      <th>precision</th>\n",
       "      <th>recall</th>\n",
       "      <th>f_score</th>\n",
       "    </tr>\n",
       "  </thead>\n",
       "  <tbody>\n",
       "    <tr>\n",
       "      <th>0</th>\n",
       "      <td>13.0</td>\n",
       "      <td>1449.237483</td>\n",
       "      <td>86.918349</td>\n",
       "      <td>86.538462</td>\n",
       "      <td>86.727989</td>\n",
       "    </tr>\n",
       "  </tbody>\n",
       "</table>\n",
       "</div>"
      ],
      "text/plain": [
       "   cycle_no  avg_cycle_loss  precision     recall    f_score\n",
       "0      13.0     1449.237483  86.918349  86.538462  86.727989"
      ]
     },
     "metadata": {},
     "output_type": "display_data"
    },
    {
     "name": "stdout",
     "output_type": "stream",
     "text": [
      "Saved model to models\\death_birth_data_01\n"
     ]
    },
    {
     "data": {
      "text/html": [
       "<div>\n",
       "<style scoped>\n",
       "    .dataframe tbody tr th:only-of-type {\n",
       "        vertical-align: middle;\n",
       "    }\n",
       "\n",
       "    .dataframe tbody tr th {\n",
       "        vertical-align: top;\n",
       "    }\n",
       "\n",
       "    .dataframe thead th {\n",
       "        text-align: right;\n",
       "    }\n",
       "</style>\n",
       "<table border=\"1\" class=\"dataframe\">\n",
       "  <thead>\n",
       "    <tr style=\"text-align: right;\">\n",
       "      <th></th>\n",
       "      <th>cycle_no</th>\n",
       "      <th>avg_cycle_loss</th>\n",
       "      <th>precision</th>\n",
       "      <th>recall</th>\n",
       "      <th>f_score</th>\n",
       "    </tr>\n",
       "  </thead>\n",
       "  <tbody>\n",
       "    <tr>\n",
       "      <th>0</th>\n",
       "      <td>14.0</td>\n",
       "      <td>1365.701814</td>\n",
       "      <td>86.103782</td>\n",
       "      <td>85.576923</td>\n",
       "      <td>85.839544</td>\n",
       "    </tr>\n",
       "  </tbody>\n",
       "</table>\n",
       "</div>"
      ],
      "text/plain": [
       "   cycle_no  avg_cycle_loss  precision     recall    f_score\n",
       "0      14.0     1365.701814  86.103782  85.576923  85.839544"
      ]
     },
     "metadata": {},
     "output_type": "display_data"
    },
    {
     "name": "stdout",
     "output_type": "stream",
     "text": [
      "Performance hasn't improved for 1 cycles...\n"
     ]
    },
    {
     "data": {
      "text/html": [
       "<div>\n",
       "<style scoped>\n",
       "    .dataframe tbody tr th:only-of-type {\n",
       "        vertical-align: middle;\n",
       "    }\n",
       "\n",
       "    .dataframe tbody tr th {\n",
       "        vertical-align: top;\n",
       "    }\n",
       "\n",
       "    .dataframe thead th {\n",
       "        text-align: right;\n",
       "    }\n",
       "</style>\n",
       "<table border=\"1\" class=\"dataframe\">\n",
       "  <thead>\n",
       "    <tr style=\"text-align: right;\">\n",
       "      <th></th>\n",
       "      <th>cycle_no</th>\n",
       "      <th>avg_cycle_loss</th>\n",
       "      <th>precision</th>\n",
       "      <th>recall</th>\n",
       "      <th>f_score</th>\n",
       "    </tr>\n",
       "  </thead>\n",
       "  <tbody>\n",
       "    <tr>\n",
       "      <th>0</th>\n",
       "      <td>15.0</td>\n",
       "      <td>1309.284464</td>\n",
       "      <td>86.830553</td>\n",
       "      <td>86.451049</td>\n",
       "      <td>86.640385</td>\n",
       "    </tr>\n",
       "  </tbody>\n",
       "</table>\n",
       "</div>"
      ],
      "text/plain": [
       "   cycle_no  avg_cycle_loss  precision     recall    f_score\n",
       "0      15.0     1309.284464  86.830553  86.451049  86.640385"
      ]
     },
     "metadata": {},
     "output_type": "display_data"
    },
    {
     "name": "stdout",
     "output_type": "stream",
     "text": [
      "Performance hasn't improved for 2 cycles...\n"
     ]
    },
    {
     "data": {
      "text/html": [
       "<div>\n",
       "<style scoped>\n",
       "    .dataframe tbody tr th:only-of-type {\n",
       "        vertical-align: middle;\n",
       "    }\n",
       "\n",
       "    .dataframe tbody tr th {\n",
       "        vertical-align: top;\n",
       "    }\n",
       "\n",
       "    .dataframe thead th {\n",
       "        text-align: right;\n",
       "    }\n",
       "</style>\n",
       "<table border=\"1\" class=\"dataframe\">\n",
       "  <thead>\n",
       "    <tr style=\"text-align: right;\">\n",
       "      <th></th>\n",
       "      <th>cycle_no</th>\n",
       "      <th>avg_cycle_loss</th>\n",
       "      <th>precision</th>\n",
       "      <th>recall</th>\n",
       "      <th>f_score</th>\n",
       "    </tr>\n",
       "  </thead>\n",
       "  <tbody>\n",
       "    <tr>\n",
       "      <th>0</th>\n",
       "      <td>16.0</td>\n",
       "      <td>1257.210992</td>\n",
       "      <td>86.315789</td>\n",
       "      <td>86.013986</td>\n",
       "      <td>86.164623</td>\n",
       "    </tr>\n",
       "  </tbody>\n",
       "</table>\n",
       "</div>"
      ],
      "text/plain": [
       "   cycle_no  avg_cycle_loss  precision     recall    f_score\n",
       "0      16.0     1257.210992  86.315789  86.013986  86.164623"
      ]
     },
     "metadata": {},
     "output_type": "display_data"
    },
    {
     "name": "stdout",
     "output_type": "stream",
     "text": [
      "Performance hasn't improved for 3 cycles...\n"
     ]
    },
    {
     "data": {
      "text/html": [
       "<div>\n",
       "<style scoped>\n",
       "    .dataframe tbody tr th:only-of-type {\n",
       "        vertical-align: middle;\n",
       "    }\n",
       "\n",
       "    .dataframe tbody tr th {\n",
       "        vertical-align: top;\n",
       "    }\n",
       "\n",
       "    .dataframe thead th {\n",
       "        text-align: right;\n",
       "    }\n",
       "</style>\n",
       "<table border=\"1\" class=\"dataframe\">\n",
       "  <thead>\n",
       "    <tr style=\"text-align: right;\">\n",
       "      <th></th>\n",
       "      <th>cycle_no</th>\n",
       "      <th>avg_cycle_loss</th>\n",
       "      <th>precision</th>\n",
       "      <th>recall</th>\n",
       "      <th>f_score</th>\n",
       "    </tr>\n",
       "  </thead>\n",
       "  <tbody>\n",
       "    <tr>\n",
       "      <th>0</th>\n",
       "      <td>17.0</td>\n",
       "      <td>1263.133552</td>\n",
       "      <td>85.367965</td>\n",
       "      <td>86.188811</td>\n",
       "      <td>85.776425</td>\n",
       "    </tr>\n",
       "  </tbody>\n",
       "</table>\n",
       "</div>"
      ],
      "text/plain": [
       "   cycle_no  avg_cycle_loss  precision     recall    f_score\n",
       "0      17.0     1263.133552  85.367965  86.188811  85.776425"
      ]
     },
     "metadata": {},
     "output_type": "display_data"
    },
    {
     "name": "stdout",
     "output_type": "stream",
     "text": [
      "Performance hasn't improved for 4 cycles...\n"
     ]
    },
    {
     "data": {
      "text/html": [
       "<div>\n",
       "<style scoped>\n",
       "    .dataframe tbody tr th:only-of-type {\n",
       "        vertical-align: middle;\n",
       "    }\n",
       "\n",
       "    .dataframe tbody tr th {\n",
       "        vertical-align: top;\n",
       "    }\n",
       "\n",
       "    .dataframe thead th {\n",
       "        text-align: right;\n",
       "    }\n",
       "</style>\n",
       "<table border=\"1\" class=\"dataframe\">\n",
       "  <thead>\n",
       "    <tr style=\"text-align: right;\">\n",
       "      <th></th>\n",
       "      <th>cycle_no</th>\n",
       "      <th>avg_cycle_loss</th>\n",
       "      <th>precision</th>\n",
       "      <th>recall</th>\n",
       "      <th>f_score</th>\n",
       "    </tr>\n",
       "  </thead>\n",
       "  <tbody>\n",
       "    <tr>\n",
       "      <th>0</th>\n",
       "      <td>18.0</td>\n",
       "      <td>1164.986078</td>\n",
       "      <td>85.640138</td>\n",
       "      <td>86.538462</td>\n",
       "      <td>86.086957</td>\n",
       "    </tr>\n",
       "  </tbody>\n",
       "</table>\n",
       "</div>"
      ],
      "text/plain": [
       "   cycle_no  avg_cycle_loss  precision     recall    f_score\n",
       "0      18.0     1164.986078  85.640138  86.538462  86.086957"
      ]
     },
     "metadata": {},
     "output_type": "display_data"
    },
    {
     "name": "stdout",
     "output_type": "stream",
     "text": [
      "Performance hasn't improved for 5 cycles...\n",
      "Done training after 18 meta cycles.\n"
     ]
    }
   ],
   "source": [
    "#no_test\n",
    "\n",
    "#if you want the same model everytime:\n",
    "#random.seed(seed)\n",
    "#fix_random_seed(seed)\n",
    "\n",
    "#spacy parameters\n",
    "cping = {'start':16, 'end':32, 'cp_rate':1.05}\n",
    "solves = {'learn_rate':0.001}\n",
    "dpout = 0.6\n",
    "save_mdir = 'models/death_birth_data_01'\n",
    "\n",
    "#load model from pretrained\n",
    "nlp_model = load_model()\n",
    "\n",
    "nlp_model, perf_df = model_meta_training(nlp_model, train_spacy, valid_df, verbose=True, save_dir = save_mdir,\n",
    "                                         n_iter=10, solver_params=solves, compound_params=cping, dropout=dpout)"
   ]
  },
  {
   "cell_type": "code",
   "execution_count": null,
   "metadata": {},
   "outputs": [],
   "source": []
  }
 ],
 "metadata": {
  "kernelspec": {
   "display_name": "Python 3",
   "language": "python",
   "name": "python3"
  }
 },
 "nbformat": 4,
 "nbformat_minor": 4
}
