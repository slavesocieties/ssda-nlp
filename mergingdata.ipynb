{
 "cells": [
  {
   "cell_type": "code",
   "execution_count": null,
   "metadata": {},
   "outputs": [],
   "source": [
    "# Merging of files into a new dataset"
   ]
  },
  {
   "cell_type": "code",
   "execution_count": null,
   "metadata": {},
   "outputs": [],
   "source": []
  },
  {
   "cell_type": "code",
   "execution_count": null,
   "metadata": {},
   "outputs": [],
   "source": [
    "files_list = ['a-15834.xml', 'b-1795.xml', 'c-239746.xml', 'd-419324.xml', 'e-8186.xml', 'f-701075.xml']\n",
    "\n",
    "def new_file():\n",
    "    with open('new_file.xml', 'w', encoding = \"utf-8\") as outfile:\n",
    "        for names in files_list:\n",
    "            with open(names, encoding = \"utf-8\") as infile:\n",
    "                outfile.write(infile.read())\n",
    "            outfile.write(\"\\n\")\n",
    "new_file()\n",
    "    \n",
    "\n",
    "    "
   ]
  },
  {
   "cell_type": "code",
   "execution_count": null,
   "metadata": {},
   "outputs": [],
   "source": []
  }
 ],
 "metadata": {
  "kernelspec": {
   "display_name": "Python 3",
   "language": "python",
   "name": "python3"
  }
 },
 "nbformat": 4,
 "nbformat_minor": 4
}
