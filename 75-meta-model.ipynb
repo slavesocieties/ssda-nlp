{
 "cells": [
  {
   "cell_type": "markdown",
   "id": "98f1eab6",
   "metadata": {},
   "source": [
    "__Purpose__:\n",
    "\"I would approach that by training a \"current best meta model\" on most/all of the extant transcriptions aggregated together, then apply that to a couple of the more complete transcriptions and graph the check results to see how everything is working\"\n",
    "\n",
    "## Notes\n",
    "\n",
    "\"load_model()\" with no params fed in does not load a model, it creates a new one\n",
    "\n",
    "Hyper parameters from NB 70\n",
    "1. Dropout of 0.5\n",
    "2. Learning rate of 0.0025 (0.001?)"
   ]
  },
  {
   "cell_type": "code",
   "execution_count": null,
   "id": "758c1ab8",
   "metadata": {},
   "outputs": [],
   "source": [
    "#no_test\n",
    "\n",
    "#data structure imports\n",
    "import pandas as pd\n",
    "import numpy as np\n",
    "import matplotlib.pyplot as plt\n",
    "import spacy\n",
    "from os import listdir\n",
    "\n",
    "#python imports\n",
    "import random\n",
    "\n",
    "#modeling imports\n",
    "from spacy.util import fix_random_seed\n",
    "from ssda_nlp.collate import *\n",
    "from ssda_nlp.split_data import *\n",
    "from ssda_nlp.modeling import *\n",
    "from ssda_nlp.preprocessing import *\n",
    "from ssda_nlp.model_performance_utils import *\n",
    "from ssda_nlp.utility import *\n",
    "\n",
    "#if you want the same model everytime:\n",
    "seed = 2436\n",
    "random.seed(seed)\n",
    "fix_random_seed(seed)"
   ]
  },
  {
   "cell_type": "markdown",
   "id": "1f4dcfb1",
   "metadata": {},
   "source": [
    "## Train Various Models\n",
    "1. Train a number of models with different training data"
   ]
  },
  {
   "cell_type": "code",
   "execution_count": null,
   "id": "956b080b",
   "metadata": {},
   "outputs": [],
   "source": [
    "#no_test\n",
    "#OUTPUT MUST BE COLLATED_DF\n",
    "\n",
    "#These file paths are from the Github repo, should work on anyone's computer\n",
    "cdf1 = prodigy_output_to_collated_df(\"transcriptions/15834_annot.jsonl\")\n",
    "cdf2 = prodigy_output_to_collated_df(\"transcriptions/239746_annot.jsonl\")\n",
    "cdf3 = prodigy_output_to_collated_df(\"transcriptions/419324_annot.jsonl\")\n",
    "cdf4 = prodigy_output_to_collated_df(\"transcriptions/701075_annot.jsonl\")\n",
    "cdf5 = prodigy_output_to_collated_df(\"transcriptions/guatemala.annotations.jsonl\")\n",
    "\n",
    "full_collated_df = cdf1.append(cdf2).append(cdf3).append(cdf4).append(cdf5)\n",
    "assert full_collated_df.shape[0] == (cdf1.shape[0] + cdf2.shape[0] + cdf3.shape[0] + cdf4.shape[0] + cdf5.shape[0])\n",
    "\n",
    "full_collated_df = full_collated_df.sample(frac = 1)\n",
    "cdf80 = full_collated_df.sample(frac = 0.8)\n",
    "\n",
    "my_cdfs = [cdf1, cdf2, cdf3, cdf4, cdf5, cdf80]"
   ]
  },
  {
   "cell_type": "code",
   "execution_count": null,
   "id": "ca7ea8e3",
   "metadata": {},
   "outputs": [
    {
     "data": {
      "text/plain": [
       "'Successful run'"
      ]
     },
     "metadata": {},
     "output_type": "display_data"
    }
   ],
   "source": [
    "#no_test\n",
    "\n",
    "#for training_data in training_log_LanCDS2:\n",
    "cping = {'start':16, 'end':32, 'cp_rate':1.05}\n",
    "solves = {'learn_rate':0.001}\n",
    "dpout = 0.5\n",
    "\n",
    "for idx, cdf in enumerate(my_cdfs):\n",
    "    # Already trained them so just ignore this unless you want to retrain\n",
    "    \"\"\"\n",
    "    save_mdir = \"models/75/\" + str(idx)\n",
    "    \n",
    "    train_df, valid_df, test_df = split_data_grp(cdf, prop_train = 0.7, prop_validation = 0.2, grp_var = 'entry_no', seed=seed)\n",
    "    # Generate Spacy datasets\n",
    "    training_data = genSpaCyInput(train_df)\n",
    "\n",
    "    #load model from pretrained\n",
    "    nlp_model = load_model()\n",
    "    nlp_model, perf_df = model_meta_training(nlp_model, training_data, valid_df, verbose=True, save_dir = save_mdir,\n",
    "                                             n_iter=10, solver_params=solves, compound_params=cping, dropout=dpout)\n",
    "    display(perf_df.head(10))\n",
    "    \"\"\"\n",
    "\n",
    "display('Successful run')"
   ]
  },
  {
   "cell_type": "markdown",
   "id": "44d04d54",
   "metadata": {},
   "source": [
    "## Test The Above Models\n",
    "1. Determine the best meta-model: winner take all\n",
    "- test_model(nlp_model, testing_df, id_colname, text_colname, score_model=True)"
   ]
  },
  {
   "cell_type": "code",
   "execution_count": 4,
   "id": "1b4184a1",
   "metadata": {},
   "outputs": [
    {
     "data": {
      "text/html": [
       "<div>\n",
       "<style scoped>\n",
       "    .dataframe tbody tr th:only-of-type {\n",
       "        vertical-align: middle;\n",
       "    }\n",
       "\n",
       "    .dataframe tbody tr th {\n",
       "        vertical-align: top;\n",
       "    }\n",
       "\n",
       "    .dataframe thead th {\n",
       "        text-align: right;\n",
       "    }\n",
       "</style>\n",
       "<table border=\"1\" class=\"dataframe\">\n",
       "  <thead>\n",
       "    <tr style=\"text-align: right;\">\n",
       "      <th></th>\n",
       "      <th>entry_no</th>\n",
       "      <th>text</th>\n",
       "      <th>entity</th>\n",
       "      <th>start</th>\n",
       "      <th>end</th>\n",
       "      <th>label</th>\n",
       "    </tr>\n",
       "  </thead>\n",
       "  <tbody>\n",
       "    <tr>\n",
       "      <th>855</th>\n",
       "      <td>64</td>\n",
       "      <td>[margin]: Simiana. Aos doze dias do mes de Jan...</td>\n",
       "      <td>Joam Pimenta</td>\n",
       "      <td>115</td>\n",
       "      <td>127</td>\n",
       "      <td>PER</td>\n",
       "    </tr>\n",
       "    <tr>\n",
       "      <th>1376</th>\n",
       "      <td>108</td>\n",
       "      <td>[margin]: Joam. Em o primeiro dia de junho de ...</td>\n",
       "      <td>Joam</td>\n",
       "      <td>10</td>\n",
       "      <td>14</td>\n",
       "      <td>PER</td>\n",
       "    </tr>\n",
       "    <tr>\n",
       "      <th>2370</th>\n",
       "      <td>175</td>\n",
       "      <td>[margin]: Natalia. Ao primeiro dia do mes de j...</td>\n",
       "      <td>primeiro dia do mes de janeiro de 1696</td>\n",
       "      <td>22</td>\n",
       "      <td>60</td>\n",
       "      <td>DATE</td>\n",
       "    </tr>\n",
       "    <tr>\n",
       "      <th>1906</th>\n",
       "      <td>148</td>\n",
       "      <td>[margin]: Agueda. Aos treze dias do mes de jul...</td>\n",
       "      <td>Faustino Correa</td>\n",
       "      <td>141</td>\n",
       "      <td>156</td>\n",
       "      <td>PER</td>\n",
       "    </tr>\n",
       "    <tr>\n",
       "      <th>333</th>\n",
       "      <td>12</td>\n",
       "      <td>Eusebio Joseph Ramon Guadara Martes, día cinco...</td>\n",
       "      <td>padrinos</td>\n",
       "      <td>604</td>\n",
       "      <td>612</td>\n",
       "      <td>REL</td>\n",
       "    </tr>\n",
       "  </tbody>\n",
       "</table>\n",
       "</div>"
      ],
      "text/plain": [
       "      entry_no                                               text  \\\n",
       "855         64  [margin]: Simiana. Aos doze dias do mes de Jan...   \n",
       "1376       108  [margin]: Joam. Em o primeiro dia de junho de ...   \n",
       "2370       175  [margin]: Natalia. Ao primeiro dia do mes de j...   \n",
       "1906       148  [margin]: Agueda. Aos treze dias do mes de jul...   \n",
       "333         12  Eusebio Joseph Ramon Guadara Martes, día cinco...   \n",
       "\n",
       "                                      entity  start  end label  \n",
       "855                             Joam Pimenta    115  127   PER  \n",
       "1376                                    Joam     10   14   PER  \n",
       "2370  primeiro dia do mes de janeiro de 1696     22   60  DATE  \n",
       "1906                         Faustino Correa    141  156   PER  \n",
       "333                                 padrinos    604  612   REL  "
      ]
     },
     "execution_count": 4,
     "metadata": {},
     "output_type": "execute_result"
    }
   ],
   "source": [
    "full_collated_df.head()"
   ]
  },
  {
   "cell_type": "code",
   "execution_count": 11,
   "id": "55a12a3b",
   "metadata": {},
   "outputs": [
    {
     "name": "stdout",
     "output_type": "stream",
     "text": [
      "Loaded model 'models/75/0'\n"
     ]
    },
    {
     "name": "stderr",
     "output_type": "stream",
     "text": [
      "C:\\Users\\kdmen\\miniconda3\\envs\\ssda\\lib\\site-packages\\spacy\\training\\iob_utils.py:144: UserWarning: [W030] Some entities could not be aligned in the text \"[margin]: Fran.co esc.o Domingo dos de Marco de mi...\" with entities \"[(10, 17, 'PER'), (234, 258, 'PER'), (221, 225, 'C...\". Use `spacy.training.offsets_to_biluo_tags(nlp.make_doc(text), entities)` to check the alignment. Misaligned entities ('-') will be ignored during training.\n",
      "  entities=ent_str[:50] + \"...\" if len(ent_str) > 50 else ent_str,\n"
     ]
    },
    {
     "name": "stdout",
     "output_type": "stream",
     "text": [
      "\n",
      "Overall performance:\n"
     ]
    },
    {
     "data": {
      "text/html": [
       "<div>\n",
       "<style scoped>\n",
       "    .dataframe tbody tr th:only-of-type {\n",
       "        vertical-align: middle;\n",
       "    }\n",
       "\n",
       "    .dataframe tbody tr th {\n",
       "        vertical-align: top;\n",
       "    }\n",
       "\n",
       "    .dataframe thead th {\n",
       "        text-align: right;\n",
       "    }\n",
       "</style>\n",
       "<table border=\"1\" class=\"dataframe\">\n",
       "  <thead>\n",
       "    <tr style=\"text-align: right;\">\n",
       "      <th></th>\n",
       "      <th>precision</th>\n",
       "      <th>recall</th>\n",
       "      <th>f_score</th>\n",
       "    </tr>\n",
       "  </thead>\n",
       "  <tbody>\n",
       "    <tr>\n",
       "      <th>0</th>\n",
       "      <td>52.682345</td>\n",
       "      <td>44.843173</td>\n",
       "      <td>48.4477</td>\n",
       "    </tr>\n",
       "  </tbody>\n",
       "</table>\n",
       "</div>"
      ],
      "text/plain": [
       "   precision     recall  f_score\n",
       "0  52.682345  44.843173  48.4477"
      ]
     },
     "metadata": {},
     "output_type": "display_data"
    },
    {
     "name": "stdout",
     "output_type": "stream",
     "text": [
      "\n",
      "Entity-specific performance:\n"
     ]
    },
    {
     "data": {
      "text/html": [
       "<div>\n",
       "<style scoped>\n",
       "    .dataframe tbody tr th:only-of-type {\n",
       "        vertical-align: middle;\n",
       "    }\n",
       "\n",
       "    .dataframe tbody tr th {\n",
       "        vertical-align: top;\n",
       "    }\n",
       "\n",
       "    .dataframe thead th {\n",
       "        text-align: right;\n",
       "    }\n",
       "</style>\n",
       "<table border=\"1\" class=\"dataframe\">\n",
       "  <thead>\n",
       "    <tr style=\"text-align: right;\">\n",
       "      <th></th>\n",
       "      <th>PER</th>\n",
       "      <th>CHAR</th>\n",
       "      <th>DATE</th>\n",
       "      <th>REL</th>\n",
       "      <th>LOC</th>\n",
       "      <th>PERSON</th>\n",
       "      <th>RELATIONSHIPS</th>\n",
       "      <th>CHARACTERISTICS</th>\n",
       "      <th>LOCATION</th>\n",
       "    </tr>\n",
       "  </thead>\n",
       "  <tbody>\n",
       "    <tr>\n",
       "      <th>p</th>\n",
       "      <td>0.534853</td>\n",
       "      <td>0.558824</td>\n",
       "      <td>0.317819</td>\n",
       "      <td>0.668750</td>\n",
       "      <td>0.461358</td>\n",
       "      <td>0.0</td>\n",
       "      <td>0.0</td>\n",
       "      <td>0.0</td>\n",
       "      <td>0.0</td>\n",
       "    </tr>\n",
       "    <tr>\n",
       "      <th>r</th>\n",
       "      <td>0.649233</td>\n",
       "      <td>0.485556</td>\n",
       "      <td>0.265556</td>\n",
       "      <td>0.264415</td>\n",
       "      <td>0.218404</td>\n",
       "      <td>0.0</td>\n",
       "      <td>0.0</td>\n",
       "      <td>0.0</td>\n",
       "      <td>0.0</td>\n",
       "    </tr>\n",
       "    <tr>\n",
       "      <th>f</th>\n",
       "      <td>0.586518</td>\n",
       "      <td>0.519620</td>\n",
       "      <td>0.289346</td>\n",
       "      <td>0.378985</td>\n",
       "      <td>0.296464</td>\n",
       "      <td>0.0</td>\n",
       "      <td>0.0</td>\n",
       "      <td>0.0</td>\n",
       "      <td>0.0</td>\n",
       "    </tr>\n",
       "  </tbody>\n",
       "</table>\n",
       "</div>"
      ],
      "text/plain": [
       "        PER      CHAR      DATE       REL       LOC  PERSON  RELATIONSHIPS  \\\n",
       "p  0.534853  0.558824  0.317819  0.668750  0.461358     0.0            0.0   \n",
       "r  0.649233  0.485556  0.265556  0.264415  0.218404     0.0            0.0   \n",
       "f  0.586518  0.519620  0.289346  0.378985  0.296464     0.0            0.0   \n",
       "\n",
       "   CHARACTERISTICS  LOCATION  \n",
       "p              0.0       0.0  \n",
       "r              0.0       0.0  \n",
       "f              0.0       0.0  "
      ]
     },
     "metadata": {},
     "output_type": "display_data"
    },
    {
     "name": "stdout",
     "output_type": "stream",
     "text": [
      "-----------------------------------------------------\n",
      "Loaded model 'models/75/1'\n"
     ]
    },
    {
     "name": "stderr",
     "output_type": "stream",
     "text": [
      "C:\\Users\\kdmen\\miniconda3\\envs\\ssda\\lib\\site-packages\\spacy\\training\\iob_utils.py:144: UserWarning: [W030] Some entities could not be aligned in the text \"[margin]: Fran.co esc.o Domingo dos de Marco de mi...\" with entities \"[(10, 17, 'PER'), (234, 258, 'PER'), (221, 225, 'C...\". Use `spacy.training.offsets_to_biluo_tags(nlp.make_doc(text), entities)` to check the alignment. Misaligned entities ('-') will be ignored during training.\n",
      "  entities=ent_str[:50] + \"...\" if len(ent_str) > 50 else ent_str,\n"
     ]
    },
    {
     "name": "stdout",
     "output_type": "stream",
     "text": [
      "\n",
      "Overall performance:\n"
     ]
    },
    {
     "data": {
      "text/html": [
       "<div>\n",
       "<style scoped>\n",
       "    .dataframe tbody tr th:only-of-type {\n",
       "        vertical-align: middle;\n",
       "    }\n",
       "\n",
       "    .dataframe tbody tr th {\n",
       "        vertical-align: top;\n",
       "    }\n",
       "\n",
       "    .dataframe thead th {\n",
       "        text-align: right;\n",
       "    }\n",
       "</style>\n",
       "<table border=\"1\" class=\"dataframe\">\n",
       "  <thead>\n",
       "    <tr style=\"text-align: right;\">\n",
       "      <th></th>\n",
       "      <th>precision</th>\n",
       "      <th>recall</th>\n",
       "      <th>f_score</th>\n",
       "    </tr>\n",
       "  </thead>\n",
       "  <tbody>\n",
       "    <tr>\n",
       "      <th>0</th>\n",
       "      <td>47.563857</td>\n",
       "      <td>38.994465</td>\n",
       "      <td>42.85497</td>\n",
       "    </tr>\n",
       "  </tbody>\n",
       "</table>\n",
       "</div>"
      ],
      "text/plain": [
       "   precision     recall   f_score\n",
       "0  47.563857  38.994465  42.85497"
      ]
     },
     "metadata": {},
     "output_type": "display_data"
    },
    {
     "name": "stdout",
     "output_type": "stream",
     "text": [
      "\n",
      "Entity-specific performance:\n"
     ]
    },
    {
     "data": {
      "text/html": [
       "<div>\n",
       "<style scoped>\n",
       "    .dataframe tbody tr th:only-of-type {\n",
       "        vertical-align: middle;\n",
       "    }\n",
       "\n",
       "    .dataframe tbody tr th {\n",
       "        vertical-align: top;\n",
       "    }\n",
       "\n",
       "    .dataframe thead th {\n",
       "        text-align: right;\n",
       "    }\n",
       "</style>\n",
       "<table border=\"1\" class=\"dataframe\">\n",
       "  <thead>\n",
       "    <tr style=\"text-align: right;\">\n",
       "      <th></th>\n",
       "      <th>PER</th>\n",
       "      <th>DATE</th>\n",
       "      <th>LOC</th>\n",
       "      <th>REL</th>\n",
       "      <th>CHAR</th>\n",
       "      <th>PERSON</th>\n",
       "      <th>RELATIONSHIPS</th>\n",
       "      <th>CHARACTERISTICS</th>\n",
       "      <th>LOCATION</th>\n",
       "    </tr>\n",
       "  </thead>\n",
       "  <tbody>\n",
       "    <tr>\n",
       "      <th>p</th>\n",
       "      <td>0.425951</td>\n",
       "      <td>0.388506</td>\n",
       "      <td>0.473379</td>\n",
       "      <td>0.648746</td>\n",
       "      <td>0.553231</td>\n",
       "      <td>0.0</td>\n",
       "      <td>0.0</td>\n",
       "      <td>0.0</td>\n",
       "      <td>0.0</td>\n",
       "    </tr>\n",
       "    <tr>\n",
       "      <th>r</th>\n",
       "      <td>0.437238</td>\n",
       "      <td>0.187778</td>\n",
       "      <td>0.542129</td>\n",
       "      <td>0.149094</td>\n",
       "      <td>0.558148</td>\n",
       "      <td>0.0</td>\n",
       "      <td>0.0</td>\n",
       "      <td>0.0</td>\n",
       "      <td>0.0</td>\n",
       "    </tr>\n",
       "    <tr>\n",
       "      <th>f</th>\n",
       "      <td>0.431521</td>\n",
       "      <td>0.253184</td>\n",
       "      <td>0.505426</td>\n",
       "      <td>0.242465</td>\n",
       "      <td>0.555678</td>\n",
       "      <td>0.0</td>\n",
       "      <td>0.0</td>\n",
       "      <td>0.0</td>\n",
       "      <td>0.0</td>\n",
       "    </tr>\n",
       "  </tbody>\n",
       "</table>\n",
       "</div>"
      ],
      "text/plain": [
       "        PER      DATE       LOC       REL      CHAR  PERSON  RELATIONSHIPS  \\\n",
       "p  0.425951  0.388506  0.473379  0.648746  0.553231     0.0            0.0   \n",
       "r  0.437238  0.187778  0.542129  0.149094  0.558148     0.0            0.0   \n",
       "f  0.431521  0.253184  0.505426  0.242465  0.555678     0.0            0.0   \n",
       "\n",
       "   CHARACTERISTICS  LOCATION  \n",
       "p              0.0       0.0  \n",
       "r              0.0       0.0  \n",
       "f              0.0       0.0  "
      ]
     },
     "metadata": {},
     "output_type": "display_data"
    },
    {
     "name": "stdout",
     "output_type": "stream",
     "text": [
      "-----------------------------------------------------\n",
      "Loaded model 'models/75/2'\n"
     ]
    },
    {
     "name": "stderr",
     "output_type": "stream",
     "text": [
      "C:\\Users\\kdmen\\miniconda3\\envs\\ssda\\lib\\site-packages\\spacy\\training\\iob_utils.py:144: UserWarning: [W030] Some entities could not be aligned in the text \"[margin]: Fran.co esc.o Domingo dos de Marco de mi...\" with entities \"[(10, 17, 'PER'), (234, 258, 'PER'), (221, 225, 'C...\". Use `spacy.training.offsets_to_biluo_tags(nlp.make_doc(text), entities)` to check the alignment. Misaligned entities ('-') will be ignored during training.\n",
      "  entities=ent_str[:50] + \"...\" if len(ent_str) > 50 else ent_str,\n"
     ]
    },
    {
     "name": "stdout",
     "output_type": "stream",
     "text": [
      "\n",
      "Overall performance:\n"
     ]
    },
    {
     "data": {
      "text/html": [
       "<div>\n",
       "<style scoped>\n",
       "    .dataframe tbody tr th:only-of-type {\n",
       "        vertical-align: middle;\n",
       "    }\n",
       "\n",
       "    .dataframe tbody tr th {\n",
       "        vertical-align: top;\n",
       "    }\n",
       "\n",
       "    .dataframe thead th {\n",
       "        text-align: right;\n",
       "    }\n",
       "</style>\n",
       "<table border=\"1\" class=\"dataframe\">\n",
       "  <thead>\n",
       "    <tr style=\"text-align: right;\">\n",
       "      <th></th>\n",
       "      <th>precision</th>\n",
       "      <th>recall</th>\n",
       "      <th>f_score</th>\n",
       "    </tr>\n",
       "  </thead>\n",
       "  <tbody>\n",
       "    <tr>\n",
       "      <th>0</th>\n",
       "      <td>9.734423</td>\n",
       "      <td>8.791513</td>\n",
       "      <td>9.238972</td>\n",
       "    </tr>\n",
       "  </tbody>\n",
       "</table>\n",
       "</div>"
      ],
      "text/plain": [
       "   precision    recall   f_score\n",
       "0   9.734423  8.791513  9.238972"
      ]
     },
     "metadata": {},
     "output_type": "display_data"
    },
    {
     "name": "stdout",
     "output_type": "stream",
     "text": [
      "\n",
      "Entity-specific performance:\n"
     ]
    },
    {
     "data": {
      "text/html": [
       "<div>\n",
       "<style scoped>\n",
       "    .dataframe tbody tr th:only-of-type {\n",
       "        vertical-align: middle;\n",
       "    }\n",
       "\n",
       "    .dataframe tbody tr th {\n",
       "        vertical-align: top;\n",
       "    }\n",
       "\n",
       "    .dataframe thead th {\n",
       "        text-align: right;\n",
       "    }\n",
       "</style>\n",
       "<table border=\"1\" class=\"dataframe\">\n",
       "  <thead>\n",
       "    <tr style=\"text-align: right;\">\n",
       "      <th></th>\n",
       "      <th>PERSON</th>\n",
       "      <th>DATE</th>\n",
       "      <th>RELATIONSHIPS</th>\n",
       "      <th>PER</th>\n",
       "      <th>REL</th>\n",
       "      <th>LOC</th>\n",
       "      <th>CHAR</th>\n",
       "      <th>LOCATION</th>\n",
       "      <th>CHARACTERISTICS</th>\n",
       "    </tr>\n",
       "  </thead>\n",
       "  <tbody>\n",
       "    <tr>\n",
       "      <th>p</th>\n",
       "      <td>0.090042</td>\n",
       "      <td>0.073082</td>\n",
       "      <td>0.099718</td>\n",
       "      <td>0.0</td>\n",
       "      <td>0.0</td>\n",
       "      <td>0.0</td>\n",
       "      <td>0.0</td>\n",
       "      <td>0.375758</td>\n",
       "      <td>0.245283</td>\n",
       "    </tr>\n",
       "    <tr>\n",
       "      <th>r</th>\n",
       "      <td>0.951681</td>\n",
       "      <td>0.178889</td>\n",
       "      <td>0.986047</td>\n",
       "      <td>0.0</td>\n",
       "      <td>0.0</td>\n",
       "      <td>0.0</td>\n",
       "      <td>0.0</td>\n",
       "      <td>0.939394</td>\n",
       "      <td>1.000000</td>\n",
       "    </tr>\n",
       "    <tr>\n",
       "      <th>f</th>\n",
       "      <td>0.164518</td>\n",
       "      <td>0.103771</td>\n",
       "      <td>0.181119</td>\n",
       "      <td>0.0</td>\n",
       "      <td>0.0</td>\n",
       "      <td>0.0</td>\n",
       "      <td>0.0</td>\n",
       "      <td>0.536797</td>\n",
       "      <td>0.393939</td>\n",
       "    </tr>\n",
       "  </tbody>\n",
       "</table>\n",
       "</div>"
      ],
      "text/plain": [
       "     PERSON      DATE  RELATIONSHIPS  PER  REL  LOC  CHAR  LOCATION  \\\n",
       "p  0.090042  0.073082       0.099718  0.0  0.0  0.0   0.0  0.375758   \n",
       "r  0.951681  0.178889       0.986047  0.0  0.0  0.0   0.0  0.939394   \n",
       "f  0.164518  0.103771       0.181119  0.0  0.0  0.0   0.0  0.536797   \n",
       "\n",
       "   CHARACTERISTICS  \n",
       "p         0.245283  \n",
       "r         1.000000  \n",
       "f         0.393939  "
      ]
     },
     "metadata": {},
     "output_type": "display_data"
    },
    {
     "name": "stdout",
     "output_type": "stream",
     "text": [
      "-----------------------------------------------------\n",
      "Loaded model 'models/75/3'\n"
     ]
    },
    {
     "name": "stderr",
     "output_type": "stream",
     "text": [
      "C:\\Users\\kdmen\\miniconda3\\envs\\ssda\\lib\\site-packages\\spacy\\training\\iob_utils.py:144: UserWarning: [W030] Some entities could not be aligned in the text \"[margin]: Fran.co esc.o Domingo dos de Marco de mi...\" with entities \"[(10, 17, 'PER'), (234, 258, 'PER'), (221, 225, 'C...\". Use `spacy.training.offsets_to_biluo_tags(nlp.make_doc(text), entities)` to check the alignment. Misaligned entities ('-') will be ignored during training.\n",
      "  entities=ent_str[:50] + \"...\" if len(ent_str) > 50 else ent_str,\n"
     ]
    },
    {
     "name": "stdout",
     "output_type": "stream",
     "text": [
      "\n",
      "Overall performance:\n"
     ]
    },
    {
     "data": {
      "text/html": [
       "<div>\n",
       "<style scoped>\n",
       "    .dataframe tbody tr th:only-of-type {\n",
       "        vertical-align: middle;\n",
       "    }\n",
       "\n",
       "    .dataframe tbody tr th {\n",
       "        vertical-align: top;\n",
       "    }\n",
       "\n",
       "    .dataframe thead th {\n",
       "        text-align: right;\n",
       "    }\n",
       "</style>\n",
       "<table border=\"1\" class=\"dataframe\">\n",
       "  <thead>\n",
       "    <tr style=\"text-align: right;\">\n",
       "      <th></th>\n",
       "      <th>precision</th>\n",
       "      <th>recall</th>\n",
       "      <th>f_score</th>\n",
       "    </tr>\n",
       "  </thead>\n",
       "  <tbody>\n",
       "    <tr>\n",
       "      <th>0</th>\n",
       "      <td>38.49392</td>\n",
       "      <td>37.961255</td>\n",
       "      <td>38.225732</td>\n",
       "    </tr>\n",
       "  </tbody>\n",
       "</table>\n",
       "</div>"
      ],
      "text/plain": [
       "   precision     recall    f_score\n",
       "0   38.49392  37.961255  38.225732"
      ]
     },
     "metadata": {},
     "output_type": "display_data"
    },
    {
     "name": "stdout",
     "output_type": "stream",
     "text": [
      "\n",
      "Entity-specific performance:\n"
     ]
    },
    {
     "data": {
      "text/html": [
       "<div>\n",
       "<style scoped>\n",
       "    .dataframe tbody tr th:only-of-type {\n",
       "        vertical-align: middle;\n",
       "    }\n",
       "\n",
       "    .dataframe tbody tr th {\n",
       "        vertical-align: top;\n",
       "    }\n",
       "\n",
       "    .dataframe thead th {\n",
       "        text-align: right;\n",
       "    }\n",
       "</style>\n",
       "<table border=\"1\" class=\"dataframe\">\n",
       "  <thead>\n",
       "    <tr style=\"text-align: right;\">\n",
       "      <th></th>\n",
       "      <th>PER</th>\n",
       "      <th>DATE</th>\n",
       "      <th>REL</th>\n",
       "      <th>LOC</th>\n",
       "      <th>CHAR</th>\n",
       "      <th>PERSON</th>\n",
       "      <th>RELATIONSHIPS</th>\n",
       "      <th>CHARACTERISTICS</th>\n",
       "      <th>LOCATION</th>\n",
       "    </tr>\n",
       "  </thead>\n",
       "  <tbody>\n",
       "    <tr>\n",
       "      <th>p</th>\n",
       "      <td>0.393679</td>\n",
       "      <td>0.326503</td>\n",
       "      <td>0.584954</td>\n",
       "      <td>0.271028</td>\n",
       "      <td>0.274107</td>\n",
       "      <td>0.0</td>\n",
       "      <td>0.0</td>\n",
       "      <td>0.0</td>\n",
       "      <td>0.0</td>\n",
       "    </tr>\n",
       "    <tr>\n",
       "      <th>r</th>\n",
       "      <td>0.596467</td>\n",
       "      <td>0.265556</td>\n",
       "      <td>0.570016</td>\n",
       "      <td>0.064302</td>\n",
       "      <td>0.207407</td>\n",
       "      <td>0.0</td>\n",
       "      <td>0.0</td>\n",
       "      <td>0.0</td>\n",
       "      <td>0.0</td>\n",
       "    </tr>\n",
       "    <tr>\n",
       "      <th>f</th>\n",
       "      <td>0.474307</td>\n",
       "      <td>0.292892</td>\n",
       "      <td>0.577388</td>\n",
       "      <td>0.103943</td>\n",
       "      <td>0.236137</td>\n",
       "      <td>0.0</td>\n",
       "      <td>0.0</td>\n",
       "      <td>0.0</td>\n",
       "      <td>0.0</td>\n",
       "    </tr>\n",
       "  </tbody>\n",
       "</table>\n",
       "</div>"
      ],
      "text/plain": [
       "        PER      DATE       REL       LOC      CHAR  PERSON  RELATIONSHIPS  \\\n",
       "p  0.393679  0.326503  0.584954  0.271028  0.274107     0.0            0.0   \n",
       "r  0.596467  0.265556  0.570016  0.064302  0.207407     0.0            0.0   \n",
       "f  0.474307  0.292892  0.577388  0.103943  0.236137     0.0            0.0   \n",
       "\n",
       "   CHARACTERISTICS  LOCATION  \n",
       "p              0.0       0.0  \n",
       "r              0.0       0.0  \n",
       "f              0.0       0.0  "
      ]
     },
     "metadata": {},
     "output_type": "display_data"
    },
    {
     "name": "stdout",
     "output_type": "stream",
     "text": [
      "-----------------------------------------------------\n",
      "Loaded model 'models/75/4'\n"
     ]
    },
    {
     "name": "stderr",
     "output_type": "stream",
     "text": [
      "C:\\Users\\kdmen\\miniconda3\\envs\\ssda\\lib\\site-packages\\spacy\\training\\iob_utils.py:144: UserWarning: [W030] Some entities could not be aligned in the text \"[margin]: Fran.co esc.o Domingo dos de Marco de mi...\" with entities \"[(10, 17, 'PER'), (234, 258, 'PER'), (221, 225, 'C...\". Use `spacy.training.offsets_to_biluo_tags(nlp.make_doc(text), entities)` to check the alignment. Misaligned entities ('-') will be ignored during training.\n",
      "  entities=ent_str[:50] + \"...\" if len(ent_str) > 50 else ent_str,\n"
     ]
    },
    {
     "name": "stdout",
     "output_type": "stream",
     "text": [
      "\n",
      "Overall performance:\n"
     ]
    },
    {
     "data": {
      "text/html": [
       "<div>\n",
       "<style scoped>\n",
       "    .dataframe tbody tr th:only-of-type {\n",
       "        vertical-align: middle;\n",
       "    }\n",
       "\n",
       "    .dataframe tbody tr th {\n",
       "        vertical-align: top;\n",
       "    }\n",
       "\n",
       "    .dataframe thead th {\n",
       "        text-align: right;\n",
       "    }\n",
       "</style>\n",
       "<table border=\"1\" class=\"dataframe\">\n",
       "  <thead>\n",
       "    <tr style=\"text-align: right;\">\n",
       "      <th></th>\n",
       "      <th>precision</th>\n",
       "      <th>recall</th>\n",
       "      <th>f_score</th>\n",
       "    </tr>\n",
       "  </thead>\n",
       "  <tbody>\n",
       "    <tr>\n",
       "      <th>0</th>\n",
       "      <td>35.118468</td>\n",
       "      <td>29.944649</td>\n",
       "      <td>32.325848</td>\n",
       "    </tr>\n",
       "  </tbody>\n",
       "</table>\n",
       "</div>"
      ],
      "text/plain": [
       "   precision     recall    f_score\n",
       "0  35.118468  29.944649  32.325848"
      ]
     },
     "metadata": {},
     "output_type": "display_data"
    },
    {
     "name": "stdout",
     "output_type": "stream",
     "text": [
      "\n",
      "Entity-specific performance:\n"
     ]
    },
    {
     "data": {
      "text/html": [
       "<div>\n",
       "<style scoped>\n",
       "    .dataframe tbody tr th:only-of-type {\n",
       "        vertical-align: middle;\n",
       "    }\n",
       "\n",
       "    .dataframe tbody tr th {\n",
       "        vertical-align: top;\n",
       "    }\n",
       "\n",
       "    .dataframe thead th {\n",
       "        text-align: right;\n",
       "    }\n",
       "</style>\n",
       "<table border=\"1\" class=\"dataframe\">\n",
       "  <thead>\n",
       "    <tr style=\"text-align: right;\">\n",
       "      <th></th>\n",
       "      <th>PER</th>\n",
       "      <th>DATE</th>\n",
       "      <th>REL</th>\n",
       "      <th>LOC</th>\n",
       "      <th>CHAR</th>\n",
       "      <th>PERSON</th>\n",
       "      <th>RELATIONSHIPS</th>\n",
       "      <th>CHARACTERISTICS</th>\n",
       "      <th>LOCATION</th>\n",
       "    </tr>\n",
       "  </thead>\n",
       "  <tbody>\n",
       "    <tr>\n",
       "      <th>p</th>\n",
       "      <td>0.356841</td>\n",
       "      <td>0.335570</td>\n",
       "      <td>0.315204</td>\n",
       "      <td>0.578488</td>\n",
       "      <td>0.283019</td>\n",
       "      <td>0.0</td>\n",
       "      <td>0.0</td>\n",
       "      <td>0.0</td>\n",
       "      <td>0.0</td>\n",
       "    </tr>\n",
       "    <tr>\n",
       "      <th>r</th>\n",
       "      <td>0.529289</td>\n",
       "      <td>0.222222</td>\n",
       "      <td>0.210049</td>\n",
       "      <td>0.220621</td>\n",
       "      <td>0.116667</td>\n",
       "      <td>0.0</td>\n",
       "      <td>0.0</td>\n",
       "      <td>0.0</td>\n",
       "      <td>0.0</td>\n",
       "    </tr>\n",
       "    <tr>\n",
       "      <th>f</th>\n",
       "      <td>0.426285</td>\n",
       "      <td>0.267380</td>\n",
       "      <td>0.252101</td>\n",
       "      <td>0.319422</td>\n",
       "      <td>0.165224</td>\n",
       "      <td>0.0</td>\n",
       "      <td>0.0</td>\n",
       "      <td>0.0</td>\n",
       "      <td>0.0</td>\n",
       "    </tr>\n",
       "  </tbody>\n",
       "</table>\n",
       "</div>"
      ],
      "text/plain": [
       "        PER      DATE       REL       LOC      CHAR  PERSON  RELATIONSHIPS  \\\n",
       "p  0.356841  0.335570  0.315204  0.578488  0.283019     0.0            0.0   \n",
       "r  0.529289  0.222222  0.210049  0.220621  0.116667     0.0            0.0   \n",
       "f  0.426285  0.267380  0.252101  0.319422  0.165224     0.0            0.0   \n",
       "\n",
       "   CHARACTERISTICS  LOCATION  \n",
       "p              0.0       0.0  \n",
       "r              0.0       0.0  \n",
       "f              0.0       0.0  "
      ]
     },
     "metadata": {},
     "output_type": "display_data"
    },
    {
     "name": "stdout",
     "output_type": "stream",
     "text": [
      "-----------------------------------------------------\n",
      "Loaded model 'models/75/5'\n"
     ]
    },
    {
     "name": "stderr",
     "output_type": "stream",
     "text": [
      "C:\\Users\\kdmen\\miniconda3\\envs\\ssda\\lib\\site-packages\\spacy\\training\\iob_utils.py:144: UserWarning: [W030] Some entities could not be aligned in the text \"[margin]: Fran.co esc.o Domingo dos de Marco de mi...\" with entities \"[(10, 17, 'PER'), (234, 258, 'PER'), (221, 225, 'C...\". Use `spacy.training.offsets_to_biluo_tags(nlp.make_doc(text), entities)` to check the alignment. Misaligned entities ('-') will be ignored during training.\n",
      "  entities=ent_str[:50] + \"...\" if len(ent_str) > 50 else ent_str,\n"
     ]
    },
    {
     "name": "stdout",
     "output_type": "stream",
     "text": [
      "\n",
      "Overall performance:\n"
     ]
    },
    {
     "data": {
      "text/html": [
       "<div>\n",
       "<style scoped>\n",
       "    .dataframe tbody tr th:only-of-type {\n",
       "        vertical-align: middle;\n",
       "    }\n",
       "\n",
       "    .dataframe tbody tr th {\n",
       "        vertical-align: top;\n",
       "    }\n",
       "\n",
       "    .dataframe thead th {\n",
       "        text-align: right;\n",
       "    }\n",
       "</style>\n",
       "<table border=\"1\" class=\"dataframe\">\n",
       "  <thead>\n",
       "    <tr style=\"text-align: right;\">\n",
       "      <th></th>\n",
       "      <th>precision</th>\n",
       "      <th>recall</th>\n",
       "      <th>f_score</th>\n",
       "    </tr>\n",
       "  </thead>\n",
       "  <tbody>\n",
       "    <tr>\n",
       "      <th>0</th>\n",
       "      <td>92.216777</td>\n",
       "      <td>88.53321</td>\n",
       "      <td>90.337459</td>\n",
       "    </tr>\n",
       "  </tbody>\n",
       "</table>\n",
       "</div>"
      ],
      "text/plain": [
       "   precision    recall    f_score\n",
       "0  92.216777  88.53321  90.337459"
      ]
     },
     "metadata": {},
     "output_type": "display_data"
    },
    {
     "name": "stdout",
     "output_type": "stream",
     "text": [
      "\n",
      "Entity-specific performance:\n"
     ]
    },
    {
     "data": {
      "text/html": [
       "<div>\n",
       "<style scoped>\n",
       "    .dataframe tbody tr th:only-of-type {\n",
       "        vertical-align: middle;\n",
       "    }\n",
       "\n",
       "    .dataframe tbody tr th {\n",
       "        vertical-align: top;\n",
       "    }\n",
       "\n",
       "    .dataframe thead th {\n",
       "        text-align: right;\n",
       "    }\n",
       "</style>\n",
       "<table border=\"1\" class=\"dataframe\">\n",
       "  <thead>\n",
       "    <tr style=\"text-align: right;\">\n",
       "      <th></th>\n",
       "      <th>DATE</th>\n",
       "      <th>PER</th>\n",
       "      <th>REL</th>\n",
       "      <th>LOC</th>\n",
       "      <th>CHAR</th>\n",
       "      <th>PERSON</th>\n",
       "      <th>LOCATION</th>\n",
       "      <th>RELATIONSHIPS</th>\n",
       "      <th>CHARACTERISTICS</th>\n",
       "    </tr>\n",
       "  </thead>\n",
       "  <tbody>\n",
       "    <tr>\n",
       "      <th>p</th>\n",
       "      <td>0.884434</td>\n",
       "      <td>0.929605</td>\n",
       "      <td>0.945046</td>\n",
       "      <td>0.933182</td>\n",
       "      <td>0.902439</td>\n",
       "      <td>0.931280</td>\n",
       "      <td>0.954545</td>\n",
       "      <td>0.950450</td>\n",
       "      <td>0.984375</td>\n",
       "    </tr>\n",
       "    <tr>\n",
       "      <th>r</th>\n",
       "      <td>0.833333</td>\n",
       "      <td>0.880986</td>\n",
       "      <td>0.934926</td>\n",
       "      <td>0.913525</td>\n",
       "      <td>0.877037</td>\n",
       "      <td>0.825630</td>\n",
       "      <td>0.954545</td>\n",
       "      <td>0.981395</td>\n",
       "      <td>0.969231</td>\n",
       "    </tr>\n",
       "    <tr>\n",
       "      <th>f</th>\n",
       "      <td>0.858124</td>\n",
       "      <td>0.904643</td>\n",
       "      <td>0.939959</td>\n",
       "      <td>0.923249</td>\n",
       "      <td>0.889557</td>\n",
       "      <td>0.875278</td>\n",
       "      <td>0.954545</td>\n",
       "      <td>0.965675</td>\n",
       "      <td>0.976744</td>\n",
       "    </tr>\n",
       "  </tbody>\n",
       "</table>\n",
       "</div>"
      ],
      "text/plain": [
       "       DATE       PER       REL       LOC      CHAR    PERSON  LOCATION  \\\n",
       "p  0.884434  0.929605  0.945046  0.933182  0.902439  0.931280  0.954545   \n",
       "r  0.833333  0.880986  0.934926  0.913525  0.877037  0.825630  0.954545   \n",
       "f  0.858124  0.904643  0.939959  0.923249  0.889557  0.875278  0.954545   \n",
       "\n",
       "   RELATIONSHIPS  CHARACTERISTICS  \n",
       "p       0.950450         0.984375  \n",
       "r       0.981395         0.969231  \n",
       "f       0.965675         0.976744  "
      ]
     },
     "metadata": {},
     "output_type": "display_data"
    },
    {
     "name": "stdout",
     "output_type": "stream",
     "text": [
      "-----------------------------------------------------\n"
     ]
    }
   ],
   "source": [
    "#no_test\n",
    "\n",
    "test_df = full_collated_df\n",
    "path = 'models/75'\n",
    "\n",
    "for my_model in listdir(path):\n",
    "    my_model = path + r\"/\" + my_model\n",
    "    \n",
    "    trained_model = load_model(my_model, language=\"es\", verbose='True')\n",
    "\n",
    "    ent_preds_df, metrics_df, per_ent_metrics = test_model(trained_model, test_df, 'entry_no', 'text')\n",
    "\n",
    "    #show performance\n",
    "    print('\\nOverall performance:')\n",
    "    display(metrics_df)\n",
    "    print('\\nEntity-specific performance:')\n",
    "    display(per_ent_metrics)\n",
    "    print(\"-----------------------------------------------------\")"
   ]
  },
  {
   "cell_type": "code",
   "execution_count": 18,
   "id": "a0e95cb7",
   "metadata": {},
   "outputs": [
    {
     "name": "stdout",
     "output_type": "stream",
     "text": [
      "Saved model to models\\75\\best_meta_model\n"
     ]
    }
   ],
   "source": [
    "# no_test\n",
    "\n",
    "# Hard coded: the best meta model, as seen in the tests above, is:\n",
    "# Note that this only works because the last model was the best model\n",
    "best_meta_model = trained_model\n",
    "save_dir = path + r\"/\" + \"best_meta_model\"\n",
    "\n",
    "save_model(best_meta_model, save_dir)"
   ]
  },
  {
   "cell_type": "code",
   "execution_count": 19,
   "id": "a1b868e2",
   "metadata": {},
   "outputs": [
    {
     "name": "stdout",
     "output_type": "stream",
     "text": [
      "Converted .~75-meta-model.ipynb.\n",
      "Converted 12-ssda-xml-parser.ipynb.\n",
      "Converted 31-collate-xml-entities-spans.ipynb.\n",
      "Converted 33-split-data.ipynb.\n",
      "Converted 41-generic-framework-for-spacy-training.ipynb.\n",
      "Converted 42-initial-model.ipynb.\n",
      "Converted 51-data-preprocessing.ipynb.\n",
      "Converted 52-unstructured-to-markup.ipynb.\n",
      "Converted 53-markup-to-spatial-historian.ipynb.\n",
      "Converted 54-utility-functions.ipynb.\n",
      "Converted 61-prodigy-output-training-demo.ipynb.\n",
      "Converted 62-full-model-application-demo.ipynb.\n",
      "Converted 63-pt-model-training.ipynb.\n",
      "Converted 64-es-model-training.ipynb.\n",
      "Converted 65-all-annotations-model-training.ipynb.\n",
      "Converted 66-es-guatemala-model-training.ipynb.\n",
      "Converted 67-death-and-birth-records-together.ipynb.\n",
      "Converted 70-exhaustive-training.ipynb.\n",
      "Converted 71-relationship-builder.ipynb.\n",
      "Converted 72-full-volume-processor.ipynb.\n",
      "Converted 73-table-output.ipynb.\n",
      "Converted 74-validation-visuals.ipynb.\n",
      "Converted 75-meta-model.ipynb.\n",
      "Converted 76-val-check-verif.ipynb.\n"
     ]
    }
   ],
   "source": [
    "#no_test\n",
    "from nbdev.export import notebook2script\n",
    "notebook2script();"
   ]
  },
  {
   "cell_type": "code",
   "execution_count": null,
   "id": "84feaa56",
   "metadata": {},
   "outputs": [],
   "source": []
  }
 ],
 "metadata": {
  "kernelspec": {
   "display_name": "Python 3 (ipykernel)",
   "language": "python",
   "name": "python3"
  }
 },
 "nbformat": 4,
 "nbformat_minor": 5
}
