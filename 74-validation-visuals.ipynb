{
 "cells": [
  {
   "cell_type": "code",
   "execution_count": null,
   "metadata": {},
   "outputs": [],
   "source": [
    "#default_exp validation_visuals"
   ]
  },
  {
   "cell_type": "code",
   "execution_count": null,
   "metadata": {},
   "outputs": [],
   "source": [
    "#export\n",
    "#dependencies\n",
    "\n",
    "#nlp packages\n",
    "import spacy\n",
    "from spacy.util import minibatch, compounding\n",
    "\n",
    "#manipulation of tables/arrays\n",
    "import pandas as pd\n",
    "import numpy as np\n",
    "import copy\n",
    "import json\n",
    "\n",
    "import difflib\n",
    "import matplotlib.pyplot as plt\n",
    "import matplotlib as mpl\n",
    "\n",
    "#internal imports\n",
    "from ssda_nlp.collate import *\n",
    "from ssda_nlp.split_data import *\n",
    "from ssda_nlp.modeling import *\n",
    "from ssda_nlp.model_performance_utils import *\n",
    "from ssda_nlp.xml_parser import *\n",
    "from ssda_nlp.unstructured2markup import *\n",
    "from ssda_nlp.utility import *\n",
    "from ssda_nlp.relationships import *\n",
    "from ssda_nlp.full_volume import *"
   ]
  },
  {
   "cell_type": "code",
   "execution_count": null,
   "metadata": {},
   "outputs": [],
   "source": [
    "#no_test\n",
    "\n",
    "COLOR = 'grey'\n",
    "mpl.rcParams['text.color'] = COLOR\n",
    "mpl.rcParams['axes.labelcolor'] = COLOR\n",
    "mpl.rcParams['xtick.color'] = COLOR\n",
    "mpl.rcParams['ytick.color'] = COLOR"
   ]
  },
  {
   "cell_type": "code",
   "execution_count": null,
   "metadata": {},
   "outputs": [
    {
     "name": "stderr",
     "output_type": "stream",
     "text": [
      "C:\\Users\\14193\\anaconda3\\lib\\site-packages\\spacy\\util.py:730: UserWarning: [W095] Model 'en_pipeline' (0.0.0) was trained with spaCy v3.0 and may not be 100% compatible with the current version (3.1.1). If you see errors or degraded performance, download a newer compatible model or retrain your custom model with the current spaCy version. For more details and available updates, run: python -m spacy validate\n",
      "  warnings.warn(warn_msg)\n"
     ]
    },
    {
     "name": "stdout",
     "output_type": "stream",
     "text": [
      "Loaded model 'models/15834'\n",
      "Entities extracted.\n",
      "Entry entities:\n"
     ]
    },
    {
     "data": {
      "text/html": [
       "<div>\n",
       "<style scoped>\n",
       "    .dataframe tbody tr th:only-of-type {\n",
       "        vertical-align: middle;\n",
       "    }\n",
       "\n",
       "    .dataframe tbody tr th {\n",
       "        vertical-align: top;\n",
       "    }\n",
       "\n",
       "    .dataframe thead th {\n",
       "        text-align: right;\n",
       "    }\n",
       "</style>\n",
       "<table border=\"1\" class=\"dataframe\">\n",
       "  <thead>\n",
       "    <tr style=\"text-align: right;\">\n",
       "      <th></th>\n",
       "      <th>index</th>\n",
       "      <th>entry_no</th>\n",
       "      <th>pred_entity</th>\n",
       "      <th>pred_label</th>\n",
       "      <th>pred_start</th>\n",
       "      <th>pred_end</th>\n",
       "      <th>assigned</th>\n",
       "    </tr>\n",
       "  </thead>\n",
       "  <tbody>\n",
       "    <tr>\n",
       "      <th>0</th>\n",
       "      <td>0</td>\n",
       "      <td>1033-1</td>\n",
       "      <td>Juana</td>\n",
       "      <td>PER</td>\n",
       "      <td>10</td>\n",
       "      <td>15</td>\n",
       "      <td>True</td>\n",
       "    </tr>\n",
       "    <tr>\n",
       "      <th>1</th>\n",
       "      <td>1</td>\n",
       "      <td>1033-1</td>\n",
       "      <td>Esc.va</td>\n",
       "      <td>CHAR</td>\n",
       "      <td>17</td>\n",
       "      <td>23</td>\n",
       "      <td>True</td>\n",
       "    </tr>\n",
       "    <tr>\n",
       "      <th>2</th>\n",
       "      <td>2</td>\n",
       "      <td>1033-1</td>\n",
       "      <td>Domingo veinte y dos de [roto] y nueve</td>\n",
       "      <td>DATE</td>\n",
       "      <td>24</td>\n",
       "      <td>62</td>\n",
       "      <td>True</td>\n",
       "    </tr>\n",
       "    <tr>\n",
       "      <th>3</th>\n",
       "      <td>3</td>\n",
       "      <td>1033-1</td>\n",
       "      <td>Thomas de Orvera</td>\n",
       "      <td>PER</td>\n",
       "      <td>66</td>\n",
       "      <td>82</td>\n",
       "      <td>True</td>\n",
       "    </tr>\n",
       "    <tr>\n",
       "      <th>4</th>\n",
       "      <td>4</td>\n",
       "      <td>1033-1</td>\n",
       "      <td>Juana</td>\n",
       "      <td>PER</td>\n",
       "      <td>121</td>\n",
       "      <td>126</td>\n",
       "      <td>True</td>\n",
       "    </tr>\n",
       "  </tbody>\n",
       "</table>\n",
       "</div>"
      ],
      "text/plain": [
       "   index entry_no                             pred_entity pred_label  \\\n",
       "0      0   1033-1                                   Juana        PER   \n",
       "1      1   1033-1                                  Esc.va       CHAR   \n",
       "2      2   1033-1  Domingo veinte y dos de [roto] y nueve       DATE   \n",
       "3      3   1033-1                        Thomas de Orvera        PER   \n",
       "4      4   1033-1                                   Juana        PER   \n",
       "\n",
       "  pred_start pred_end  assigned  \n",
       "0         10       15      True  \n",
       "1         17       23      True  \n",
       "2         24       62      True  \n",
       "3         66       82      True  \n",
       "4        121      126      True  "
      ]
     },
     "metadata": {},
     "output_type": "display_data"
    },
    {
     "name": "stdout",
     "output_type": "stream",
     "text": [
      "Entry people:\n"
     ]
    },
    {
     "data": {
      "text/plain": [
       "[{'id': '15834-1033-1-P4',\n",
       "  'name': 'Juan Joseph de Justis',\n",
       "  'origin': None,\n",
       "  'ethnicities': None,\n",
       "  'age': None,\n",
       "  'legitimacy': None,\n",
       "  'occupation': None,\n",
       "  'phenotype': None,\n",
       "  'status': None,\n",
       "  'titles': None,\n",
       "  'ranks': None,\n",
       "  'relationships': [{'related_person': '15834-1033-1-P3',\n",
       "    'relationship_type': 'slave'}]},\n",
       " {'id': '15834-1033-1-P5',\n",
       "  'name': 'Joseph Salcedo',\n",
       "  'origin': None,\n",
       "  'ethnicities': None,\n",
       "  'age': None,\n",
       "  'legitimacy': None,\n",
       "  'occupation': None,\n",
       "  'phenotype': None,\n",
       "  'status': None,\n",
       "  'titles': None,\n",
       "  'ranks': None,\n",
       "  'relationships': [{'related_person': '15834-1033-1-P1',\n",
       "    'relationship_type': 'godchild'}]},\n",
       " {'id': '15834-1033-1-P6',\n",
       "  'name': 'Ana de Santiago',\n",
       "  'origin': None,\n",
       "  'ethnicities': None,\n",
       "  'age': None,\n",
       "  'legitimacy': None,\n",
       "  'occupation': None,\n",
       "  'phenotype': None,\n",
       "  'status': None,\n",
       "  'titles': None,\n",
       "  'ranks': None,\n",
       "  'relationships': [{'related_person': '15834-1033-1-P1',\n",
       "    'relationship_type': 'godchild'}]},\n",
       " {'id': '15834-1033-1-P7',\n",
       "  'name': 'mugger',\n",
       "  'origin': None,\n",
       "  'ethnicities': None,\n",
       "  'age': None,\n",
       "  'legitimacy': None,\n",
       "  'occupation': None,\n",
       "  'phenotype': None,\n",
       "  'status': None,\n",
       "  'titles': None,\n",
       "  'ranks': None,\n",
       "  'relationships': None},\n",
       " {'id': '15834-1033-1-P1;15834-1033-1-P3',\n",
       "  'name': 'Juana',\n",
       "  'origin': None,\n",
       "  'ethnicities': 'Mina',\n",
       "  'age': None,\n",
       "  'legitimacy': None,\n",
       "  'occupation': None,\n",
       "  'phenotype': None,\n",
       "  'status': 'Esc.va;esclava',\n",
       "  'titles': None,\n",
       "  'ranks': None,\n",
       "  'relationships': [{'related_person': '15834-1033-1-P5',\n",
       "    'relationship_type': 'godparent'},\n",
       "   {'related_person': '15834-1033-1-P6', 'relationship_type': 'godparent'},\n",
       "   {'related_person': '15834-1033-1-P4', 'relationship_type': 'enslaver'}]},\n",
       " {'id': '15834-1033-1-P2;15834-1033-1-P8',\n",
       "  'name': 'Thomas de Orvera',\n",
       "  'origin': None,\n",
       "  'ethnicities': None,\n",
       "  'age': None,\n",
       "  'legitimacy': None,\n",
       "  'occupation': None,\n",
       "  'phenotype': None,\n",
       "  'status': None,\n",
       "  'titles': None,\n",
       "  'ranks': None,\n",
       "  'relationships': None}]"
      ]
     },
     "metadata": {},
     "output_type": "display_data"
    },
    {
     "name": "stdout",
     "output_type": "stream",
     "text": [
      "Entry places:\n"
     ]
    },
    {
     "data": {
      "text/plain": [
       "['Catedral de San Carlos Borromeo']"
      ]
     },
     "metadata": {},
     "output_type": "display_data"
    },
    {
     "name": "stdout",
     "output_type": "stream",
     "text": [
      "Entry events:\n"
     ]
    },
    {
     "data": {
      "text/plain": [
       "[{'id': '15834-1033-1-E1',\n",
       "  'type': 'baptism',\n",
       "  'principal': '15834-1033-1-P1',\n",
       "  'date': '????-??-22',\n",
       "  'location': 'Catedral de San Carlos Borromeo',\n",
       "  'cleric': '15834-1033-1-P2'}]"
      ]
     },
     "metadata": {},
     "output_type": "display_data"
    },
    {
     "name": "stdout",
     "output_type": "stream",
     "text": [
      "Uncategorized characteristics:\n",
      "Entry entities:\n"
     ]
    },
    {
     "data": {
      "text/html": [
       "<div>\n",
       "<style scoped>\n",
       "    .dataframe tbody tr th:only-of-type {\n",
       "        vertical-align: middle;\n",
       "    }\n",
       "\n",
       "    .dataframe tbody tr th {\n",
       "        vertical-align: top;\n",
       "    }\n",
       "\n",
       "    .dataframe thead th {\n",
       "        text-align: right;\n",
       "    }\n",
       "</style>\n",
       "<table border=\"1\" class=\"dataframe\">\n",
       "  <thead>\n",
       "    <tr style=\"text-align: right;\">\n",
       "      <th></th>\n",
       "      <th>index</th>\n",
       "      <th>entry_no</th>\n",
       "      <th>pred_entity</th>\n",
       "      <th>pred_label</th>\n",
       "      <th>pred_start</th>\n",
       "      <th>pred_end</th>\n",
       "      <th>assigned</th>\n",
       "    </tr>\n",
       "  </thead>\n",
       "  <tbody>\n",
       "    <tr>\n",
       "      <th>0</th>\n",
       "      <td>0</td>\n",
       "      <td>1033-2</td>\n",
       "      <td>Paula</td>\n",
       "      <td>PER</td>\n",
       "      <td>10</td>\n",
       "      <td>15</td>\n",
       "      <td>True</td>\n",
       "    </tr>\n",
       "    <tr>\n",
       "      <th>1</th>\n",
       "      <td>1</td>\n",
       "      <td>1033-2</td>\n",
       "      <td>Esc.a</td>\n",
       "      <td>CHAR</td>\n",
       "      <td>17</td>\n",
       "      <td>22</td>\n",
       "      <td>True</td>\n",
       "    </tr>\n",
       "    <tr>\n",
       "      <th>2</th>\n",
       "      <td>2</td>\n",
       "      <td>1033-2</td>\n",
       "      <td>Juebes veinte y tres de feb.o de mil sietec.to...</td>\n",
       "      <td>DATE</td>\n",
       "      <td>23</td>\n",
       "      <td>86</td>\n",
       "      <td>True</td>\n",
       "    </tr>\n",
       "    <tr>\n",
       "      <th>3</th>\n",
       "      <td>3</td>\n",
       "      <td>1033-2</td>\n",
       "      <td>Thomas de Orvera</td>\n",
       "      <td>PER</td>\n",
       "      <td>90</td>\n",
       "      <td>106</td>\n",
       "      <td>True</td>\n",
       "    </tr>\n",
       "    <tr>\n",
       "      <th>4</th>\n",
       "      <td>4</td>\n",
       "      <td>1033-2</td>\n",
       "      <td>Paula</td>\n",
       "      <td>PER</td>\n",
       "      <td>145</td>\n",
       "      <td>150</td>\n",
       "      <td>True</td>\n",
       "    </tr>\n",
       "  </tbody>\n",
       "</table>\n",
       "</div>"
      ],
      "text/plain": [
       "   index entry_no                                        pred_entity  \\\n",
       "0      0   1033-2                                              Paula   \n",
       "1      1   1033-2                                              Esc.a   \n",
       "2      2   1033-2  Juebes veinte y tres de feb.o de mil sietec.to...   \n",
       "3      3   1033-2                                   Thomas de Orvera   \n",
       "4      4   1033-2                                              Paula   \n",
       "\n",
       "  pred_label pred_start pred_end  assigned  \n",
       "0        PER         10       15      True  \n",
       "1       CHAR         17       22      True  \n",
       "2       DATE         23       86      True  \n",
       "3        PER         90      106      True  \n",
       "4        PER        145      150      True  "
      ]
     },
     "metadata": {},
     "output_type": "display_data"
    },
    {
     "name": "stdout",
     "output_type": "stream",
     "text": [
      "Entry people:\n"
     ]
    },
    {
     "data": {
      "text/plain": [
       "[{'id': '15834-1033-2-P4',\n",
       "  'name': 'Juan Joseph',\n",
       "  'origin': None,\n",
       "  'ethnicities': None,\n",
       "  'age': None,\n",
       "  'legitimacy': None,\n",
       "  'occupation': None,\n",
       "  'phenotype': None,\n",
       "  'status': 'esc.s',\n",
       "  'titles': None,\n",
       "  'ranks': None,\n",
       "  'relationships': [{'related_person': '15834-1033-2-P6',\n",
       "    'relationship_type': 'enslaver'}]},\n",
       " {'id': '15834-1033-2-P5',\n",
       "  'name': 'Maria Josepha',\n",
       "  'origin': None,\n",
       "  'ethnicities': None,\n",
       "  'age': None,\n",
       "  'legitimacy': None,\n",
       "  'occupation': None,\n",
       "  'phenotype': None,\n",
       "  'status': 'esc.s',\n",
       "  'titles': None,\n",
       "  'ranks': None,\n",
       "  'relationships': [{'related_person': '15834-1033-2-P6',\n",
       "    'relationship_type': 'enslaver'}]},\n",
       " {'id': '15834-1033-2-P6',\n",
       "  'name': 'Capitan D. Luis Hurtado de Mendoza',\n",
       "  'origin': None,\n",
       "  'ethnicities': None,\n",
       "  'age': None,\n",
       "  'legitimacy': None,\n",
       "  'occupation': None,\n",
       "  'phenotype': None,\n",
       "  'status': None,\n",
       "  'titles': None,\n",
       "  'ranks': None,\n",
       "  'relationships': [{'related_person': '15834-1033-2-P5',\n",
       "    'relationship_type': 'slave'},\n",
       "   {'related_person': '15834-1033-2-P4', 'relationship_type': 'slave'}]},\n",
       " {'id': '15834-1033-2-P7',\n",
       "  'name': 'Bartholome Rixo',\n",
       "  'origin': None,\n",
       "  'ethnicities': None,\n",
       "  'age': None,\n",
       "  'legitimacy': None,\n",
       "  'occupation': None,\n",
       "  'phenotype': None,\n",
       "  'status': None,\n",
       "  'titles': None,\n",
       "  'ranks': None,\n",
       "  'relationships': [{'related_person': '15834-1033-2-P1',\n",
       "    'relationship_type': 'godchild'}]},\n",
       " {'id': '15834-1033-2-P1;15834-1033-2-P3',\n",
       "  'name': 'Paula',\n",
       "  'origin': None,\n",
       "  'ethnicities': None,\n",
       "  'age': None,\n",
       "  'legitimacy': None,\n",
       "  'occupation': None,\n",
       "  'phenotype': None,\n",
       "  'status': 'Esc.a',\n",
       "  'titles': None,\n",
       "  'ranks': None,\n",
       "  'relationships': [{'related_person': '15834-1033-2-P7',\n",
       "    'relationship_type': 'godparent'}]},\n",
       " {'id': '15834-1033-2-P2;15834-1033-2-P8',\n",
       "  'name': 'Thomas de Orvera',\n",
       "  'origin': None,\n",
       "  'ethnicities': None,\n",
       "  'age': None,\n",
       "  'legitimacy': None,\n",
       "  'occupation': None,\n",
       "  'phenotype': None,\n",
       "  'status': None,\n",
       "  'titles': None,\n",
       "  'ranks': None,\n",
       "  'relationships': None}]"
      ]
     },
     "metadata": {},
     "output_type": "display_data"
    },
    {
     "name": "stdout",
     "output_type": "stream",
     "text": [
      "Entry places:\n"
     ]
    },
    {
     "data": {
      "text/plain": [
       "['Catedral de San Carlos Borromeo']"
      ]
     },
     "metadata": {},
     "output_type": "display_data"
    },
    {
     "name": "stdout",
     "output_type": "stream",
     "text": [
      "Entry events:\n"
     ]
    },
    {
     "data": {
      "text/plain": [
       "[{'id': '15834-1033-2-E1',\n",
       "  'type': 'baptism',\n",
       "  'principal': '15834-1033-2-P1',\n",
       "  'date': '1719-02-23',\n",
       "  'location': 'Catedral de San Carlos Borromeo',\n",
       "  'cleric': '15834-1033-2-P2'}]"
      ]
     },
     "metadata": {},
     "output_type": "display_data"
    },
    {
     "name": "stdout",
     "output_type": "stream",
     "text": [
      "Uncategorized characteristics:\n",
      "Entry entities:\n"
     ]
    },
    {
     "data": {
      "text/html": [
       "<div>\n",
       "<style scoped>\n",
       "    .dataframe tbody tr th:only-of-type {\n",
       "        vertical-align: middle;\n",
       "    }\n",
       "\n",
       "    .dataframe tbody tr th {\n",
       "        vertical-align: top;\n",
       "    }\n",
       "\n",
       "    .dataframe thead th {\n",
       "        text-align: right;\n",
       "    }\n",
       "</style>\n",
       "<table border=\"1\" class=\"dataframe\">\n",
       "  <thead>\n",
       "    <tr style=\"text-align: right;\">\n",
       "      <th></th>\n",
       "      <th>index</th>\n",
       "      <th>entry_no</th>\n",
       "      <th>pred_entity</th>\n",
       "      <th>pred_label</th>\n",
       "      <th>pred_start</th>\n",
       "      <th>pred_end</th>\n",
       "      <th>assigned</th>\n",
       "    </tr>\n",
       "  </thead>\n",
       "  <tbody>\n",
       "    <tr>\n",
       "      <th>0</th>\n",
       "      <td>0</td>\n",
       "      <td>1033-3</td>\n",
       "      <td>Maria</td>\n",
       "      <td>PER</td>\n",
       "      <td>10</td>\n",
       "      <td>15</td>\n",
       "      <td>True</td>\n",
       "    </tr>\n",
       "    <tr>\n",
       "      <th>1</th>\n",
       "      <td>1</td>\n",
       "      <td>1033-3</td>\n",
       "      <td>Esc.a</td>\n",
       "      <td>CHAR</td>\n",
       "      <td>16</td>\n",
       "      <td>21</td>\n",
       "      <td>True</td>\n",
       "    </tr>\n",
       "    <tr>\n",
       "      <th>2</th>\n",
       "      <td>2</td>\n",
       "      <td>1033-3</td>\n",
       "      <td>Miercoles prim.o de feb.o de mil siete.tos y d...</td>\n",
       "      <td>DATE</td>\n",
       "      <td>22</td>\n",
       "      <td>79</td>\n",
       "      <td>True</td>\n",
       "    </tr>\n",
       "    <tr>\n",
       "      <th>3</th>\n",
       "      <td>3</td>\n",
       "      <td>1033-3</td>\n",
       "      <td>Thomas de Orvera</td>\n",
       "      <td>PER</td>\n",
       "      <td>83</td>\n",
       "      <td>99</td>\n",
       "      <td>True</td>\n",
       "    </tr>\n",
       "    <tr>\n",
       "      <th>4</th>\n",
       "      <td>4</td>\n",
       "      <td>1033-3</td>\n",
       "      <td>Maria</td>\n",
       "      <td>PER</td>\n",
       "      <td>136</td>\n",
       "      <td>141</td>\n",
       "      <td>True</td>\n",
       "    </tr>\n",
       "  </tbody>\n",
       "</table>\n",
       "</div>"
      ],
      "text/plain": [
       "   index entry_no                                        pred_entity  \\\n",
       "0      0   1033-3                                              Maria   \n",
       "1      1   1033-3                                              Esc.a   \n",
       "2      2   1033-3  Miercoles prim.o de feb.o de mil siete.tos y d...   \n",
       "3      3   1033-3                                   Thomas de Orvera   \n",
       "4      4   1033-3                                              Maria   \n",
       "\n",
       "  pred_label pred_start pred_end  assigned  \n",
       "0        PER         10       15      True  \n",
       "1       CHAR         16       21      True  \n",
       "2       DATE         22       79      True  \n",
       "3        PER         83       99      True  \n",
       "4        PER        136      141      True  "
      ]
     },
     "metadata": {},
     "output_type": "display_data"
    },
    {
     "name": "stdout",
     "output_type": "stream",
     "text": [
      "Entry people:\n"
     ]
    },
    {
     "data": {
      "text/plain": [
       "[{'id': '15834-1033-3-P4',\n",
       "  'name': 'Juan',\n",
       "  'origin': None,\n",
       "  'ethnicities': None,\n",
       "  'age': None,\n",
       "  'legitimacy': None,\n",
       "  'occupation': None,\n",
       "  'phenotype': None,\n",
       "  'status': 'esc.s',\n",
       "  'titles': None,\n",
       "  'ranks': None,\n",
       "  'relationships': [{'related_person': '15834-1033-3-P6',\n",
       "    'relationship_type': 'enslaver'}]},\n",
       " {'id': '15834-1033-3-P5',\n",
       "  'name': 'Josepha',\n",
       "  'origin': None,\n",
       "  'ethnicities': None,\n",
       "  'age': None,\n",
       "  'legitimacy': None,\n",
       "  'occupation': None,\n",
       "  'phenotype': None,\n",
       "  'status': 'esc.s',\n",
       "  'titles': None,\n",
       "  'ranks': None,\n",
       "  'relationships': [{'related_person': '15834-1033-3-P6',\n",
       "    'relationship_type': 'enslaver'}]},\n",
       " {'id': '15834-1033-3-P6',\n",
       "  'name': 'Capitan Antonio Benites',\n",
       "  'origin': None,\n",
       "  'ethnicities': None,\n",
       "  'age': None,\n",
       "  'legitimacy': None,\n",
       "  'occupation': None,\n",
       "  'phenotype': None,\n",
       "  'status': None,\n",
       "  'titles': None,\n",
       "  'ranks': None,\n",
       "  'relationships': [{'related_person': '15834-1033-3-P5',\n",
       "    'relationship_type': 'slave'},\n",
       "   {'related_person': '15834-1033-3-P4', 'relationship_type': 'slave'}]},\n",
       " {'id': '15834-1033-3-P7',\n",
       "  'name': 'Ysabel Mendez',\n",
       "  'origin': None,\n",
       "  'ethnicities': None,\n",
       "  'age': None,\n",
       "  'legitimacy': None,\n",
       "  'occupation': None,\n",
       "  'phenotype': None,\n",
       "  'status': None,\n",
       "  'titles': None,\n",
       "  'ranks': None,\n",
       "  'relationships': [{'related_person': '15834-1033-3-P1',\n",
       "    'relationship_type': 'godchild'}]},\n",
       " {'id': '15834-1033-3-P1;15834-1033-3-P3',\n",
       "  'name': 'Maria',\n",
       "  'origin': None,\n",
       "  'ethnicities': None,\n",
       "  'age': None,\n",
       "  'legitimacy': None,\n",
       "  'occupation': None,\n",
       "  'phenotype': None,\n",
       "  'status': 'Esc.a',\n",
       "  'titles': None,\n",
       "  'ranks': None,\n",
       "  'relationships': [{'related_person': '15834-1033-3-P7',\n",
       "    'relationship_type': 'godparent'}]},\n",
       " {'id': '15834-1033-3-P2;15834-1033-3-P8',\n",
       "  'name': 'Thomas de Orvera',\n",
       "  'origin': None,\n",
       "  'ethnicities': None,\n",
       "  'age': None,\n",
       "  'legitimacy': None,\n",
       "  'occupation': None,\n",
       "  'phenotype': None,\n",
       "  'status': None,\n",
       "  'titles': None,\n",
       "  'ranks': None,\n",
       "  'relationships': None}]"
      ]
     },
     "metadata": {},
     "output_type": "display_data"
    },
    {
     "name": "stdout",
     "output_type": "stream",
     "text": [
      "Entry places:\n"
     ]
    },
    {
     "data": {
      "text/plain": [
       "['Catedral de San Carlos Borromeo']"
      ]
     },
     "metadata": {},
     "output_type": "display_data"
    },
    {
     "name": "stdout",
     "output_type": "stream",
     "text": [
      "Entry events:\n"
     ]
    },
    {
     "data": {
      "text/plain": [
       "[{'id': '15834-1033-3-E1',\n",
       "  'type': 'baptism',\n",
       "  'principal': '15834-1033-3-P1',\n",
       "  'date': '1719-02-01',\n",
       "  'location': 'Catedral de San Carlos Borromeo',\n",
       "  'cleric': '15834-1033-3-P2'}]"
      ]
     },
     "metadata": {},
     "output_type": "display_data"
    },
    {
     "name": "stdout",
     "output_type": "stream",
     "text": [
      "Uncategorized characteristics:\n",
      "Relationships linked.\n",
      "Events configured.\n",
      "People records enhanced and disambiguated.\n",
      "Single ID generated for each individual.\n",
      "JSON built, processing completed.\n"
     ]
    }
   ],
   "source": [
    "#no_test\n",
    "\n",
    "people, places, events, json_path, entities, noCategory, validation_list = process_volume(\"transcriptions\\\\15834.xml\", \"models/15834\")"
   ]
  },
  {
   "cell_type": "code",
   "execution_count": null,
   "metadata": {},
   "outputs": [],
   "source": [
    "#no_test\n",
    "\n",
    "#unassigned_df = check_unassigned(entities, isVerbose=1)"
   ]
  },
  {
   "cell_type": "code",
   "execution_count": null,
   "metadata": {},
   "outputs": [
    {
     "name": "stdout",
     "output_type": "stream",
     "text": [
      "{'isBaptism': True, 'isDateComplete': True, 'hasLocation': True, 'hasCleric': True, 'hasPrincipal': True, 'hasRelations': 0, 'hasGodparents': 1, 'hasEnslaver': 1, 'isInfant': 0, 'hasParents': 0, 'isBirthEvent': 0, 'hasBirthDate': 0, 'hasBirthLocation': 0, 'isDateComplete_birth': 0, 'hasLocation_birth': 0, 'isEnslaved': 1, 'princEnslaverIdent': 1, 'similarNames': 0, 'hasWrongEthAssgnt_ensl': 0, 'hasWrongEthAssgnt_cler': 0, 'hasUncatChars': 0, 'hasUnassgnEnts': 0, 'hasUncoupledParents': 0, 'hasUncoupledGodparents': 1, 'hasUnrelatedPersons': 1}\n"
     ]
    }
   ],
   "source": [
    "#no_test\n",
    "\n",
    "validation_list = validation_dict\n",
    "print(validation_list[0])"
   ]
  },
  {
   "cell_type": "code",
   "execution_count": null,
   "metadata": {},
   "outputs": [
    {
     "name": "stdout",
     "output_type": "stream",
     "text": [
      "[True, True, True, True, True, False, True, True, False, False, False, False, False, False, False, True, True, False, False, False, False, False, False, True, True]\n"
     ]
    }
   ],
   "source": [
    "#no_test\n",
    "\n",
    "val1 = validation_list[0]\n",
    "val1_bools = [True if elem==True else False for elem in val1.values()]\n",
    "print(val1_bools)"
   ]
  },
  {
   "cell_type": "markdown",
   "metadata": {},
   "source": [
    "## Bar Graph of All Validation Checks"
   ]
  },
  {
   "cell_type": "code",
   "execution_count": null,
   "metadata": {},
   "outputs": [
    {
     "data": {
      "image/png": "[encoded data removed]",
      "text/plain": [
       "<Figure size 1080x720 with 1 Axes>"
      ]
     },
     "metadata": {
      "needs_background": "dark"
     },
     "output_type": "display_data"
    }
   ],
   "source": [
    "#no_test\n",
    "\n",
    "#plot the results\n",
    "plt.figure(figsize=(15,10))\n",
    "#Font sizes\n",
    "title_font = 20\n",
    "label_font = 15\n",
    "\n",
    "objects = val1.keys()\n",
    "y_pos = np.arange(len(objects))\n",
    "performance = val1_bools\n",
    "\n",
    "plt.bar(y_pos, performance, align='center', alpha=0.5)\n",
    "plt.xticks(y_pos, objects)\n",
    "plt.xlabel('Checks', fontsize=label_font)\n",
    "plt.ylabel('Total Number of Validation Flags', fontsize=label_font)\n",
    "plt.title('Full Volume Validation Checks', fontsize=title_font)\n",
    "\n",
    "plt.show()"
   ]
  },
  {
   "cell_type": "code",
   "execution_count": null,
   "metadata": {},
   "outputs": [
    {
     "data": {
      "image/png": "[encoded data removed]",
      "text/plain": [
       "<Figure size 1080x720 with 1 Axes>"
      ]
     },
     "metadata": {
      "needs_background": "dark"
     },
     "output_type": "display_data"
    }
   ],
   "source": [
    "#no_test\n",
    "\n",
    "#plot the results\n",
    "plt.figure(figsize=(15,10))\n",
    "\n",
    "objects = val1.keys()\n",
    "y_pos = np.arange(len(objects))\n",
    "performance = [0]*y_pos\n",
    "for i in range(len(validation_list)):\n",
    "    vals = validation_list[i]\n",
    "    val_bools = [True if elem==True else False for elem in vals.values()]\n",
    "\n",
    "    performance = [sum(x) for x in zip(performance, val_bools)]\n",
    "\n",
    "plt.bar(y_pos, performance, align='center', alpha=0.5)\n",
    "plt.xticks(y_pos, objects)\n",
    "plt.ylabel('Usage')\n",
    "plt.title('Programming language usage')\n",
    "\n",
    "plt.show()"
   ]
  },
  {
   "cell_type": "markdown",
   "metadata": {},
   "source": [
    "## Attempt at Raster Plot"
   ]
  },
  {
   "cell_type": "code",
   "execution_count": null,
   "metadata": {},
   "outputs": [
    {
     "data": {
      "image/png": "[encoded data removed]",
      "text/plain": [
       "<Figure size 432x288 with 1 Axes>"
      ]
     },
     "metadata": {
      "needs_background": "light"
     },
     "output_type": "display_data"
    }
   ],
   "source": [
    "#no_test\n",
    "\n",
    "# Draw a spike raster plot\n",
    "plt.eventplot(val1_bools)     \n",
    "# Provide the title for the spike raster plot\n",
    "plt.title('Spike raster plot')\n",
    "# Give x axis label for the spike raster plot\n",
    "plt.xlabel('Checks')\n",
    "# Give y axis label for the spike raster plot\n",
    "plt.ylabel('Validation Status')\n",
    "# Display the spike raster plot\n",
    "plt.show()"
   ]
  },
  {
   "cell_type": "code",
   "execution_count": null,
   "metadata": {},
   "outputs": [
    {
     "data": {
      "image/png": "[encoded data removed]",
      "text/plain": [
       "<Figure size 432x288 with 1 Axes>"
      ]
     },
     "metadata": {
      "needs_background": "light"
     },
     "output_type": "display_data"
    }
   ],
   "source": [
    "#no_test\n",
    "\n",
    "# Set the random seed for data generation\n",
    "np.random.seed(2)\n",
    " \n",
    "# Create rows of random data with 50 data points simulating rows of spike trains\n",
    "neuralData = np.random.random([8, 50])\n",
    "\n",
    "# Set different colors for each neuron\n",
    "colorCodes = np.array([[0, 0, 0],\n",
    "\n",
    "                        [1, 0, 0],\n",
    "\n",
    "                        [0, 1, 0],\n",
    "\n",
    "                        [0, 0, 1],\n",
    "\n",
    "                        [1, 1, 0],\n",
    "\n",
    "                        [1, 0, 1],\n",
    "\n",
    "                        [0, 1, 1],\n",
    "\n",
    "                        [1, 0, 1]])  \n",
    "\n",
    "# Set spike colors for each neuron\n",
    "lineSize = [0.4, 0.3, 0.2, 0.8, 0.5, 0.6, 0.7, 0.9]                                 \n",
    "        \n",
    "# Draw a spike raster plot\n",
    "plt.eventplot(neuralData, color=colorCodes, linelengths = lineSize)     \n",
    "\n",
    "# Provide the title for the spike raster plot\n",
    "plt.title('Spike raster plot')\n",
    "\n",
    "# Give x axis label for the spike raster plot\n",
    "plt.xlabel('Neuron')\n",
    " \n",
    "# Give y axis label for the spike raster plot\n",
    "plt.ylabel('Spike')\n",
    "\n",
    "# Display the spike raster plot\n",
    "plt.show()"
   ]
  },
  {
   "cell_type": "code",
   "execution_count": null,
   "metadata": {},
   "outputs": [],
   "source": []
  },
  {
   "cell_type": "code",
   "execution_count": null,
   "metadata": {},
   "outputs": [],
   "source": []
  },
  {
   "cell_type": "code",
   "execution_count": null,
   "metadata": {},
   "outputs": [],
   "source": []
  },
  {
   "cell_type": "code",
   "execution_count": null,
   "metadata": {},
   "outputs": [],
   "source": []
  },
  {
   "cell_type": "code",
   "execution_count": null,
   "metadata": {},
   "outputs": [],
   "source": [
    "#no_test\n",
    "\n",
    "flatten_volume_json(\"volume_records/15834.json\", csv_root = \"volume_records/csv/\")"
   ]
  },
  {
   "cell_type": "code",
   "execution_count": null,
   "metadata": {},
   "outputs": [
    {
     "name": "stdout",
     "output_type": "stream",
     "text": [
      "Converted 12-ssda-xml-parser.ipynb.\n",
      "Converted 31-collate-xml-entities-spans.ipynb.\n",
      "Converted 33-split-data.ipynb.\n",
      "Converted 41-generic-framework-for-spacy-training.ipynb.\n",
      "Converted 42-initial-model.ipynb.\n",
      "Converted 51-data-preprocessing.ipynb.\n",
      "Converted 52-unstructured-to-markup.ipynb.\n",
      "Converted 53-markup-to-spatial-historian.ipynb.\n",
      "Converted 54-utility-functions.ipynb.\n",
      "Converted 61-prodigy-output-training-demo.ipynb.\n",
      "Converted 62-full-model-application-demo.ipynb.\n",
      "Converted 63-pt-model-training.ipynb.\n",
      "Converted 64-es-model-training.ipynb.\n",
      "Converted 65-all-annotations-model-training.ipynb.\n",
      "Converted 66-es-guatemala-model-training.ipynb.\n",
      "Converted 67-death-and-birth-records-together.ipynb.\n",
      "Converted 70-exhaustive-training.ipynb.\n",
      "Converted 71-relationship-builder.ipynb.\n",
      "Converted 72-full-volume-processor.ipynb.\n",
      "Converted 73-table-output.ipynb.\n",
      "Converted 74-validation-visuals.ipynb.\n"
     ]
    }
   ],
   "source": [
    "#no_test\n",
    "\n",
    "from nbdev.export import notebook2script\n",
    "notebook2script()"
   ]
  },
  {
   "cell_type": "code",
   "execution_count": null,
   "metadata": {},
   "outputs": [],
   "source": []
  }
 ],
 "metadata": {
  "kernelspec": {
   "display_name": "Python 3",
   "language": "python",
   "name": "python3"
  }
 },
 "nbformat": 4,
 "nbformat_minor": 4
}
