{
 "cells": [
  {
   "cell_type": "code",
   "execution_count": null,
   "metadata": {},
   "outputs": [],
   "source": [
    "#default_exp validation_visuals"
   ]
  },
  {
   "cell_type": "code",
   "execution_count": null,
   "metadata": {},
   "outputs": [],
   "source": [
    "#export\n",
    "#dependencies\n",
    "\n",
    "#nlp packages\n",
    "import spacy\n",
    "from spacy.util import minibatch, compounding\n",
    "\n",
    "#manipulation of tables/arrays\n",
    "import pandas as pd\n",
    "import numpy as np\n",
    "import copy\n",
    "import json\n",
    "\n",
    "import difflib\n",
    "import matplotlib.pyplot as plt\n",
    "import matplotlib as mpl\n",
    "\n",
    "#internal imports\n",
    "from ssda_nlp.collate import *\n",
    "from ssda_nlp.split_data import *\n",
    "from ssda_nlp.modeling import *\n",
    "from ssda_nlp.model_performance_utils import *\n",
    "from ssda_nlp.xml_parser import *\n",
    "from ssda_nlp.unstructured2markup import *\n",
    "from ssda_nlp.utility import *\n",
    "from ssda_nlp.relationships import *\n",
    "from ssda_nlp.full_volume import *"
   ]
  },
  {
   "cell_type": "code",
   "execution_count": null,
   "metadata": {},
   "outputs": [],
   "source": [
    "#no_test\n",
    "\n",
    "COLOR = 'grey'\n",
    "mpl.rcParams['text.color'] = COLOR\n",
    "mpl.rcParams['axes.labelcolor'] = COLOR\n",
    "mpl.rcParams['xtick.color'] = COLOR\n",
    "mpl.rcParams['ytick.color'] = COLOR"
   ]
  },
  {
   "cell_type": "code",
   "execution_count": null,
   "metadata": {},
   "outputs": [],
   "source": [
    "#no_test\n",
    "\n",
    "def val_vis_bar(validation_list):\n",
    "    #Set up the figure\n",
    "    plt.figure(figsize=(15,10))\n",
    "    colors_array = ['g']*17 + ['r']*8\n",
    "    \n",
    "    #Set up the variables\n",
    "    val1 = validation_list[0]\n",
    "    objects = val1.keys()\n",
    "    y_pos = np.arange(len(objects))\n",
    "    performance = [0]*y_pos\n",
    "    \n",
    "    #Gather each validation dictionary from each entry into a summed var\n",
    "    for i in range(len(validation_list)):\n",
    "        vals = validation_list[i]\n",
    "\n",
    "        performance = [sum(x) for x in zip(performance, vals)]\n",
    "\n",
    "    #Plot the final results\n",
    "    plt.bar(y_pos, performance, align='center', alpha=0.5, color=colors_array)\n",
    "    plt.xticks(ticks=y_pos, labels=objects, rotation=75, fontsize=tick_font)\n",
    "    plt.xlabel('Checks', fontsize=label_font)\n",
    "    plt.ylabel('Total Number of Validation Flags', fontsize=label_font)\n",
    "    plt.title('Full Volume Validation Checks', fontsize=title_font)\n",
    "\n",
    "    plt.show()"
   ]
  },
  {
   "cell_type": "code",
   "execution_count": null,
   "metadata": {},
   "outputs": [
    {
     "name": "stderr",
     "output_type": "stream",
     "text": [
      "C:\\Users\\14193\\anaconda3\\lib\\site-packages\\spacy\\util.py:730: UserWarning: [W095] Model 'en_pipeline' (0.0.0) was trained with spaCy v3.0 and may not be 100% compatible with the current version (3.1.1). If you see errors or degraded performance, download a newer compatible model or retrain your custom model with the current spaCy version. For more details and available updates, run: python -m spacy validate\n",
      "  warnings.warn(warn_msg)\n"
     ]
    },
    {
     "name": "stdout",
     "output_type": "stream",
     "text": [
      "Loaded model 'models/15834'\n",
      "Entities extracted.\n",
      "Entry entities:\n"
     ]
    },
    {
     "data": {
      "text/html": [
       "<div>\n",
       "<style scoped>\n",
       "    .dataframe tbody tr th:only-of-type {\n",
       "        vertical-align: middle;\n",
       "    }\n",
       "\n",
       "    .dataframe tbody tr th {\n",
       "        vertical-align: top;\n",
       "    }\n",
       "\n",
       "    .dataframe thead th {\n",
       "        text-align: right;\n",
       "    }\n",
       "</style>\n",
       "<table border=\"1\" class=\"dataframe\">\n",
       "  <thead>\n",
       "    <tr style=\"text-align: right;\">\n",
       "      <th></th>\n",
       "      <th>index</th>\n",
       "      <th>entry_no</th>\n",
       "      <th>pred_entity</th>\n",
       "      <th>pred_label</th>\n",
       "      <th>pred_start</th>\n",
       "      <th>pred_end</th>\n",
       "      <th>assigned</th>\n",
       "    </tr>\n",
       "  </thead>\n",
       "  <tbody>\n",
       "    <tr>\n",
       "      <th>0</th>\n",
       "      <td>0</td>\n",
       "      <td>1033-1</td>\n",
       "      <td>Juana</td>\n",
       "      <td>PER</td>\n",
       "      <td>10</td>\n",
       "      <td>15</td>\n",
       "      <td>True</td>\n",
       "    </tr>\n",
       "    <tr>\n",
       "      <th>1</th>\n",
       "      <td>1</td>\n",
       "      <td>1033-1</td>\n",
       "      <td>Esc.va</td>\n",
       "      <td>CHAR</td>\n",
       "      <td>17</td>\n",
       "      <td>23</td>\n",
       "      <td>True</td>\n",
       "    </tr>\n",
       "    <tr>\n",
       "      <th>2</th>\n",
       "      <td>2</td>\n",
       "      <td>1033-1</td>\n",
       "      <td>Domingo veinte y dos de [roto] y nueve</td>\n",
       "      <td>DATE</td>\n",
       "      <td>24</td>\n",
       "      <td>62</td>\n",
       "      <td>True</td>\n",
       "    </tr>\n",
       "    <tr>\n",
       "      <th>3</th>\n",
       "      <td>3</td>\n",
       "      <td>1033-1</td>\n",
       "      <td>Thomas de Orvera</td>\n",
       "      <td>PER</td>\n",
       "      <td>66</td>\n",
       "      <td>82</td>\n",
       "      <td>True</td>\n",
       "    </tr>\n",
       "    <tr>\n",
       "      <th>4</th>\n",
       "      <td>4</td>\n",
       "      <td>1033-1</td>\n",
       "      <td>Juana</td>\n",
       "      <td>PER</td>\n",
       "      <td>121</td>\n",
       "      <td>126</td>\n",
       "      <td>True</td>\n",
       "    </tr>\n",
       "  </tbody>\n",
       "</table>\n",
       "</div>"
      ],
      "text/plain": [
       "   index entry_no                             pred_entity pred_label  \\\n",
       "0      0   1033-1                                   Juana        PER   \n",
       "1      1   1033-1                                  Esc.va       CHAR   \n",
       "2      2   1033-1  Domingo veinte y dos de [roto] y nueve       DATE   \n",
       "3      3   1033-1                        Thomas de Orvera        PER   \n",
       "4      4   1033-1                                   Juana        PER   \n",
       "\n",
       "  pred_start pred_end  assigned  \n",
       "0         10       15      True  \n",
       "1         17       23      True  \n",
       "2         24       62      True  \n",
       "3         66       82      True  \n",
       "4        121      126      True  "
      ]
     },
     "metadata": {},
     "output_type": "display_data"
    },
    {
     "name": "stdout",
     "output_type": "stream",
     "text": [
      "Entry people:\n"
     ]
    },
    {
     "data": {
      "text/plain": [
       "[{'id': '15834-1033-1-P4',\n",
       "  'name': 'Juan Joseph de Justis',\n",
       "  'origin': None,\n",
       "  'ethnicities': None,\n",
       "  'age': None,\n",
       "  'legitimacy': None,\n",
       "  'occupation': None,\n",
       "  'phenotype': None,\n",
       "  'status': None,\n",
       "  'titles': None,\n",
       "  'ranks': None,\n",
       "  'relationships': [{'related_person': '15834-1033-1-P3',\n",
       "    'relationship_type': 'slave'}]},\n",
       " {'id': '15834-1033-1-P5',\n",
       "  'name': 'Joseph Salcedo',\n",
       "  'origin': None,\n",
       "  'ethnicities': None,\n",
       "  'age': None,\n",
       "  'legitimacy': None,\n",
       "  'occupation': None,\n",
       "  'phenotype': None,\n",
       "  'status': None,\n",
       "  'titles': None,\n",
       "  'ranks': None,\n",
       "  'relationships': [{'related_person': '15834-1033-1-P1',\n",
       "    'relationship_type': 'godchild'}]},\n",
       " {'id': '15834-1033-1-P6',\n",
       "  'name': 'Ana de Santiago',\n",
       "  'origin': None,\n",
       "  'ethnicities': None,\n",
       "  'age': None,\n",
       "  'legitimacy': None,\n",
       "  'occupation': None,\n",
       "  'phenotype': None,\n",
       "  'status': None,\n",
       "  'titles': None,\n",
       "  'ranks': None,\n",
       "  'relationships': [{'related_person': '15834-1033-1-P1',\n",
       "    'relationship_type': 'godchild'}]},\n",
       " {'id': '15834-1033-1-P7',\n",
       "  'name': 'mugger',\n",
       "  'origin': None,\n",
       "  'ethnicities': None,\n",
       "  'age': None,\n",
       "  'legitimacy': None,\n",
       "  'occupation': None,\n",
       "  'phenotype': None,\n",
       "  'status': None,\n",
       "  'titles': None,\n",
       "  'ranks': None,\n",
       "  'relationships': None},\n",
       " {'id': '15834-1033-1-P1;15834-1033-1-P3',\n",
       "  'name': 'Juana',\n",
       "  'origin': None,\n",
       "  'ethnicities': 'Mina',\n",
       "  'age': None,\n",
       "  'legitimacy': None,\n",
       "  'occupation': None,\n",
       "  'phenotype': None,\n",
       "  'status': 'Esc.va;esclava',\n",
       "  'titles': None,\n",
       "  'ranks': None,\n",
       "  'relationships': [{'related_person': '15834-1033-1-P5',\n",
       "    'relationship_type': 'godparent'},\n",
       "   {'related_person': '15834-1033-1-P6', 'relationship_type': 'godparent'},\n",
       "   {'related_person': '15834-1033-1-P4', 'relationship_type': 'enslaver'}]},\n",
       " {'id': '15834-1033-1-P2;15834-1033-1-P8',\n",
       "  'name': 'Thomas de Orvera',\n",
       "  'origin': None,\n",
       "  'ethnicities': None,\n",
       "  'age': None,\n",
       "  'legitimacy': None,\n",
       "  'occupation': None,\n",
       "  'phenotype': None,\n",
       "  'status': None,\n",
       "  'titles': None,\n",
       "  'ranks': None,\n",
       "  'relationships': None}]"
      ]
     },
     "metadata": {},
     "output_type": "display_data"
    },
    {
     "name": "stdout",
     "output_type": "stream",
     "text": [
      "Entry places:\n"
     ]
    },
    {
     "data": {
      "text/plain": [
       "['Catedral de San Carlos Borromeo']"
      ]
     },
     "metadata": {},
     "output_type": "display_data"
    },
    {
     "name": "stdout",
     "output_type": "stream",
     "text": [
      "Entry events:\n"
     ]
    },
    {
     "data": {
      "text/plain": [
       "[{'id': '15834-1033-1-E1',\n",
       "  'type': 'baptism',\n",
       "  'principal': '15834-1033-1-P1',\n",
       "  'date': '????-??-22',\n",
       "  'location': 'Catedral de San Carlos Borromeo',\n",
       "  'cleric': '15834-1033-1-P2'}]"
      ]
     },
     "metadata": {},
     "output_type": "display_data"
    },
    {
     "name": "stdout",
     "output_type": "stream",
     "text": [
      "Uncategorized characteristics:\n",
      "Entry entities:\n"
     ]
    },
    {
     "data": {
      "text/html": [
       "<div>\n",
       "<style scoped>\n",
       "    .dataframe tbody tr th:only-of-type {\n",
       "        vertical-align: middle;\n",
       "    }\n",
       "\n",
       "    .dataframe tbody tr th {\n",
       "        vertical-align: top;\n",
       "    }\n",
       "\n",
       "    .dataframe thead th {\n",
       "        text-align: right;\n",
       "    }\n",
       "</style>\n",
       "<table border=\"1\" class=\"dataframe\">\n",
       "  <thead>\n",
       "    <tr style=\"text-align: right;\">\n",
       "      <th></th>\n",
       "      <th>index</th>\n",
       "      <th>entry_no</th>\n",
       "      <th>pred_entity</th>\n",
       "      <th>pred_label</th>\n",
       "      <th>pred_start</th>\n",
       "      <th>pred_end</th>\n",
       "      <th>assigned</th>\n",
       "    </tr>\n",
       "  </thead>\n",
       "  <tbody>\n",
       "    <tr>\n",
       "      <th>0</th>\n",
       "      <td>0</td>\n",
       "      <td>1033-2</td>\n",
       "      <td>Paula</td>\n",
       "      <td>PER</td>\n",
       "      <td>10</td>\n",
       "      <td>15</td>\n",
       "      <td>True</td>\n",
       "    </tr>\n",
       "    <tr>\n",
       "      <th>1</th>\n",
       "      <td>1</td>\n",
       "      <td>1033-2</td>\n",
       "      <td>Esc.a</td>\n",
       "      <td>CHAR</td>\n",
       "      <td>17</td>\n",
       "      <td>22</td>\n",
       "      <td>True</td>\n",
       "    </tr>\n",
       "    <tr>\n",
       "      <th>2</th>\n",
       "      <td>2</td>\n",
       "      <td>1033-2</td>\n",
       "      <td>Juebes veinte y tres de feb.o de mil sietec.to...</td>\n",
       "      <td>DATE</td>\n",
       "      <td>23</td>\n",
       "      <td>86</td>\n",
       "      <td>True</td>\n",
       "    </tr>\n",
       "    <tr>\n",
       "      <th>3</th>\n",
       "      <td>3</td>\n",
       "      <td>1033-2</td>\n",
       "      <td>Thomas de Orvera</td>\n",
       "      <td>PER</td>\n",
       "      <td>90</td>\n",
       "      <td>106</td>\n",
       "      <td>True</td>\n",
       "    </tr>\n",
       "    <tr>\n",
       "      <th>4</th>\n",
       "      <td>4</td>\n",
       "      <td>1033-2</td>\n",
       "      <td>Paula</td>\n",
       "      <td>PER</td>\n",
       "      <td>145</td>\n",
       "      <td>150</td>\n",
       "      <td>True</td>\n",
       "    </tr>\n",
       "  </tbody>\n",
       "</table>\n",
       "</div>"
      ],
      "text/plain": [
       "   index entry_no                                        pred_entity  \\\n",
       "0      0   1033-2                                              Paula   \n",
       "1      1   1033-2                                              Esc.a   \n",
       "2      2   1033-2  Juebes veinte y tres de feb.o de mil sietec.to...   \n",
       "3      3   1033-2                                   Thomas de Orvera   \n",
       "4      4   1033-2                                              Paula   \n",
       "\n",
       "  pred_label pred_start pred_end  assigned  \n",
       "0        PER         10       15      True  \n",
       "1       CHAR         17       22      True  \n",
       "2       DATE         23       86      True  \n",
       "3        PER         90      106      True  \n",
       "4        PER        145      150      True  "
      ]
     },
     "metadata": {},
     "output_type": "display_data"
    },
    {
     "name": "stdout",
     "output_type": "stream",
     "text": [
      "Entry people:\n"
     ]
    },
    {
     "data": {
      "text/plain": [
       "[{'id': '15834-1033-2-P4',\n",
       "  'name': 'Juan Joseph',\n",
       "  'origin': None,\n",
       "  'ethnicities': None,\n",
       "  'age': None,\n",
       "  'legitimacy': None,\n",
       "  'occupation': None,\n",
       "  'phenotype': None,\n",
       "  'status': 'esc.s',\n",
       "  'titles': None,\n",
       "  'ranks': None,\n",
       "  'relationships': [{'related_person': '15834-1033-2-P6',\n",
       "    'relationship_type': 'enslaver'}]},\n",
       " {'id': '15834-1033-2-P5',\n",
       "  'name': 'Maria Josepha',\n",
       "  'origin': None,\n",
       "  'ethnicities': None,\n",
       "  'age': None,\n",
       "  'legitimacy': None,\n",
       "  'occupation': None,\n",
       "  'phenotype': None,\n",
       "  'status': 'esc.s',\n",
       "  'titles': None,\n",
       "  'ranks': None,\n",
       "  'relationships': [{'related_person': '15834-1033-2-P6',\n",
       "    'relationship_type': 'enslaver'}]},\n",
       " {'id': '15834-1033-2-P6',\n",
       "  'name': 'Capitan D. Luis Hurtado de Mendoza',\n",
       "  'origin': None,\n",
       "  'ethnicities': None,\n",
       "  'age': None,\n",
       "  'legitimacy': None,\n",
       "  'occupation': None,\n",
       "  'phenotype': None,\n",
       "  'status': None,\n",
       "  'titles': None,\n",
       "  'ranks': None,\n",
       "  'relationships': [{'related_person': '15834-1033-2-P5',\n",
       "    'relationship_type': 'slave'},\n",
       "   {'related_person': '15834-1033-2-P4', 'relationship_type': 'slave'}]},\n",
       " {'id': '15834-1033-2-P7',\n",
       "  'name': 'Bartholome Rixo',\n",
       "  'origin': None,\n",
       "  'ethnicities': None,\n",
       "  'age': None,\n",
       "  'legitimacy': None,\n",
       "  'occupation': None,\n",
       "  'phenotype': None,\n",
       "  'status': None,\n",
       "  'titles': None,\n",
       "  'ranks': None,\n",
       "  'relationships': [{'related_person': '15834-1033-2-P1',\n",
       "    'relationship_type': 'godchild'}]},\n",
       " {'id': '15834-1033-2-P1;15834-1033-2-P3',\n",
       "  'name': 'Paula',\n",
       "  'origin': None,\n",
       "  'ethnicities': None,\n",
       "  'age': None,\n",
       "  'legitimacy': None,\n",
       "  'occupation': None,\n",
       "  'phenotype': None,\n",
       "  'status': 'Esc.a',\n",
       "  'titles': None,\n",
       "  'ranks': None,\n",
       "  'relationships': [{'related_person': '15834-1033-2-P7',\n",
       "    'relationship_type': 'godparent'}]},\n",
       " {'id': '15834-1033-2-P2;15834-1033-2-P8',\n",
       "  'name': 'Thomas de Orvera',\n",
       "  'origin': None,\n",
       "  'ethnicities': None,\n",
       "  'age': None,\n",
       "  'legitimacy': None,\n",
       "  'occupation': None,\n",
       "  'phenotype': None,\n",
       "  'status': None,\n",
       "  'titles': None,\n",
       "  'ranks': None,\n",
       "  'relationships': None}]"
      ]
     },
     "metadata": {},
     "output_type": "display_data"
    },
    {
     "name": "stdout",
     "output_type": "stream",
     "text": [
      "Entry places:\n"
     ]
    },
    {
     "data": {
      "text/plain": [
       "['Catedral de San Carlos Borromeo']"
      ]
     },
     "metadata": {},
     "output_type": "display_data"
    },
    {
     "name": "stdout",
     "output_type": "stream",
     "text": [
      "Entry events:\n"
     ]
    },
    {
     "data": {
      "text/plain": [
       "[{'id': '15834-1033-2-E1',\n",
       "  'type': 'baptism',\n",
       "  'principal': '15834-1033-2-P1',\n",
       "  'date': '1719-02-23',\n",
       "  'location': 'Catedral de San Carlos Borromeo',\n",
       "  'cleric': '15834-1033-2-P2'}]"
      ]
     },
     "metadata": {},
     "output_type": "display_data"
    },
    {
     "name": "stdout",
     "output_type": "stream",
     "text": [
      "Uncategorized characteristics:\n",
      "Entry entities:\n"
     ]
    },
    {
     "data": {
      "text/html": [
       "<div>\n",
       "<style scoped>\n",
       "    .dataframe tbody tr th:only-of-type {\n",
       "        vertical-align: middle;\n",
       "    }\n",
       "\n",
       "    .dataframe tbody tr th {\n",
       "        vertical-align: top;\n",
       "    }\n",
       "\n",
       "    .dataframe thead th {\n",
       "        text-align: right;\n",
       "    }\n",
       "</style>\n",
       "<table border=\"1\" class=\"dataframe\">\n",
       "  <thead>\n",
       "    <tr style=\"text-align: right;\">\n",
       "      <th></th>\n",
       "      <th>index</th>\n",
       "      <th>entry_no</th>\n",
       "      <th>pred_entity</th>\n",
       "      <th>pred_label</th>\n",
       "      <th>pred_start</th>\n",
       "      <th>pred_end</th>\n",
       "      <th>assigned</th>\n",
       "    </tr>\n",
       "  </thead>\n",
       "  <tbody>\n",
       "    <tr>\n",
       "      <th>0</th>\n",
       "      <td>0</td>\n",
       "      <td>1033-3</td>\n",
       "      <td>Maria</td>\n",
       "      <td>PER</td>\n",
       "      <td>10</td>\n",
       "      <td>15</td>\n",
       "      <td>True</td>\n",
       "    </tr>\n",
       "    <tr>\n",
       "      <th>1</th>\n",
       "      <td>1</td>\n",
       "      <td>1033-3</td>\n",
       "      <td>Esc.a</td>\n",
       "      <td>CHAR</td>\n",
       "      <td>16</td>\n",
       "      <td>21</td>\n",
       "      <td>True</td>\n",
       "    </tr>\n",
       "    <tr>\n",
       "      <th>2</th>\n",
       "      <td>2</td>\n",
       "      <td>1033-3</td>\n",
       "      <td>Miercoles prim.o de feb.o de mil siete.tos y d...</td>\n",
       "      <td>DATE</td>\n",
       "      <td>22</td>\n",
       "      <td>79</td>\n",
       "      <td>True</td>\n",
       "    </tr>\n",
       "    <tr>\n",
       "      <th>3</th>\n",
       "      <td>3</td>\n",
       "      <td>1033-3</td>\n",
       "      <td>Thomas de Orvera</td>\n",
       "      <td>PER</td>\n",
       "      <td>83</td>\n",
       "      <td>99</td>\n",
       "      <td>True</td>\n",
       "    </tr>\n",
       "    <tr>\n",
       "      <th>4</th>\n",
       "      <td>4</td>\n",
       "      <td>1033-3</td>\n",
       "      <td>Maria</td>\n",
       "      <td>PER</td>\n",
       "      <td>136</td>\n",
       "      <td>141</td>\n",
       "      <td>True</td>\n",
       "    </tr>\n",
       "  </tbody>\n",
       "</table>\n",
       "</div>"
      ],
      "text/plain": [
       "   index entry_no                                        pred_entity  \\\n",
       "0      0   1033-3                                              Maria   \n",
       "1      1   1033-3                                              Esc.a   \n",
       "2      2   1033-3  Miercoles prim.o de feb.o de mil siete.tos y d...   \n",
       "3      3   1033-3                                   Thomas de Orvera   \n",
       "4      4   1033-3                                              Maria   \n",
       "\n",
       "  pred_label pred_start pred_end  assigned  \n",
       "0        PER         10       15      True  \n",
       "1       CHAR         16       21      True  \n",
       "2       DATE         22       79      True  \n",
       "3        PER         83       99      True  \n",
       "4        PER        136      141      True  "
      ]
     },
     "metadata": {},
     "output_type": "display_data"
    },
    {
     "name": "stdout",
     "output_type": "stream",
     "text": [
      "Entry people:\n"
     ]
    },
    {
     "data": {
      "text/plain": [
       "[{'id': '15834-1033-3-P4',\n",
       "  'name': 'Juan',\n",
       "  'origin': None,\n",
       "  'ethnicities': None,\n",
       "  'age': None,\n",
       "  'legitimacy': None,\n",
       "  'occupation': None,\n",
       "  'phenotype': None,\n",
       "  'status': 'esc.s',\n",
       "  'titles': None,\n",
       "  'ranks': None,\n",
       "  'relationships': [{'related_person': '15834-1033-3-P6',\n",
       "    'relationship_type': 'enslaver'}]},\n",
       " {'id': '15834-1033-3-P5',\n",
       "  'name': 'Josepha',\n",
       "  'origin': None,\n",
       "  'ethnicities': None,\n",
       "  'age': None,\n",
       "  'legitimacy': None,\n",
       "  'occupation': None,\n",
       "  'phenotype': None,\n",
       "  'status': 'esc.s',\n",
       "  'titles': None,\n",
       "  'ranks': None,\n",
       "  'relationships': [{'related_person': '15834-1033-3-P6',\n",
       "    'relationship_type': 'enslaver'}]},\n",
       " {'id': '15834-1033-3-P6',\n",
       "  'name': 'Capitan Antonio Benites',\n",
       "  'origin': None,\n",
       "  'ethnicities': None,\n",
       "  'age': None,\n",
       "  'legitimacy': None,\n",
       "  'occupation': None,\n",
       "  'phenotype': None,\n",
       "  'status': None,\n",
       "  'titles': None,\n",
       "  'ranks': None,\n",
       "  'relationships': [{'related_person': '15834-1033-3-P5',\n",
       "    'relationship_type': 'slave'},\n",
       "   {'related_person': '15834-1033-3-P4', 'relationship_type': 'slave'}]},\n",
       " {'id': '15834-1033-3-P7',\n",
       "  'name': 'Ysabel Mendez',\n",
       "  'origin': None,\n",
       "  'ethnicities': None,\n",
       "  'age': None,\n",
       "  'legitimacy': None,\n",
       "  'occupation': None,\n",
       "  'phenotype': None,\n",
       "  'status': None,\n",
       "  'titles': None,\n",
       "  'ranks': None,\n",
       "  'relationships': [{'related_person': '15834-1033-3-P1',\n",
       "    'relationship_type': 'godchild'}]},\n",
       " {'id': '15834-1033-3-P1;15834-1033-3-P3',\n",
       "  'name': 'Maria',\n",
       "  'origin': None,\n",
       "  'ethnicities': None,\n",
       "  'age': None,\n",
       "  'legitimacy': None,\n",
       "  'occupation': None,\n",
       "  'phenotype': None,\n",
       "  'status': 'Esc.a',\n",
       "  'titles': None,\n",
       "  'ranks': None,\n",
       "  'relationships': [{'related_person': '15834-1033-3-P7',\n",
       "    'relationship_type': 'godparent'}]},\n",
       " {'id': '15834-1033-3-P2;15834-1033-3-P8',\n",
       "  'name': 'Thomas de Orvera',\n",
       "  'origin': None,\n",
       "  'ethnicities': None,\n",
       "  'age': None,\n",
       "  'legitimacy': None,\n",
       "  'occupation': None,\n",
       "  'phenotype': None,\n",
       "  'status': None,\n",
       "  'titles': None,\n",
       "  'ranks': None,\n",
       "  'relationships': None}]"
      ]
     },
     "metadata": {},
     "output_type": "display_data"
    },
    {
     "name": "stdout",
     "output_type": "stream",
     "text": [
      "Entry places:\n"
     ]
    },
    {
     "data": {
      "text/plain": [
       "['Catedral de San Carlos Borromeo']"
      ]
     },
     "metadata": {},
     "output_type": "display_data"
    },
    {
     "name": "stdout",
     "output_type": "stream",
     "text": [
      "Entry events:\n"
     ]
    },
    {
     "data": {
      "text/plain": [
       "[{'id': '15834-1033-3-E1',\n",
       "  'type': 'baptism',\n",
       "  'principal': '15834-1033-3-P1',\n",
       "  'date': '1719-02-01',\n",
       "  'location': 'Catedral de San Carlos Borromeo',\n",
       "  'cleric': '15834-1033-3-P2'}]"
      ]
     },
     "metadata": {},
     "output_type": "display_data"
    },
    {
     "name": "stdout",
     "output_type": "stream",
     "text": [
      "Uncategorized characteristics:\n"
     ]
    },
    {
     "ename": "KeyboardInterrupt",
     "evalue": "",
     "output_type": "error",
     "traceback": [
      "\u001b[1;31m---------------------------------------------------------------------------\u001b[0m",
      "\u001b[1;31mKeyboardInterrupt\u001b[0m                         Traceback (most recent call last)",
      "\u001b[1;32m<ipython-input-11-b30c358d2068>\u001b[0m in \u001b[0;36m<module>\u001b[1;34m\u001b[0m\n\u001b[0;32m      9\u001b[0m     \u001b[0mmy_trans\u001b[0m \u001b[1;33m=\u001b[0m \u001b[1;34m\"transcriptions\\\\\"\u001b[0m \u001b[1;33m+\u001b[0m \u001b[0mstr\u001b[0m\u001b[1;33m(\u001b[0m\u001b[0mmodelTemp\u001b[0m\u001b[1;33m)\u001b[0m \u001b[1;33m+\u001b[0m \u001b[1;34m\".xml\"\u001b[0m\u001b[1;33m\u001b[0m\u001b[1;33m\u001b[0m\u001b[0m\n\u001b[0;32m     10\u001b[0m     \u001b[0mmy_dir\u001b[0m \u001b[1;33m=\u001b[0m \u001b[1;34m\"models/\"\u001b[0m \u001b[1;33m+\u001b[0m \u001b[0mstr\u001b[0m\u001b[1;33m(\u001b[0m\u001b[0mmodelTemp\u001b[0m\u001b[1;33m)\u001b[0m\u001b[1;33m\u001b[0m\u001b[1;33m\u001b[0m\u001b[0m\n\u001b[1;32m---> 11\u001b[1;33m     \u001b[0mpeople\u001b[0m\u001b[1;33m[\u001b[0m\u001b[0midx\u001b[0m\u001b[1;33m]\u001b[0m\u001b[1;33m,\u001b[0m \u001b[0mplaces\u001b[0m\u001b[1;33m[\u001b[0m\u001b[0midx\u001b[0m\u001b[1;33m]\u001b[0m\u001b[1;33m,\u001b[0m \u001b[0mevents\u001b[0m\u001b[1;33m[\u001b[0m\u001b[0midx\u001b[0m\u001b[1;33m]\u001b[0m\u001b[1;33m,\u001b[0m \u001b[0mjson_path\u001b[0m\u001b[1;33m[\u001b[0m\u001b[0midx\u001b[0m\u001b[1;33m]\u001b[0m\u001b[1;33m,\u001b[0m \u001b[0mentities\u001b[0m\u001b[1;33m[\u001b[0m\u001b[0midx\u001b[0m\u001b[1;33m]\u001b[0m\u001b[1;33m,\u001b[0m \u001b[0mnoCategory\u001b[0m\u001b[1;33m[\u001b[0m\u001b[0midx\u001b[0m\u001b[1;33m]\u001b[0m\u001b[1;33m,\u001b[0m \u001b[0mvalidation_list\u001b[0m\u001b[1;33m[\u001b[0m\u001b[0midx\u001b[0m\u001b[1;33m]\u001b[0m \u001b[1;33m=\u001b[0m \u001b[0mprocess_volume\u001b[0m\u001b[1;33m(\u001b[0m\u001b[0mmy_trans\u001b[0m\u001b[1;33m,\u001b[0m \u001b[0mmy_dir\u001b[0m\u001b[1;33m)\u001b[0m\u001b[1;33m\u001b[0m\u001b[1;33m\u001b[0m\u001b[0m\n\u001b[0m\u001b[0;32m     12\u001b[0m     \u001b[0mprint\u001b[0m\u001b[1;33m(\u001b[0m\u001b[1;34m\"--------------------------------------\"\u001b[0m\u001b[1;33m)\u001b[0m\u001b[1;33m\u001b[0m\u001b[1;33m\u001b[0m\u001b[0m\n\u001b[0;32m     13\u001b[0m     \u001b[0mval_vis_bar\u001b[0m\u001b[1;33m(\u001b[0m\u001b[0mvalidation_list\u001b[0m\u001b[1;33m[\u001b[0m\u001b[0midx\u001b[0m\u001b[1;33m]\u001b[0m\u001b[1;33m)\u001b[0m\u001b[1;33m\u001b[0m\u001b[1;33m\u001b[0m\u001b[0m\n",
      "\u001b[1;32m~\\Desktop\\MetaFolder\\SSDA\\ssda-nlp\\ssda_nlp\\full_volume.py\u001b[0m in \u001b[0;36mprocess_volume\u001b[1;34m(path_to_transcription, path_to_model)\u001b[0m\n\u001b[0;32m    374\u001b[0m         \u001b[0mentities\u001b[0m\u001b[1;33m[\u001b[0m\u001b[1;34m\"assigned\"\u001b[0m\u001b[1;33m]\u001b[0m \u001b[1;33m=\u001b[0m \u001b[1;32mTrue\u001b[0m\u001b[1;33m\u001b[0m\u001b[1;33m\u001b[0m\u001b[0m\n\u001b[0;32m    375\u001b[0m \u001b[1;33m\u001b[0m\u001b[0m\n\u001b[1;32m--> 376\u001b[1;33m         \u001b[0mentry_people\u001b[0m\u001b[1;33m,\u001b[0m \u001b[0mentry_places\u001b[0m\u001b[1;33m,\u001b[0m \u001b[0mentry_events\u001b[0m\u001b[1;33m,\u001b[0m \u001b[0mentities\u001b[0m\u001b[1;33m,\u001b[0m \u001b[0mcharacteristics_df\u001b[0m\u001b[1;33m,\u001b[0m \u001b[0mcategorized_characteristics\u001b[0m\u001b[1;33m,\u001b[0m \u001b[0muncategorized_characteristics\u001b[0m \u001b[1;33m=\u001b[0m \u001b[0mbuild_entry_metadata\u001b[0m\u001b[1;33m(\u001b[0m\u001b[0mentry_text\u001b[0m\u001b[1;33m,\u001b[0m \u001b[0mentities\u001b[0m\u001b[1;33m,\u001b[0m \u001b[0mpath_to_transcription\u001b[0m\u001b[1;33m,\u001b[0m \u001b[0mentry_no\u001b[0m\u001b[1;33m)\u001b[0m\u001b[1;33m\u001b[0m\u001b[1;33m\u001b[0m\u001b[0m\n\u001b[0m\u001b[0;32m    377\u001b[0m \u001b[1;33m\u001b[0m\u001b[0m\n\u001b[0;32m    378\u001b[0m         \u001b[1;32mif\u001b[0m \u001b[0muncategorized_characteristics\u001b[0m\u001b[1;33m.\u001b[0m\u001b[0mshape\u001b[0m\u001b[1;33m[\u001b[0m\u001b[1;36m0\u001b[0m\u001b[1;33m]\u001b[0m \u001b[1;33m>\u001b[0m \u001b[1;36m0\u001b[0m\u001b[1;33m:\u001b[0m\u001b[1;33m\u001b[0m\u001b[1;33m\u001b[0m\u001b[0m\n",
      "\u001b[1;32m~\\Desktop\\MetaFolder\\SSDA\\ssda-nlp\\ssda_nlp\\relationships.py\u001b[0m in \u001b[0;36mbuild_entry_metadata\u001b[1;34m(entry_text, entities, path_to_volume_xml, entry_number)\u001b[0m\n\u001b[0;32m   1544\u001b[0m \u001b[1;33m\u001b[0m\u001b[0m\n\u001b[0;32m   1545\u001b[0m         \u001b[0mcharacteristics_df\u001b[0m\u001b[1;33m,\u001b[0m \u001b[0muncategorized_characteristics\u001b[0m \u001b[1;33m=\u001b[0m \u001b[0mcategorize_characteristics\u001b[0m\u001b[1;33m(\u001b[0m\u001b[0mentities\u001b[0m\u001b[1;33m,\u001b[0m \u001b[0mcharacteristics_df\u001b[0m\u001b[1;33m)\u001b[0m\u001b[1;33m\u001b[0m\u001b[1;33m\u001b[0m\u001b[0m\n\u001b[1;32m-> 1546\u001b[1;33m         \u001b[0mpeople\u001b[0m\u001b[1;33m,\u001b[0m \u001b[0mcategorized_characteristics\u001b[0m \u001b[1;33m=\u001b[0m \u001b[0massign_characteristics\u001b[0m\u001b[1;33m(\u001b[0m\u001b[0mentry_text\u001b[0m\u001b[1;33m,\u001b[0m \u001b[0mentities\u001b[0m\u001b[1;33m,\u001b[0m \u001b[0mcharacteristics_df\u001b[0m\u001b[1;33m,\u001b[0m \u001b[0mpeople_df\u001b[0m\u001b[1;33m,\u001b[0m \u001b[0mvolume_metadata\u001b[0m\u001b[1;33m)\u001b[0m\u001b[1;33m\u001b[0m\u001b[1;33m\u001b[0m\u001b[0m\n\u001b[0m\u001b[0;32m   1547\u001b[0m         \u001b[1;31m#############################################################\u001b[0m\u001b[1;33m\u001b[0m\u001b[1;33m\u001b[0m\u001b[1;33m\u001b[0m\u001b[0m\n\u001b[0;32m   1548\u001b[0m         \u001b[1;31m### KAI EDIT: added entities here as output ###\u001b[0m\u001b[1;33m\u001b[0m\u001b[1;33m\u001b[0m\u001b[1;33m\u001b[0m\u001b[0m\n",
      "\u001b[1;32m~\\Desktop\\MetaFolder\\SSDA\\ssda-nlp\\ssda_nlp\\relationships.py\u001b[0m in \u001b[0;36massign_characteristics\u001b[1;34m(entry_text, entities_df, characteristics_df, unique_individuals, volume_metadata)\u001b[0m\n\u001b[0;32m    623\u001b[0m     \u001b[0mpeople\u001b[0m \u001b[1;33m=\u001b[0m \u001b[1;33m[\u001b[0m\u001b[1;33m]\u001b[0m\u001b[1;33m\u001b[0m\u001b[1;33m\u001b[0m\u001b[0m\n\u001b[0;32m    624\u001b[0m     \u001b[0methnicities\u001b[0m \u001b[1;33m=\u001b[0m \u001b[0mretrieve_controlled_vocabularies\u001b[0m\u001b[1;33m(\u001b[0m\u001b[1;33m)\u001b[0m\u001b[1;33m[\u001b[0m\u001b[1;34m\"ethnicities\"\u001b[0m\u001b[1;33m]\u001b[0m\u001b[1;33m\u001b[0m\u001b[1;33m\u001b[0m\u001b[0m\n\u001b[1;32m--> 625\u001b[1;33m     \u001b[0mcategorized_characteristics\u001b[0m\u001b[1;33m,\u001b[0m \u001b[0muncat_char\u001b[0m \u001b[1;33m=\u001b[0m \u001b[0mcategorize_characteristics\u001b[0m\u001b[1;33m(\u001b[0m\u001b[0mentities_df\u001b[0m\u001b[1;33m,\u001b[0m \u001b[0mcharacteristics_df\u001b[0m\u001b[1;33m)\u001b[0m\u001b[1;33m\u001b[0m\u001b[1;33m\u001b[0m\u001b[0m\n\u001b[0m\u001b[0;32m    626\u001b[0m     \u001b[0massignments\u001b[0m \u001b[1;33m=\u001b[0m \u001b[1;33m[\u001b[0m\u001b[1;32mNone\u001b[0m\u001b[1;33m]\u001b[0m \u001b[1;33m*\u001b[0m \u001b[0mlen\u001b[0m\u001b[1;33m(\u001b[0m\u001b[0mcharacteristics_df\u001b[0m\u001b[1;33m.\u001b[0m\u001b[0mindex\u001b[0m\u001b[1;33m)\u001b[0m\u001b[1;33m\u001b[0m\u001b[1;33m\u001b[0m\u001b[0m\n\u001b[0;32m    627\u001b[0m     \u001b[0mcategorized_characteristics\u001b[0m\u001b[1;33m.\u001b[0m\u001b[0mreset_index\u001b[0m\u001b[1;33m(\u001b[0m\u001b[0minplace\u001b[0m\u001b[1;33m=\u001b[0m\u001b[1;32mTrue\u001b[0m\u001b[1;33m)\u001b[0m\u001b[1;33m\u001b[0m\u001b[1;33m\u001b[0m\u001b[0m\n",
      "\u001b[1;32m~\\Desktop\\MetaFolder\\SSDA\\ssda-nlp\\ssda_nlp\\relationships.py\u001b[0m in \u001b[0;36mcategorize_characteristics\u001b[1;34m(entities_df, characteristics_df)\u001b[0m\n\u001b[0;32m    599\u001b[0m \u001b[1;33m\u001b[0m\u001b[0m\n\u001b[0;32m    600\u001b[0m         \u001b[1;32mif\u001b[0m \u001b[0mcategory\u001b[0m \u001b[1;33m==\u001b[0m \u001b[1;32mNone\u001b[0m\u001b[1;33m:\u001b[0m\u001b[1;33m\u001b[0m\u001b[1;33m\u001b[0m\u001b[0m\n\u001b[1;32m--> 601\u001b[1;33m             \u001b[0muncategorized_characteristics\u001b[0m \u001b[1;33m=\u001b[0m \u001b[0muncategorized_characteristics\u001b[0m\u001b[1;33m.\u001b[0m\u001b[0mappend\u001b[0m\u001b[1;33m(\u001b[0m\u001b[0mentities_df\u001b[0m\u001b[1;33m.\u001b[0m\u001b[0miloc\u001b[0m\u001b[1;33m[\u001b[0m\u001b[0mindex\u001b[0m\u001b[1;33m]\u001b[0m\u001b[1;33m)\u001b[0m\u001b[1;33m\u001b[0m\u001b[1;33m\u001b[0m\u001b[0m\n\u001b[0m\u001b[0;32m    602\u001b[0m \u001b[1;33m\u001b[0m\u001b[0m\n\u001b[0;32m    603\u001b[0m         \u001b[0mcategories\u001b[0m\u001b[1;33m.\u001b[0m\u001b[0mappend\u001b[0m\u001b[1;33m(\u001b[0m\u001b[0mcategory\u001b[0m\u001b[1;33m)\u001b[0m\u001b[1;33m\u001b[0m\u001b[1;33m\u001b[0m\u001b[0m\n",
      "\u001b[1;32m~\\anaconda3\\lib\\site-packages\\pandas\\core\\frame.py\u001b[0m in \u001b[0;36mappend\u001b[1;34m(self, other, ignore_index, verify_integrity, sort)\u001b[0m\n\u001b[0;32m   7058\u001b[0m                 \u001b[0mcombined_columns\u001b[0m \u001b[1;33m=\u001b[0m \u001b[0mself\u001b[0m\u001b[1;33m.\u001b[0m\u001b[0mcolumns\u001b[0m\u001b[1;33m.\u001b[0m\u001b[0mastype\u001b[0m\u001b[1;33m(\u001b[0m\u001b[0mobject\u001b[0m\u001b[1;33m)\u001b[0m\u001b[1;33m.\u001b[0m\u001b[0mappend\u001b[0m\u001b[1;33m(\u001b[0m\u001b[0midx_diff\u001b[0m\u001b[1;33m)\u001b[0m\u001b[1;33m\u001b[0m\u001b[1;33m\u001b[0m\u001b[0m\n\u001b[0;32m   7059\u001b[0m             other = (\n\u001b[1;32m-> 7060\u001b[1;33m                 \u001b[0mother\u001b[0m\u001b[1;33m.\u001b[0m\u001b[0mreindex\u001b[0m\u001b[1;33m(\u001b[0m\u001b[0mcombined_columns\u001b[0m\u001b[1;33m,\u001b[0m \u001b[0mcopy\u001b[0m\u001b[1;33m=\u001b[0m\u001b[1;32mFalse\u001b[0m\u001b[1;33m)\u001b[0m\u001b[1;33m\u001b[0m\u001b[1;33m\u001b[0m\u001b[0m\n\u001b[0m\u001b[0;32m   7061\u001b[0m                 \u001b[1;33m.\u001b[0m\u001b[0mto_frame\u001b[0m\u001b[1;33m(\u001b[0m\u001b[1;33m)\u001b[0m\u001b[1;33m\u001b[0m\u001b[1;33m\u001b[0m\u001b[0m\n\u001b[0;32m   7062\u001b[0m                 \u001b[1;33m.\u001b[0m\u001b[0mT\u001b[0m\u001b[1;33m.\u001b[0m\u001b[0minfer_objects\u001b[0m\u001b[1;33m(\u001b[0m\u001b[1;33m)\u001b[0m\u001b[1;33m\u001b[0m\u001b[1;33m\u001b[0m\u001b[0m\n",
      "\u001b[1;32m~\\anaconda3\\lib\\site-packages\\pandas\\core\\frame.py\u001b[0m in \u001b[0;36mtranspose\u001b[1;34m(self, copy, *args)\u001b[0m\n\u001b[0;32m   2710\u001b[0m                 \u001b[0mnew_values\u001b[0m \u001b[1;33m=\u001b[0m \u001b[0mnew_values\u001b[0m\u001b[1;33m.\u001b[0m\u001b[0mcopy\u001b[0m\u001b[1;33m(\u001b[0m\u001b[1;33m)\u001b[0m\u001b[1;33m\u001b[0m\u001b[1;33m\u001b[0m\u001b[0m\n\u001b[0;32m   2711\u001b[0m             result = self._constructor(\n\u001b[1;32m-> 2712\u001b[1;33m                 \u001b[0mnew_values\u001b[0m\u001b[1;33m,\u001b[0m \u001b[0mindex\u001b[0m\u001b[1;33m=\u001b[0m\u001b[0mself\u001b[0m\u001b[1;33m.\u001b[0m\u001b[0mcolumns\u001b[0m\u001b[1;33m,\u001b[0m \u001b[0mcolumns\u001b[0m\u001b[1;33m=\u001b[0m\u001b[0mself\u001b[0m\u001b[1;33m.\u001b[0m\u001b[0mindex\u001b[0m\u001b[1;33m\u001b[0m\u001b[1;33m\u001b[0m\u001b[0m\n\u001b[0m\u001b[0;32m   2713\u001b[0m             )\n\u001b[0;32m   2714\u001b[0m \u001b[1;33m\u001b[0m\u001b[0m\n",
      "\u001b[1;32m~\\anaconda3\\lib\\site-packages\\pandas\\core\\frame.py\u001b[0m in \u001b[0;36m__init__\u001b[1;34m(self, data, index, columns, dtype, copy)\u001b[0m\n\u001b[0;32m    462\u001b[0m                 \u001b[0mmgr\u001b[0m \u001b[1;33m=\u001b[0m \u001b[0minit_dict\u001b[0m\u001b[1;33m(\u001b[0m\u001b[1;33m{\u001b[0m\u001b[0mdata\u001b[0m\u001b[1;33m.\u001b[0m\u001b[0mname\u001b[0m\u001b[1;33m:\u001b[0m \u001b[0mdata\u001b[0m\u001b[1;33m}\u001b[0m\u001b[1;33m,\u001b[0m \u001b[0mindex\u001b[0m\u001b[1;33m,\u001b[0m \u001b[0mcolumns\u001b[0m\u001b[1;33m,\u001b[0m \u001b[0mdtype\u001b[0m\u001b[1;33m=\u001b[0m\u001b[0mdtype\u001b[0m\u001b[1;33m)\u001b[0m\u001b[1;33m\u001b[0m\u001b[1;33m\u001b[0m\u001b[0m\n\u001b[0;32m    463\u001b[0m             \u001b[1;32melse\u001b[0m\u001b[1;33m:\u001b[0m\u001b[1;33m\u001b[0m\u001b[1;33m\u001b[0m\u001b[0m\n\u001b[1;32m--> 464\u001b[1;33m                 \u001b[0mmgr\u001b[0m \u001b[1;33m=\u001b[0m \u001b[0minit_ndarray\u001b[0m\u001b[1;33m(\u001b[0m\u001b[0mdata\u001b[0m\u001b[1;33m,\u001b[0m \u001b[0mindex\u001b[0m\u001b[1;33m,\u001b[0m \u001b[0mcolumns\u001b[0m\u001b[1;33m,\u001b[0m \u001b[0mdtype\u001b[0m\u001b[1;33m=\u001b[0m\u001b[0mdtype\u001b[0m\u001b[1;33m,\u001b[0m \u001b[0mcopy\u001b[0m\u001b[1;33m=\u001b[0m\u001b[0mcopy\u001b[0m\u001b[1;33m)\u001b[0m\u001b[1;33m\u001b[0m\u001b[1;33m\u001b[0m\u001b[0m\n\u001b[0m\u001b[0;32m    465\u001b[0m \u001b[1;33m\u001b[0m\u001b[0m\n\u001b[0;32m    466\u001b[0m         \u001b[1;31m# For data is list-like, or Iterable (will consume into list)\u001b[0m\u001b[1;33m\u001b[0m\u001b[1;33m\u001b[0m\u001b[1;33m\u001b[0m\u001b[0m\n",
      "\u001b[1;32m~\\anaconda3\\lib\\site-packages\\pandas\\core\\internals\\construction.py\u001b[0m in \u001b[0;36minit_ndarray\u001b[1;34m(values, index, columns, dtype, copy)\u001b[0m\n\u001b[0;32m    208\u001b[0m         \u001b[0mblock_values\u001b[0m \u001b[1;33m=\u001b[0m \u001b[1;33m[\u001b[0m\u001b[0mvalues\u001b[0m\u001b[1;33m]\u001b[0m\u001b[1;33m\u001b[0m\u001b[1;33m\u001b[0m\u001b[0m\n\u001b[0;32m    209\u001b[0m \u001b[1;33m\u001b[0m\u001b[0m\n\u001b[1;32m--> 210\u001b[1;33m     \u001b[1;32mreturn\u001b[0m \u001b[0mcreate_block_manager_from_blocks\u001b[0m\u001b[1;33m(\u001b[0m\u001b[0mblock_values\u001b[0m\u001b[1;33m,\u001b[0m \u001b[1;33m[\u001b[0m\u001b[0mcolumns\u001b[0m\u001b[1;33m,\u001b[0m \u001b[0mindex\u001b[0m\u001b[1;33m]\u001b[0m\u001b[1;33m)\u001b[0m\u001b[1;33m\u001b[0m\u001b[1;33m\u001b[0m\u001b[0m\n\u001b[0m\u001b[0;32m    211\u001b[0m \u001b[1;33m\u001b[0m\u001b[0m\n\u001b[0;32m    212\u001b[0m \u001b[1;33m\u001b[0m\u001b[0m\n",
      "\u001b[1;32m~\\anaconda3\\lib\\site-packages\\pandas\\core\\internals\\managers.py\u001b[0m in \u001b[0;36mcreate_block_manager_from_blocks\u001b[1;34m(blocks, axes)\u001b[0m\n\u001b[0;32m   1656\u001b[0m \u001b[1;33m\u001b[0m\u001b[0m\n\u001b[0;32m   1657\u001b[0m         \u001b[0mmgr\u001b[0m \u001b[1;33m=\u001b[0m \u001b[0mBlockManager\u001b[0m\u001b[1;33m(\u001b[0m\u001b[0mblocks\u001b[0m\u001b[1;33m,\u001b[0m \u001b[0maxes\u001b[0m\u001b[1;33m)\u001b[0m\u001b[1;33m\u001b[0m\u001b[1;33m\u001b[0m\u001b[0m\n\u001b[1;32m-> 1658\u001b[1;33m         \u001b[0mmgr\u001b[0m\u001b[1;33m.\u001b[0m\u001b[0m_consolidate_inplace\u001b[0m\u001b[1;33m(\u001b[0m\u001b[1;33m)\u001b[0m\u001b[1;33m\u001b[0m\u001b[1;33m\u001b[0m\u001b[0m\n\u001b[0m\u001b[0;32m   1659\u001b[0m         \u001b[1;32mreturn\u001b[0m \u001b[0mmgr\u001b[0m\u001b[1;33m\u001b[0m\u001b[1;33m\u001b[0m\u001b[0m\n\u001b[0;32m   1660\u001b[0m \u001b[1;33m\u001b[0m\u001b[0m\n",
      "\u001b[1;32m~\\anaconda3\\lib\\site-packages\\pandas\\core\\internals\\managers.py\u001b[0m in \u001b[0;36m_consolidate_inplace\u001b[1;34m(self)\u001b[0m\n\u001b[0;32m    943\u001b[0m     \u001b[1;32mdef\u001b[0m \u001b[0m_consolidate_inplace\u001b[0m\u001b[1;33m(\u001b[0m\u001b[0mself\u001b[0m\u001b[1;33m)\u001b[0m\u001b[1;33m:\u001b[0m\u001b[1;33m\u001b[0m\u001b[1;33m\u001b[0m\u001b[0m\n\u001b[0;32m    944\u001b[0m         \u001b[1;32mif\u001b[0m \u001b[1;32mnot\u001b[0m \u001b[0mself\u001b[0m\u001b[1;33m.\u001b[0m\u001b[0mis_consolidated\u001b[0m\u001b[1;33m(\u001b[0m\u001b[1;33m)\u001b[0m\u001b[1;33m:\u001b[0m\u001b[1;33m\u001b[0m\u001b[1;33m\u001b[0m\u001b[0m\n\u001b[1;32m--> 945\u001b[1;33m             \u001b[0mself\u001b[0m\u001b[1;33m.\u001b[0m\u001b[0mblocks\u001b[0m \u001b[1;33m=\u001b[0m \u001b[0mtuple\u001b[0m\u001b[1;33m(\u001b[0m\u001b[0m_consolidate\u001b[0m\u001b[1;33m(\u001b[0m\u001b[0mself\u001b[0m\u001b[1;33m.\u001b[0m\u001b[0mblocks\u001b[0m\u001b[1;33m)\u001b[0m\u001b[1;33m)\u001b[0m\u001b[1;33m\u001b[0m\u001b[1;33m\u001b[0m\u001b[0m\n\u001b[0m\u001b[0;32m    946\u001b[0m             \u001b[0mself\u001b[0m\u001b[1;33m.\u001b[0m\u001b[0m_is_consolidated\u001b[0m \u001b[1;33m=\u001b[0m \u001b[1;32mTrue\u001b[0m\u001b[1;33m\u001b[0m\u001b[1;33m\u001b[0m\u001b[0m\n\u001b[0;32m    947\u001b[0m             \u001b[0mself\u001b[0m\u001b[1;33m.\u001b[0m\u001b[0m_known_consolidated\u001b[0m \u001b[1;33m=\u001b[0m \u001b[1;32mTrue\u001b[0m\u001b[1;33m\u001b[0m\u001b[1;33m\u001b[0m\u001b[0m\n",
      "\u001b[1;32m~\\anaconda3\\lib\\site-packages\\pandas\\core\\internals\\managers.py\u001b[0m in \u001b[0;36m_consolidate\u001b[1;34m(blocks)\u001b[0m\n\u001b[0;32m   1885\u001b[0m     \u001b[1;32mfor\u001b[0m \u001b[1;33m(\u001b[0m\u001b[0m_can_consolidate\u001b[0m\u001b[1;33m,\u001b[0m \u001b[0mdtype\u001b[0m\u001b[1;33m)\u001b[0m\u001b[1;33m,\u001b[0m \u001b[0mgroup_blocks\u001b[0m \u001b[1;32min\u001b[0m \u001b[0mgrouper\u001b[0m\u001b[1;33m:\u001b[0m\u001b[1;33m\u001b[0m\u001b[1;33m\u001b[0m\u001b[0m\n\u001b[0;32m   1886\u001b[0m         merged_blocks = _merge_blocks(\n\u001b[1;32m-> 1887\u001b[1;33m             \u001b[0mlist\u001b[0m\u001b[1;33m(\u001b[0m\u001b[0mgroup_blocks\u001b[0m\u001b[1;33m)\u001b[0m\u001b[1;33m,\u001b[0m \u001b[0mdtype\u001b[0m\u001b[1;33m=\u001b[0m\u001b[0mdtype\u001b[0m\u001b[1;33m,\u001b[0m \u001b[0m_can_consolidate\u001b[0m\u001b[1;33m=\u001b[0m\u001b[0m_can_consolidate\u001b[0m\u001b[1;33m\u001b[0m\u001b[1;33m\u001b[0m\u001b[0m\n\u001b[0m\u001b[0;32m   1888\u001b[0m         )\n\u001b[0;32m   1889\u001b[0m         \u001b[0mnew_blocks\u001b[0m \u001b[1;33m=\u001b[0m \u001b[0m_extend_blocks\u001b[0m\u001b[1;33m(\u001b[0m\u001b[0mmerged_blocks\u001b[0m\u001b[1;33m,\u001b[0m \u001b[0mnew_blocks\u001b[0m\u001b[1;33m)\u001b[0m\u001b[1;33m\u001b[0m\u001b[1;33m\u001b[0m\u001b[0m\n",
      "\u001b[1;32m~\\anaconda3\\lib\\site-packages\\pandas\\core\\internals\\blocks.py\u001b[0m in \u001b[0;36m_merge_blocks\u001b[1;34m(blocks, dtype, _can_consolidate)\u001b[0m\n\u001b[0;32m   3090\u001b[0m         \u001b[1;31m# FIXME: optimization potential in case all mgrs contain slices and\u001b[0m\u001b[1;33m\u001b[0m\u001b[1;33m\u001b[0m\u001b[1;33m\u001b[0m\u001b[0m\n\u001b[0;32m   3091\u001b[0m         \u001b[1;31m# combination of those slices is a slice, too.\u001b[0m\u001b[1;33m\u001b[0m\u001b[1;33m\u001b[0m\u001b[1;33m\u001b[0m\u001b[0m\n\u001b[1;32m-> 3092\u001b[1;33m         \u001b[0mnew_mgr_locs\u001b[0m \u001b[1;33m=\u001b[0m \u001b[0mnp\u001b[0m\u001b[1;33m.\u001b[0m\u001b[0mconcatenate\u001b[0m\u001b[1;33m(\u001b[0m\u001b[1;33m[\u001b[0m\u001b[0mb\u001b[0m\u001b[1;33m.\u001b[0m\u001b[0mmgr_locs\u001b[0m\u001b[1;33m.\u001b[0m\u001b[0mas_array\u001b[0m \u001b[1;32mfor\u001b[0m \u001b[0mb\u001b[0m \u001b[1;32min\u001b[0m \u001b[0mblocks\u001b[0m\u001b[1;33m]\u001b[0m\u001b[1;33m)\u001b[0m\u001b[1;33m\u001b[0m\u001b[1;33m\u001b[0m\u001b[0m\n\u001b[0m\u001b[0;32m   3093\u001b[0m         \u001b[0mnew_values\u001b[0m \u001b[1;33m=\u001b[0m \u001b[0mnp\u001b[0m\u001b[1;33m.\u001b[0m\u001b[0mvstack\u001b[0m\u001b[1;33m(\u001b[0m\u001b[1;33m[\u001b[0m\u001b[0mb\u001b[0m\u001b[1;33m.\u001b[0m\u001b[0mvalues\u001b[0m \u001b[1;32mfor\u001b[0m \u001b[0mb\u001b[0m \u001b[1;32min\u001b[0m \u001b[0mblocks\u001b[0m\u001b[1;33m]\u001b[0m\u001b[1;33m)\u001b[0m\u001b[1;33m\u001b[0m\u001b[1;33m\u001b[0m\u001b[0m\n\u001b[0;32m   3094\u001b[0m \u001b[1;33m\u001b[0m\u001b[0m\n",
      "\u001b[1;32m<__array_function__ internals>\u001b[0m in \u001b[0;36mconcatenate\u001b[1;34m(*args, **kwargs)\u001b[0m\n",
      "\u001b[1;31mKeyboardInterrupt\u001b[0m: "
     ]
    }
   ],
   "source": [
    "models_list = [\"15834\", \"166470\", \"239746\", \"exhaustive_models\", \"mat_baut_1\", \"port01\", \"st_aug_bapt_2\"]\n",
    "#column names: people, places, events, json_path, entities, noCategory, validation_list\n",
    "column_list = [\"people\", \"places\", \"events\", \"json_path\", \"entities\", \"noCategory\", \"validation_list\"]\n",
    "for col in column_list:\n",
    "    col = [0]*len(models_list)\n",
    "\n",
    "for idx, modelTemp in enumerate(models_list):\n",
    "    #\"transcriptions\\\\15834.xml\", \"models/15834\"\n",
    "    my_trans = \"transcriptions\\\\\" + str(modelTemp) + \".xml\"\n",
    "    my_dir = \"models/\" + str(modelTemp)\n",
    "    people[idx], places[idx], events[idx], json_path[idx], entities[idx], noCategory[idx], validation_list[idx] = process_volume(my_trans, my_dir)\n",
    "    print(\"--------------------------------------\")\n",
    "    val_vis_bar(validation_list[idx])\n",
    "    "
   ]
  },
  {
   "cell_type": "markdown",
   "metadata": {},
   "source": [
    "## Bar Graph of All Validation Checks"
   ]
  },
  {
   "cell_type": "code",
   "execution_count": null,
   "metadata": {},
   "outputs": [
    {
     "data": {
      "image/png": "[encoded data removed]",
      "text/plain": [
       "<Figure size 1080x720 with 1 Axes>"
      ]
     },
     "metadata": {
      "needs_background": "dark"
     },
     "output_type": "display_data"
    }
   ],
   "source": [
    "#no_test\n",
    "\n",
    "#plot the results\n",
    "plt.figure(figsize=(15,10))\n",
    "#Font sizes\n",
    "title_font = 30\n",
    "label_font = 22\n",
    "tick_font = 15\n",
    "\n",
    "objects = val1.keys()\n",
    "y_pos = np.arange(len(objects))\n",
    "performance = val1\n",
    "\n",
    "plt.bar(y_pos, performance, align='center', alpha=0.5, color=colors_array)\n",
    "plt.xticks(ticks=y_pos, labels=objects, rotation=75, fontsize=tick_font)\n",
    "plt.xlabel('Checks', fontsize=label_font)\n",
    "plt.ylabel('Total Number of Validation Flags', fontsize=label_font)\n",
    "plt.title('Full Volume Validation Checks', fontsize=title_font)\n",
    "\n",
    "plt.show()"
   ]
  },
  {
   "cell_type": "code",
   "execution_count": null,
   "metadata": {},
   "outputs": [],
   "source": []
  },
  {
   "cell_type": "code",
   "execution_count": null,
   "metadata": {},
   "outputs": [],
   "source": []
  },
  {
   "cell_type": "code",
   "execution_count": null,
   "metadata": {},
   "outputs": [
    {
     "data": {
      "text/plain": [
       "'volume_records/csv/'"
      ]
     },
     "execution_count": null,
     "metadata": {},
     "output_type": "execute_result"
    }
   ],
   "source": [
    "#no_test\n",
    "\n",
    "#flatten_volume_json(\"volume_records/15834.json\", csv_root = \"volume_records/csv/\")"
   ]
  },
  {
   "cell_type": "code",
   "execution_count": null,
   "metadata": {},
   "outputs": [
    {
     "name": "stdout",
     "output_type": "stream",
     "text": [
      "Converted 12-ssda-xml-parser.ipynb.\n",
      "Converted 31-collate-xml-entities-spans.ipynb.\n",
      "Converted 33-split-data.ipynb.\n",
      "Converted 41-generic-framework-for-spacy-training.ipynb.\n",
      "Converted 42-initial-model.ipynb.\n",
      "Converted 51-data-preprocessing.ipynb.\n",
      "Converted 52-unstructured-to-markup.ipynb.\n",
      "Converted 53-markup-to-spatial-historian.ipynb.\n",
      "Converted 54-utility-functions.ipynb.\n",
      "Converted 61-prodigy-output-training-demo.ipynb.\n",
      "Converted 62-full-model-application-demo.ipynb.\n",
      "Converted 63-pt-model-training.ipynb.\n",
      "Converted 64-es-model-training.ipynb.\n",
      "Converted 65-all-annotations-model-training.ipynb.\n",
      "Converted 66-es-guatemala-model-training.ipynb.\n",
      "Converted 67-death-and-birth-records-together.ipynb.\n",
      "Converted 70-exhaustive-training.ipynb.\n",
      "Converted 71-relationship-builder.ipynb.\n",
      "Converted 72-full-volume-processor.ipynb.\n",
      "Converted 73-table-output.ipynb.\n",
      "Converted 74-validation-visuals.ipynb.\n"
     ]
    }
   ],
   "source": [
    "#no_test\n",
    "\n",
    "from nbdev.export import notebook2script\n",
    "notebook2script()"
   ]
  },
  {
   "cell_type": "code",
   "execution_count": null,
   "metadata": {},
   "outputs": [],
   "source": []
  }
 ],
 "metadata": {
  "kernelspec": {
   "display_name": "Python 3",
   "language": "python",
   "name": "python3"
  }
 },
 "nbformat": 4,
 "nbformat_minor": 4
}
