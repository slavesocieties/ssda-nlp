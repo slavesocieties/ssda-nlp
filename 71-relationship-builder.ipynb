{
 "cells": [
  {
   "cell_type": "code",
   "execution_count": null,
   "metadata": {},
   "outputs": [],
   "source": [
    "#default_exp relationships"
   ]
  },
  {
   "cell_type": "code",
   "execution_count": null,
   "metadata": {},
   "outputs": [],
   "source": [
    "#export\n",
    "\n",
    "def id_unique_individuals(entry_text, entities, record_type):\n",
    "    '''\n",
    "    identifies all unique individuals that appear in an entry (i.e. removing all multiple mentions of the same person)\n",
    "        entry_text: the full text of a single entry, ported directly from spaCy to ensure congruity\n",
    "        entities: entities of all kinds extracted from that entry by an NER model\n",
    "        record_type: simple flag indicating whether records are baptisms, marriages, burials, etc. (this can also be determined\n",
    "        programmatically and may be deprecated later)\n",
    "        \n",
    "        returns: a list of the unique individuals who appear in an entry\n",
    "    '''\n",
    "    \n",
    "    return unique_individuals"
   ]
  },
  {
   "cell_type": "code",
   "execution_count": null,
   "metadata": {},
   "outputs": [],
   "source": [
    "#export\n",
    "\n",
    "def determine_principals(entry_text, entities, n_principals):\n",
    "    '''\n",
    "    determines the principal of a single-principal event\n",
    "        entry_text: the full text of a single entry, ported directly from spaCy to ensure congruity\n",
    "        entities: entities of all kinds extracted from that entry by an NER model\n",
    "        n_principals: expected number of principals\n",
    "        \n",
    "        returns: the principal(s) of the event in question, or None if no principal can be identified\n",
    "    '''\n",
    "    \n",
    "    entry_text = entry_text.lower()\n",
    "    \n",
    "    if n_principals == 1:        \n",
    "        principals = None\n",
    "        \n",
    "        for index, entity in entities.iterrows():\n",
    "            if entity['pred_label'] == 'PER' and entity['pred_start'] <= 20:\n",
    "                principals = entity['pred_entity']\n",
    "                \n",
    "        if principals == None:            \n",
    "            prox = entry_text.find('oleos')\n",
    "            if prox != -1:\n",
    "                for index, entity in entities.iterrows():\n",
    "                    if entity['pred_label'] == 'PER' and (abs(entity['pred_start'] - prox) <= 10):\n",
    "                        principals = entity['pred_entity']\n",
    "                        \n",
    "        if principals == None:\n",
    "            prox = entry_text.find('nombre')\n",
    "            if prox != -1:\n",
    "                for index, entity in entities.iterrows():\n",
    "                    if entity['pred_label'] == 'PER' and (abs(entity['pred_start'] - prox) <= 10):\n",
    "                        principals = entity['pred_entity']                        \n",
    "        \n",
    "    elif n_principals == 2:\n",
    "        print(\"That number of principals is not supported yet.\")\n",
    "        return None\n",
    "        #process marriage principals\n",
    "    else:\n",
    "        print(\"Invalid number of principals.\")\n",
    "        return None\n",
    "    \n",
    "    return principals"
   ]
  },
  {
   "cell_type": "code",
   "execution_count": null,
   "metadata": {},
   "outputs": [],
   "source": [
    "#export\n",
    "\n",
    "def determine_event_date(entry_text, entities, event_type):\n",
    "    '''\n",
    "    determines the date of a specific event\n",
    "        entry_text: the full text of a single entry, ported directly from spaCy to ensure congruity\n",
    "        entities: entities of all kinds extracted from that entry by an NER model\n",
    "        event_type: this could be either a valid record_type OR a secondary event like a birth\n",
    "        \n",
    "        returns: the date of the event in question, or None if no date can be identified\n",
    "    '''\n",
    "    \n",
    "    return date"
   ]
  },
  {
   "cell_type": "code",
   "execution_count": null,
   "metadata": {},
   "outputs": [],
   "source": [
    "#export\n",
    "\n",
    "def determine_event_location(entry_text, entities, event_type):\n",
    "    '''\n",
    "    determines the location of a specific event\n",
    "        entry_text: the full text of a single entry, ported directly from spaCy to ensure congruity\n",
    "        entities: entities of all kinds extracted from that entry by an NER model\n",
    "        event_type: this could be either a valid record_type OR a secondary event like a birth\n",
    "        \n",
    "        returns: the location of the event in question, or None if no date can be identified\n",
    "    '''\n",
    "    \n",
    "    return location"
   ]
  },
  {
   "cell_type": "code",
   "execution_count": null,
   "metadata": {},
   "outputs": [],
   "source": [
    "#export\n",
    "\n",
    "def identify_cleric(entry_text, entities):\n",
    "    '''\n",
    "    identifies the cleric(s) associated with a sacramental entry\n",
    "        entry_text: the full text of a single entry, ported directly from spaCy to ensure congruity\n",
    "        entities: entities of all kinds extracted from that entry by an NER model        \n",
    "        \n",
    "        returns: the associated cleric(s), or None if no date can be identified\n",
    "    '''\n",
    "    \n",
    "    return clerics"
   ]
  },
  {
   "cell_type": "code",
   "execution_count": null,
   "metadata": {},
   "outputs": [],
   "source": [
    "#export\n",
    "\n",
    "def build_event(entry_text, entities, event_type, principals):\n",
    "    '''\n",
    "    builds out relationships related to a baptism or burial event\n",
    "        entry_text: the full text of a single entry, ported directly from spaCy to ensure congruity\n",
    "        entities: entities of all kinds extracted from that entry by an NER model\n",
    "        \n",
    "        returns: structured representation of these relationships, including (but not necessarily limited to)\n",
    "        the event's principal, the date of the event, the location of the event, and the associated cleric\n",
    "    '''   \n",
    "    \n",
    "    date = determine_event_date(entry_text, entities, event_type)\n",
    "    location = determine_event_location(entry_text, entities, event_type)\n",
    "    cleric = identify_cleric(entry_text, entities)\n",
    "    \n",
    "    return event_relationships"
   ]
  },
  {
   "cell_type": "code",
   "execution_count": null,
   "metadata": {},
   "outputs": [],
   "source": [
    "#export\n",
    "\n",
    "def build_relationships(entry_text, entities, record_type):\n",
    "    '''\n",
    "    Master function that will combine all helper functions built above\n",
    "        entry_text: the full text of a single entry, ported directly from spaCy to ensure congruity\n",
    "        entities: entities of all kinds extracted from that entry by an NER model\n",
    "        record_type: simple flag indicating whether records are baptisms, marriages, burials, etc. (this can also be determined\n",
    "        programmatically and may be deprecated later)\n",
    "            \n",
    "        returns: structured data (specific format to be named later) containing all relationships extracted\n",
    "    '''\n",
    "    #unique_individuals = id_unique_indviduals(entry_text, entities, record_type)\n",
    "    \n",
    "    if record_type == \"baptism\":\n",
    "        principals = determine_principals(entry_text, entities, 1)\n",
    "        #event_relationships = build_event(entry_text, entities, \"baptism\", principals)               \n",
    "        #interpersonal_relationships = process_interpersonal(entry_text, entities)\n",
    "        #characteristics = process_characteristics(entry_text, entities, interpersonal_relationships)        \n",
    "    elif record_type == \"marriage\":        \n",
    "        #process marriage record\n",
    "        print(\"That record type is not supported yet.\")\n",
    "        return None\n",
    "    elif record_type == \"burial\":\n",
    "        #process burial record\n",
    "        print(\"That record type is not supported yet.\")\n",
    "        return None\n",
    "    else:\n",
    "        print(\"That record type is not supported yet.\")\n",
    "        return None\n",
    "    \n",
    "    #code that turns pieces defined above into well-formed relationships\n",
    "    \n",
    "    return principals #this will eventually be the full set of relationships"
   ]
  },
  {
   "cell_type": "code",
   "execution_count": null,
   "metadata": {},
   "outputs": [
    {
     "name": "stdout",
     "output_type": "stream",
     "text": [
      "Converted 12-ssda-xml-parser.ipynb.\n",
      "Converted 31-collate-xml-entities-spans.ipynb.\n",
      "Converted 33-split-data.ipynb.\n",
      "Converted 41-generic-framework-for-spacy-training.ipynb.\n",
      "Converted 42-initial-model.ipynb.\n",
      "Converted 51-data-preprocessing.ipynb.\n",
      "Converted 52-unstructured-to-markup.ipynb.\n",
      "Converted 53-markup-to-spatial-historian.ipynb.\n",
      "Converted 61-prodigy-output-training-demo.ipynb.\n",
      "Converted 62-full-model-application-demo.ipynb.\n",
      "Converted 71-relationship-builder.ipynb.\n"
     ]
    }
   ],
   "source": [
    "#no_test\n",
    "\n",
    "from nbdev.export import notebook2script\n",
    "notebook2script()"
   ]
  },
  {
   "cell_type": "code",
   "execution_count": null,
   "metadata": {},
   "outputs": [],
   "source": []
  }
 ],
 "metadata": {
  "kernelspec": {
   "display_name": "Python 3",
   "language": "python",
   "name": "python3"
  }
 },
 "nbformat": 4,
 "nbformat_minor": 2
}
