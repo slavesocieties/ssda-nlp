{
 "cells": [
  {
   "cell_type": "code",
   "execution_count": null,
   "metadata": {},
   "outputs": [],
   "source": [
    "#default_exp markup2sh"
   ]
  },
  {
   "cell_type": "code",
   "execution_count": null,
   "metadata": {},
   "outputs": [],
   "source": [
    "#no_test\n",
    "\n",
    "orig_path = \"pre_lorica_baut_4.xml\"\n",
    "volume_title = \"No. 4 Lorica Libro de Bautismos. 1885 - 1886\"\n",
    "volume_id = \"419324\"\n",
    "output_path = \"lorica_baut_4\"\n",
    "\n",
    "volume = open(orig_path, 'r', encoding=\"utf-8\")\n",
    "output = open(output_path + \".xml\", 'w', encoding=\"utf-8\")"
   ]
  },
  {
   "cell_type": "code",
   "execution_count": null,
   "metadata": {},
   "outputs": [],
   "source": [
    "#export\n",
    "\n",
    "def writeHeader(title, out, vol_id=None):\n",
    "    out.write(\"<?xml version=\\\"1.0\\\" encoding=\\\"utf-8\\\"?>\\n\")\n",
    "    out.write(\"<!--\" + title + \"-->\\n\")\n",
    "    out.write(\"<ssda xmlns:xsi=\\\"http://www.w3.org/2001/XMLSchema-instance\\\" xmlns:xsd=\\\"http://www.w3.org/2001/XMLSchema\\\">\\n\")\n",
    "    out.write(\"<volume>\\n\")\n",
    "    out.write(\"<volumeTitle>\" + title + \"</volumeTitle>\\n\")\n",
    "    if vol_id != None:\n",
    "        out.write(\"<volumeIdentifier>\" + vol_id + \"</volumeIdentifier>\")\n",
    "    else:\n",
    "        out.write(\"<volumeIdentifier />\\n\")\n",
    "    out.write(\"<volumeGuid />\\n\")"
   ]
  },
  {
   "cell_type": "code",
   "execution_count": null,
   "metadata": {},
   "outputs": [],
   "source": [
    "#export\n",
    "\n",
    "def writeFooter(out):    \n",
    "    out.write(\"</volume>\\n\")\n",
    "    out.write(\"</ssda>\\n\")"
   ]
  },
  {
   "cell_type": "code",
   "execution_count": null,
   "metadata": {},
   "outputs": [],
   "source": [
    "#no_test\n",
    "\n",
    "writeHeader(volume_title, output, volume_id)"
   ]
  },
  {
   "cell_type": "code",
   "execution_count": null,
   "metadata": {},
   "outputs": [],
   "source": [
    "#no_test\n",
    "\n",
    "in_entry = False\n",
    "first_folio = True\n",
    "folio_no = 2001\n",
    "\n",
    "for line in volume:    \n",
    "    if \"<folio>\" in line:\n",
    "        output.write(\"<item>\\n\")\n",
    "        output.write(\"<itemTitle>\" + \"Folio \" + str(folio_no) + \"</itemTitle>\\n\")\n",
    "        output.write(\"<itemIdentifier>\" + str(folio_no) + \"</itemIdentifier>\\n\")\n",
    "        folio_no += 1\n",
    "        output.write(\"<itemGuid />\\n\")\n",
    "        output.write(\"<text type=\\\"TranscribedText\\\">\\n\")\n",
    "    elif \"<ssda>\" in line:\n",
    "        continue\n",
    "    elif \"</ssda>\" in line:\n",
    "        writeFooter(output)\n",
    "    elif \"</folio>\" in line:\n",
    "        output.write(line[:line.find(\"</folio>\")])\n",
    "        output.write(\"</text>\\n\")\n",
    "        output.write(\"</item>\\n\")\n",
    "    else:\n",
    "        output.write(line)\n",
    "        \n",
    "        \n",
    "        \n",
    "output.close()\n",
    "volume.close()"
   ]
  },
  {
   "cell_type": "code",
   "execution_count": null,
   "metadata": {},
   "outputs": [
    {
     "name": "stdout",
     "output_type": "stream",
     "text": [
      "Converted 12-ssda-xml-parser.ipynb.\n",
      "Converted 31-collate-xml-entities-spans.ipynb.\n",
      "Converted 33-split-data.ipynb.\n",
      "Converted 41-generic-framework-for-spacy-training.ipynb.\n",
      "Converted 42-initial-model.ipynb.\n",
      "Converted 51-data-preprocessing.ipynb.\n",
      "Converted 52-unstructured-to-markup.ipynb.\n",
      "Converted 53-markup-to-spatial-historian.ipynb.\n",
      "Converted 61-prodigy-output-training-demo.ipynb.\n",
      "Converted 62-full-model-application-demo.ipynb.\n",
      "Converted 71-relationship-builder.ipynb.\n"
     ]
    }
   ],
   "source": [
    "#no_test\n",
    "\n",
    "from nbdev.export import notebook2script\n",
    "notebook2script()"
   ]
  },
  {
   "cell_type": "code",
   "execution_count": null,
   "metadata": {},
   "outputs": [],
   "source": []
  }
 ],
 "metadata": {
  "kernelspec": {
   "display_name": "Python 3",
   "language": "python",
   "name": "python3"
  }
 },
 "nbformat": 4,
 "nbformat_minor": 2
}
