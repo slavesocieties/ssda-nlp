{
 "cells": [
  {
   "cell_type": "markdown",
   "metadata": {},
   "source": [
    "# 33-split-data-with-groupby\n",
    "> Functionality for creating training, validation, and testing data frames."
   ]
  },
  {
   "cell_type": "markdown",
   "metadata": {},
   "source": [
    "These functions will split the input data to return training, validation, and testing sets. In this notebook are two functions: `split_data`, and `split_data_grp`. The former will split a given pandas data frame into desired proportions for training, testing, and validation, while the latter will apply `split_data` a pandas data frame that is grouped by a specified grouping variable. The grouping functionality is essentially stratification for ensuring approximately equal proportions of each unique value of the grouping variable in the returned data sets.\n",
    "\n",
    "Note, the user only needs to use `split_data_grp` directly. If no grouping variable is specified, then the function defaults to using the original `split_data` function."
   ]
  },
  {
   "cell_type": "code",
   "execution_count": null,
   "metadata": {},
   "outputs": [],
   "source": [
    "#default_exp split_data"
   ]
  },
  {
   "cell_type": "code",
   "execution_count": null,
   "metadata": {},
   "outputs": [],
   "source": [
    "#export\n",
    "#no_test\n",
    "#dependencies\n",
    "import pandas as pd\n",
    "import numpy as np"
   ]
  },
  {
   "cell_type": "markdown",
   "metadata": {},
   "source": [
    "## Basic data splitting\n",
    "Split given pandas df into training, validation, and testing frames.  This splits data in the traditional manner according to rows."
   ]
  },
  {
   "cell_type": "code",
   "execution_count": null,
   "metadata": {},
   "outputs": [],
   "source": [
    "#export\n",
    "def split_data(df, train_prop = 0.80, validation_prop = None, seed = None):\n",
    "    '''\n",
    "        df: data frame to use for splitting\n",
    "        train: proportion of df for training ; testing set is 1-training proportion\n",
    "        validation: proportion of df for validation ; if None, testing set is 1-training proportion. If not None, testing set is 1 - (training_prop + validation_prop)\n",
    "        seed: seed number to use for splitting the data\n",
    "        \n",
    "        returns: 2 or 3 dataframes based on the inputs\n",
    "    '''\n",
    "    \n",
    "    #Create training frame\n",
    "    train_df = df.sample(frac=train_prop,random_state = seed)\n",
    "    \n",
    "    #Conditionally create validation and testing frames\n",
    "    if validation_prop != None:\n",
    "        validation_pool = df.drop(train_df.index)\n",
    "        validation_df = validation_pool.sample(n = int(validation_prop * len(df)), random_state = seed)\n",
    "        \n",
    "        #Create testing frame\n",
    "        test_drop_index = train_df.index.union(validation_df.index)\n",
    "        test_df = df.drop(test_drop_index)\n",
    "        \n",
    "        #Return frames\n",
    "        return train_df, validation_df, test_df\n",
    "    \n",
    "    #Return testing w/o validation frame\n",
    "    else:\n",
    "        test_df = df.drop(train_df.index)\n",
    "        \n",
    "        return train_df, test_df"
   ]
  },
  {
   "cell_type": "code",
   "execution_count": null,
   "metadata": {},
   "outputs": [
    {
     "data": {
      "text/html": [
       "<div>\n",
       "<style scoped>\n",
       "    .dataframe tbody tr th:only-of-type {\n",
       "        vertical-align: middle;\n",
       "    }\n",
       "\n",
       "    .dataframe tbody tr th {\n",
       "        vertical-align: top;\n",
       "    }\n",
       "\n",
       "    .dataframe thead th {\n",
       "        text-align: right;\n",
       "    }\n",
       "</style>\n",
       "<table border=\"1\" class=\"dataframe\">\n",
       "  <thead>\n",
       "    <tr style=\"text-align: right;\">\n",
       "      <th></th>\n",
       "      <th>A</th>\n",
       "      <th>B</th>\n",
       "      <th>C</th>\n",
       "      <th>foo</th>\n",
       "    </tr>\n",
       "  </thead>\n",
       "  <tbody>\n",
       "    <tr>\n",
       "      <th>0</th>\n",
       "      <td>76</td>\n",
       "      <td>80</td>\n",
       "      <td>3</td>\n",
       "      <td>r</td>\n",
       "    </tr>\n",
       "    <tr>\n",
       "      <th>1</th>\n",
       "      <td>56</td>\n",
       "      <td>94</td>\n",
       "      <td>41</td>\n",
       "      <td>k</td>\n",
       "    </tr>\n",
       "    <tr>\n",
       "      <th>2</th>\n",
       "      <td>28</td>\n",
       "      <td>2</td>\n",
       "      <td>36</td>\n",
       "      <td>y</td>\n",
       "    </tr>\n",
       "    <tr>\n",
       "      <th>3</th>\n",
       "      <td>15</td>\n",
       "      <td>77</td>\n",
       "      <td>21</td>\n",
       "      <td>e</td>\n",
       "    </tr>\n",
       "    <tr>\n",
       "      <th>4</th>\n",
       "      <td>59</td>\n",
       "      <td>41</td>\n",
       "      <td>82</td>\n",
       "      <td>m</td>\n",
       "    </tr>\n",
       "  </tbody>\n",
       "</table>\n",
       "</div>"
      ],
      "text/plain": [
       "    A   B   C foo\n",
       "0  76  80   3   r\n",
       "1  56  94  41   k\n",
       "2  28   2  36   y\n",
       "3  15  77  21   e\n",
       "4  59  41  82   m"
      ]
     },
     "execution_count": null,
     "metadata": {},
     "output_type": "execute_result"
    }
   ],
   "source": [
    "#no_test\n",
    "#Define some data\n",
    "import string\n",
    "import random\n",
    "\n",
    "data = pd.DataFrame(np.random.randint(0, 100, size = (200,3)), \n",
    "                     columns = list(\"ABC\"))\n",
    "data['foo'] = random.choices(string.ascii_lowercase, k=200)\n",
    "data.head()"
   ]
  },
  {
   "cell_type": "markdown",
   "metadata": {},
   "source": [
    "### Basic usage of split_data function\n"
   ]
  },
  {
   "cell_type": "code",
   "execution_count": null,
   "metadata": {},
   "outputs": [],
   "source": [
    "#no_test\n",
    "train_df_no_grp, validation_df_no_grp, test_df_no_grp = split_data(data, train_prop = 0.70, validation_prop = 0.20)"
   ]
  },
  {
   "cell_type": "code",
   "execution_count": null,
   "metadata": {},
   "outputs": [
    {
     "name": "stdout",
     "output_type": "stream",
     "text": [
      "Training: \n"
     ]
    },
    {
     "data": {
      "text/html": [
       "<div>\n",
       "<style scoped>\n",
       "    .dataframe tbody tr th:only-of-type {\n",
       "        vertical-align: middle;\n",
       "    }\n",
       "\n",
       "    .dataframe tbody tr th {\n",
       "        vertical-align: top;\n",
       "    }\n",
       "\n",
       "    .dataframe thead th {\n",
       "        text-align: right;\n",
       "    }\n",
       "</style>\n",
       "<table border=\"1\" class=\"dataframe\">\n",
       "  <thead>\n",
       "    <tr style=\"text-align: right;\">\n",
       "      <th></th>\n",
       "      <th>A</th>\n",
       "      <th>B</th>\n",
       "      <th>C</th>\n",
       "      <th>foo</th>\n",
       "    </tr>\n",
       "  </thead>\n",
       "  <tbody>\n",
       "    <tr>\n",
       "      <th>81</th>\n",
       "      <td>23</td>\n",
       "      <td>87</td>\n",
       "      <td>51</td>\n",
       "      <td>l</td>\n",
       "    </tr>\n",
       "    <tr>\n",
       "      <th>89</th>\n",
       "      <td>88</td>\n",
       "      <td>48</td>\n",
       "      <td>86</td>\n",
       "      <td>w</td>\n",
       "    </tr>\n",
       "    <tr>\n",
       "      <th>5</th>\n",
       "      <td>79</td>\n",
       "      <td>68</td>\n",
       "      <td>89</td>\n",
       "      <td>r</td>\n",
       "    </tr>\n",
       "    <tr>\n",
       "      <th>80</th>\n",
       "      <td>14</td>\n",
       "      <td>69</td>\n",
       "      <td>20</td>\n",
       "      <td>w</td>\n",
       "    </tr>\n",
       "    <tr>\n",
       "      <th>132</th>\n",
       "      <td>82</td>\n",
       "      <td>86</td>\n",
       "      <td>65</td>\n",
       "      <td>m</td>\n",
       "    </tr>\n",
       "  </tbody>\n",
       "</table>\n",
       "</div>"
      ],
      "text/plain": [
       "      A   B   C foo\n",
       "81   23  87  51   l\n",
       "89   88  48  86   w\n",
       "5    79  68  89   r\n",
       "80   14  69  20   w\n",
       "132  82  86  65   m"
      ]
     },
     "metadata": {},
     "output_type": "display_data"
    },
    {
     "name": "stdout",
     "output_type": "stream",
     "text": [
      "Training shape:  (140, 4)\n",
      "Validation: \n"
     ]
    },
    {
     "data": {
      "text/html": [
       "<div>\n",
       "<style scoped>\n",
       "    .dataframe tbody tr th:only-of-type {\n",
       "        vertical-align: middle;\n",
       "    }\n",
       "\n",
       "    .dataframe tbody tr th {\n",
       "        vertical-align: top;\n",
       "    }\n",
       "\n",
       "    .dataframe thead th {\n",
       "        text-align: right;\n",
       "    }\n",
       "</style>\n",
       "<table border=\"1\" class=\"dataframe\">\n",
       "  <thead>\n",
       "    <tr style=\"text-align: right;\">\n",
       "      <th></th>\n",
       "      <th>A</th>\n",
       "      <th>B</th>\n",
       "      <th>C</th>\n",
       "      <th>foo</th>\n",
       "    </tr>\n",
       "  </thead>\n",
       "  <tbody>\n",
       "    <tr>\n",
       "      <th>53</th>\n",
       "      <td>19</td>\n",
       "      <td>48</td>\n",
       "      <td>16</td>\n",
       "      <td>o</td>\n",
       "    </tr>\n",
       "    <tr>\n",
       "      <th>150</th>\n",
       "      <td>90</td>\n",
       "      <td>8</td>\n",
       "      <td>87</td>\n",
       "      <td>j</td>\n",
       "    </tr>\n",
       "    <tr>\n",
       "      <th>74</th>\n",
       "      <td>48</td>\n",
       "      <td>42</td>\n",
       "      <td>85</td>\n",
       "      <td>a</td>\n",
       "    </tr>\n",
       "    <tr>\n",
       "      <th>162</th>\n",
       "      <td>2</td>\n",
       "      <td>33</td>\n",
       "      <td>74</td>\n",
       "      <td>p</td>\n",
       "    </tr>\n",
       "    <tr>\n",
       "      <th>55</th>\n",
       "      <td>53</td>\n",
       "      <td>84</td>\n",
       "      <td>96</td>\n",
       "      <td>k</td>\n",
       "    </tr>\n",
       "  </tbody>\n",
       "</table>\n",
       "</div>"
      ],
      "text/plain": [
       "      A   B   C foo\n",
       "53   19  48  16   o\n",
       "150  90   8  87   j\n",
       "74   48  42  85   a\n",
       "162   2  33  74   p\n",
       "55   53  84  96   k"
      ]
     },
     "metadata": {},
     "output_type": "display_data"
    },
    {
     "name": "stdout",
     "output_type": "stream",
     "text": [
      "Validation shape:  (40, 4)\n",
      "Testing: \n"
     ]
    },
    {
     "data": {
      "text/html": [
       "<div>\n",
       "<style scoped>\n",
       "    .dataframe tbody tr th:only-of-type {\n",
       "        vertical-align: middle;\n",
       "    }\n",
       "\n",
       "    .dataframe tbody tr th {\n",
       "        vertical-align: top;\n",
       "    }\n",
       "\n",
       "    .dataframe thead th {\n",
       "        text-align: right;\n",
       "    }\n",
       "</style>\n",
       "<table border=\"1\" class=\"dataframe\">\n",
       "  <thead>\n",
       "    <tr style=\"text-align: right;\">\n",
       "      <th></th>\n",
       "      <th>A</th>\n",
       "      <th>B</th>\n",
       "      <th>C</th>\n",
       "      <th>foo</th>\n",
       "    </tr>\n",
       "  </thead>\n",
       "  <tbody>\n",
       "    <tr>\n",
       "      <th>1</th>\n",
       "      <td>56</td>\n",
       "      <td>94</td>\n",
       "      <td>41</td>\n",
       "      <td>k</td>\n",
       "    </tr>\n",
       "    <tr>\n",
       "      <th>38</th>\n",
       "      <td>83</td>\n",
       "      <td>86</td>\n",
       "      <td>50</td>\n",
       "      <td>t</td>\n",
       "    </tr>\n",
       "    <tr>\n",
       "      <th>42</th>\n",
       "      <td>77</td>\n",
       "      <td>44</td>\n",
       "      <td>22</td>\n",
       "      <td>h</td>\n",
       "    </tr>\n",
       "    <tr>\n",
       "      <th>51</th>\n",
       "      <td>82</td>\n",
       "      <td>22</td>\n",
       "      <td>2</td>\n",
       "      <td>m</td>\n",
       "    </tr>\n",
       "    <tr>\n",
       "      <th>52</th>\n",
       "      <td>98</td>\n",
       "      <td>35</td>\n",
       "      <td>41</td>\n",
       "      <td>x</td>\n",
       "    </tr>\n",
       "  </tbody>\n",
       "</table>\n",
       "</div>"
      ],
      "text/plain": [
       "     A   B   C foo\n",
       "1   56  94  41   k\n",
       "38  83  86  50   t\n",
       "42  77  44  22   h\n",
       "51  82  22   2   m\n",
       "52  98  35  41   x"
      ]
     },
     "metadata": {},
     "output_type": "display_data"
    },
    {
     "name": "stdout",
     "output_type": "stream",
     "text": [
      "Testing shape:  (20, 4)\n"
     ]
    }
   ],
   "source": [
    "#no_test\n",
    "#Print split data\n",
    "print(\"Training: \")\n",
    "display(train_df_no_grp.head())\n",
    "print(\"Training shape: \", train_df_no_grp.shape)\n",
    "\n",
    "print(\"Validation: \")\n",
    "display(validation_df_no_grp.head())\n",
    "print(\"Validation shape: \", validation_df_no_grp.shape)\n",
    "\n",
    "print(\"Testing: \")\n",
    "display(test_df_no_grp.head())\n",
    "print(\"Testing shape: \", test_df_no_grp.shape)"
   ]
  },
  {
   "cell_type": "markdown",
   "metadata": {},
   "source": [
    "## Splitting based on entries\n",
    "Split data into training, validation, and testing sets stratified on a given grouping variable.  The reason this is necessary in our application is that if we split on rows only, the testing set entities will have already been seen during training, but would have been unlabeled.  This may negatively impact the performance of the model."
   ]
  },
  {
   "cell_type": "code",
   "execution_count": null,
   "metadata": {},
   "outputs": [],
   "source": [
    "#export\n",
    "def split_data_grp(df, prop_train = 0.80, prop_validation = None, grp_var = None, seed = None):\n",
    "    '''\n",
    "     df: data frame to use for splitting\n",
    "        train: proportion of df for training ; testing set is 1-training proportion\n",
    "        validation: proportion of df for validation ; if None, testing set is 1-training proportion. If not None, testing set is 1 - (training_prop + validation_prop)\n",
    "        grp_var: variable to split data frames on, passed as a string\n",
    "        seed: seed number to use for splitting the data for reproducibility\n",
    "        \n",
    "        returns: 2 or 3 dataframes based on the inputs\n",
    "    '''\n",
    "    \n",
    "    # If grouping variable is supplied\n",
    "    if grp_var != None:\n",
    "        \n",
    "        #Determine the relevant splits of interest\n",
    "        if prop_validation is None:\n",
    "            prop_validation = 0\n",
    "            \n",
    "        prop_test = 1 - prop_train - prop_validation\n",
    "        \n",
    "        #Light error checking\n",
    "        if prop_test <=0:\n",
    "            raise ValueError(\"prop_train + prop_validation + prop_test must be equal to 1.\")\n",
    "        \n",
    "        #Select out the unique groups (note: we reset index here because otherwise, the horzconcat below tries to align on the row indices)\n",
    "        unique_groups = df[grp_var].drop_duplicates().reset_index(drop=True)\n",
    "        n_grps = len(unique_groups)\n",
    "        \n",
    "        #Generate list with values 1, 2, and 3 in proportion to the train/valid/test splits\n",
    "        rep_list = [1]*int(n_grps*prop_train) + [2]*int(n_grps*prop_validation) + [3]*int(n_grps*prop_test)\n",
    "        \n",
    "        #For non-even splits, just add these to the test set\n",
    "        n_leftovers = n_grps - len(rep_list)\n",
    "        rep_list = rep_list + [3]*n_leftovers\n",
    "        \n",
    "        #Randomly permute these values to get assignments\n",
    "        grp_assigns = (pd.DataFrame(rep_list, columns=['split'])\n",
    "                       .sample(frac=1, random_state = seed)\n",
    "                       .reset_index(drop=True))\n",
    "        \n",
    "        #Concatenate these onto the unique_groups dataframe\n",
    "        unique_groups = pd.concat([unique_groups, grp_assigns], axis=1)\n",
    "        \n",
    "        #Join the split assignments with the original dataframe (unique row split assignments will be broadcast to the non-unique ones)\n",
    "        full_df = pd.merge(df, unique_groups, on=grp_var)\n",
    "        \n",
    "        #Split and drop columns\n",
    "        tr_df = full_df.query('split==1').drop(columns=['split'])\n",
    "        val_df = full_df.query('split==2').drop(columns=['split'])\n",
    "        te_df = full_df.query('split==3').drop(columns=['split'])\n",
    "        \n",
    "        #Return the splits\n",
    "        if prop_validation == 0:\n",
    "            return tr_df, te_df\n",
    "        else:\n",
    "            return tr_df, val_df, te_df\n",
    "    \n",
    "    else:\n",
    "        \n",
    "        #no grouping variable applies original split_data function\n",
    "        return split_data(df, train_prop = prop_train, validation_prop = prop_validation, seed = seed)\n",
    "\n",
    "    "
   ]
  },
  {
   "cell_type": "markdown",
   "metadata": {},
   "source": [
    "### Basic usage of `split_data_grp` function\n",
    "Now, let's both check and demonstrate the usage of the `split_data_grp` function.  We need to make sure that none of the groups that are in `Train` are also in `Test` or `Valid` splits."
   ]
  },
  {
   "cell_type": "code",
   "execution_count": null,
   "metadata": {},
   "outputs": [],
   "source": [
    "#no_test\n",
    "#Example 1: with validation frame\n",
    "train_df_grp, validation_df_grp, test_df_grp = split_data_grp(data, prop_train = 0.70, prop_validation = 0.20, grp_var = 'foo', seed=1234)"
   ]
  },
  {
   "cell_type": "code",
   "execution_count": null,
   "metadata": {},
   "outputs": [
    {
     "name": "stdout",
     "output_type": "stream",
     "text": [
      "Training: \n"
     ]
    },
    {
     "data": {
      "text/html": [
       "<div>\n",
       "<style scoped>\n",
       "    .dataframe tbody tr th:only-of-type {\n",
       "        vertical-align: middle;\n",
       "    }\n",
       "\n",
       "    .dataframe tbody tr th {\n",
       "        vertical-align: top;\n",
       "    }\n",
       "\n",
       "    .dataframe thead th {\n",
       "        text-align: right;\n",
       "    }\n",
       "</style>\n",
       "<table border=\"1\" class=\"dataframe\">\n",
       "  <thead>\n",
       "    <tr style=\"text-align: right;\">\n",
       "      <th></th>\n",
       "      <th>A</th>\n",
       "      <th>B</th>\n",
       "      <th>C</th>\n",
       "      <th>foo</th>\n",
       "    </tr>\n",
       "  </thead>\n",
       "  <tbody>\n",
       "    <tr>\n",
       "      <th>0</th>\n",
       "      <td>76</td>\n",
       "      <td>80</td>\n",
       "      <td>3</td>\n",
       "      <td>r</td>\n",
       "    </tr>\n",
       "    <tr>\n",
       "      <th>1</th>\n",
       "      <td>79</td>\n",
       "      <td>68</td>\n",
       "      <td>89</td>\n",
       "      <td>r</td>\n",
       "    </tr>\n",
       "    <tr>\n",
       "      <th>2</th>\n",
       "      <td>39</td>\n",
       "      <td>26</td>\n",
       "      <td>96</td>\n",
       "      <td>r</td>\n",
       "    </tr>\n",
       "    <tr>\n",
       "      <th>3</th>\n",
       "      <td>28</td>\n",
       "      <td>35</td>\n",
       "      <td>28</td>\n",
       "      <td>r</td>\n",
       "    </tr>\n",
       "    <tr>\n",
       "      <th>4</th>\n",
       "      <td>83</td>\n",
       "      <td>45</td>\n",
       "      <td>39</td>\n",
       "      <td>r</td>\n",
       "    </tr>\n",
       "  </tbody>\n",
       "</table>\n",
       "</div>"
      ],
      "text/plain": [
       "    A   B   C foo\n",
       "0  76  80   3   r\n",
       "1  79  68  89   r\n",
       "2  39  26  96   r\n",
       "3  28  35  28   r\n",
       "4  83  45  39   r"
      ]
     },
     "metadata": {},
     "output_type": "display_data"
    },
    {
     "name": "stdout",
     "output_type": "stream",
     "text": [
      "Training shape:  (129, 4)\n",
      "Validation: \n"
     ]
    },
    {
     "data": {
      "text/html": [
       "<div>\n",
       "<style scoped>\n",
       "    .dataframe tbody tr th:only-of-type {\n",
       "        vertical-align: middle;\n",
       "    }\n",
       "\n",
       "    .dataframe tbody tr th {\n",
       "        vertical-align: top;\n",
       "    }\n",
       "\n",
       "    .dataframe thead th {\n",
       "        text-align: right;\n",
       "    }\n",
       "</style>\n",
       "<table border=\"1\" class=\"dataframe\">\n",
       "  <thead>\n",
       "    <tr style=\"text-align: right;\">\n",
       "      <th></th>\n",
       "      <th>A</th>\n",
       "      <th>B</th>\n",
       "      <th>C</th>\n",
       "      <th>foo</th>\n",
       "    </tr>\n",
       "  </thead>\n",
       "  <tbody>\n",
       "    <tr>\n",
       "      <th>45</th>\n",
       "      <td>16</td>\n",
       "      <td>5</td>\n",
       "      <td>35</td>\n",
       "      <td>h</td>\n",
       "    </tr>\n",
       "    <tr>\n",
       "      <th>46</th>\n",
       "      <td>74</td>\n",
       "      <td>2</td>\n",
       "      <td>54</td>\n",
       "      <td>h</td>\n",
       "    </tr>\n",
       "    <tr>\n",
       "      <th>47</th>\n",
       "      <td>95</td>\n",
       "      <td>2</td>\n",
       "      <td>60</td>\n",
       "      <td>h</td>\n",
       "    </tr>\n",
       "    <tr>\n",
       "      <th>48</th>\n",
       "      <td>77</td>\n",
       "      <td>44</td>\n",
       "      <td>22</td>\n",
       "      <td>h</td>\n",
       "    </tr>\n",
       "    <tr>\n",
       "      <th>49</th>\n",
       "      <td>76</td>\n",
       "      <td>63</td>\n",
       "      <td>56</td>\n",
       "      <td>h</td>\n",
       "    </tr>\n",
       "  </tbody>\n",
       "</table>\n",
       "</div>"
      ],
      "text/plain": [
       "     A   B   C foo\n",
       "45  16   5  35   h\n",
       "46  74   2  54   h\n",
       "47  95   2  60   h\n",
       "48  77  44  22   h\n",
       "49  76  63  56   h"
      ]
     },
     "metadata": {},
     "output_type": "display_data"
    },
    {
     "name": "stdout",
     "output_type": "stream",
     "text": [
      "Validation shape:  (45, 4)\n",
      "Testing: \n"
     ]
    },
    {
     "data": {
      "text/html": [
       "<div>\n",
       "<style scoped>\n",
       "    .dataframe tbody tr th:only-of-type {\n",
       "        vertical-align: middle;\n",
       "    }\n",
       "\n",
       "    .dataframe tbody tr th {\n",
       "        vertical-align: top;\n",
       "    }\n",
       "\n",
       "    .dataframe thead th {\n",
       "        text-align: right;\n",
       "    }\n",
       "</style>\n",
       "<table border=\"1\" class=\"dataframe\">\n",
       "  <thead>\n",
       "    <tr style=\"text-align: right;\">\n",
       "      <th></th>\n",
       "      <th>A</th>\n",
       "      <th>B</th>\n",
       "      <th>C</th>\n",
       "      <th>foo</th>\n",
       "    </tr>\n",
       "  </thead>\n",
       "  <tbody>\n",
       "    <tr>\n",
       "      <th>88</th>\n",
       "      <td>18</td>\n",
       "      <td>10</td>\n",
       "      <td>60</td>\n",
       "      <td>t</td>\n",
       "    </tr>\n",
       "    <tr>\n",
       "      <th>89</th>\n",
       "      <td>83</td>\n",
       "      <td>75</td>\n",
       "      <td>15</td>\n",
       "      <td>t</td>\n",
       "    </tr>\n",
       "    <tr>\n",
       "      <th>90</th>\n",
       "      <td>9</td>\n",
       "      <td>86</td>\n",
       "      <td>11</td>\n",
       "      <td>t</td>\n",
       "    </tr>\n",
       "    <tr>\n",
       "      <th>91</th>\n",
       "      <td>83</td>\n",
       "      <td>86</td>\n",
       "      <td>50</td>\n",
       "      <td>t</td>\n",
       "    </tr>\n",
       "    <tr>\n",
       "      <th>92</th>\n",
       "      <td>93</td>\n",
       "      <td>74</td>\n",
       "      <td>4</td>\n",
       "      <td>t</td>\n",
       "    </tr>\n",
       "  </tbody>\n",
       "</table>\n",
       "</div>"
      ],
      "text/plain": [
       "     A   B   C foo\n",
       "88  18  10  60   t\n",
       "89  83  75  15   t\n",
       "90   9  86  11   t\n",
       "91  83  86  50   t\n",
       "92  93  74   4   t"
      ]
     },
     "metadata": {},
     "output_type": "display_data"
    },
    {
     "name": "stdout",
     "output_type": "stream",
     "text": [
      "Testing shape:  (26, 4)\n"
     ]
    }
   ],
   "source": [
    "#no_test\n",
    "#Print split data\n",
    "print(\"Training: \")\n",
    "display(train_df_grp.head())\n",
    "print(\"Training shape: \", train_df_grp.shape)\n",
    "\n",
    "print(\"Validation: \")\n",
    "display(validation_df_grp.head())\n",
    "print(\"Validation shape: \", validation_df_grp.shape)\n",
    "\n",
    "print(\"Testing: \")\n",
    "display(test_df_grp.head())\n",
    "print(\"Testing shape: \", test_df_grp.shape)"
   ]
  },
  {
   "cell_type": "markdown",
   "metadata": {},
   "source": [
    "The shape of the splits looks about correct, and note that test will be a little bigger based on decimal rounding.  Note that it's really the _group_ proportions that we split on, so if a group has a LOT of entries, the shapes of the original dataframe with all rows may not hold in the original proportions.  We also have only the columns now that we want (i.e., no `split` column)."
   ]
  },
  {
   "cell_type": "code",
   "execution_count": null,
   "metadata": {},
   "outputs": [
    {
     "name": "stdout",
     "output_type": "stream",
     "text": [
      "Train group shape:  (18,)\n",
      "Validation group shape:  (5,)\n",
      "Test group shape:  (3,)\n"
     ]
    }
   ],
   "source": [
    "#no_test\n",
    "print('Train group shape: ', train_df_grp['foo'].drop_duplicates().shape)\n",
    "print('Validation group shape: ', validation_df_grp['foo'].drop_duplicates().shape)\n",
    "print('Test group shape: ', test_df_grp['foo'].drop_duplicates().shape)"
   ]
  },
  {
   "cell_type": "markdown",
   "metadata": {},
   "source": [
    "These proportions are correct given that there are 26 letters (groups) in our demo training set.  Now, let's look at the contents of the splits to make sure each split does not contain overlapping splits:"
   ]
  },
  {
   "cell_type": "code",
   "execution_count": null,
   "metadata": {},
   "outputs": [
    {
     "data": {
      "text/plain": [
       "set()"
      ]
     },
     "execution_count": null,
     "metadata": {},
     "output_type": "execute_result"
    }
   ],
   "source": [
    "#no_test\n",
    "set(train_df_grp['foo'].values).intersection(set(validation_df_grp['foo'].values))"
   ]
  },
  {
   "cell_type": "code",
   "execution_count": null,
   "metadata": {},
   "outputs": [
    {
     "data": {
      "text/plain": [
       "set()"
      ]
     },
     "execution_count": null,
     "metadata": {},
     "output_type": "execute_result"
    }
   ],
   "source": [
    "#no_test\n",
    "set(train_df_grp['foo'].values).intersection(set(test_df_grp['foo'].values))"
   ]
  },
  {
   "cell_type": "code",
   "execution_count": null,
   "metadata": {},
   "outputs": [
    {
     "data": {
      "text/plain": [
       "set()"
      ]
     },
     "execution_count": null,
     "metadata": {},
     "output_type": "execute_result"
    }
   ],
   "source": [
    "#no_test\n",
    "set(validation_df_grp['foo'].values).intersection(set(test_df_grp['foo'].values))"
   ]
  },
  {
   "cell_type": "markdown",
   "metadata": {},
   "source": [
    "Here, we can see that there is no intersection among these splits.  Now, let's make sure that the no validation set situation works:"
   ]
  },
  {
   "cell_type": "code",
   "execution_count": null,
   "metadata": {},
   "outputs": [],
   "source": [
    "#no_test\n",
    "#Example  2: no validation frame\n",
    "train_df_no_valid, test_df_no_valid = split_data_grp(data, prop_train = 0.70, grp_var = 'foo')"
   ]
  },
  {
   "cell_type": "code",
   "execution_count": null,
   "metadata": {},
   "outputs": [
    {
     "name": "stdout",
     "output_type": "stream",
     "text": [
      "Training: \n"
     ]
    },
    {
     "data": {
      "text/html": [
       "<div>\n",
       "<style scoped>\n",
       "    .dataframe tbody tr th:only-of-type {\n",
       "        vertical-align: middle;\n",
       "    }\n",
       "\n",
       "    .dataframe tbody tr th {\n",
       "        vertical-align: top;\n",
       "    }\n",
       "\n",
       "    .dataframe thead th {\n",
       "        text-align: right;\n",
       "    }\n",
       "</style>\n",
       "<table border=\"1\" class=\"dataframe\">\n",
       "  <thead>\n",
       "    <tr style=\"text-align: right;\">\n",
       "      <th></th>\n",
       "      <th>A</th>\n",
       "      <th>B</th>\n",
       "      <th>C</th>\n",
       "      <th>foo</th>\n",
       "    </tr>\n",
       "  </thead>\n",
       "  <tbody>\n",
       "    <tr>\n",
       "      <th>18</th>\n",
       "      <td>28</td>\n",
       "      <td>2</td>\n",
       "      <td>36</td>\n",
       "      <td>y</td>\n",
       "    </tr>\n",
       "    <tr>\n",
       "      <th>19</th>\n",
       "      <td>87</td>\n",
       "      <td>0</td>\n",
       "      <td>73</td>\n",
       "      <td>y</td>\n",
       "    </tr>\n",
       "    <tr>\n",
       "      <th>20</th>\n",
       "      <td>97</td>\n",
       "      <td>71</td>\n",
       "      <td>28</td>\n",
       "      <td>y</td>\n",
       "    </tr>\n",
       "    <tr>\n",
       "      <th>21</th>\n",
       "      <td>89</td>\n",
       "      <td>82</td>\n",
       "      <td>32</td>\n",
       "      <td>y</td>\n",
       "    </tr>\n",
       "    <tr>\n",
       "      <th>22</th>\n",
       "      <td>54</td>\n",
       "      <td>20</td>\n",
       "      <td>98</td>\n",
       "      <td>y</td>\n",
       "    </tr>\n",
       "  </tbody>\n",
       "</table>\n",
       "</div>"
      ],
      "text/plain": [
       "     A   B   C foo\n",
       "18  28   2  36   y\n",
       "19  87   0  73   y\n",
       "20  97  71  28   y\n",
       "21  89  82  32   y\n",
       "22  54  20  98   y"
      ]
     },
     "metadata": {},
     "output_type": "display_data"
    },
    {
     "name": "stdout",
     "output_type": "stream",
     "text": [
      "Training shape:  (137, 4)\n",
      "Testing: \n"
     ]
    },
    {
     "data": {
      "text/html": [
       "<div>\n",
       "<style scoped>\n",
       "    .dataframe tbody tr th:only-of-type {\n",
       "        vertical-align: middle;\n",
       "    }\n",
       "\n",
       "    .dataframe tbody tr th {\n",
       "        vertical-align: top;\n",
       "    }\n",
       "\n",
       "    .dataframe thead th {\n",
       "        text-align: right;\n",
       "    }\n",
       "</style>\n",
       "<table border=\"1\" class=\"dataframe\">\n",
       "  <thead>\n",
       "    <tr style=\"text-align: right;\">\n",
       "      <th></th>\n",
       "      <th>A</th>\n",
       "      <th>B</th>\n",
       "      <th>C</th>\n",
       "      <th>foo</th>\n",
       "    </tr>\n",
       "  </thead>\n",
       "  <tbody>\n",
       "    <tr>\n",
       "      <th>0</th>\n",
       "      <td>76</td>\n",
       "      <td>80</td>\n",
       "      <td>3</td>\n",
       "      <td>r</td>\n",
       "    </tr>\n",
       "    <tr>\n",
       "      <th>1</th>\n",
       "      <td>79</td>\n",
       "      <td>68</td>\n",
       "      <td>89</td>\n",
       "      <td>r</td>\n",
       "    </tr>\n",
       "    <tr>\n",
       "      <th>2</th>\n",
       "      <td>39</td>\n",
       "      <td>26</td>\n",
       "      <td>96</td>\n",
       "      <td>r</td>\n",
       "    </tr>\n",
       "    <tr>\n",
       "      <th>3</th>\n",
       "      <td>28</td>\n",
       "      <td>35</td>\n",
       "      <td>28</td>\n",
       "      <td>r</td>\n",
       "    </tr>\n",
       "    <tr>\n",
       "      <th>4</th>\n",
       "      <td>83</td>\n",
       "      <td>45</td>\n",
       "      <td>39</td>\n",
       "      <td>r</td>\n",
       "    </tr>\n",
       "  </tbody>\n",
       "</table>\n",
       "</div>"
      ],
      "text/plain": [
       "    A   B   C foo\n",
       "0  76  80   3   r\n",
       "1  79  68  89   r\n",
       "2  39  26  96   r\n",
       "3  28  35  28   r\n",
       "4  83  45  39   r"
      ]
     },
     "metadata": {},
     "output_type": "display_data"
    },
    {
     "name": "stdout",
     "output_type": "stream",
     "text": [
      "Testing shape:  (63, 4)\n"
     ]
    }
   ],
   "source": [
    "#no_test\n",
    "#Print split data\n",
    "print(\"Training: \")\n",
    "display(train_df_no_valid.head())\n",
    "print(\"Training shape: \", train_df_no_valid.shape)\n",
    "\n",
    "print(\"Testing: \")\n",
    "display(test_df_no_valid.head())\n",
    "print(\"Testing shape: \", test_df_no_valid.shape)"
   ]
  },
  {
   "cell_type": "markdown",
   "metadata": {},
   "source": [
    "Looks good as well."
   ]
  },
  {
   "cell_type": "code",
   "execution_count": null,
   "metadata": {},
   "outputs": [
    {
     "name": "stdout",
     "output_type": "stream",
     "text": [
      "Converted 31-collate-xml-entities-spans.ipynb.\n",
      "Converted 33-split-data.ipynb.\n",
      "Converted 41-generic-framework-for-spacy-training.ipynb.\n",
      "Converted 42-initial-model.ipynb.\n",
      "Converted data-preprocessing.ipynb.\n",
      "Converted markup-to-spacy.ipynb.\n",
      "Converted unstructured-to-markup.ipynb.\n"
     ]
    }
   ],
   "source": [
    "#no_test\n",
    "from nbdev.export import notebook2script\n",
    "notebook2script()"
   ]
  },
  {
   "cell_type": "code",
   "execution_count": null,
   "metadata": {},
   "outputs": [],
   "source": []
  }
 ],
 "metadata": {
  "kernelspec": {
   "display_name": "Python 3",
   "language": "python",
   "name": "python3"
  }
 },
 "nbformat": 4,
 "nbformat_minor": 4
}
