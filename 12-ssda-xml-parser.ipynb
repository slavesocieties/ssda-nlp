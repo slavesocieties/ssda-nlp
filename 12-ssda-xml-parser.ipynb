{
 "cells": [
  {
   "cell_type": "markdown",
   "metadata": {},
   "source": [
    "# 12-ssda-xml-parser\n",
    "\n",
    "> Parsing xml files to get a dataframe of this, that, and the other."
   ]
  },
  {
   "cell_type": "markdown",
   "metadata": {},
   "source": [
    "In this notebook, we create a parser that reads an xml file.  Our xml file contains a large amount of metadata about each of the different entries which we want to extract the entities from.  Each of the entries is within a book (with source identifier), and each book has a number of different folios (i.e., pages - a folio for the front and a separate one for the back), also with unique identifiers.  Since these are stored in XML format, we parse out the different components so we can create a dataframe of each of the entries, where each row is an entry with its respective metadata."
   ]
  },
  {
   "cell_type": "code",
   "execution_count": null,
   "metadata": {},
   "outputs": [],
   "source": [
    "# default_exp xml_parser"
   ]
  },
  {
   "cell_type": "code",
   "execution_count": null,
   "metadata": {},
   "outputs": [],
   "source": [
    "#export\n",
    "import pandas as pd"
   ]
  },
  {
   "cell_type": "markdown",
   "metadata": {},
   "source": [
    "Below is an example of an xml file we'd have.  The header metadata and two entries are shown below:"
   ]
  },
  {
   "cell_type": "markdown",
   "metadata": {},
   "source": [
    "## Analysis and coding\n",
    "The following code extracts the relevant parts of the metadata and constructs a dataframe which organizes the results by row."
   ]
  },
  {
   "cell_type": "code",
   "execution_count": null,
   "metadata": {},
   "outputs": [],
   "source": [
    "#export\n",
    "def parse_xml(file_name):\n",
    "    master_xml = open(file_name,\"r\",encoding='utf-8')\n",
    "    vol_titls = []\n",
    "    vol_ids = []\n",
    "    entry_txts = []\n",
    "    entry_ids = []\n",
    "    fol_ids = []\n",
    "    curr_vol_titl = \"\"\n",
    "    curr_vol_id= \"\"\n",
    "    curr_fol_id = \"\"\n",
    "    curr_entry = \"\"\n",
    "\n",
    "    in_entry = False\n",
    "\n",
    "    for line in master_xml:    \n",
    "        if (line.find('<') != -1) and (line.find('<', line.find('<') + 1) != -1):        \n",
    "            line_content = line[line.find('>') + 1:line.find('<', line.find('<') + 1)]        \n",
    "        elif line[len(line) - 2] == '-':\n",
    "            line_content = line[:len(line) - 2]\n",
    "        else:\n",
    "            line_content = line[:len(line) - 1] + ' '\n",
    "        \n",
    "        if \"<volumeTitle>\" in line:\n",
    "            curr_vol_titl = line_content\n",
    "            #set current volume title\n",
    "        elif \"<volumeIdentifier>\" in line:\n",
    "            curr_vol_id = line_content\n",
    "        #set current volume identifier\n",
    "        elif \"<itemIdentifier>\" in line:\n",
    "            entry_id = 0\n",
    "            curr_fol_id = line_content\n",
    "        #set current folio id\n",
    "        elif \"<entry>\" in line:\n",
    "            entry_id += 1\n",
    "            in_entry = True\n",
    "            curr_entry = \"\"\n",
    "        #toggle in entry flag\n",
    "        elif in_entry and (not \"</entry>\" in line):\n",
    "            curr_entry += line_content\n",
    "        #add line to current entry\n",
    "        elif in_entry and (\"</entry>\" in line):\n",
    "            in_entry = False \n",
    "        #toggle entry flag, append all current variables to lists\n",
    "            vol_titls.append(curr_vol_titl)\n",
    "            vol_ids.append(curr_vol_id)\n",
    "            fol_ids.append(curr_fol_id)\n",
    "            entry_txts.append(curr_entry)\n",
    "            entry_ids.append(curr_fol_id + '-' + str(entry_id))\n",
    "           \n",
    "    columns = {'vol_titl':vol_titls, 'vol_id':vol_ids, 'fol_id':fol_ids, 'text':entry_txts, 'entry_no':entry_ids}\n",
    "    \n",
    "    df = pd.DataFrame(columns)\n",
    "    master_xml.close()\n",
    "    return df        "
   ]
  },
  {
   "cell_type": "markdown",
   "metadata": {},
   "source": [
    "The following code shows the first 10 rows of the processed xml document:"
   ]
  },
  {
   "cell_type": "code",
   "execution_count": null,
   "metadata": {},
   "outputs": [],
   "source": [
    "#export\n",
    "\n",
    "def parse_xml_v2(path_to_xml):\n",
    "    master_xml = open(path_to_xml,\"r\",encoding='utf-8')\n",
    "    vol_titls = []\n",
    "    vol_ids = []\n",
    "    entry_txts = []\n",
    "    entry_ids = []\n",
    "    fol_ids = []\n",
    "    curr_vol_titl = \"\"\n",
    "    curr_vol_id= \"\"\n",
    "    curr_fol_id = \"\"\n",
    "    curr_entry = \"\"\n",
    "\n",
    "    in_entry = False\n",
    "\n",
    "    for line in master_xml:        \n",
    "        if \"<volume\" in line:\n",
    "            title_start = line.find('\\\"', line.find(\"title=\")) + 1\n",
    "            title_end = line.find('\\\"', title_start)\n",
    "            curr_vol_titl = line[title_start:title_end]\n",
    "            id_start = line.find('\\\"', line.find(\"id=\")) + 1\n",
    "            id_end = line.find('\\\"', id_start)\n",
    "            curr_vol_id = line[id_start:id_end]       \n",
    "        elif \"<image\" in line:\n",
    "            entry_id = 0\n",
    "            id_start = line.find('\\\"', line.find(\"id=\")) + 1\n",
    "            id_end = line.find('\\\"', id_start)\n",
    "            curr_fol_id = line[id_start:id_end]                   \n",
    "        elif \"<entry\" in line:\n",
    "            entry_id += 1\n",
    "            in_entry = True\n",
    "            curr_entry = \"\"            \n",
    "        elif in_entry and (not \"</entry>\" in line):\n",
    "            if (len(curr_entry) > 0) and (curr_entry[-1] == '-'):\n",
    "                curr_entry = curr_entry[:-1]\n",
    "                curr_entry += line\n",
    "            elif len(curr_entry) > 0:\n",
    "                curr_entry += ' ' + line\n",
    "            else:\n",
    "                curr_entry += line\n",
    "            curr_entry = curr_entry[:-1]\n",
    "        elif in_entry and (\"</entry>\" in line):\n",
    "            in_entry = False            \n",
    "            vol_titls.append(curr_vol_titl)\n",
    "            vol_ids.append(curr_vol_id)\n",
    "            fol_ids.append(curr_fol_id)\n",
    "            entry_txts.append(curr_entry)\n",
    "            entry_ids.append(curr_fol_id + '-' + str(entry_id))\n",
    "           \n",
    "    columns = {'vol_titl':vol_titls, 'vol_id':vol_ids, 'fol_id':fol_ids, 'text':entry_txts, 'entry_no':entry_ids}\n",
    "    \n",
    "    df = pd.DataFrame(columns)\n",
    "    master_xml.close()\n",
    "    return df        "
   ]
  },
  {
   "cell_type": "code",
   "execution_count": null,
   "metadata": {},
   "outputs": [
    {
     "data": {
      "text/html": [
       "<div>\n",
       "<style scoped>\n",
       "    .dataframe tbody tr th:only-of-type {\n",
       "        vertical-align: middle;\n",
       "    }\n",
       "\n",
       "    .dataframe tbody tr th {\n",
       "        vertical-align: top;\n",
       "    }\n",
       "\n",
       "    .dataframe thead th {\n",
       "        text-align: right;\n",
       "    }\n",
       "</style>\n",
       "<table border=\"1\" class=\"dataframe\">\n",
       "  <thead>\n",
       "    <tr style=\"text-align: right;\">\n",
       "      <th></th>\n",
       "      <th>vol_titl</th>\n",
       "      <th>vol_id</th>\n",
       "      <th>fol_id</th>\n",
       "      <th>text</th>\n",
       "      <th>entry_no</th>\n",
       "    </tr>\n",
       "  </thead>\n",
       "  <tbody>\n",
       "    <tr>\n",
       "      <th>0</th>\n",
       "      <td>Baptisms - 1793-1807</td>\n",
       "      <td>239746</td>\n",
       "      <td>1013</td>\n",
       "      <td>1. María Dolores Sanchez  Lunes, día veinte y ...</td>\n",
       "      <td>1013-1</td>\n",
       "    </tr>\n",
       "    <tr>\n",
       "      <th>1</th>\n",
       "      <td>Baptisms - 1793-1807</td>\n",
       "      <td>239746</td>\n",
       "      <td>1013</td>\n",
       "      <td>2. Antonio Guillo  Miercoles, día veinte de No...</td>\n",
       "      <td>1013-2</td>\n",
       "    </tr>\n",
       "    <tr>\n",
       "      <th>2</th>\n",
       "      <td>Baptisms - 1793-1807</td>\n",
       "      <td>239746</td>\n",
       "      <td>1014</td>\n",
       "      <td>3. María Juana Francisca Fish  Domingo, día ve...</td>\n",
       "      <td>1014-1</td>\n",
       "    </tr>\n",
       "    <tr>\n",
       "      <th>3</th>\n",
       "      <td>Baptisms - 1793-1807</td>\n",
       "      <td>239746</td>\n",
       "      <td>1014</td>\n",
       "      <td>4. Maria Teresa Camel  Domingo, día veinte y q...</td>\n",
       "      <td>1014-2</td>\n",
       "    </tr>\n",
       "    <tr>\n",
       "      <th>4</th>\n",
       "      <td>Baptisms - 1793-1807</td>\n",
       "      <td>239746</td>\n",
       "      <td>1015</td>\n",
       "      <td>Maria Josefa Andrea de la Puente  Miércoles, d...</td>\n",
       "      <td>1015-1</td>\n",
       "    </tr>\n",
       "  </tbody>\n",
       "</table>\n",
       "</div>"
      ],
      "text/plain": [
       "               vol_titl  vol_id fol_id  \\\n",
       "0  Baptisms - 1793-1807  239746   1013   \n",
       "1  Baptisms - 1793-1807  239746   1013   \n",
       "2  Baptisms - 1793-1807  239746   1014   \n",
       "3  Baptisms - 1793-1807  239746   1014   \n",
       "4  Baptisms - 1793-1807  239746   1015   \n",
       "\n",
       "                                                text entry_no  \n",
       "0  1. María Dolores Sanchez  Lunes, día veinte y ...   1013-1  \n",
       "1  2. Antonio Guillo  Miercoles, día veinte de No...   1013-2  \n",
       "2  3. María Juana Francisca Fish  Domingo, día ve...   1014-1  \n",
       "3  4. Maria Teresa Camel  Domingo, día veinte y q...   1014-2  \n",
       "4  Maria Josefa Andrea de la Puente  Miércoles, d...   1015-1  "
      ]
     },
     "execution_count": null,
     "metadata": {},
     "output_type": "execute_result"
    }
   ],
   "source": [
    "#no_test\n",
    "\n",
    "test_df = parse_xml_v2(\"transcriptions\\\\239746.xml\")\n",
    "test_df.head()"
   ]
  },
  {
   "cell_type": "code",
   "execution_count": null,
   "metadata": {},
   "outputs": [],
   "source": [
    "#export\n",
    "\n",
    "def xml_v2_to_json(path_to_xml):\n",
    "    master_xml = open(path_to_xml,\"r\",encoding='utf-8')\n",
    "    vol_titls = []\n",
    "    vol_ids = []\n",
    "    entry_txts = []\n",
    "    entry_ids = []\n",
    "    img_ids = []\n",
    "    img_types = []\n",
    "    img_num = []\n",
    "    curr_vol_titl = \"\"\n",
    "    curr_vol_id= \"\"\n",
    "    curr_img_id = \"\"\n",
    "    curr_entry = \"\"\n",
    "    curr_img_type = \"\"\n",
    "    curr_img_num = \"\"\n",
    "\n",
    "    in_entry = False\n",
    "    \n",
    "    images = []    \n",
    "    curr_img_dict = None\n",
    "\n",
    "    for line in master_xml:        \n",
    "        if \"<volume\" in line:\n",
    "            title_start = line.find('\\\"', line.find(\"title=\")) + 1\n",
    "            title_end = line.find('\\\"', title_start)\n",
    "            curr_vol_titl = line[title_start:title_end]\n",
    "            id_start = line.find('\\\"', line.find(\"id=\")) + 1\n",
    "            id_end = line.find('\\\"', id_start)\n",
    "            curr_vol_id = line[id_start:id_end]       \n",
    "        elif \"<image\" in line:\n",
    "            if curr_img_dict != None:\n",
    "                images.append(curr_img_dict)            \n",
    "            entry_id = 0\n",
    "            id_start = line.find('\\\"', line.find(\"id=\")) + 1\n",
    "            id_end = line.find('\\\"', id_start)\n",
    "            curr_img_id = line[id_start:id_end]\n",
    "            type_start = line.find('\\\"', line.find(\"type=\")) + 1\n",
    "            type_end = line.find('\\\"', type_start)\n",
    "            curr_img_type = line[type_start:type_end]\n",
    "            if line.find(\"number=\") == -1:\n",
    "                curr_img_num = None\n",
    "            else:\n",
    "                num_start = line.find('\\\"', line.find(\"number=\")) + 1\n",
    "                num_end = line.find('\\\"', num_start)\n",
    "                curr_img_num = line[num_start:num_end]\n",
    "            curr_img_dict = {\"id\": curr_img_id, \"type\": curr_img_type, \"number\": curr_img_num, \"entries\": []}\n",
    "        elif \"<entry\" in line:\n",
    "            entry_id += 1\n",
    "            in_entry = True\n",
    "            curr_entry = \"\"            \n",
    "        elif in_entry and (not \"</entry>\" in line):\n",
    "            if (len(curr_entry) > 0) and (curr_entry[-1] == '-'):\n",
    "                curr_entry = curr_entry[:-1]\n",
    "                curr_entry += line\n",
    "            elif len(curr_entry) > 0:\n",
    "                curr_entry += ' ' + line\n",
    "            else:\n",
    "                curr_entry += line\n",
    "            curr_entry = curr_entry[:-1]\n",
    "        elif in_entry and (\"</entry>\" in line):\n",
    "            in_entry = False            \n",
    "            vol_titls.append(curr_vol_titl)\n",
    "            vol_ids.append(curr_vol_id)\n",
    "            img_ids.append(curr_img_id)\n",
    "            entry_txts.append(curr_entry)\n",
    "            entry_ids.append(curr_img_id + '-' + str(entry_id))\n",
    "            curr_img_dict[\"entries\"].append({\"id\": entry_id, \"text\": curr_entry})\n",
    "            \n",
    "    \n",
    "    master_xml.close()\n",
    "    return images"
   ]
  },
  {
   "cell_type": "code",
   "execution_count": null,
   "metadata": {},
   "outputs": [
    {
     "name": "stdout",
     "output_type": "stream",
     "text": [
      "[{'id': '1033', 'type': 'jpg', 'number': '1r', 'entries': [{'id': 1, 'text': '[margin]: Juana. Esc.va Domingo veinte y dos de [roto] y nueve yo Thomas de Orvera baptize, y pusse [roto] s.tos oleos a Juana de nacion Mina esclava de[roto] Juan Joseph de Justis fueron sus P.P. Joseph Salcedo y Ana de Santiago su mugger, y lo firmé. [signed]: Thomas de Orvera'}, {'id': 2, 'text': '[margin]: Paula. Esc.a Juebes veinte y tres de feb.o de mil sietec.tos. y diez y nueve Yo Thomas de Orvera baptizé, y pusse los santos15 oleos á Paula h. l.16 de Juan Joseph, y Maria Josepha esc.s del Capitan D. Luis Hurtado de Mendoza fue su Padrino Bartholome Rixo, y lo firmé. [signed]: Thomas de Orvera'}, {'id': 3, 'text': '[margin]: Maria Esc.a Miercoles prim.o de feb.o de mil siete.tos y diez y nueve Yo Thomas de Orvera baptizé, y pusse los santos oleos á Maria h. l. de Juan, y Josepha esc.s del Capitan Antonio Benites fue su Madrina Ysabel Mendez, y lo firmé. [signed]: Thomas de Orvera'}, {'id': 4, 'text': '[margin]: Bernardo Esc.vo Domingo nueve de Abril de mil sietectos y diez y nueve Yo Thomas de Orvera baptize, y pusse los s.tos oleos á Bernardo negro adulto de nacion carabali esc.o de D. Juan Joseph de Justis fue su P. Andres de Morales, y lo firmé. [signed]: Thomas de Orvera'}]}, {'id': '1034', 'type': 'jpg', 'number': '1v', 'entries': [{'id': 1, 'text': '[margin]: Fran.co Esc.vo [roto] Abril de mil sietec.tos y diez, y nueve [roto]o Th[roto]mas de [roto]vera bap[roto]izé, y pusse los s.tos oleo[roto] a Fran.co negro adulto de nacion temo esc.o de D. Ju[roto] Joseph de Justis fue su P. Pedro Suares, y lo firmé. [signed]: Thomas de Orvera'}, {'id': 2, 'text': '[margin]: Ant.o Esc.vo Domingo nueve de Abril de mil sietec.tos y diez y nueve Yo Thomas de Orvera baptize, y pusse los s.tos oleos á Ant.o negro adulto de nacion carabali esc.o de D. Juan Joseph de Justis fue su P. Joseph de Soto, y lo firmé. [signed]: Thomas de Orvera'}, {'id': 3, 'text': '[margin]: Antonia Esc.va Domingo nueve de Abril de mil sietec.tos y diez, y nueve Yo Thomas de Orvera baptize, y pusse los s.tos oleos á Antonia negra adulta de nacion mina esc.va de D. Ju.o Joseph de Justis fue su P. Joseph Salcedo, y lo firmé. [signed]: Thomas de Orvera'}, {'id': 4, 'text': '[margin]: M.a Luisa esc.va Domingo nueve de Abril de mil sietec.tos y diez, y nueve Yo Thomas de Orvera baptize, y puse los s.tos oleos á Maria Luisa de nacion lucumi negra adulta esc.a de D. Ju.o Joseph de Justis fue su P. Jacinto de Castro, y lo firmé. [signed]: Thomas de Orvera'}, {'id': 5, 'text': '[margin]: Ana esc.va17 Domingo nueve de Abril de mil sietec.tos y diez, y'}]}, {'id': '1035', 'type': 'jpg', 'number': '2r', 'entries': [{'id': 1, 'text': 'Nueve yo [roto]omas de O[roto]ver[. . .] oleos á Ana negra adulta [. . .] D. Ju.o Joseph de Justis fue su madrina Ysabe[roto] Delgado, y lo firmé. [signed]: Thomas de Orvera'}, {'id': 2, 'text': '[margin]: Theresa esc.va Domingo nueve de Abril de mil sietec.tos y diez, y nueve yo Thomas de Orvera baptize, y pusse los s.tos oleos a Theresa negra adulta de nacion mina esc.va de D. Juan Joseph de Justis fueron sus P. P. Joseph Salcede Soto, y Ana de Santiago, y lo firmé. [signed]: Thomas de Orvera'}, {'id': 3, 'text': '[margin]: Antonio. esc.vo Martes onze de Abril de mil sietec.tos y diez y nueve Yo Thomas de Orvera baptizé y pusse los s.tos oleos á Ant.o negro adulto de nacion carabali esc.vo de D. Ju.n. Joseph de Justis fue su P. Pedro Montes de Oca, y lo firmé. [signed]: Thomas de Orvera'}, {'id': 4, 'text': '[margin]: Franc.co de Paula Esc.o Domingo quatro de Junio de mil sietecientos i dies i nuebe yo el Padre Predicador fray Alonso Cabello religioso de el Orden de Predicadores licentia Parochi Baptizé y puse los s.tos oleos á Fran.co de Paula negro adulto de nacion [espacio en blanco] esclavo de D. Juo J.e de Justis fue su Padrino Pablo esco de el Sargto Abalos y lo firmé. [signed]: Thomas de Orvera'}]}, {'id': '1036', 'type': 'jpg', 'number': '2v', 'entries': [{'id': 1, 'text': '[margin]: Juan esc.vo Sabado veinte y quatro de Junio de mil sietectos, y diez, y nueve yo Joseph Lopez de Cuella sa[roto] m.or de[roto]ta Parroq.l lizentia Parochi baptize, y pusse los s.tos oleos á Juan negro adulto de non lucumi es clavo del B.do (beneficiado) D. Thomas de Orvera fue su P. Ygnacio Joseph de Loyola, y lo firmé. con dho. B.do [signed]: Thomas de Orvera'}, {'id': 2, 'text': '[margin]: Vicente esc.vo Domingo dos de Julio de mil sietec.tos y diez y nueve yo el P. fray Joseph Hern.z religioso del Orden de Predic.s lizentia Parochi baptizé, y pusse los Ss. oleos á Vicente de n.on Mina adulto esc.vo del Cap.n D.n Bruno Cavallero ingeniero militar fue su P. el dho. y lo firmé con dho. Beneficiado. [signed]: Thomas de Orvera'}, {'id': 3, 'text': '[margin]: Joseph esc.vo Domingo dos de Julio de mil sietec.tos y diez, y nueve yo el P. fr. Joseph Hern.z religioso del orden de Predic.s lizen tia Parochi baptizé, y pusse los Ss. oleos á Joseph negro adulto de n.on malagas esc.vo del Cap.n D.n Bruno Cavallero ingen.o militar fue su P. el Cap.n D. Man.l Chacon, y lo firmé con dho B.do estas dos partidas son las que están tachadas en la siguiente foxa. [signed]: Thomas de Orvera'}, {'id': 4, 'text': '[margin]: Ysabel Esc.va Domingo treinta de Julio de mil sietec.tos y diez y nueve Yo Joseph Lopez de Cuella sacristan m.or desta Ygla. Parroq.l lizentia Parochi baptizé, y pusse los Ss. oleos á Ysabel de n.on Arara negra esclava de D. Juan fue su P. Ju.n Ygnacio Miraval, y lo firmé con dho. B.do [signed]: Thomas de Orvera Joseph Lopez de Cuella'}]}, {'id': '1037', 'type': 'jpg', 'number': '3r', 'entries': [{'id': 1, 'text': '[margin]: Vicente esc.vo Domingo dos de Julio de [. . .] fr. Joseph Hern.z religioso del Ord[roto] Predic.s lizen[roto] Parochi baptizé y pusse los s.t[roto] oleos á Vicente de n.on Mina Adulto esc.o del Cap.n D. Bruno Cavallero Yngeniero mili tar fue su P. el dho. y lo firmé. con dho. Beneficiado. '}, {'id': 2, 'text': '[margin]: Joseph esc.vo Domingo dos de Julio de mil sietec.tos y diez y nueve yo el [roto] Joseph Hern.z religioso del Orden de Predic.s lizentia Paro chi baptizé y pusse los s.tos oleos á Joseph negro adulto de nacion Malagas esc.o del Cap.n D. Bruno Cavallero ing[roto] militar fue su P. el Cap.n D. Manuel Chacon, y lo fir[roto] con dho. Beneficiado.18 '}, {'id': 3, 'text': '[margin]: Maria esc.va Domingo treinta de Julio de mil sietec.tos y diez y nueve Yo Joseph Lopez de Cuella sacristan m.or desta Ygla. Parroq. baptizé, y pusse los Ss. oleos á Maria negra Adulta de n.on Mina esc.va de D. Juan Joseph de Justis fue su P. Juan Ygnacio Miraval y lo firmé con dho. B.do [signed]: Thomas de Orvera/Joseph Lopez de Cuella'}, {'id': 4, 'text': '[margin]: Antonia esc.va Domingo treinta de Julio de mil sietec.tos y diez y nueve Yo Joseph Lopez de Cuella sacristan m.or desta Ygla. Parroq. lizentia Parochi baptize, y pusse los Ss. oleos á Ant.a negra adulta de n.on arara esc.va de D. Ju.o Joseph de Justis fue su P. Joseph Frnz. y lo firmé con dho. B.do [signed]: Thomas de Orvera/Joseph Lopez de Cuella'}]}]\n"
     ]
    }
   ],
   "source": [
    "#no_test\n",
    "\n",
    "test = xml_v2_to_json(\"transcriptions\\\\15834.xml\")\n",
    "print(test[:5])"
   ]
  },
  {
   "cell_type": "code",
   "execution_count": null,
   "metadata": {},
   "outputs": [],
   "source": [
    "#export\n",
    "\n",
    "def retrieve_volume_metadata(path_to_xml):\n",
    "    xml = open(path_to_xml,\"r\",encoding='utf-8')\n",
    "    volume_metadata = {}\n",
    "    metadata_fields = [\"type\", \"country\", \"state\", \"city\", \"institution\", \"id\", \"title\"]    \n",
    "    \n",
    "    for line in xml:        \n",
    "        if \"<volume\" in line:            \n",
    "            for field in metadata_fields:                \n",
    "                volume_metadata[field] = line[line.find('=', line.find(field)) + 2:line.find('\\\"', line.find('=', line.find(field)) + 2)]            \n",
    "            \n",
    "    return volume_metadata    "
   ]
  },
  {
   "cell_type": "code",
   "execution_count": null,
   "metadata": {},
   "outputs": [
    {
     "name": "stdout",
     "output_type": "stream",
     "text": [
      "{'type': 'baptism', 'country': 'Cuba', 'state': 'Matanzas', 'city': 'Matanzas', 'institution': 'Catedral de San Carlos Borromeo', 'id': '15834', 'title': 'Libro 1 de Bautismos de Pardos y Morenos, 1719 - 1752, Parroquia de San Carlos de Matanzas'}\n"
     ]
    }
   ],
   "source": [
    "#no_test\n",
    "\n",
    "test = retrieve_volume_metadata(\"transcriptions\\\\15834.xml\")\n",
    "print(test)"
   ]
  },
  {
   "cell_type": "code",
   "execution_count": null,
   "metadata": {},
   "outputs": [
    {
     "name": "stdout",
     "output_type": "stream",
     "text": [
      "Converted 12-ssda-xml-parser.ipynb.\n",
      "Converted 31-collate-xml-entities-spans.ipynb.\n",
      "Converted 33-split-data.ipynb.\n",
      "Converted 41-generic-framework-for-spacy-training.ipynb.\n",
      "Converted 42-initial-model.ipynb.\n",
      "Converted 51-data-preprocessing.ipynb.\n",
      "Converted 52-unstructured-to-markup.ipynb.\n",
      "Converted 53-markup-to-spatial-historian.ipynb.\n",
      "Converted 54-utility-functions.ipynb.\n",
      "Converted 61-prodigy-output-training-demo.ipynb.\n",
      "Converted 62-full-model-application-demo.ipynb.\n",
      "Converted 63-pt-model-training.ipynb.\n",
      "Converted 64-es-model-training.ipynb.\n",
      "Converted 65-all-annotations-model-training.ipynb.\n",
      "Converted 66-es-guatemala-model-training.ipynb.\n",
      "Converted 67-death-and-birth-records-together.ipynb.\n",
      "Converted 71-relationship-builder.ipynb.\n",
      "Converted 72-full-volume-processor.ipynb.\n"
     ]
    }
   ],
   "source": [
    "#no_test\n",
    "\n",
    "from nbdev.export import notebook2script\n",
    "notebook2script()"
   ]
  },
  {
   "cell_type": "code",
   "execution_count": null,
   "metadata": {},
   "outputs": [],
   "source": []
  }
 ],
 "metadata": {
  "kernelspec": {
   "display_name": "Python 3",
   "language": "python",
   "name": "python3"
  }
 },
 "nbformat": 4,
 "nbformat_minor": 4
}
