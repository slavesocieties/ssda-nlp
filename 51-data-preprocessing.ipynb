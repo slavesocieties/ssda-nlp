{
 "cells": [
  {
   "cell_type": "code",
   "execution_count": null,
   "metadata": {},
   "outputs": [],
   "source": [
    "# default_exp preprocessing"
   ]
  },
  {
   "cell_type": "code",
   "execution_count": null,
   "metadata": {},
   "outputs": [],
   "source": [
    "#export\n",
    "\n",
    "import srsly\n",
    "from ssda_nlp.xml_parser import *\n",
    "import pandas as pd"
   ]
  },
  {
   "cell_type": "code",
   "execution_count": null,
   "metadata": {},
   "outputs": [],
   "source": [
    "#export\n",
    "\n",
    "def xml_to_jsonl(path_to_xml_transcription):\n",
    "    xml_transcription = open(path_to_xml_transcription, 'r', encoding=\"utf-8\")\n",
    "    prodigy_input = open(path_to_xml_transcription[:path_to_xml_transcription.find(\".xml\")] + \".jsonl\", 'w', encoding=\"utf-8\")\n",
    "    \n",
    "    in_entry = False\n",
    "    current_entry = ''\n",
    "    \n",
    "    for line in xml_transcription:\n",
    "        if \"<entry>\" in line:\n",
    "            in_entry = True            \n",
    "        elif in_entry and (\"</entry>\" in line):\n",
    "            current_entry += line[:line.find(\"</entry>\")]\n",
    "            in_entry = False            \n",
    "            prodigy_input.write(\"{\\\"text\\\":\\\"\" + current_entry + \"\\\"}\\n\")\n",
    "            current_entry = ''\n",
    "        elif in_entry:\n",
    "            if ((line[len(line) - 1] == '\\n') or (line[len(line) - 1] == '\\r')) and (line[len(line) - 2] == '-'):\n",
    "                current_entry += line[:len(line) - 2]\n",
    "            elif line[len(line) - 1] == '-':\n",
    "                current_entry += line[:len(line) - 1]\n",
    "            elif (line[len(line) - 1] == '\\n') or (line[len(line) - 1] == '\\r'):\n",
    "                current_entry += line[:len(line) - 1] + ' '\n",
    "            else:\n",
    "                current_entry += line\n",
    "            \n",
    "    xml_transcription.close()\n",
    "    prodigy_input.close()\n",
    "    \n",
    "    return"
   ]
  },
  {
   "cell_type": "code",
   "execution_count": null,
   "metadata": {},
   "outputs": [],
   "source": [
    "#no_test\n",
    "\n",
    "xml_to_jsonl(\"transcriptions/matanzas_baut_1.xml\")"
   ]
  },
  {
   "cell_type": "code",
   "execution_count": null,
   "metadata": {},
   "outputs": [],
   "source": [
    "#export\n",
    "\n",
    "def parse_annotation(path_to_annotation):   \n",
    "    annotation = srsly.read_jsonl(path_to_annotation)\n",
    "    \n",
    "    spans = []\n",
    "    texts = []\n",
    "    \n",
    "    for entry in annotation:        \n",
    "        texts.append(entry[\"text\"])\n",
    "        temp = []\n",
    "        if \"spans\" in entry:            \n",
    "            for span in entry[\"spans\"]:\n",
    "                temp.append([span[\"start\"], span[\"end\"], span[\"label\"]])\n",
    "        spans.append(temp)\n",
    "    \n",
    "    #build list of unique entries and list of empty annotation dictionaries for each    \n",
    "    annot_ls = []\n",
    "    \n",
    "    for text in texts:        \n",
    "        annot_ls.append({\"entities\":[]})\n",
    "            \n",
    "    #populate annotation dictionaries\n",
    "    for i in range(len(texts)):\n",
    "        for span in spans[i]:        \n",
    "            annot_ls[i][\"entities\"].append((int(span[0]), int(span[1]), span[2]))       \n",
    "        \n",
    "    #build list of tuples\n",
    "    tuples = []    \n",
    "    for i in range(len(texts)):\n",
    "        tuples.append((texts[i], annot_ls[i]))\n",
    "        \n",
    "    return tuples       "
   ]
  },
  {
   "cell_type": "code",
   "execution_count": null,
   "metadata": {},
   "outputs": [
    {
     "name": "stdout",
     "output_type": "stream",
     "text": [
      "('[margin]: Juana. Esc.va Domingo veinte y dos de [roto] y nueve yo Thomas de Orvera baptize, y pusse [roto] s.tos oleos a Juana de nacion Mina esclava de[roto] Juan Joseph de Justis fueron sus P.P. Joseph Salcedo y Ana de Santiago su mugger, y lo firmé. [signed]: Thomas de Orvera ', {'entities': [(10, 16, 'PER'), (17, 23, 'CHAR'), (24, 62, 'DATE'), (66, 82, 'PER'), (121, 126, 'PER'), (137, 141, 'CHAR'), (142, 149, 'CHAR'), (159, 180, 'PER'), (197, 211, 'PER'), (214, 229, 'PER'), (263, 279, 'PER')]})\n"
     ]
    }
   ],
   "source": [
    "#no_test\n",
    "\n",
    "print(parse_annotation(\"transcriptions/matanzas_baut_1_annot.jsonl\")[0])"
   ]
  },
  {
   "cell_type": "code",
   "execution_count": null,
   "metadata": {},
   "outputs": [],
   "source": [
    "#export\n",
    "\n",
    "def prodigy_output_to_collated_df(path_to_annotation):\n",
    "    tuples = parse_annotation(path_to_annotation)\n",
    "    entry_nos = []\n",
    "    entry_texts = []\n",
    "    entities = []\n",
    "    starts = []\n",
    "    ends = []\n",
    "    labels = []\n",
    "    entry = 1\n",
    "    for tup in tuples:\n",
    "        for entity in tup[1][\"entities\"]:\n",
    "            entry_nos.append(entry)\n",
    "            entry_texts.append(tup[0])\n",
    "            entities.append(tup[0][entity[0]:entity[1]])\n",
    "            starts.append(entity[0])\n",
    "            ends.append(entity[1])\n",
    "            labels.append(entity[2])\n",
    "        entry += 1\n",
    "    \n",
    "    collated_dict = {\"entry_no\": entry_nos, \"text\": entry_texts, \"entity\": entities, \"start\": starts, \"end\": ends, \"label\": labels}\n",
    "    \n",
    "    collated_df = pd.DataFrame(collated_dict)    \n",
    "    \n",
    "    return collated_df"
   ]
  },
  {
   "cell_type": "code",
   "execution_count": null,
   "metadata": {},
   "outputs": [
    {
     "data": {
      "text/html": [
       "<div>\n",
       "<style scoped>\n",
       "    .dataframe tbody tr th:only-of-type {\n",
       "        vertical-align: middle;\n",
       "    }\n",
       "\n",
       "    .dataframe tbody tr th {\n",
       "        vertical-align: top;\n",
       "    }\n",
       "\n",
       "    .dataframe thead th {\n",
       "        text-align: right;\n",
       "    }\n",
       "</style>\n",
       "<table border=\"1\" class=\"dataframe\">\n",
       "  <thead>\n",
       "    <tr style=\"text-align: right;\">\n",
       "      <th></th>\n",
       "      <th>entry_no</th>\n",
       "      <th>text</th>\n",
       "      <th>entity</th>\n",
       "      <th>start</th>\n",
       "      <th>end</th>\n",
       "      <th>label</th>\n",
       "    </tr>\n",
       "  </thead>\n",
       "  <tbody>\n",
       "    <tr>\n",
       "      <th>0</th>\n",
       "      <td>1</td>\n",
       "      <td>[margin]: Juana. Esc.va Domingo veinte y dos d...</td>\n",
       "      <td>Juana.</td>\n",
       "      <td>10</td>\n",
       "      <td>16</td>\n",
       "      <td>PER</td>\n",
       "    </tr>\n",
       "    <tr>\n",
       "      <th>1</th>\n",
       "      <td>1</td>\n",
       "      <td>[margin]: Juana. Esc.va Domingo veinte y dos d...</td>\n",
       "      <td>Esc.va</td>\n",
       "      <td>17</td>\n",
       "      <td>23</td>\n",
       "      <td>CHAR</td>\n",
       "    </tr>\n",
       "    <tr>\n",
       "      <th>2</th>\n",
       "      <td>1</td>\n",
       "      <td>[margin]: Juana. Esc.va Domingo veinte y dos d...</td>\n",
       "      <td>Domingo veinte y dos de [roto] y nueve</td>\n",
       "      <td>24</td>\n",
       "      <td>62</td>\n",
       "      <td>DATE</td>\n",
       "    </tr>\n",
       "    <tr>\n",
       "      <th>3</th>\n",
       "      <td>1</td>\n",
       "      <td>[margin]: Juana. Esc.va Domingo veinte y dos d...</td>\n",
       "      <td>Thomas de Orvera</td>\n",
       "      <td>66</td>\n",
       "      <td>82</td>\n",
       "      <td>PER</td>\n",
       "    </tr>\n",
       "    <tr>\n",
       "      <th>4</th>\n",
       "      <td>1</td>\n",
       "      <td>[margin]: Juana. Esc.va Domingo veinte y dos d...</td>\n",
       "      <td>Juana</td>\n",
       "      <td>121</td>\n",
       "      <td>126</td>\n",
       "      <td>PER</td>\n",
       "    </tr>\n",
       "  </tbody>\n",
       "</table>\n",
       "</div>"
      ],
      "text/plain": [
       "   entry_no                                               text  \\\n",
       "0         1  [margin]: Juana. Esc.va Domingo veinte y dos d...   \n",
       "1         1  [margin]: Juana. Esc.va Domingo veinte y dos d...   \n",
       "2         1  [margin]: Juana. Esc.va Domingo veinte y dos d...   \n",
       "3         1  [margin]: Juana. Esc.va Domingo veinte y dos d...   \n",
       "4         1  [margin]: Juana. Esc.va Domingo veinte y dos d...   \n",
       "\n",
       "                                   entity  start  end label  \n",
       "0                                  Juana.     10   16   PER  \n",
       "1                                  Esc.va     17   23  CHAR  \n",
       "2  Domingo veinte y dos de [roto] y nueve     24   62  DATE  \n",
       "3                        Thomas de Orvera     66   82   PER  \n",
       "4                                   Juana    121  126   PER  "
      ]
     },
     "execution_count": null,
     "metadata": {},
     "output_type": "execute_result"
    }
   ],
   "source": [
    "#no_test\n",
    "\n",
    "mat_xml_df = prodigy_output_to_collated_df(\"transcriptions/matanzas_baut_1_annot.jsonl\")\n",
    "mat_xml_df.head()"
   ]
  },
  {
   "cell_type": "code",
   "execution_count": null,
   "metadata": {},
   "outputs": [
    {
     "name": "stdout",
     "output_type": "stream",
     "text": [
      "Converted 31-collate-xml-entities-spans.ipynb.\n",
      "Converted 33-split-data.ipynb.\n",
      "Converted 41-generic-framework-for-spacy-training.ipynb.\n",
      "Converted 42-all.ipynb.\n",
      "Converted 42-initial-model.ipynb.\n",
      "Converted 51-data-preprocessing.ipynb.\n",
      "Converted 52-unstructured-to-markup.ipynb.\n",
      "Converted 53-markup-to-spacy.ipynb.\n",
      "Converted 61-prodigy-output-training-demo.ipynb.\n"
     ]
    }
   ],
   "source": [
    "#no_test\n",
    "\n",
    "from nbdev.export import notebook2script\n",
    "notebook2script()"
   ]
  },
  {
   "cell_type": "code",
   "execution_count": null,
   "metadata": {},
   "outputs": [],
   "source": []
  }
 ],
 "metadata": {
  "kernelspec": {
   "display_name": "Python 3",
   "language": "python",
   "name": "python3"
  }
 },
 "nbformat": 4,
 "nbformat_minor": 2
}
