{
 "cells": [
  {
   "cell_type": "markdown",
   "id": "3322fe80",
   "metadata": {},
   "source": [
    "# Code Validation / Refactoring\n",
    "## Non-functionalized versions for easier trouble shooting"
   ]
  },
  {
   "cell_type": "code",
   "execution_count": null,
   "id": "5e4ccd06",
   "metadata": {},
   "outputs": [],
   "source": [
    "#no_test\n",
    "#dependencies\n",
    "\n",
    "#nlp packages\n",
    "import spacy\n",
    "from spacy.util import minibatch, compounding\n",
    "\n",
    "#manipulation of tables/arrays\n",
    "import pandas as pd\n",
    "import numpy as np\n",
    "import copy\n",
    "import json\n",
    "\n",
    "import difflib\n",
    "import matplotlib.pyplot as plt\n",
    "import matplotlib as mpl\n",
    "\n",
    "#internal imports\n",
    "from ssda_nlp.collate import *\n",
    "from ssda_nlp.split_data import *\n",
    "from ssda_nlp.modeling import *\n",
    "from ssda_nlp.model_performance_utils import *\n",
    "from ssda_nlp.xml_parser import *\n",
    "from ssda_nlp.unstructured2markup import *\n",
    "from ssda_nlp.utility import *\n",
    "from ssda_nlp.relationships import *\n",
    "from ssda_nlp.full_volume import *"
   ]
  },
  {
   "cell_type": "code",
   "execution_count": null,
   "id": "0f88a947",
   "metadata": {},
   "outputs": [],
   "source": [
    "import unicodedata\n",
    "\n",
    "def strip_accents(text):\n",
    "    try:\n",
    "        text = unicode(text, 'utf-8')\n",
    "    except NameError: # unicode is a default on python 3 \n",
    "        pass\n",
    "\n",
    "    text = unicodedata.normalize('NFD', text)\\\n",
    "           .encode('ascii', 'ignore')\\\n",
    "           .decode(\"utf-8\")\n",
    "\n",
    "    return str(text)\n",
    "\n",
    "my_string = 'àéêöhello'\n",
    "print(my_string)\n",
    "s = strip_accents(my_string)\n",
    "print(s)\n",
    "\n",
    "my_string = \"á, é, í, ó, ú, ü, ñ, ¿, ¡, ?, #,  , !, $, @, .\"\n",
    "print(my_string)\n",
    "s = strip_accents(my_string)\n",
    "print(s)"
   ]
  },
  {
   "cell_type": "code",
   "execution_count": null,
   "id": "c42354c4",
   "metadata": {},
   "outputs": [],
   "source": [
    "#no_test\n",
    "\n",
    "for person_idx in range(len(entry_people)):\n",
    "    relationships = entry_people[person_idx].get('relationships')\n",
    "    \n",
    "    #are there any people with very similar names that still appear separately\n",
    "    nameTemp = entry_people[person_idx].get('name')\n",
    "    name_list.append(nameTemp)\n",
    "    \n",
    "    #1: Short name that could be a first name\n",
    "    #Make a boolean list to flag which names may be first names (based on length)\n",
    "    possibleFirstNames = []\n",
    "    fullNames = []\n",
    "    for name in name_list:\n",
    "        if name in all_first_names:\n",
    "            possibleFirstNames.append(name)\n",
    "        else:\n",
    "            fullNames.append(name)\n",
    "    #Check to see if names appear within each other (i.e. is a person double counted)\n",
    "    doubleCountedNames = []\n",
    "    for idx in range(len(possibleFirstNames)):\n",
    "        doubleCountedNames= doubleCountedNames + ([name for name in fullNames if possibleFirstNames[idx] in name])\n",
    "    if not len(doubleCountedNames)==0:\n",
    "        print(\"Possible double count (first name appears in a second instance (full name))\")\n",
    "        print(name_list)\n",
    "        similarNames = 1\n",
    "        \n",
    "    #2: Two similarly-sized names, that could be variations (i.e. missing hypens or have #'s for unknown letters')\n",
    "    # This is a bad check that needs to be replaced\n",
    "    # Doesn't even check to see if composition is similar, only length...\n",
    "    for name_idx in range(len(name_list)):\n",
    "        # Why is it even passing here?\n",
    "        if name_idx==0:\n",
    "            pass\n",
    "        else:\n",
    "            for idx in range(len(name_list)):\n",
    "                for idx2 in range(len(name_list)-idx-1):\n",
    "                    idx2 = idx2+idx+1\n",
    "                    if check_lengths(name_list, idx, idx2):\n",
    "                        print(\"Similar Names: similar size\")\n",
    "                        print(name_list)\n",
    "                        similarNames = 1 \n",
    "                        \n",
    "    #3: Strip spaces, \".\", \"#\", convert accented characters to unaccented\n",
    "    for name in name_list:\n",
    "        # Strip any accents\n",
    "        utf_name = strip_accents(name)\n",
    "        # Remove bad characters\n",
    "        condensed_name = utf_name.translate({ord(c): None for c in './\\? !@#$'})\n",
    "        # ^ How to check for similarity when # appears in one name but the actual letter does in the other?\n",
    "        "
   ]
  },
  {
   "cell_type": "code",
   "execution_count": 14,
   "id": "9c30c470",
   "metadata": {},
   "outputs": [],
   "source": [
    "#á, é, í, ó, ú, ü, ñ\n",
    "\n",
    "name_list = [\"Kai Malcolm\", \"Kai\", \"Kai Devon Malcolm\", \"Devon Malcolm\", \n",
    "             \"Dan Jenkins\", \"Daniel Jenkins\", \"Daniel Genkins\", \"Da##iel Genkin#\", \"D#l Ge#ins\", \n",
    "            \"Maria Andoval\", \"María Andoval\", \"Máríá ##o#al\",\n",
    "            \"María Dolores\", \"María Dolores Sanchez\", \"Maria Sanchez\"]"
   ]
  },
  {
   "cell_type": "code",
   "execution_count": null,
   "id": "9bade0b2",
   "metadata": {},
   "outputs": [],
   "source": [
    "#3: Strip spaces, \".\", \"#\", convert accented characters to unaccented\n",
    "for name in name_list:\n",
    "    # Strip any accents\n",
    "    utf_name = strip_accents(name)\n",
    "    # Remove bad characters\n",
    "    condensed_name = utf_name.translate({ord(c): None for c in './\\? !@#$'})\n",
    "    # ^ How to check for similarity when # appears in one name but the actual letter does in the other?"
   ]
  },
  {
   "cell_type": "code",
   "execution_count": 13,
   "id": "fdee75c2",
   "metadata": {},
   "outputs": [
    {
     "name": "stdout",
     "output_type": "stream",
     "text": [
      "0.9090909090909091\n"
     ]
    }
   ],
   "source": [
    "from difflib import SequenceMatcher\n",
    "s_1 = 'Mohan Mehta'\n",
    "s_2 = 'Mohan Mehte'\n",
    "print(SequenceMatcher(a=s_1,b=s_2).ratio())"
   ]
  },
  {
   "cell_type": "code",
   "execution_count": 19,
   "id": "74d58d88",
   "metadata": {},
   "outputs": [
    {
     "name": "stdout",
     "output_type": "stream",
     "text": [
      "0.8292682926829268\n"
     ]
    }
   ],
   "source": [
    "from difflib import SequenceMatcher\n",
    "s_1 = 'Maria Dolores Sanchez'\n",
    "s_2 = 'Juan Dolores Sanchez'\n",
    "print(SequenceMatcher(a=s_1,b=s_2).ratio())"
   ]
  },
  {
   "cell_type": "code",
   "execution_count": 18,
   "id": "3af74da0",
   "metadata": {},
   "outputs": [
    {
     "name": "stdout",
     "output_type": "stream",
     "text": [
      "Kai Malcolm, Kai, 0.462\n",
      "---------------------\n",
      "Kai, Kai Devon Malcolm, 0.333\n",
      "---------------------\n",
      "Kai Devon Malcolm, Devon Malcolm, 0.889\n",
      "---------------------\n",
      "Devon Malcolm, Dan Jenkins, 0.273\n",
      "---------------------\n",
      "Dan Jenkins, Daniel Jenkins, 0.870\n",
      "---------------------\n",
      "Daniel Jenkins, Daniel Genkins, 0.923\n",
      "---------------------\n",
      "Daniel Genkins, Da##iel Genkin#, 0.917\n",
      "---------------------\n",
      "Da##iel Genkin#, D#l Ge#ins, 0.667\n",
      "---------------------\n",
      "D#l Ge#ins, Maria Andoval, 0.105\n",
      "---------------------\n",
      "Maria Andoval, María Andoval, 1.000\n",
      "---------------------\n",
      "María Andoval, Máríá ##o#al, 0.800\n",
      "---------------------\n",
      "Máríá ##o#al, María Dolores, 0.700\n",
      "---------------------\n",
      "María Dolores, María Dolores Sanchez, 0.774\n",
      "---------------------\n",
      "María Dolores Sanchez, Maria Sanchez, 0.774\n",
      "---------------------\n"
     ]
    }
   ],
   "source": [
    "for name_idx in range(len(name_list)):\n",
    "    try:\n",
    "        name1 = name_list[name_idx]\n",
    "        name2 = name_list[name_idx+1]\n",
    "        # Strip any accents, Remove bad characters\n",
    "        n1 = strip_accents(name1).translate({ord(c): None for c in './\\? !@#$'})\n",
    "        n2 = strip_accents(name2).translate({ord(c): None for c in './\\? !@#$'})\n",
    "        \n",
    "        print(f\"{name_list[name_idx]}, {name_list[name_idx+1]}, {SequenceMatcher(a=n1,b=n2).ratio():0.3f}\")\n",
    "        print(\"---------------------\")\n",
    "    except:\n",
    "        pass"
   ]
  },
  {
   "cell_type": "code",
   "execution_count": null,
   "id": "0b38755d",
   "metadata": {},
   "outputs": [],
   "source": [
    "entry_ex1 = ['María Dolores Sanchez', 'Don Miguel o’Reilly', 'Juan', 'Deliby', 'Don Francisco Sanchez', 'Maria Dolores', 'José Rivas', 'María de la Luz Blanco']\n",
    "entry_ex2 = ['Antonio Guillo', 'Don Miguel o’Reilly', 'Isaac Guillo', 'Sara Ca mel', 'Juan Antonio', 'Antonio Pellice', 'Susana Pellicer']\n",
    "entry_ex3 = ['María Juana Francisca Fish', 'Don Miguel o’Reilly', 'Don Jeremías Fish', 'Eva Fish', 'Maria Juana Francisca', 'Lorenzo Capó', 'Juana Joaquina Gonzalez']\n",
    "#'Teniente de Cura Beneficiado'\n"
   ]
  },
  {
   "cell_type": "code",
   "execution_count": null,
   "id": "0c794e6b",
   "metadata": {},
   "outputs": [],
   "source": []
  },
  {
   "cell_type": "code",
   "execution_count": null,
   "id": "9547f17d",
   "metadata": {},
   "outputs": [],
   "source": []
  },
  {
   "cell_type": "code",
   "execution_count": null,
   "id": "17d31657",
   "metadata": {},
   "outputs": [],
   "source": []
  },
  {
   "cell_type": "code",
   "execution_count": null,
   "id": "6534e935",
   "metadata": {},
   "outputs": [],
   "source": []
  },
  {
   "cell_type": "code",
   "execution_count": null,
   "id": "335347d4",
   "metadata": {},
   "outputs": [],
   "source": [
    "#no_test\n",
    "\n",
    "from nbdev.export import notebook2script\n",
    "notebook2script()"
   ]
  }
 ],
 "metadata": {
  "kernelspec": {
   "display_name": "Python 3 (ipykernel)",
   "language": "python",
   "name": "python3"
  },
  "language_info": {
   "codemirror_mode": {
    "name": "ipython",
    "version": 3
   },
   "file_extension": ".py",
   "mimetype": "text/x-python",
   "name": "python",
   "nbconvert_exporter": "python",
   "pygments_lexer": "ipython3",
   "version": "3.7.10"
  }
 },
 "nbformat": 4,
 "nbformat_minor": 5
}
