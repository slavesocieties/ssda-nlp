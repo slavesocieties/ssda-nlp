{
 "cells": [
  {
   "cell_type": "code",
   "execution_count": null,
   "metadata": {},
   "outputs": [],
   "source": [
    "#default_exp prodigy_demo"
   ]
  },
  {
   "cell_type": "code",
   "execution_count": null,
   "metadata": {},
   "outputs": [],
   "source": [
    "#no_test\n",
    "\n",
    "#data structure imports\n",
    "import pandas as pd\n",
    "import numpy as np\n",
    "\n",
    "#python imports\n",
    "import random\n",
    "\n",
    "#modeling imports\n",
    "from spacy.util import fix_random_seed\n",
    "from ssda_nlp.collate import *\n",
    "from ssda_nlp.split_data import *\n",
    "from ssda_nlp.modeling import *\n",
    "from ssda_nlp.preprocessing import *\n",
    "from ssda_nlp.model_performance_utils import *"
   ]
  },
  {
   "cell_type": "code",
   "execution_count": null,
   "metadata": {},
   "outputs": [],
   "source": [
    "#no_test\n",
    "seed = 2436\n",
    "random.seed(seed)\n",
    "fix_random_seed(seed)"
   ]
  },
  {
   "cell_type": "markdown",
   "metadata": {},
   "source": [
    "# First Book of Baptisms, Matanzas (15834)"
   ]
  },
  {
   "cell_type": "code",
   "execution_count": null,
   "metadata": {},
   "outputs": [
    {
     "data": {
      "text/html": [
       "<div>\n",
       "<style scoped>\n",
       "    .dataframe tbody tr th:only-of-type {\n",
       "        vertical-align: middle;\n",
       "    }\n",
       "\n",
       "    .dataframe tbody tr th {\n",
       "        vertical-align: top;\n",
       "    }\n",
       "\n",
       "    .dataframe thead th {\n",
       "        text-align: right;\n",
       "    }\n",
       "</style>\n",
       "<table border=\"1\" class=\"dataframe\">\n",
       "  <thead>\n",
       "    <tr style=\"text-align: right;\">\n",
       "      <th></th>\n",
       "      <th>entry_no</th>\n",
       "      <th>text</th>\n",
       "      <th>entity</th>\n",
       "      <th>start</th>\n",
       "      <th>end</th>\n",
       "      <th>label</th>\n",
       "    </tr>\n",
       "  </thead>\n",
       "  <tbody>\n",
       "    <tr>\n",
       "      <th>13</th>\n",
       "      <td>2</td>\n",
       "      <td>[margin]: Paula. Esc.a Juebes veinte y tres de...</td>\n",
       "      <td>Paula</td>\n",
       "      <td>10</td>\n",
       "      <td>15</td>\n",
       "      <td>PER</td>\n",
       "    </tr>\n",
       "    <tr>\n",
       "      <th>14</th>\n",
       "      <td>2</td>\n",
       "      <td>[margin]: Paula. Esc.a Juebes veinte y tres de...</td>\n",
       "      <td>Esc.a</td>\n",
       "      <td>17</td>\n",
       "      <td>22</td>\n",
       "      <td>CHAR</td>\n",
       "    </tr>\n",
       "    <tr>\n",
       "      <th>15</th>\n",
       "      <td>2</td>\n",
       "      <td>[margin]: Paula. Esc.a Juebes veinte y tres de...</td>\n",
       "      <td>Juebes veinte y tres de feb.o de mil sietec.to...</td>\n",
       "      <td>23</td>\n",
       "      <td>86</td>\n",
       "      <td>DATE</td>\n",
       "    </tr>\n",
       "    <tr>\n",
       "      <th>16</th>\n",
       "      <td>2</td>\n",
       "      <td>[margin]: Paula. Esc.a Juebes veinte y tres de...</td>\n",
       "      <td>Thomas de Orvera</td>\n",
       "      <td>90</td>\n",
       "      <td>106</td>\n",
       "      <td>PER</td>\n",
       "    </tr>\n",
       "    <tr>\n",
       "      <th>17</th>\n",
       "      <td>2</td>\n",
       "      <td>[margin]: Paula. Esc.a Juebes veinte y tres de...</td>\n",
       "      <td>Paula</td>\n",
       "      <td>145</td>\n",
       "      <td>150</td>\n",
       "      <td>PER</td>\n",
       "    </tr>\n",
       "    <tr>\n",
       "      <th>18</th>\n",
       "      <td>2</td>\n",
       "      <td>[margin]: Paula. Esc.a Juebes veinte y tres de...</td>\n",
       "      <td>h. l.16</td>\n",
       "      <td>151</td>\n",
       "      <td>158</td>\n",
       "      <td>CHAR</td>\n",
       "    </tr>\n",
       "    <tr>\n",
       "      <th>19</th>\n",
       "      <td>2</td>\n",
       "      <td>[margin]: Paula. Esc.a Juebes veinte y tres de...</td>\n",
       "      <td>Juan Joseph</td>\n",
       "      <td>162</td>\n",
       "      <td>173</td>\n",
       "      <td>PER</td>\n",
       "    </tr>\n",
       "    <tr>\n",
       "      <th>20</th>\n",
       "      <td>2</td>\n",
       "      <td>[margin]: Paula. Esc.a Juebes veinte y tres de...</td>\n",
       "      <td>Maria Josepha</td>\n",
       "      <td>177</td>\n",
       "      <td>190</td>\n",
       "      <td>PER</td>\n",
       "    </tr>\n",
       "    <tr>\n",
       "      <th>21</th>\n",
       "      <td>2</td>\n",
       "      <td>[margin]: Paula. Esc.a Juebes veinte y tres de...</td>\n",
       "      <td>esc.s</td>\n",
       "      <td>191</td>\n",
       "      <td>196</td>\n",
       "      <td>CHAR</td>\n",
       "    </tr>\n",
       "    <tr>\n",
       "      <th>22</th>\n",
       "      <td>2</td>\n",
       "      <td>[margin]: Paula. Esc.a Juebes veinte y tres de...</td>\n",
       "      <td>Capitan D. Luis Hurtado de Mendoza</td>\n",
       "      <td>201</td>\n",
       "      <td>235</td>\n",
       "      <td>PER</td>\n",
       "    </tr>\n",
       "  </tbody>\n",
       "</table>\n",
       "</div>"
      ],
      "text/plain": [
       "    entry_no                                               text  \\\n",
       "13         2  [margin]: Paula. Esc.a Juebes veinte y tres de...   \n",
       "14         2  [margin]: Paula. Esc.a Juebes veinte y tres de...   \n",
       "15         2  [margin]: Paula. Esc.a Juebes veinte y tres de...   \n",
       "16         2  [margin]: Paula. Esc.a Juebes veinte y tres de...   \n",
       "17         2  [margin]: Paula. Esc.a Juebes veinte y tres de...   \n",
       "18         2  [margin]: Paula. Esc.a Juebes veinte y tres de...   \n",
       "19         2  [margin]: Paula. Esc.a Juebes veinte y tres de...   \n",
       "20         2  [margin]: Paula. Esc.a Juebes veinte y tres de...   \n",
       "21         2  [margin]: Paula. Esc.a Juebes veinte y tres de...   \n",
       "22         2  [margin]: Paula. Esc.a Juebes veinte y tres de...   \n",
       "\n",
       "                                               entity  start  end label  \n",
       "13                                              Paula     10   15   PER  \n",
       "14                                              Esc.a     17   22  CHAR  \n",
       "15  Juebes veinte y tres de feb.o de mil sietec.to...     23   86  DATE  \n",
       "16                                   Thomas de Orvera     90  106   PER  \n",
       "17                                              Paula    145  150   PER  \n",
       "18                                            h. l.16    151  158  CHAR  \n",
       "19                                        Juan Joseph    162  173   PER  \n",
       "20                                      Maria Josepha    177  190   PER  \n",
       "21                                              esc.s    191  196  CHAR  \n",
       "22                 Capitan D. Luis Hurtado de Mendoza    201  235   PER  "
      ]
     },
     "execution_count": null,
     "metadata": {},
     "output_type": "execute_result"
    }
   ],
   "source": [
    "#no_test\n",
    "\n",
    "collated_df = prodigy_output_to_collated_df(\"transcriptions//15834_annot.jsonl\")\n",
    "\n",
    "# Split data\n",
    "train_df, valid_df, test_df = split_data_grp(collated_df, prop_train = 0.7, prop_validation = 0.2, grp_var = 'entry_no', seed=seed)\n",
    "\n",
    "# Generate Spacy datasets\n",
    "train_spacy = genSpaCyInput(train_df)\n",
    "\n",
    "# Look at column names\n",
    "train_df.head(10)"
   ]
  },
  {
   "cell_type": "code",
   "execution_count": null,
   "metadata": {},
   "outputs": [
    {
     "data": {
      "text/plain": [
       "[('[margin]: Paula. Esc.a Juebes veinte y tres de feb.o de mil sietec.tos. y diez y nueve Yo Thomas de Orvera baptizé, y pusse los santos15 oleos á Paula h. l.16 de Juan Joseph, y Maria Josepha esc.s del Capitan D. Luis Hurtado de Mendoza fue su Padrino Bartholome Rixo, y lo firmé. [signed]: Thomas de Orvera ',\n",
       "  {'entities': [(10, 15, 'PER'),\n",
       "    (17, 22, 'CHAR'),\n",
       "    (23, 86, 'DATE'),\n",
       "    (90, 106, 'PER'),\n",
       "    (145, 150, 'PER'),\n",
       "    (151, 158, 'CHAR'),\n",
       "    (162, 173, 'PER'),\n",
       "    (177, 190, 'PER'),\n",
       "    (191, 196, 'CHAR'),\n",
       "    (201, 235, 'PER'),\n",
       "    (243, 250, 'REL'),\n",
       "    (251, 266, 'PER'),\n",
       "    (290, 306, 'PER')]}),\n",
       " ('[margin]: Bernardo Esc.vo Domingo nueve de Abril de mil sietectos y diez y nueve Yo Thomas de Orvera baptize, y pusse los s.tos oleos á Bernardo negro adulto de nacion carabali esc.o de D. Juan Joseph de Justis fue su P. Andres de Morales, y lo firmé. [signed]: Thomas de Orvera ',\n",
       "  {'entities': [(10, 18, 'PER'),\n",
       "    (19, 25, 'CHAR'),\n",
       "    (26, 80, 'DATE'),\n",
       "    (84, 100, 'PER'),\n",
       "    (136, 144, 'PER'),\n",
       "    (145, 150, 'CHAR'),\n",
       "    (151, 157, 'CHAR'),\n",
       "    (168, 176, 'CHAR'),\n",
       "    (177, 182, 'CHAR'),\n",
       "    (186, 210, 'PER'),\n",
       "    (218, 220, 'REL'),\n",
       "    (221, 238, 'PER'),\n",
       "    (262, 278, 'PER')]})]"
      ]
     },
     "execution_count": null,
     "metadata": {},
     "output_type": "execute_result"
    }
   ],
   "source": [
    "#no_test\n",
    "\n",
    "train_spacy[:2]"
   ]
  },
  {
   "cell_type": "code",
   "execution_count": null,
   "metadata": {},
   "outputs": [
    {
     "name": "stderr",
     "output_type": "stream",
     "text": [
      "c:\\users\\genkindn\\appdata\\local\\programs\\python\\python39\\lib\\site-packages\\spacy\\training\\iob_utils.py:139: UserWarning: [W030] Some entities could not be aligned in the text \"[margin]: Fran.co esc.o Domingo dos de Marco de mi...\" with entities \"[(10, 17, 'PER'), (18, 23, 'CHAR'), (24, 78, 'DATE...\". Use `spacy.training.offsets_to_biluo_tags(nlp.make_doc(text), entities)` to check the alignment. Misaligned entities ('-') will be ignored during training.\n",
      "  warnings.warn(\n"
     ]
    },
    {
     "data": {
      "text/html": [
       "<div>\n",
       "<style scoped>\n",
       "    .dataframe tbody tr th:only-of-type {\n",
       "        vertical-align: middle;\n",
       "    }\n",
       "\n",
       "    .dataframe tbody tr th {\n",
       "        vertical-align: top;\n",
       "    }\n",
       "\n",
       "    .dataframe thead th {\n",
       "        text-align: right;\n",
       "    }\n",
       "</style>\n",
       "<table border=\"1\" class=\"dataframe\">\n",
       "  <thead>\n",
       "    <tr style=\"text-align: right;\">\n",
       "      <th></th>\n",
       "      <th>cycle_no</th>\n",
       "      <th>avg_cycle_loss</th>\n",
       "      <th>precision</th>\n",
       "      <th>recall</th>\n",
       "      <th>f_score</th>\n",
       "    </tr>\n",
       "  </thead>\n",
       "  <tbody>\n",
       "    <tr>\n",
       "      <th>0</th>\n",
       "      <td>1.0</td>\n",
       "      <td>3806.833701</td>\n",
       "      <td>1.960784</td>\n",
       "      <td>0.453515</td>\n",
       "      <td>0.736648</td>\n",
       "    </tr>\n",
       "  </tbody>\n",
       "</table>\n",
       "</div>"
      ],
      "text/plain": [
       "   cycle_no  avg_cycle_loss  precision    recall   f_score\n",
       "0       1.0     3806.833701   1.960784  0.453515  0.736648"
      ]
     },
     "metadata": {},
     "output_type": "display_data"
    },
    {
     "name": "stdout",
     "output_type": "stream",
     "text": [
      "Saved model to models\\15834\n"
     ]
    },
    {
     "name": "stderr",
     "output_type": "stream",
     "text": [
      "c:\\users\\genkindn\\appdata\\local\\programs\\python\\python39\\lib\\site-packages\\spacy\\training\\iob_utils.py:139: UserWarning: [W030] Some entities could not be aligned in the text \"[margin]: Fran.co esc.o Domingo dos de Marco de mi...\" with entities \"[(10, 17, 'PER'), (18, 23, 'CHAR'), (24, 78, 'DATE...\". Use `spacy.training.offsets_to_biluo_tags(nlp.make_doc(text), entities)` to check the alignment. Misaligned entities ('-') will be ignored during training.\n",
      "  warnings.warn(\n"
     ]
    },
    {
     "data": {
      "text/html": [
       "<div>\n",
       "<style scoped>\n",
       "    .dataframe tbody tr th:only-of-type {\n",
       "        vertical-align: middle;\n",
       "    }\n",
       "\n",
       "    .dataframe tbody tr th {\n",
       "        vertical-align: top;\n",
       "    }\n",
       "\n",
       "    .dataframe thead th {\n",
       "        text-align: right;\n",
       "    }\n",
       "</style>\n",
       "<table border=\"1\" class=\"dataframe\">\n",
       "  <thead>\n",
       "    <tr style=\"text-align: right;\">\n",
       "      <th></th>\n",
       "      <th>cycle_no</th>\n",
       "      <th>avg_cycle_loss</th>\n",
       "      <th>precision</th>\n",
       "      <th>recall</th>\n",
       "      <th>f_score</th>\n",
       "    </tr>\n",
       "  </thead>\n",
       "  <tbody>\n",
       "    <tr>\n",
       "      <th>0</th>\n",
       "      <td>2.0</td>\n",
       "      <td>1935.017072</td>\n",
       "      <td>51.404494</td>\n",
       "      <td>41.496599</td>\n",
       "      <td>45.922208</td>\n",
       "    </tr>\n",
       "  </tbody>\n",
       "</table>\n",
       "</div>"
      ],
      "text/plain": [
       "   cycle_no  avg_cycle_loss  precision     recall    f_score\n",
       "0       2.0     1935.017072  51.404494  41.496599  45.922208"
      ]
     },
     "metadata": {},
     "output_type": "display_data"
    },
    {
     "name": "stdout",
     "output_type": "stream",
     "text": [
      "Saved model to models\\15834\n"
     ]
    },
    {
     "name": "stderr",
     "output_type": "stream",
     "text": [
      "c:\\users\\genkindn\\appdata\\local\\programs\\python\\python39\\lib\\site-packages\\spacy\\training\\iob_utils.py:139: UserWarning: [W030] Some entities could not be aligned in the text \"[margin]: Fran.co esc.o Domingo dos de Marco de mi...\" with entities \"[(10, 17, 'PER'), (18, 23, 'CHAR'), (24, 78, 'DATE...\". Use `spacy.training.offsets_to_biluo_tags(nlp.make_doc(text), entities)` to check the alignment. Misaligned entities ('-') will be ignored during training.\n",
      "  warnings.warn(\n"
     ]
    },
    {
     "data": {
      "text/html": [
       "<div>\n",
       "<style scoped>\n",
       "    .dataframe tbody tr th:only-of-type {\n",
       "        vertical-align: middle;\n",
       "    }\n",
       "\n",
       "    .dataframe tbody tr th {\n",
       "        vertical-align: top;\n",
       "    }\n",
       "\n",
       "    .dataframe thead th {\n",
       "        text-align: right;\n",
       "    }\n",
       "</style>\n",
       "<table border=\"1\" class=\"dataframe\">\n",
       "  <thead>\n",
       "    <tr style=\"text-align: right;\">\n",
       "      <th></th>\n",
       "      <th>cycle_no</th>\n",
       "      <th>avg_cycle_loss</th>\n",
       "      <th>precision</th>\n",
       "      <th>recall</th>\n",
       "      <th>f_score</th>\n",
       "    </tr>\n",
       "  </thead>\n",
       "  <tbody>\n",
       "    <tr>\n",
       "      <th>0</th>\n",
       "      <td>3.0</td>\n",
       "      <td>1497.226828</td>\n",
       "      <td>61.425061</td>\n",
       "      <td>56.689342</td>\n",
       "      <td>58.962264</td>\n",
       "    </tr>\n",
       "  </tbody>\n",
       "</table>\n",
       "</div>"
      ],
      "text/plain": [
       "   cycle_no  avg_cycle_loss  precision     recall    f_score\n",
       "0       3.0     1497.226828  61.425061  56.689342  58.962264"
      ]
     },
     "metadata": {},
     "output_type": "display_data"
    },
    {
     "name": "stdout",
     "output_type": "stream",
     "text": [
      "Saved model to models\\15834\n"
     ]
    },
    {
     "name": "stderr",
     "output_type": "stream",
     "text": [
      "c:\\users\\genkindn\\appdata\\local\\programs\\python\\python39\\lib\\site-packages\\spacy\\training\\iob_utils.py:139: UserWarning: [W030] Some entities could not be aligned in the text \"[margin]: Fran.co esc.o Domingo dos de Marco de mi...\" with entities \"[(10, 17, 'PER'), (18, 23, 'CHAR'), (24, 78, 'DATE...\". Use `spacy.training.offsets_to_biluo_tags(nlp.make_doc(text), entities)` to check the alignment. Misaligned entities ('-') will be ignored during training.\n",
      "  warnings.warn(\n"
     ]
    },
    {
     "data": {
      "text/html": [
       "<div>\n",
       "<style scoped>\n",
       "    .dataframe tbody tr th:only-of-type {\n",
       "        vertical-align: middle;\n",
       "    }\n",
       "\n",
       "    .dataframe tbody tr th {\n",
       "        vertical-align: top;\n",
       "    }\n",
       "\n",
       "    .dataframe thead th {\n",
       "        text-align: right;\n",
       "    }\n",
       "</style>\n",
       "<table border=\"1\" class=\"dataframe\">\n",
       "  <thead>\n",
       "    <tr style=\"text-align: right;\">\n",
       "      <th></th>\n",
       "      <th>cycle_no</th>\n",
       "      <th>avg_cycle_loss</th>\n",
       "      <th>precision</th>\n",
       "      <th>recall</th>\n",
       "      <th>f_score</th>\n",
       "    </tr>\n",
       "  </thead>\n",
       "  <tbody>\n",
       "    <tr>\n",
       "      <th>0</th>\n",
       "      <td>4.0</td>\n",
       "      <td>1086.550298</td>\n",
       "      <td>72.470588</td>\n",
       "      <td>69.84127</td>\n",
       "      <td>71.13164</td>\n",
       "    </tr>\n",
       "  </tbody>\n",
       "</table>\n",
       "</div>"
      ],
      "text/plain": [
       "   cycle_no  avg_cycle_loss  precision    recall   f_score\n",
       "0       4.0     1086.550298  72.470588  69.84127  71.13164"
      ]
     },
     "metadata": {},
     "output_type": "display_data"
    },
    {
     "name": "stdout",
     "output_type": "stream",
     "text": [
      "Saved model to models\\15834\n"
     ]
    },
    {
     "name": "stderr",
     "output_type": "stream",
     "text": [
      "c:\\users\\genkindn\\appdata\\local\\programs\\python\\python39\\lib\\site-packages\\spacy\\training\\iob_utils.py:139: UserWarning: [W030] Some entities could not be aligned in the text \"[margin]: Fran.co esc.o Domingo dos de Marco de mi...\" with entities \"[(10, 17, 'PER'), (18, 23, 'CHAR'), (24, 78, 'DATE...\". Use `spacy.training.offsets_to_biluo_tags(nlp.make_doc(text), entities)` to check the alignment. Misaligned entities ('-') will be ignored during training.\n",
      "  warnings.warn(\n"
     ]
    },
    {
     "data": {
      "text/html": [
       "<div>\n",
       "<style scoped>\n",
       "    .dataframe tbody tr th:only-of-type {\n",
       "        vertical-align: middle;\n",
       "    }\n",
       "\n",
       "    .dataframe tbody tr th {\n",
       "        vertical-align: top;\n",
       "    }\n",
       "\n",
       "    .dataframe thead th {\n",
       "        text-align: right;\n",
       "    }\n",
       "</style>\n",
       "<table border=\"1\" class=\"dataframe\">\n",
       "  <thead>\n",
       "    <tr style=\"text-align: right;\">\n",
       "      <th></th>\n",
       "      <th>cycle_no</th>\n",
       "      <th>avg_cycle_loss</th>\n",
       "      <th>precision</th>\n",
       "      <th>recall</th>\n",
       "      <th>f_score</th>\n",
       "    </tr>\n",
       "  </thead>\n",
       "  <tbody>\n",
       "    <tr>\n",
       "      <th>0</th>\n",
       "      <td>5.0</td>\n",
       "      <td>788.908795</td>\n",
       "      <td>82.978723</td>\n",
       "      <td>79.591837</td>\n",
       "      <td>81.25</td>\n",
       "    </tr>\n",
       "  </tbody>\n",
       "</table>\n",
       "</div>"
      ],
      "text/plain": [
       "   cycle_no  avg_cycle_loss  precision     recall  f_score\n",
       "0       5.0      788.908795  82.978723  79.591837    81.25"
      ]
     },
     "metadata": {},
     "output_type": "display_data"
    },
    {
     "name": "stdout",
     "output_type": "stream",
     "text": [
      "Saved model to models\\15834\n"
     ]
    },
    {
     "name": "stderr",
     "output_type": "stream",
     "text": [
      "c:\\users\\genkindn\\appdata\\local\\programs\\python\\python39\\lib\\site-packages\\spacy\\training\\iob_utils.py:139: UserWarning: [W030] Some entities could not be aligned in the text \"[margin]: Fran.co esc.o Domingo dos de Marco de mi...\" with entities \"[(10, 17, 'PER'), (18, 23, 'CHAR'), (24, 78, 'DATE...\". Use `spacy.training.offsets_to_biluo_tags(nlp.make_doc(text), entities)` to check the alignment. Misaligned entities ('-') will be ignored during training.\n",
      "  warnings.warn(\n"
     ]
    },
    {
     "data": {
      "text/html": [
       "<div>\n",
       "<style scoped>\n",
       "    .dataframe tbody tr th:only-of-type {\n",
       "        vertical-align: middle;\n",
       "    }\n",
       "\n",
       "    .dataframe tbody tr th {\n",
       "        vertical-align: top;\n",
       "    }\n",
       "\n",
       "    .dataframe thead th {\n",
       "        text-align: right;\n",
       "    }\n",
       "</style>\n",
       "<table border=\"1\" class=\"dataframe\">\n",
       "  <thead>\n",
       "    <tr style=\"text-align: right;\">\n",
       "      <th></th>\n",
       "      <th>cycle_no</th>\n",
       "      <th>avg_cycle_loss</th>\n",
       "      <th>precision</th>\n",
       "      <th>recall</th>\n",
       "      <th>f_score</th>\n",
       "    </tr>\n",
       "  </thead>\n",
       "  <tbody>\n",
       "    <tr>\n",
       "      <th>0</th>\n",
       "      <td>6.0</td>\n",
       "      <td>618.540216</td>\n",
       "      <td>88.489209</td>\n",
       "      <td>83.673469</td>\n",
       "      <td>86.013986</td>\n",
       "    </tr>\n",
       "  </tbody>\n",
       "</table>\n",
       "</div>"
      ],
      "text/plain": [
       "   cycle_no  avg_cycle_loss  precision     recall    f_score\n",
       "0       6.0      618.540216  88.489209  83.673469  86.013986"
      ]
     },
     "metadata": {},
     "output_type": "display_data"
    },
    {
     "name": "stdout",
     "output_type": "stream",
     "text": [
      "Saved model to models\\15834\n"
     ]
    },
    {
     "name": "stderr",
     "output_type": "stream",
     "text": [
      "c:\\users\\genkindn\\appdata\\local\\programs\\python\\python39\\lib\\site-packages\\spacy\\training\\iob_utils.py:139: UserWarning: [W030] Some entities could not be aligned in the text \"[margin]: Fran.co esc.o Domingo dos de Marco de mi...\" with entities \"[(10, 17, 'PER'), (18, 23, 'CHAR'), (24, 78, 'DATE...\". Use `spacy.training.offsets_to_biluo_tags(nlp.make_doc(text), entities)` to check the alignment. Misaligned entities ('-') will be ignored during training.\n",
      "  warnings.warn(\n"
     ]
    },
    {
     "data": {
      "text/html": [
       "<div>\n",
       "<style scoped>\n",
       "    .dataframe tbody tr th:only-of-type {\n",
       "        vertical-align: middle;\n",
       "    }\n",
       "\n",
       "    .dataframe tbody tr th {\n",
       "        vertical-align: top;\n",
       "    }\n",
       "\n",
       "    .dataframe thead th {\n",
       "        text-align: right;\n",
       "    }\n",
       "</style>\n",
       "<table border=\"1\" class=\"dataframe\">\n",
       "  <thead>\n",
       "    <tr style=\"text-align: right;\">\n",
       "      <th></th>\n",
       "      <th>cycle_no</th>\n",
       "      <th>avg_cycle_loss</th>\n",
       "      <th>precision</th>\n",
       "      <th>recall</th>\n",
       "      <th>f_score</th>\n",
       "    </tr>\n",
       "  </thead>\n",
       "  <tbody>\n",
       "    <tr>\n",
       "      <th>0</th>\n",
       "      <td>7.0</td>\n",
       "      <td>474.527487</td>\n",
       "      <td>88.705882</td>\n",
       "      <td>85.487528</td>\n",
       "      <td>87.066975</td>\n",
       "    </tr>\n",
       "  </tbody>\n",
       "</table>\n",
       "</div>"
      ],
      "text/plain": [
       "   cycle_no  avg_cycle_loss  precision     recall    f_score\n",
       "0       7.0      474.527487  88.705882  85.487528  87.066975"
      ]
     },
     "metadata": {},
     "output_type": "display_data"
    },
    {
     "name": "stdout",
     "output_type": "stream",
     "text": [
      "Saved model to models\\15834\n"
     ]
    },
    {
     "name": "stderr",
     "output_type": "stream",
     "text": [
      "c:\\users\\genkindn\\appdata\\local\\programs\\python\\python39\\lib\\site-packages\\spacy\\training\\iob_utils.py:139: UserWarning: [W030] Some entities could not be aligned in the text \"[margin]: Fran.co esc.o Domingo dos de Marco de mi...\" with entities \"[(10, 17, 'PER'), (18, 23, 'CHAR'), (24, 78, 'DATE...\". Use `spacy.training.offsets_to_biluo_tags(nlp.make_doc(text), entities)` to check the alignment. Misaligned entities ('-') will be ignored during training.\n",
      "  warnings.warn(\n"
     ]
    },
    {
     "data": {
      "text/html": [
       "<div>\n",
       "<style scoped>\n",
       "    .dataframe tbody tr th:only-of-type {\n",
       "        vertical-align: middle;\n",
       "    }\n",
       "\n",
       "    .dataframe tbody tr th {\n",
       "        vertical-align: top;\n",
       "    }\n",
       "\n",
       "    .dataframe thead th {\n",
       "        text-align: right;\n",
       "    }\n",
       "</style>\n",
       "<table border=\"1\" class=\"dataframe\">\n",
       "  <thead>\n",
       "    <tr style=\"text-align: right;\">\n",
       "      <th></th>\n",
       "      <th>cycle_no</th>\n",
       "      <th>avg_cycle_loss</th>\n",
       "      <th>precision</th>\n",
       "      <th>recall</th>\n",
       "      <th>f_score</th>\n",
       "    </tr>\n",
       "  </thead>\n",
       "  <tbody>\n",
       "    <tr>\n",
       "      <th>0</th>\n",
       "      <td>8.0</td>\n",
       "      <td>381.837455</td>\n",
       "      <td>88.941176</td>\n",
       "      <td>85.714286</td>\n",
       "      <td>87.297921</td>\n",
       "    </tr>\n",
       "  </tbody>\n",
       "</table>\n",
       "</div>"
      ],
      "text/plain": [
       "   cycle_no  avg_cycle_loss  precision     recall    f_score\n",
       "0       8.0      381.837455  88.941176  85.714286  87.297921"
      ]
     },
     "metadata": {},
     "output_type": "display_data"
    },
    {
     "name": "stdout",
     "output_type": "stream",
     "text": [
      "Saved model to models\\15834\n"
     ]
    },
    {
     "name": "stderr",
     "output_type": "stream",
     "text": [
      "c:\\users\\genkindn\\appdata\\local\\programs\\python\\python39\\lib\\site-packages\\spacy\\training\\iob_utils.py:139: UserWarning: [W030] Some entities could not be aligned in the text \"[margin]: Fran.co esc.o Domingo dos de Marco de mi...\" with entities \"[(10, 17, 'PER'), (18, 23, 'CHAR'), (24, 78, 'DATE...\". Use `spacy.training.offsets_to_biluo_tags(nlp.make_doc(text), entities)` to check the alignment. Misaligned entities ('-') will be ignored during training.\n",
      "  warnings.warn(\n"
     ]
    },
    {
     "data": {
      "text/html": [
       "<div>\n",
       "<style scoped>\n",
       "    .dataframe tbody tr th:only-of-type {\n",
       "        vertical-align: middle;\n",
       "    }\n",
       "\n",
       "    .dataframe tbody tr th {\n",
       "        vertical-align: top;\n",
       "    }\n",
       "\n",
       "    .dataframe thead th {\n",
       "        text-align: right;\n",
       "    }\n",
       "</style>\n",
       "<table border=\"1\" class=\"dataframe\">\n",
       "  <thead>\n",
       "    <tr style=\"text-align: right;\">\n",
       "      <th></th>\n",
       "      <th>cycle_no</th>\n",
       "      <th>avg_cycle_loss</th>\n",
       "      <th>precision</th>\n",
       "      <th>recall</th>\n",
       "      <th>f_score</th>\n",
       "    </tr>\n",
       "  </thead>\n",
       "  <tbody>\n",
       "    <tr>\n",
       "      <th>0</th>\n",
       "      <td>9.0</td>\n",
       "      <td>324.806369</td>\n",
       "      <td>90.675991</td>\n",
       "      <td>88.208617</td>\n",
       "      <td>89.425287</td>\n",
       "    </tr>\n",
       "  </tbody>\n",
       "</table>\n",
       "</div>"
      ],
      "text/plain": [
       "   cycle_no  avg_cycle_loss  precision     recall    f_score\n",
       "0       9.0      324.806369  90.675991  88.208617  89.425287"
      ]
     },
     "metadata": {},
     "output_type": "display_data"
    },
    {
     "name": "stdout",
     "output_type": "stream",
     "text": [
      "Saved model to models\\15834\n"
     ]
    },
    {
     "name": "stderr",
     "output_type": "stream",
     "text": [
      "c:\\users\\genkindn\\appdata\\local\\programs\\python\\python39\\lib\\site-packages\\spacy\\training\\iob_utils.py:139: UserWarning: [W030] Some entities could not be aligned in the text \"[margin]: Fran.co esc.o Domingo dos de Marco de mi...\" with entities \"[(10, 17, 'PER'), (18, 23, 'CHAR'), (24, 78, 'DATE...\". Use `spacy.training.offsets_to_biluo_tags(nlp.make_doc(text), entities)` to check the alignment. Misaligned entities ('-') will be ignored during training.\n",
      "  warnings.warn(\n"
     ]
    }
   ],
   "source": [
    "#no_test\n",
    "\n",
    "#if you want the same model everytime:\n",
    "#random.seed(seed)\n",
    "#fix_random_seed(seed)\n",
    "\n",
    "#spacy parameters\n",
    "cping = {'start':16, 'end':32, 'cp_rate':1.05}\n",
    "solves = {'learn_rate':0.001}\n",
    "dpout = 0.6\n",
    "save_mdir = 'models/15834'\n",
    "\n",
    "#load model from pretrained\n",
    "nlp_model = load_model()\n",
    "\n",
    "nlp_model, perf_df = model_meta_training(nlp_model, train_spacy, valid_df, verbose=True, save_dir = save_mdir,\n",
    "                                         n_iter=10, solver_params=solves, compound_params=cping, dropout=dpout)"
   ]
  },
  {
   "cell_type": "markdown",
   "metadata": {},
   "source": [
    "# Second Book of Baptisms, St. Augustine (239746)"
   ]
  },
  {
   "cell_type": "code",
   "execution_count": null,
   "metadata": {},
   "outputs": [
    {
     "data": {
      "text/html": [
       "<div>\n",
       "<style scoped>\n",
       "    .dataframe tbody tr th:only-of-type {\n",
       "        vertical-align: middle;\n",
       "    }\n",
       "\n",
       "    .dataframe tbody tr th {\n",
       "        vertical-align: top;\n",
       "    }\n",
       "\n",
       "    .dataframe thead th {\n",
       "        text-align: right;\n",
       "    }\n",
       "</style>\n",
       "<table border=\"1\" class=\"dataframe\">\n",
       "  <thead>\n",
       "    <tr style=\"text-align: right;\">\n",
       "      <th></th>\n",
       "      <th>entry_no</th>\n",
       "      <th>text</th>\n",
       "      <th>entity</th>\n",
       "      <th>start</th>\n",
       "      <th>end</th>\n",
       "      <th>label</th>\n",
       "    </tr>\n",
       "  </thead>\n",
       "  <tbody>\n",
       "    <tr>\n",
       "      <td>31</td>\n",
       "      <td>2</td>\n",
       "      <td>2. Antonio Guillo Miercoles, día veinte de Nov...</td>\n",
       "      <td>Antonio Guillo</td>\n",
       "      <td>3</td>\n",
       "      <td>17</td>\n",
       "      <td>PER</td>\n",
       "    </tr>\n",
       "    <tr>\n",
       "      <td>32</td>\n",
       "      <td>2</td>\n",
       "      <td>2. Antonio Guillo Miercoles, día veinte de Nov...</td>\n",
       "      <td>Miercoles, día veinte de Noviembre de Mil Sete...</td>\n",
       "      <td>18</td>\n",
       "      <td>86</td>\n",
       "      <td>DATE</td>\n",
       "    </tr>\n",
       "    <tr>\n",
       "      <td>33</td>\n",
       "      <td>2</td>\n",
       "      <td>2. Antonio Guillo Miercoles, día veinte de Nov...</td>\n",
       "      <td>Don Miguel o’Reilly</td>\n",
       "      <td>90</td>\n",
       "      <td>109</td>\n",
       "      <td>PER</td>\n",
       "    </tr>\n",
       "    <tr>\n",
       "      <td>34</td>\n",
       "      <td>2</td>\n",
       "      <td>2. Antonio Guillo Miercoles, día veinte de Nov...</td>\n",
       "      <td>Teniente de Cura Beneficiado</td>\n",
       "      <td>110</td>\n",
       "      <td>138</td>\n",
       "      <td>CHAR</td>\n",
       "    </tr>\n",
       "    <tr>\n",
       "      <td>35</td>\n",
       "      <td>2</td>\n",
       "      <td>2. Antonio Guillo Miercoles, día veinte de Nov...</td>\n",
       "      <td>Vicario</td>\n",
       "      <td>140</td>\n",
       "      <td>147</td>\n",
       "      <td>CHAR</td>\n",
       "    </tr>\n",
       "    <tr>\n",
       "      <td>36</td>\n",
       "      <td>2</td>\n",
       "      <td>2. Antonio Guillo Miercoles, día veinte de Nov...</td>\n",
       "      <td>Juez Eclesiás tico Auxiliar</td>\n",
       "      <td>151</td>\n",
       "      <td>178</td>\n",
       "      <td>CHAR</td>\n",
       "    </tr>\n",
       "    <tr>\n",
       "      <td>37</td>\n",
       "      <td>2</td>\n",
       "      <td>2. Antonio Guillo Miercoles, día veinte de Nov...</td>\n",
       "      <td>Iglesia parroquial</td>\n",
       "      <td>187</td>\n",
       "      <td>205</td>\n",
       "      <td>LOC</td>\n",
       "    </tr>\n",
       "    <tr>\n",
       "      <td>38</td>\n",
       "      <td>2</td>\n",
       "      <td>2. Antonio Guillo Miercoles, día veinte de Nov...</td>\n",
       "      <td>provincia, de San Agustín</td>\n",
       "      <td>208</td>\n",
       "      <td>233</td>\n",
       "      <td>LOC</td>\n",
       "    </tr>\n",
       "    <tr>\n",
       "      <td>39</td>\n",
       "      <td>2</td>\n",
       "      <td>2. Antonio Guillo Miercoles, día veinte de Nov...</td>\n",
       "      <td>Florida Oriental</td>\n",
       "      <td>240</td>\n",
       "      <td>256</td>\n",
       "      <td>LOC</td>\n",
       "    </tr>\n",
       "    <tr>\n",
       "      <td>40</td>\n",
       "      <td>2</td>\n",
       "      <td>2. Antonio Guillo Miercoles, día veinte de Nov...</td>\n",
       "      <td>niño</td>\n",
       "      <td>295</td>\n",
       "      <td>299</td>\n",
       "      <td>CHAR</td>\n",
       "    </tr>\n",
       "  </tbody>\n",
       "</table>\n",
       "</div>"
      ],
      "text/plain": [
       "    entry_no                                               text  \\\n",
       "31         2  2. Antonio Guillo Miercoles, día veinte de Nov...   \n",
       "32         2  2. Antonio Guillo Miercoles, día veinte de Nov...   \n",
       "33         2  2. Antonio Guillo Miercoles, día veinte de Nov...   \n",
       "34         2  2. Antonio Guillo Miercoles, día veinte de Nov...   \n",
       "35         2  2. Antonio Guillo Miercoles, día veinte de Nov...   \n",
       "36         2  2. Antonio Guillo Miercoles, día veinte de Nov...   \n",
       "37         2  2. Antonio Guillo Miercoles, día veinte de Nov...   \n",
       "38         2  2. Antonio Guillo Miercoles, día veinte de Nov...   \n",
       "39         2  2. Antonio Guillo Miercoles, día veinte de Nov...   \n",
       "40         2  2. Antonio Guillo Miercoles, día veinte de Nov...   \n",
       "\n",
       "                                               entity  start  end label  \n",
       "31                                     Antonio Guillo      3   17   PER  \n",
       "32  Miercoles, día veinte de Noviembre de Mil Sete...     18   86  DATE  \n",
       "33                                Don Miguel o’Reilly     90  109   PER  \n",
       "34                       Teniente de Cura Beneficiado    110  138  CHAR  \n",
       "35                                            Vicario    140  147  CHAR  \n",
       "36                        Juez Eclesiás tico Auxiliar    151  178  CHAR  \n",
       "37                                 Iglesia parroquial    187  205   LOC  \n",
       "38                          provincia, de San Agustín    208  233   LOC  \n",
       "39                                   Florida Oriental    240  256   LOC  \n",
       "40                                               niño    295  299  CHAR  "
      ]
     },
     "execution_count": null,
     "metadata": {},
     "output_type": "execute_result"
    }
   ],
   "source": [
    "#no_test\n",
    "\n",
    "collated_df = prodigy_output_to_collated_df(\"transcriptions/239746_annot.jsonl\")\n",
    "\n",
    "# Split data\n",
    "train_df, valid_df, test_df = split_data_grp(collated_df, prop_train = 0.7, prop_validation = 0.2, grp_var = 'entry_no', seed=seed)\n",
    "\n",
    "# Generate Spacy datasets\n",
    "train_spacy = genSpaCyInput(train_df)\n",
    "\n",
    "# Look at column names\n",
    "train_df.head(10)"
   ]
  },
  {
   "cell_type": "code",
   "execution_count": null,
   "metadata": {},
   "outputs": [
    {
     "data": {
      "text/plain": [
       "[('2. Antonio Guillo Miercoles, día veinte de Noviembre de Mil Setecientos Noventa y Tres Yo Don Miguel o’Reilly Teniente de Cura Beneficiado, Vicario, y Juez Eclesiás tico Auxiliar de esta Iglesia parroquial y provincia, de San Agustín de la Florida Oriental. Baptisé y puse los santos oleos a un niño de color, moreno, que nacio el día primero de octubre del presente año, hijo na tural de los negros libres Isaac Guillo y Sara Ca mel, ambos naturales de America del Norte; y y en el exerci las sacras Ceremonias, y preces de nuestra Santa madre Iglesia, y la puse por nombre Juan Antonio. Fueron sus padrinos Antonio Pellice, y Susana Pellicer vecinos de esta Ciudad, les advertí el parentesco espiritual, y demás obligaciones, y lo firmé en dicho dia, mes y año.  Miguel OReilly ',\n",
       "  {'entities': [(3, 17, 'PER'),\n",
       "    (18, 86, 'DATE'),\n",
       "    (90, 109, 'PER'),\n",
       "    (110, 138, 'CHAR'),\n",
       "    (140, 147, 'CHAR'),\n",
       "    (151, 178, 'CHAR'),\n",
       "    (187, 205, 'LOC'),\n",
       "    (208, 233, 'LOC'),\n",
       "    (240, 256, 'LOC'),\n",
       "    (295, 299, 'CHAR'),\n",
       "    (300, 308, 'CHAR'),\n",
       "    (310, 316, 'CHAR'),\n",
       "    (335, 370, 'DATE'),\n",
       "    (372, 385, 'CHAR'),\n",
       "    (393, 399, 'CHAR'),\n",
       "    (400, 406, 'CHAR'),\n",
       "    (407, 419, 'PER'),\n",
       "    (422, 433, 'PER'),\n",
       "    (441, 450, 'CHAR'),\n",
       "    (454, 471, 'LOC'),\n",
       "    (575, 587, 'PER'),\n",
       "    (600, 608, 'REL'),\n",
       "    (609, 624, 'PER'),\n",
       "    (628, 643, 'PER'),\n",
       "    (644, 651, 'CHAR'),\n",
       "    (655, 666, 'LOC'),\n",
       "    (765, 779, 'PER')]}),\n",
       " ('3. María Juana Francisca Fish Domingo, día veinte y quatro de Noviem bre de Mil Setecientos Noventa y Tres. Yo Don Miguel o’Reilly Teniente de Cura Beneficiado, Vi cario, y Juez Eclesiástico Auxiliar de esta Yglesia parroquial, y provincia de San Agustín de la Florida Oriental. Baptisé y puse los santos oleos a una niña libre de color, parda de ocho años y ocho meses de edad, hija natural de Don Jeremías Fish natural de Nueva York, y de la negra libre Eva Fish, Natural de America del Norte; y en en ella exerci las sacras Ceremonias, y preces de nuestra Santa madre Iglesia, y la puse por nombre Maria Juana Francisca fueron sus padrinos Lorenzo Capó y Juana Joaquina Gonzalez, vecinos de esta Ciudad, les advertí el parentesco espiritual, y demás obligaciones, y lo firmé en dicho dia, mes y año.  Miguel OReilly ',\n",
       "  {'entities': [(3, 29, 'PER'),\n",
       "    (30, 106, 'DATE'),\n",
       "    (111, 130, 'PER'),\n",
       "    (131, 159, 'CHAR'),\n",
       "    (161, 169, 'CHAR'),\n",
       "    (173, 199, 'CHAR'),\n",
       "    (208, 226, 'LOC'),\n",
       "    (230, 254, 'LOC'),\n",
       "    (261, 278, 'LOC'),\n",
       "    (317, 321, 'CHAR'),\n",
       "    (322, 327, 'CHAR'),\n",
       "    (328, 336, 'CHAR'),\n",
       "    (338, 343, 'CHAR'),\n",
       "    (347, 377, 'CHAR'),\n",
       "    (379, 391, 'CHAR'),\n",
       "    (395, 412, 'PER'),\n",
       "    (413, 420, 'CHAR'),\n",
       "    (424, 435, 'LOC'),\n",
       "    (444, 449, 'CHAR'),\n",
       "    (450, 455, 'CHAR'),\n",
       "    (456, 465, 'PER'),\n",
       "    (466, 473, 'CHAR'),\n",
       "    (477, 494, 'LOC'),\n",
       "    (601, 622, 'PER'),\n",
       "    (634, 642, 'REL'),\n",
       "    (643, 655, 'PER'),\n",
       "    (658, 681, 'PER'),\n",
       "    (683, 690, 'CHAR'),\n",
       "    (694, 705, 'LOC'),\n",
       "    (804, 818, 'PER')]})]"
      ]
     },
     "execution_count": null,
     "metadata": {},
     "output_type": "execute_result"
    }
   ],
   "source": [
    "#no_test\n",
    "\n",
    "train_spacy[:2]"
   ]
  },
  {
   "cell_type": "code",
   "execution_count": null,
   "metadata": {},
   "outputs": [
    {
     "data": {
      "text/html": [
       "<div>\n",
       "<style scoped>\n",
       "    .dataframe tbody tr th:only-of-type {\n",
       "        vertical-align: middle;\n",
       "    }\n",
       "\n",
       "    .dataframe tbody tr th {\n",
       "        vertical-align: top;\n",
       "    }\n",
       "\n",
       "    .dataframe thead th {\n",
       "        text-align: right;\n",
       "    }\n",
       "</style>\n",
       "<table border=\"1\" class=\"dataframe\">\n",
       "  <thead>\n",
       "    <tr style=\"text-align: right;\">\n",
       "      <th></th>\n",
       "      <th>cycle_no</th>\n",
       "      <th>avg_cycle_loss</th>\n",
       "      <th>precision</th>\n",
       "      <th>recall</th>\n",
       "      <th>f_score</th>\n",
       "    </tr>\n",
       "  </thead>\n",
       "  <tbody>\n",
       "    <tr>\n",
       "      <td>0</td>\n",
       "      <td>1.0</td>\n",
       "      <td>3058.593277</td>\n",
       "      <td>0.673077</td>\n",
       "      <td>0.322284</td>\n",
       "      <td>0.435866</td>\n",
       "    </tr>\n",
       "  </tbody>\n",
       "</table>\n",
       "</div>"
      ],
      "text/plain": [
       "   cycle_no  avg_cycle_loss  precision    recall   f_score\n",
       "0       1.0     3058.593277   0.673077  0.322284  0.435866"
      ]
     },
     "metadata": {},
     "output_type": "display_data"
    },
    {
     "name": "stdout",
     "output_type": "stream",
     "text": [
      "Saved model to models\\239746\n"
     ]
    },
    {
     "data": {
      "text/html": [
       "<div>\n",
       "<style scoped>\n",
       "    .dataframe tbody tr th:only-of-type {\n",
       "        vertical-align: middle;\n",
       "    }\n",
       "\n",
       "    .dataframe tbody tr th {\n",
       "        vertical-align: top;\n",
       "    }\n",
       "\n",
       "    .dataframe thead th {\n",
       "        text-align: right;\n",
       "    }\n",
       "</style>\n",
       "<table border=\"1\" class=\"dataframe\">\n",
       "  <thead>\n",
       "    <tr style=\"text-align: right;\">\n",
       "      <th></th>\n",
       "      <th>cycle_no</th>\n",
       "      <th>avg_cycle_loss</th>\n",
       "      <th>precision</th>\n",
       "      <th>recall</th>\n",
       "      <th>f_score</th>\n",
       "    </tr>\n",
       "  </thead>\n",
       "  <tbody>\n",
       "    <tr>\n",
       "      <td>0</td>\n",
       "      <td>2.0</td>\n",
       "      <td>1895.333521</td>\n",
       "      <td>0.768</td>\n",
       "      <td>0.530387</td>\n",
       "      <td>0.627451</td>\n",
       "    </tr>\n",
       "  </tbody>\n",
       "</table>\n",
       "</div>"
      ],
      "text/plain": [
       "   cycle_no  avg_cycle_loss  precision    recall   f_score\n",
       "0       2.0     1895.333521      0.768  0.530387  0.627451"
      ]
     },
     "metadata": {},
     "output_type": "display_data"
    },
    {
     "name": "stdout",
     "output_type": "stream",
     "text": [
      "Saved model to models\\239746\n"
     ]
    },
    {
     "data": {
      "text/html": [
       "<div>\n",
       "<style scoped>\n",
       "    .dataframe tbody tr th:only-of-type {\n",
       "        vertical-align: middle;\n",
       "    }\n",
       "\n",
       "    .dataframe tbody tr th {\n",
       "        vertical-align: top;\n",
       "    }\n",
       "\n",
       "    .dataframe thead th {\n",
       "        text-align: right;\n",
       "    }\n",
       "</style>\n",
       "<table border=\"1\" class=\"dataframe\">\n",
       "  <thead>\n",
       "    <tr style=\"text-align: right;\">\n",
       "      <th></th>\n",
       "      <th>cycle_no</th>\n",
       "      <th>avg_cycle_loss</th>\n",
       "      <th>precision</th>\n",
       "      <th>recall</th>\n",
       "      <th>f_score</th>\n",
       "    </tr>\n",
       "  </thead>\n",
       "  <tbody>\n",
       "    <tr>\n",
       "      <td>0</td>\n",
       "      <td>3.0</td>\n",
       "      <td>1568.612363</td>\n",
       "      <td>0.838403</td>\n",
       "      <td>0.812155</td>\n",
       "      <td>0.82507</td>\n",
       "    </tr>\n",
       "  </tbody>\n",
       "</table>\n",
       "</div>"
      ],
      "text/plain": [
       "   cycle_no  avg_cycle_loss  precision    recall  f_score\n",
       "0       3.0     1568.612363   0.838403  0.812155  0.82507"
      ]
     },
     "metadata": {},
     "output_type": "display_data"
    },
    {
     "name": "stdout",
     "output_type": "stream",
     "text": [
      "Saved model to models\\239746\n"
     ]
    },
    {
     "data": {
      "text/html": [
       "<div>\n",
       "<style scoped>\n",
       "    .dataframe tbody tr th:only-of-type {\n",
       "        vertical-align: middle;\n",
       "    }\n",
       "\n",
       "    .dataframe tbody tr th {\n",
       "        vertical-align: top;\n",
       "    }\n",
       "\n",
       "    .dataframe thead th {\n",
       "        text-align: right;\n",
       "    }\n",
       "</style>\n",
       "<table border=\"1\" class=\"dataframe\">\n",
       "  <thead>\n",
       "    <tr style=\"text-align: right;\">\n",
       "      <th></th>\n",
       "      <th>cycle_no</th>\n",
       "      <th>avg_cycle_loss</th>\n",
       "      <th>precision</th>\n",
       "      <th>recall</th>\n",
       "      <th>f_score</th>\n",
       "    </tr>\n",
       "  </thead>\n",
       "  <tbody>\n",
       "    <tr>\n",
       "      <td>0</td>\n",
       "      <td>4.0</td>\n",
       "      <td>1018.041655</td>\n",
       "      <td>0.864245</td>\n",
       "      <td>0.832413</td>\n",
       "      <td>0.84803</td>\n",
       "    </tr>\n",
       "  </tbody>\n",
       "</table>\n",
       "</div>"
      ],
      "text/plain": [
       "   cycle_no  avg_cycle_loss  precision    recall  f_score\n",
       "0       4.0     1018.041655   0.864245  0.832413  0.84803"
      ]
     },
     "metadata": {},
     "output_type": "display_data"
    },
    {
     "name": "stdout",
     "output_type": "stream",
     "text": [
      "Saved model to models\\239746\n"
     ]
    },
    {
     "data": {
      "text/html": [
       "<div>\n",
       "<style scoped>\n",
       "    .dataframe tbody tr th:only-of-type {\n",
       "        vertical-align: middle;\n",
       "    }\n",
       "\n",
       "    .dataframe tbody tr th {\n",
       "        vertical-align: top;\n",
       "    }\n",
       "\n",
       "    .dataframe thead th {\n",
       "        text-align: right;\n",
       "    }\n",
       "</style>\n",
       "<table border=\"1\" class=\"dataframe\">\n",
       "  <thead>\n",
       "    <tr style=\"text-align: right;\">\n",
       "      <th></th>\n",
       "      <th>cycle_no</th>\n",
       "      <th>avg_cycle_loss</th>\n",
       "      <th>precision</th>\n",
       "      <th>recall</th>\n",
       "      <th>f_score</th>\n",
       "    </tr>\n",
       "  </thead>\n",
       "  <tbody>\n",
       "    <tr>\n",
       "      <td>0</td>\n",
       "      <td>5.0</td>\n",
       "      <td>769.251223</td>\n",
       "      <td>0.862963</td>\n",
       "      <td>0.858195</td>\n",
       "      <td>0.860572</td>\n",
       "    </tr>\n",
       "  </tbody>\n",
       "</table>\n",
       "</div>"
      ],
      "text/plain": [
       "   cycle_no  avg_cycle_loss  precision    recall   f_score\n",
       "0       5.0      769.251223   0.862963  0.858195  0.860572"
      ]
     },
     "metadata": {},
     "output_type": "display_data"
    },
    {
     "name": "stdout",
     "output_type": "stream",
     "text": [
      "Saved model to models\\239746\n"
     ]
    },
    {
     "data": {
      "text/html": [
       "<div>\n",
       "<style scoped>\n",
       "    .dataframe tbody tr th:only-of-type {\n",
       "        vertical-align: middle;\n",
       "    }\n",
       "\n",
       "    .dataframe tbody tr th {\n",
       "        vertical-align: top;\n",
       "    }\n",
       "\n",
       "    .dataframe thead th {\n",
       "        text-align: right;\n",
       "    }\n",
       "</style>\n",
       "<table border=\"1\" class=\"dataframe\">\n",
       "  <thead>\n",
       "    <tr style=\"text-align: right;\">\n",
       "      <th></th>\n",
       "      <th>cycle_no</th>\n",
       "      <th>avg_cycle_loss</th>\n",
       "      <th>precision</th>\n",
       "      <th>recall</th>\n",
       "      <th>f_score</th>\n",
       "    </tr>\n",
       "  </thead>\n",
       "  <tbody>\n",
       "    <tr>\n",
       "      <td>0</td>\n",
       "      <td>6.0</td>\n",
       "      <td>660.08431</td>\n",
       "      <td>0.87384</td>\n",
       "      <td>0.867403</td>\n",
       "      <td>0.87061</td>\n",
       "    </tr>\n",
       "  </tbody>\n",
       "</table>\n",
       "</div>"
      ],
      "text/plain": [
       "   cycle_no  avg_cycle_loss  precision    recall  f_score\n",
       "0       6.0       660.08431    0.87384  0.867403  0.87061"
      ]
     },
     "metadata": {},
     "output_type": "display_data"
    },
    {
     "name": "stdout",
     "output_type": "stream",
     "text": [
      "Saved model to models\\239746\n"
     ]
    },
    {
     "data": {
      "text/html": [
       "<div>\n",
       "<style scoped>\n",
       "    .dataframe tbody tr th:only-of-type {\n",
       "        vertical-align: middle;\n",
       "    }\n",
       "\n",
       "    .dataframe tbody tr th {\n",
       "        vertical-align: top;\n",
       "    }\n",
       "\n",
       "    .dataframe thead th {\n",
       "        text-align: right;\n",
       "    }\n",
       "</style>\n",
       "<table border=\"1\" class=\"dataframe\">\n",
       "  <thead>\n",
       "    <tr style=\"text-align: right;\">\n",
       "      <th></th>\n",
       "      <th>cycle_no</th>\n",
       "      <th>avg_cycle_loss</th>\n",
       "      <th>precision</th>\n",
       "      <th>recall</th>\n",
       "      <th>f_score</th>\n",
       "    </tr>\n",
       "  </thead>\n",
       "  <tbody>\n",
       "    <tr>\n",
       "      <td>0</td>\n",
       "      <td>7.0</td>\n",
       "      <td>572.990166</td>\n",
       "      <td>0.863636</td>\n",
       "      <td>0.87477</td>\n",
       "      <td>0.869167</td>\n",
       "    </tr>\n",
       "  </tbody>\n",
       "</table>\n",
       "</div>"
      ],
      "text/plain": [
       "   cycle_no  avg_cycle_loss  precision   recall   f_score\n",
       "0       7.0      572.990166   0.863636  0.87477  0.869167"
      ]
     },
     "metadata": {},
     "output_type": "display_data"
    },
    {
     "name": "stdout",
     "output_type": "stream",
     "text": [
      "Performance hasn't improved for 1 cycles...\n"
     ]
    },
    {
     "data": {
      "text/html": [
       "<div>\n",
       "<style scoped>\n",
       "    .dataframe tbody tr th:only-of-type {\n",
       "        vertical-align: middle;\n",
       "    }\n",
       "\n",
       "    .dataframe tbody tr th {\n",
       "        vertical-align: top;\n",
       "    }\n",
       "\n",
       "    .dataframe thead th {\n",
       "        text-align: right;\n",
       "    }\n",
       "</style>\n",
       "<table border=\"1\" class=\"dataframe\">\n",
       "  <thead>\n",
       "    <tr style=\"text-align: right;\">\n",
       "      <th></th>\n",
       "      <th>cycle_no</th>\n",
       "      <th>avg_cycle_loss</th>\n",
       "      <th>precision</th>\n",
       "      <th>recall</th>\n",
       "      <th>f_score</th>\n",
       "    </tr>\n",
       "  </thead>\n",
       "  <tbody>\n",
       "    <tr>\n",
       "      <td>0</td>\n",
       "      <td>8.0</td>\n",
       "      <td>528.868009</td>\n",
       "      <td>0.865209</td>\n",
       "      <td>0.87477</td>\n",
       "      <td>0.869963</td>\n",
       "    </tr>\n",
       "  </tbody>\n",
       "</table>\n",
       "</div>"
      ],
      "text/plain": [
       "   cycle_no  avg_cycle_loss  precision   recall   f_score\n",
       "0       8.0      528.868009   0.865209  0.87477  0.869963"
      ]
     },
     "metadata": {},
     "output_type": "display_data"
    },
    {
     "name": "stdout",
     "output_type": "stream",
     "text": [
      "Performance hasn't improved for 2 cycles...\n"
     ]
    },
    {
     "data": {
      "text/html": [
       "<div>\n",
       "<style scoped>\n",
       "    .dataframe tbody tr th:only-of-type {\n",
       "        vertical-align: middle;\n",
       "    }\n",
       "\n",
       "    .dataframe tbody tr th {\n",
       "        vertical-align: top;\n",
       "    }\n",
       "\n",
       "    .dataframe thead th {\n",
       "        text-align: right;\n",
       "    }\n",
       "</style>\n",
       "<table border=\"1\" class=\"dataframe\">\n",
       "  <thead>\n",
       "    <tr style=\"text-align: right;\">\n",
       "      <th></th>\n",
       "      <th>cycle_no</th>\n",
       "      <th>avg_cycle_loss</th>\n",
       "      <th>precision</th>\n",
       "      <th>recall</th>\n",
       "      <th>f_score</th>\n",
       "    </tr>\n",
       "  </thead>\n",
       "  <tbody>\n",
       "    <tr>\n",
       "      <td>0</td>\n",
       "      <td>9.0</td>\n",
       "      <td>484.261564</td>\n",
       "      <td>0.867754</td>\n",
       "      <td>0.882136</td>\n",
       "      <td>0.874886</td>\n",
       "    </tr>\n",
       "  </tbody>\n",
       "</table>\n",
       "</div>"
      ],
      "text/plain": [
       "   cycle_no  avg_cycle_loss  precision    recall   f_score\n",
       "0       9.0      484.261564   0.867754  0.882136  0.874886"
      ]
     },
     "metadata": {},
     "output_type": "display_data"
    },
    {
     "name": "stdout",
     "output_type": "stream",
     "text": [
      "Saved model to models\\239746\n"
     ]
    },
    {
     "data": {
      "text/html": [
       "<div>\n",
       "<style scoped>\n",
       "    .dataframe tbody tr th:only-of-type {\n",
       "        vertical-align: middle;\n",
       "    }\n",
       "\n",
       "    .dataframe tbody tr th {\n",
       "        vertical-align: top;\n",
       "    }\n",
       "\n",
       "    .dataframe thead th {\n",
       "        text-align: right;\n",
       "    }\n",
       "</style>\n",
       "<table border=\"1\" class=\"dataframe\">\n",
       "  <thead>\n",
       "    <tr style=\"text-align: right;\">\n",
       "      <th></th>\n",
       "      <th>cycle_no</th>\n",
       "      <th>avg_cycle_loss</th>\n",
       "      <th>precision</th>\n",
       "      <th>recall</th>\n",
       "      <th>f_score</th>\n",
       "    </tr>\n",
       "  </thead>\n",
       "  <tbody>\n",
       "    <tr>\n",
       "      <td>0</td>\n",
       "      <td>10.0</td>\n",
       "      <td>453.041833</td>\n",
       "      <td>0.868231</td>\n",
       "      <td>0.88582</td>\n",
       "      <td>0.876937</td>\n",
       "    </tr>\n",
       "  </tbody>\n",
       "</table>\n",
       "</div>"
      ],
      "text/plain": [
       "   cycle_no  avg_cycle_loss  precision   recall   f_score\n",
       "0      10.0      453.041833   0.868231  0.88582  0.876937"
      ]
     },
     "metadata": {},
     "output_type": "display_data"
    },
    {
     "name": "stdout",
     "output_type": "stream",
     "text": [
      "Saved model to models\\239746\n"
     ]
    },
    {
     "data": {
      "text/html": [
       "<div>\n",
       "<style scoped>\n",
       "    .dataframe tbody tr th:only-of-type {\n",
       "        vertical-align: middle;\n",
       "    }\n",
       "\n",
       "    .dataframe tbody tr th {\n",
       "        vertical-align: top;\n",
       "    }\n",
       "\n",
       "    .dataframe thead th {\n",
       "        text-align: right;\n",
       "    }\n",
       "</style>\n",
       "<table border=\"1\" class=\"dataframe\">\n",
       "  <thead>\n",
       "    <tr style=\"text-align: right;\">\n",
       "      <th></th>\n",
       "      <th>cycle_no</th>\n",
       "      <th>avg_cycle_loss</th>\n",
       "      <th>precision</th>\n",
       "      <th>recall</th>\n",
       "      <th>f_score</th>\n",
       "    </tr>\n",
       "  </thead>\n",
       "  <tbody>\n",
       "    <tr>\n",
       "      <td>0</td>\n",
       "      <td>11.0</td>\n",
       "      <td>425.230932</td>\n",
       "      <td>0.864469</td>\n",
       "      <td>0.869245</td>\n",
       "      <td>0.86685</td>\n",
       "    </tr>\n",
       "  </tbody>\n",
       "</table>\n",
       "</div>"
      ],
      "text/plain": [
       "   cycle_no  avg_cycle_loss  precision    recall  f_score\n",
       "0      11.0      425.230932   0.864469  0.869245  0.86685"
      ]
     },
     "metadata": {},
     "output_type": "display_data"
    },
    {
     "name": "stdout",
     "output_type": "stream",
     "text": [
      "Performance hasn't improved for 1 cycles...\n"
     ]
    },
    {
     "data": {
      "text/html": [
       "<div>\n",
       "<style scoped>\n",
       "    .dataframe tbody tr th:only-of-type {\n",
       "        vertical-align: middle;\n",
       "    }\n",
       "\n",
       "    .dataframe tbody tr th {\n",
       "        vertical-align: top;\n",
       "    }\n",
       "\n",
       "    .dataframe thead th {\n",
       "        text-align: right;\n",
       "    }\n",
       "</style>\n",
       "<table border=\"1\" class=\"dataframe\">\n",
       "  <thead>\n",
       "    <tr style=\"text-align: right;\">\n",
       "      <th></th>\n",
       "      <th>cycle_no</th>\n",
       "      <th>avg_cycle_loss</th>\n",
       "      <th>precision</th>\n",
       "      <th>recall</th>\n",
       "      <th>f_score</th>\n",
       "    </tr>\n",
       "  </thead>\n",
       "  <tbody>\n",
       "    <tr>\n",
       "      <td>0</td>\n",
       "      <td>12.0</td>\n",
       "      <td>417.261767</td>\n",
       "      <td>0.867754</td>\n",
       "      <td>0.882136</td>\n",
       "      <td>0.874886</td>\n",
       "    </tr>\n",
       "  </tbody>\n",
       "</table>\n",
       "</div>"
      ],
      "text/plain": [
       "   cycle_no  avg_cycle_loss  precision    recall   f_score\n",
       "0      12.0      417.261767   0.867754  0.882136  0.874886"
      ]
     },
     "metadata": {},
     "output_type": "display_data"
    },
    {
     "name": "stdout",
     "output_type": "stream",
     "text": [
      "Performance hasn't improved for 2 cycles...\n"
     ]
    },
    {
     "data": {
      "text/html": [
       "<div>\n",
       "<style scoped>\n",
       "    .dataframe tbody tr th:only-of-type {\n",
       "        vertical-align: middle;\n",
       "    }\n",
       "\n",
       "    .dataframe tbody tr th {\n",
       "        vertical-align: top;\n",
       "    }\n",
       "\n",
       "    .dataframe thead th {\n",
       "        text-align: right;\n",
       "    }\n",
       "</style>\n",
       "<table border=\"1\" class=\"dataframe\">\n",
       "  <thead>\n",
       "    <tr style=\"text-align: right;\">\n",
       "      <th></th>\n",
       "      <th>cycle_no</th>\n",
       "      <th>avg_cycle_loss</th>\n",
       "      <th>precision</th>\n",
       "      <th>recall</th>\n",
       "      <th>f_score</th>\n",
       "    </tr>\n",
       "  </thead>\n",
       "  <tbody>\n",
       "    <tr>\n",
       "      <td>0</td>\n",
       "      <td>13.0</td>\n",
       "      <td>392.107079</td>\n",
       "      <td>0.873394</td>\n",
       "      <td>0.876611</td>\n",
       "      <td>0.875</td>\n",
       "    </tr>\n",
       "  </tbody>\n",
       "</table>\n",
       "</div>"
      ],
      "text/plain": [
       "   cycle_no  avg_cycle_loss  precision    recall  f_score\n",
       "0      13.0      392.107079   0.873394  0.876611    0.875"
      ]
     },
     "metadata": {},
     "output_type": "display_data"
    },
    {
     "name": "stdout",
     "output_type": "stream",
     "text": [
      "Performance hasn't improved for 3 cycles...\n"
     ]
    },
    {
     "data": {
      "text/html": [
       "<div>\n",
       "<style scoped>\n",
       "    .dataframe tbody tr th:only-of-type {\n",
       "        vertical-align: middle;\n",
       "    }\n",
       "\n",
       "    .dataframe tbody tr th {\n",
       "        vertical-align: top;\n",
       "    }\n",
       "\n",
       "    .dataframe thead th {\n",
       "        text-align: right;\n",
       "    }\n",
       "</style>\n",
       "<table border=\"1\" class=\"dataframe\">\n",
       "  <thead>\n",
       "    <tr style=\"text-align: right;\">\n",
       "      <th></th>\n",
       "      <th>cycle_no</th>\n",
       "      <th>avg_cycle_loss</th>\n",
       "      <th>precision</th>\n",
       "      <th>recall</th>\n",
       "      <th>f_score</th>\n",
       "    </tr>\n",
       "  </thead>\n",
       "  <tbody>\n",
       "    <tr>\n",
       "      <td>0</td>\n",
       "      <td>14.0</td>\n",
       "      <td>386.774261</td>\n",
       "      <td>0.871377</td>\n",
       "      <td>0.88582</td>\n",
       "      <td>0.878539</td>\n",
       "    </tr>\n",
       "  </tbody>\n",
       "</table>\n",
       "</div>"
      ],
      "text/plain": [
       "   cycle_no  avg_cycle_loss  precision   recall   f_score\n",
       "0      14.0      386.774261   0.871377  0.88582  0.878539"
      ]
     },
     "metadata": {},
     "output_type": "display_data"
    },
    {
     "name": "stdout",
     "output_type": "stream",
     "text": [
      "Saved model to models\\239746\n"
     ]
    },
    {
     "data": {
      "text/html": [
       "<div>\n",
       "<style scoped>\n",
       "    .dataframe tbody tr th:only-of-type {\n",
       "        vertical-align: middle;\n",
       "    }\n",
       "\n",
       "    .dataframe tbody tr th {\n",
       "        vertical-align: top;\n",
       "    }\n",
       "\n",
       "    .dataframe thead th {\n",
       "        text-align: right;\n",
       "    }\n",
       "</style>\n",
       "<table border=\"1\" class=\"dataframe\">\n",
       "  <thead>\n",
       "    <tr style=\"text-align: right;\">\n",
       "      <th></th>\n",
       "      <th>cycle_no</th>\n",
       "      <th>avg_cycle_loss</th>\n",
       "      <th>precision</th>\n",
       "      <th>recall</th>\n",
       "      <th>f_score</th>\n",
       "    </tr>\n",
       "  </thead>\n",
       "  <tbody>\n",
       "    <tr>\n",
       "      <td>0</td>\n",
       "      <td>15.0</td>\n",
       "      <td>373.821548</td>\n",
       "      <td>0.867993</td>\n",
       "      <td>0.883978</td>\n",
       "      <td>0.875912</td>\n",
       "    </tr>\n",
       "  </tbody>\n",
       "</table>\n",
       "</div>"
      ],
      "text/plain": [
       "   cycle_no  avg_cycle_loss  precision    recall   f_score\n",
       "0      15.0      373.821548   0.867993  0.883978  0.875912"
      ]
     },
     "metadata": {},
     "output_type": "display_data"
    },
    {
     "name": "stdout",
     "output_type": "stream",
     "text": [
      "Performance hasn't improved for 1 cycles...\n"
     ]
    },
    {
     "data": {
      "text/html": [
       "<div>\n",
       "<style scoped>\n",
       "    .dataframe tbody tr th:only-of-type {\n",
       "        vertical-align: middle;\n",
       "    }\n",
       "\n",
       "    .dataframe tbody tr th {\n",
       "        vertical-align: top;\n",
       "    }\n",
       "\n",
       "    .dataframe thead th {\n",
       "        text-align: right;\n",
       "    }\n",
       "</style>\n",
       "<table border=\"1\" class=\"dataframe\">\n",
       "  <thead>\n",
       "    <tr style=\"text-align: right;\">\n",
       "      <th></th>\n",
       "      <th>cycle_no</th>\n",
       "      <th>avg_cycle_loss</th>\n",
       "      <th>precision</th>\n",
       "      <th>recall</th>\n",
       "      <th>f_score</th>\n",
       "    </tr>\n",
       "  </thead>\n",
       "  <tbody>\n",
       "    <tr>\n",
       "      <td>0</td>\n",
       "      <td>16.0</td>\n",
       "      <td>358.695612</td>\n",
       "      <td>0.877034</td>\n",
       "      <td>0.893186</td>\n",
       "      <td>0.885036</td>\n",
       "    </tr>\n",
       "  </tbody>\n",
       "</table>\n",
       "</div>"
      ],
      "text/plain": [
       "   cycle_no  avg_cycle_loss  precision    recall   f_score\n",
       "0      16.0      358.695612   0.877034  0.893186  0.885036"
      ]
     },
     "metadata": {},
     "output_type": "display_data"
    },
    {
     "name": "stdout",
     "output_type": "stream",
     "text": [
      "Saved model to models\\239746\n"
     ]
    },
    {
     "data": {
      "text/html": [
       "<div>\n",
       "<style scoped>\n",
       "    .dataframe tbody tr th:only-of-type {\n",
       "        vertical-align: middle;\n",
       "    }\n",
       "\n",
       "    .dataframe tbody tr th {\n",
       "        vertical-align: top;\n",
       "    }\n",
       "\n",
       "    .dataframe thead th {\n",
       "        text-align: right;\n",
       "    }\n",
       "</style>\n",
       "<table border=\"1\" class=\"dataframe\">\n",
       "  <thead>\n",
       "    <tr style=\"text-align: right;\">\n",
       "      <th></th>\n",
       "      <th>cycle_no</th>\n",
       "      <th>avg_cycle_loss</th>\n",
       "      <th>precision</th>\n",
       "      <th>recall</th>\n",
       "      <th>f_score</th>\n",
       "    </tr>\n",
       "  </thead>\n",
       "  <tbody>\n",
       "    <tr>\n",
       "      <td>0</td>\n",
       "      <td>17.0</td>\n",
       "      <td>350.392904</td>\n",
       "      <td>0.876364</td>\n",
       "      <td>0.887661</td>\n",
       "      <td>0.881976</td>\n",
       "    </tr>\n",
       "  </tbody>\n",
       "</table>\n",
       "</div>"
      ],
      "text/plain": [
       "   cycle_no  avg_cycle_loss  precision    recall   f_score\n",
       "0      17.0      350.392904   0.876364  0.887661  0.881976"
      ]
     },
     "metadata": {},
     "output_type": "display_data"
    },
    {
     "name": "stdout",
     "output_type": "stream",
     "text": [
      "Performance hasn't improved for 1 cycles...\n"
     ]
    },
    {
     "data": {
      "text/html": [
       "<div>\n",
       "<style scoped>\n",
       "    .dataframe tbody tr th:only-of-type {\n",
       "        vertical-align: middle;\n",
       "    }\n",
       "\n",
       "    .dataframe tbody tr th {\n",
       "        vertical-align: top;\n",
       "    }\n",
       "\n",
       "    .dataframe thead th {\n",
       "        text-align: right;\n",
       "    }\n",
       "</style>\n",
       "<table border=\"1\" class=\"dataframe\">\n",
       "  <thead>\n",
       "    <tr style=\"text-align: right;\">\n",
       "      <th></th>\n",
       "      <th>cycle_no</th>\n",
       "      <th>avg_cycle_loss</th>\n",
       "      <th>precision</th>\n",
       "      <th>recall</th>\n",
       "      <th>f_score</th>\n",
       "    </tr>\n",
       "  </thead>\n",
       "  <tbody>\n",
       "    <tr>\n",
       "      <td>0</td>\n",
       "      <td>18.0</td>\n",
       "      <td>344.570528</td>\n",
       "      <td>0.885609</td>\n",
       "      <td>0.883978</td>\n",
       "      <td>0.884793</td>\n",
       "    </tr>\n",
       "  </tbody>\n",
       "</table>\n",
       "</div>"
      ],
      "text/plain": [
       "   cycle_no  avg_cycle_loss  precision    recall   f_score\n",
       "0      18.0      344.570528   0.885609  0.883978  0.884793"
      ]
     },
     "metadata": {},
     "output_type": "display_data"
    },
    {
     "name": "stdout",
     "output_type": "stream",
     "text": [
      "Performance hasn't improved for 2 cycles...\n"
     ]
    },
    {
     "data": {
      "text/html": [
       "<div>\n",
       "<style scoped>\n",
       "    .dataframe tbody tr th:only-of-type {\n",
       "        vertical-align: middle;\n",
       "    }\n",
       "\n",
       "    .dataframe tbody tr th {\n",
       "        vertical-align: top;\n",
       "    }\n",
       "\n",
       "    .dataframe thead th {\n",
       "        text-align: right;\n",
       "    }\n",
       "</style>\n",
       "<table border=\"1\" class=\"dataframe\">\n",
       "  <thead>\n",
       "    <tr style=\"text-align: right;\">\n",
       "      <th></th>\n",
       "      <th>cycle_no</th>\n",
       "      <th>avg_cycle_loss</th>\n",
       "      <th>precision</th>\n",
       "      <th>recall</th>\n",
       "      <th>f_score</th>\n",
       "    </tr>\n",
       "  </thead>\n",
       "  <tbody>\n",
       "    <tr>\n",
       "      <td>0</td>\n",
       "      <td>19.0</td>\n",
       "      <td>332.308219</td>\n",
       "      <td>0.876588</td>\n",
       "      <td>0.889503</td>\n",
       "      <td>0.882998</td>\n",
       "    </tr>\n",
       "  </tbody>\n",
       "</table>\n",
       "</div>"
      ],
      "text/plain": [
       "   cycle_no  avg_cycle_loss  precision    recall   f_score\n",
       "0      19.0      332.308219   0.876588  0.889503  0.882998"
      ]
     },
     "metadata": {},
     "output_type": "display_data"
    },
    {
     "name": "stdout",
     "output_type": "stream",
     "text": [
      "Performance hasn't improved for 3 cycles...\n"
     ]
    },
    {
     "data": {
      "text/html": [
       "<div>\n",
       "<style scoped>\n",
       "    .dataframe tbody tr th:only-of-type {\n",
       "        vertical-align: middle;\n",
       "    }\n",
       "\n",
       "    .dataframe tbody tr th {\n",
       "        vertical-align: top;\n",
       "    }\n",
       "\n",
       "    .dataframe thead th {\n",
       "        text-align: right;\n",
       "    }\n",
       "</style>\n",
       "<table border=\"1\" class=\"dataframe\">\n",
       "  <thead>\n",
       "    <tr style=\"text-align: right;\">\n",
       "      <th></th>\n",
       "      <th>cycle_no</th>\n",
       "      <th>avg_cycle_loss</th>\n",
       "      <th>precision</th>\n",
       "      <th>recall</th>\n",
       "      <th>f_score</th>\n",
       "    </tr>\n",
       "  </thead>\n",
       "  <tbody>\n",
       "    <tr>\n",
       "      <td>0</td>\n",
       "      <td>20.0</td>\n",
       "      <td>321.944276</td>\n",
       "      <td>0.887037</td>\n",
       "      <td>0.882136</td>\n",
       "      <td>0.88458</td>\n",
       "    </tr>\n",
       "  </tbody>\n",
       "</table>\n",
       "</div>"
      ],
      "text/plain": [
       "   cycle_no  avg_cycle_loss  precision    recall  f_score\n",
       "0      20.0      321.944276   0.887037  0.882136  0.88458"
      ]
     },
     "metadata": {},
     "output_type": "display_data"
    },
    {
     "name": "stdout",
     "output_type": "stream",
     "text": [
      "Performance hasn't improved for 4 cycles...\n"
     ]
    },
    {
     "data": {
      "text/html": [
       "<div>\n",
       "<style scoped>\n",
       "    .dataframe tbody tr th:only-of-type {\n",
       "        vertical-align: middle;\n",
       "    }\n",
       "\n",
       "    .dataframe tbody tr th {\n",
       "        vertical-align: top;\n",
       "    }\n",
       "\n",
       "    .dataframe thead th {\n",
       "        text-align: right;\n",
       "    }\n",
       "</style>\n",
       "<table border=\"1\" class=\"dataframe\">\n",
       "  <thead>\n",
       "    <tr style=\"text-align: right;\">\n",
       "      <th></th>\n",
       "      <th>cycle_no</th>\n",
       "      <th>avg_cycle_loss</th>\n",
       "      <th>precision</th>\n",
       "      <th>recall</th>\n",
       "      <th>f_score</th>\n",
       "    </tr>\n",
       "  </thead>\n",
       "  <tbody>\n",
       "    <tr>\n",
       "      <td>0</td>\n",
       "      <td>21.0</td>\n",
       "      <td>317.728236</td>\n",
       "      <td>0.881603</td>\n",
       "      <td>0.891344</td>\n",
       "      <td>0.886447</td>\n",
       "    </tr>\n",
       "  </tbody>\n",
       "</table>\n",
       "</div>"
      ],
      "text/plain": [
       "   cycle_no  avg_cycle_loss  precision    recall   f_score\n",
       "0      21.0      317.728236   0.881603  0.891344  0.886447"
      ]
     },
     "metadata": {},
     "output_type": "display_data"
    },
    {
     "name": "stdout",
     "output_type": "stream",
     "text": [
      "Saved model to models\\239746\n"
     ]
    },
    {
     "data": {
      "text/html": [
       "<div>\n",
       "<style scoped>\n",
       "    .dataframe tbody tr th:only-of-type {\n",
       "        vertical-align: middle;\n",
       "    }\n",
       "\n",
       "    .dataframe tbody tr th {\n",
       "        vertical-align: top;\n",
       "    }\n",
       "\n",
       "    .dataframe thead th {\n",
       "        text-align: right;\n",
       "    }\n",
       "</style>\n",
       "<table border=\"1\" class=\"dataframe\">\n",
       "  <thead>\n",
       "    <tr style=\"text-align: right;\">\n",
       "      <th></th>\n",
       "      <th>cycle_no</th>\n",
       "      <th>avg_cycle_loss</th>\n",
       "      <th>precision</th>\n",
       "      <th>recall</th>\n",
       "      <th>f_score</th>\n",
       "    </tr>\n",
       "  </thead>\n",
       "  <tbody>\n",
       "    <tr>\n",
       "      <td>0</td>\n",
       "      <td>22.0</td>\n",
       "      <td>308.906818</td>\n",
       "      <td>0.888476</td>\n",
       "      <td>0.880295</td>\n",
       "      <td>0.884366</td>\n",
       "    </tr>\n",
       "  </tbody>\n",
       "</table>\n",
       "</div>"
      ],
      "text/plain": [
       "   cycle_no  avg_cycle_loss  precision    recall   f_score\n",
       "0      22.0      308.906818   0.888476  0.880295  0.884366"
      ]
     },
     "metadata": {},
     "output_type": "display_data"
    },
    {
     "name": "stdout",
     "output_type": "stream",
     "text": [
      "Performance hasn't improved for 1 cycles...\n"
     ]
    },
    {
     "data": {
      "text/html": [
       "<div>\n",
       "<style scoped>\n",
       "    .dataframe tbody tr th:only-of-type {\n",
       "        vertical-align: middle;\n",
       "    }\n",
       "\n",
       "    .dataframe tbody tr th {\n",
       "        vertical-align: top;\n",
       "    }\n",
       "\n",
       "    .dataframe thead th {\n",
       "        text-align: right;\n",
       "    }\n",
       "</style>\n",
       "<table border=\"1\" class=\"dataframe\">\n",
       "  <thead>\n",
       "    <tr style=\"text-align: right;\">\n",
       "      <th></th>\n",
       "      <th>cycle_no</th>\n",
       "      <th>avg_cycle_loss</th>\n",
       "      <th>precision</th>\n",
       "      <th>recall</th>\n",
       "      <th>f_score</th>\n",
       "    </tr>\n",
       "  </thead>\n",
       "  <tbody>\n",
       "    <tr>\n",
       "      <td>0</td>\n",
       "      <td>23.0</td>\n",
       "      <td>305.475601</td>\n",
       "      <td>0.878453</td>\n",
       "      <td>0.878453</td>\n",
       "      <td>0.878453</td>\n",
       "    </tr>\n",
       "  </tbody>\n",
       "</table>\n",
       "</div>"
      ],
      "text/plain": [
       "   cycle_no  avg_cycle_loss  precision    recall   f_score\n",
       "0      23.0      305.475601   0.878453  0.878453  0.878453"
      ]
     },
     "metadata": {},
     "output_type": "display_data"
    },
    {
     "name": "stdout",
     "output_type": "stream",
     "text": [
      "Performance hasn't improved for 2 cycles...\n"
     ]
    },
    {
     "data": {
      "text/html": [
       "<div>\n",
       "<style scoped>\n",
       "    .dataframe tbody tr th:only-of-type {\n",
       "        vertical-align: middle;\n",
       "    }\n",
       "\n",
       "    .dataframe tbody tr th {\n",
       "        vertical-align: top;\n",
       "    }\n",
       "\n",
       "    .dataframe thead th {\n",
       "        text-align: right;\n",
       "    }\n",
       "</style>\n",
       "<table border=\"1\" class=\"dataframe\">\n",
       "  <thead>\n",
       "    <tr style=\"text-align: right;\">\n",
       "      <th></th>\n",
       "      <th>cycle_no</th>\n",
       "      <th>avg_cycle_loss</th>\n",
       "      <th>precision</th>\n",
       "      <th>recall</th>\n",
       "      <th>f_score</th>\n",
       "    </tr>\n",
       "  </thead>\n",
       "  <tbody>\n",
       "    <tr>\n",
       "      <td>0</td>\n",
       "      <td>24.0</td>\n",
       "      <td>303.452614</td>\n",
       "      <td>0.882246</td>\n",
       "      <td>0.896869</td>\n",
       "      <td>0.889498</td>\n",
       "    </tr>\n",
       "  </tbody>\n",
       "</table>\n",
       "</div>"
      ],
      "text/plain": [
       "   cycle_no  avg_cycle_loss  precision    recall   f_score\n",
       "0      24.0      303.452614   0.882246  0.896869  0.889498"
      ]
     },
     "metadata": {},
     "output_type": "display_data"
    },
    {
     "name": "stdout",
     "output_type": "stream",
     "text": [
      "Saved model to models\\239746\n"
     ]
    },
    {
     "data": {
      "text/html": [
       "<div>\n",
       "<style scoped>\n",
       "    .dataframe tbody tr th:only-of-type {\n",
       "        vertical-align: middle;\n",
       "    }\n",
       "\n",
       "    .dataframe tbody tr th {\n",
       "        vertical-align: top;\n",
       "    }\n",
       "\n",
       "    .dataframe thead th {\n",
       "        text-align: right;\n",
       "    }\n",
       "</style>\n",
       "<table border=\"1\" class=\"dataframe\">\n",
       "  <thead>\n",
       "    <tr style=\"text-align: right;\">\n",
       "      <th></th>\n",
       "      <th>cycle_no</th>\n",
       "      <th>avg_cycle_loss</th>\n",
       "      <th>precision</th>\n",
       "      <th>recall</th>\n",
       "      <th>f_score</th>\n",
       "    </tr>\n",
       "  </thead>\n",
       "  <tbody>\n",
       "    <tr>\n",
       "      <td>0</td>\n",
       "      <td>25.0</td>\n",
       "      <td>301.576282</td>\n",
       "      <td>0.878182</td>\n",
       "      <td>0.889503</td>\n",
       "      <td>0.883806</td>\n",
       "    </tr>\n",
       "  </tbody>\n",
       "</table>\n",
       "</div>"
      ],
      "text/plain": [
       "   cycle_no  avg_cycle_loss  precision    recall   f_score\n",
       "0      25.0      301.576282   0.878182  0.889503  0.883806"
      ]
     },
     "metadata": {},
     "output_type": "display_data"
    },
    {
     "name": "stdout",
     "output_type": "stream",
     "text": [
      "Performance hasn't improved for 1 cycles...\n"
     ]
    },
    {
     "data": {
      "text/html": [
       "<div>\n",
       "<style scoped>\n",
       "    .dataframe tbody tr th:only-of-type {\n",
       "        vertical-align: middle;\n",
       "    }\n",
       "\n",
       "    .dataframe tbody tr th {\n",
       "        vertical-align: top;\n",
       "    }\n",
       "\n",
       "    .dataframe thead th {\n",
       "        text-align: right;\n",
       "    }\n",
       "</style>\n",
       "<table border=\"1\" class=\"dataframe\">\n",
       "  <thead>\n",
       "    <tr style=\"text-align: right;\">\n",
       "      <th></th>\n",
       "      <th>cycle_no</th>\n",
       "      <th>avg_cycle_loss</th>\n",
       "      <th>precision</th>\n",
       "      <th>recall</th>\n",
       "      <th>f_score</th>\n",
       "    </tr>\n",
       "  </thead>\n",
       "  <tbody>\n",
       "    <tr>\n",
       "      <td>0</td>\n",
       "      <td>26.0</td>\n",
       "      <td>290.732853</td>\n",
       "      <td>0.876138</td>\n",
       "      <td>0.88582</td>\n",
       "      <td>0.880952</td>\n",
       "    </tr>\n",
       "  </tbody>\n",
       "</table>\n",
       "</div>"
      ],
      "text/plain": [
       "   cycle_no  avg_cycle_loss  precision   recall   f_score\n",
       "0      26.0      290.732853   0.876138  0.88582  0.880952"
      ]
     },
     "metadata": {},
     "output_type": "display_data"
    },
    {
     "name": "stdout",
     "output_type": "stream",
     "text": [
      "Performance hasn't improved for 2 cycles...\n"
     ]
    },
    {
     "data": {
      "text/html": [
       "<div>\n",
       "<style scoped>\n",
       "    .dataframe tbody tr th:only-of-type {\n",
       "        vertical-align: middle;\n",
       "    }\n",
       "\n",
       "    .dataframe tbody tr th {\n",
       "        vertical-align: top;\n",
       "    }\n",
       "\n",
       "    .dataframe thead th {\n",
       "        text-align: right;\n",
       "    }\n",
       "</style>\n",
       "<table border=\"1\" class=\"dataframe\">\n",
       "  <thead>\n",
       "    <tr style=\"text-align: right;\">\n",
       "      <th></th>\n",
       "      <th>cycle_no</th>\n",
       "      <th>avg_cycle_loss</th>\n",
       "      <th>precision</th>\n",
       "      <th>recall</th>\n",
       "      <th>f_score</th>\n",
       "    </tr>\n",
       "  </thead>\n",
       "  <tbody>\n",
       "    <tr>\n",
       "      <td>0</td>\n",
       "      <td>27.0</td>\n",
       "      <td>281.667764</td>\n",
       "      <td>0.881919</td>\n",
       "      <td>0.880295</td>\n",
       "      <td>0.881106</td>\n",
       "    </tr>\n",
       "  </tbody>\n",
       "</table>\n",
       "</div>"
      ],
      "text/plain": [
       "   cycle_no  avg_cycle_loss  precision    recall   f_score\n",
       "0      27.0      281.667764   0.881919  0.880295  0.881106"
      ]
     },
     "metadata": {},
     "output_type": "display_data"
    },
    {
     "name": "stdout",
     "output_type": "stream",
     "text": [
      "Performance hasn't improved for 3 cycles...\n"
     ]
    },
    {
     "data": {
      "text/html": [
       "<div>\n",
       "<style scoped>\n",
       "    .dataframe tbody tr th:only-of-type {\n",
       "        vertical-align: middle;\n",
       "    }\n",
       "\n",
       "    .dataframe tbody tr th {\n",
       "        vertical-align: top;\n",
       "    }\n",
       "\n",
       "    .dataframe thead th {\n",
       "        text-align: right;\n",
       "    }\n",
       "</style>\n",
       "<table border=\"1\" class=\"dataframe\">\n",
       "  <thead>\n",
       "    <tr style=\"text-align: right;\">\n",
       "      <th></th>\n",
       "      <th>cycle_no</th>\n",
       "      <th>avg_cycle_loss</th>\n",
       "      <th>precision</th>\n",
       "      <th>recall</th>\n",
       "      <th>f_score</th>\n",
       "    </tr>\n",
       "  </thead>\n",
       "  <tbody>\n",
       "    <tr>\n",
       "      <td>0</td>\n",
       "      <td>28.0</td>\n",
       "      <td>287.60354</td>\n",
       "      <td>0.890741</td>\n",
       "      <td>0.88582</td>\n",
       "      <td>0.888273</td>\n",
       "    </tr>\n",
       "  </tbody>\n",
       "</table>\n",
       "</div>"
      ],
      "text/plain": [
       "   cycle_no  avg_cycle_loss  precision   recall   f_score\n",
       "0      28.0       287.60354   0.890741  0.88582  0.888273"
      ]
     },
     "metadata": {},
     "output_type": "display_data"
    },
    {
     "name": "stdout",
     "output_type": "stream",
     "text": [
      "Performance hasn't improved for 4 cycles...\n"
     ]
    },
    {
     "data": {
      "text/html": [
       "<div>\n",
       "<style scoped>\n",
       "    .dataframe tbody tr th:only-of-type {\n",
       "        vertical-align: middle;\n",
       "    }\n",
       "\n",
       "    .dataframe tbody tr th {\n",
       "        vertical-align: top;\n",
       "    }\n",
       "\n",
       "    .dataframe thead th {\n",
       "        text-align: right;\n",
       "    }\n",
       "</style>\n",
       "<table border=\"1\" class=\"dataframe\">\n",
       "  <thead>\n",
       "    <tr style=\"text-align: right;\">\n",
       "      <th></th>\n",
       "      <th>cycle_no</th>\n",
       "      <th>avg_cycle_loss</th>\n",
       "      <th>precision</th>\n",
       "      <th>recall</th>\n",
       "      <th>f_score</th>\n",
       "    </tr>\n",
       "  </thead>\n",
       "  <tbody>\n",
       "    <tr>\n",
       "      <td>0</td>\n",
       "      <td>29.0</td>\n",
       "      <td>277.603007</td>\n",
       "      <td>0.876838</td>\n",
       "      <td>0.878453</td>\n",
       "      <td>0.877645</td>\n",
       "    </tr>\n",
       "  </tbody>\n",
       "</table>\n",
       "</div>"
      ],
      "text/plain": [
       "   cycle_no  avg_cycle_loss  precision    recall   f_score\n",
       "0      29.0      277.603007   0.876838  0.878453  0.877645"
      ]
     },
     "metadata": {},
     "output_type": "display_data"
    },
    {
     "name": "stdout",
     "output_type": "stream",
     "text": [
      "Performance hasn't improved for 5 cycles...\n",
      "Done training after 29 meta cycles.\n"
     ]
    }
   ],
   "source": [
    "#no_test\n",
    "\n",
    "#if you want the same model everytime:\n",
    "#random.seed(seed)\n",
    "#fix_random_seed(seed)\n",
    "\n",
    "#spacy parameters\n",
    "cping = {'start':16, 'end':32, 'cp_rate':1.05}\n",
    "solves = {'learn_rate':0.001}\n",
    "dpout = 0.6\n",
    "save_mdir = 'models/239746'\n",
    "\n",
    "#load model from pretrained\n",
    "nlp_model = load_model('es_core_news_md')\n",
    "\n",
    "nlp_model, perf_df = model_meta_training(nlp_model, train_spacy, valid_df, verbose=True, save_dir = save_mdir,\n",
    "                                         n_iter=10, solver_params=solves, compound_params=cping, dropout=dpout)"
   ]
  },
  {
   "cell_type": "markdown",
   "metadata": {},
   "source": [
    "It's interesting how similar this training performance was to the Matanzas volume above. If this is replicated across more data sets, it probably means something (although I'm not sure what exactly)."
   ]
  },
  {
   "cell_type": "code",
   "execution_count": null,
   "metadata": {},
   "outputs": [
    {
     "data": {
      "text/plain": [
       "[('No. 1 Roque Cruz En catorce de Agosto de mil ochocientos treintaynuebe: yo Don Antonio Loreto Sanchez Presbitero cura beneficiado por Su Majestad de la Iglesia Parroquial de la Purisima concepcion de esta villa de Cienfuegos en ella y su jurisdiccion Vicario Eclesiastico por Santa Eclesiastica Illustrisima bautice solemnemente y puse los santos oleos a un negro adulto natural de Guinea de la propiedad de Don Agustin de Santa Cruz: en cuyo negro ejerci las sacras ceremonias y preces y le puse por nombre Roque fueron sus padrinos Jose y Monserrate; aquien adverti el parentesco espiritual y demas obligaciones y lo firme Antonio L. Sanchez ',\n",
       "  {'entities': [(6, 16, 'PER'),\n",
       "    (20, 70, 'DATE'),\n",
       "    (75, 101, 'PER'),\n",
       "    (113, 117, 'CHAR'),\n",
       "    (149, 196, 'LOC'),\n",
       "    (205, 224, 'LOC'),\n",
       "    (251, 271, 'CHAR'),\n",
       "    (358, 363, 'CHAR'),\n",
       "    (364, 370, 'CHAR'),\n",
       "    (371, 378, 'CHAR'),\n",
       "    (382, 388, 'LOC'),\n",
       "    (395, 404, 'CHAR'),\n",
       "    (408, 433, 'PER'),\n",
       "    (443, 448, 'CHAR'),\n",
       "    (508, 513, 'PER'),\n",
       "    (525, 533, 'REL'),\n",
       "    (534, 538, 'PER'),\n",
       "    (541, 551, 'PER'),\n",
       "    (625, 643, 'PER')]}),\n",
       " ('No. 2 Maria Filomenia En quince de Agosto de mil ochocientos trientaynuebe: yo Don Antonio Loreto Sanchez Presbitero cura beneficiado por Su Majestad de la Iglesia Parroquial de la Purisima Concepción de esta villa de Cienfuegos en ella y su jurisdiccion Vicario Eclesiastico por Santa Eclesiastica Illustrisima bautice solemnemente y puse los santos oleos a una negra adulta natural  de Guinea de la propiedad de Don Leferino Amador; en cuya negra ejerci las sacras ceremonias y preces y la puse por nombre Maria Filomenia fue su madrina Arriceta Redesibace; aquien adverti el parentesco espiritual u demas obligaciones y lo firme Antonio L. Sanchez ',\n",
       "  {'entities': [(6, 21, 'PER'),\n",
       "    (25, 74, 'DATE'),\n",
       "    (79, 105, 'PER'),\n",
       "    (117, 121, 'CHAR'),\n",
       "    (156, 200, 'LOC'),\n",
       "    (209, 228, 'LOC'),\n",
       "    (255, 275, 'CHAR'),\n",
       "    (363, 368, 'CHAR'),\n",
       "    (369, 375, 'CHAR'),\n",
       "    (376, 383, 'CHAR'),\n",
       "    (388, 394, 'LOC'),\n",
       "    (401, 410, 'CHAR'),\n",
       "    (414, 433, 'PER'),\n",
       "    (443, 448, 'CHAR'),\n",
       "    (508, 523, 'PER'),\n",
       "    (531, 538, 'REL'),\n",
       "    (539, 558, 'PER'),\n",
       "    (632, 650, 'PER')]}),\n",
       " ('No. 3 Maria Lugrada En veinteycinco de Agosto de mil ochocientos treintaynuebe: yo Don Antonio Loreto Sanchez Presbitero cura beneficiado por Su Majestad de la Iglesia Parroquial de la Purisima Concepcion de esta villa de Cienfuegos en ella y su jurisdiccion Vicario Eclesiastico por Santa Eclesiastica Illustrisima bautice solemnemente y puse los santos oleos a una negra adulta natural de Guinea de la propiedad de Don Agustin Santa Cruz: en cuya negra ejerci las sacras ceremonias y preces y le puse por nombre Maria Lugarda fue su madrina Maria Moncerrate; aquien adverti el parentesco espiritual y demas obligaciones y lo firme Antonio L. Sanchez ',\n",
       "  {'entities': [(6, 19, 'PER'),\n",
       "    (23, 78, 'DATE'),\n",
       "    (83, 109, 'PER'),\n",
       "    (121, 125, 'CHAR'),\n",
       "    (160, 204, 'LOC'),\n",
       "    (213, 232, 'LOC'),\n",
       "    (259, 279, 'CHAR'),\n",
       "    (367, 372, 'CHAR'),\n",
       "    (373, 379, 'CHAR'),\n",
       "    (380, 387, 'CHAR'),\n",
       "    (391, 397, 'LOC'),\n",
       "    (404, 413, 'CHAR'),\n",
       "    (417, 439, 'PER'),\n",
       "    (449, 454, 'CHAR'),\n",
       "    (514, 527, 'PER'),\n",
       "    (535, 542, 'REL'),\n",
       "    (543, 559, 'PER'),\n",
       "    (633, 651, 'PER')]}),\n",
       " ('No. 4 Toribio de Caridad En veinteyseis de Agosto de mil ochocientos treintaynuebe; yo Don Antonio Loreto Sanchez Presbitero cura beneficiado por Su Majestad de la Iglesia Parroquial de la Purisima Concepción de esta villa de Cienfuegos en ella y su jurisdiccion Vicario Eclesiastico por Santa Eclesiastica Illustrisima bautice solemnemente y puse los santos oleos a un parvulo que nació el diezyseis de Abril ultimo hijo legitimo de los padres libres Eugenio Vega y Socorra Paulina el primero esclavo de la villa de San Juan de los Remedios y la segunda de este partido: Abuelos Paternos Eugenio u Josefa padrinos. MS Miguel y Atonacia Prieto: en cuyo parvulo ejerci las sacras ceremonias y preces y le puse por nombre Toribio de Caridad fueron sus padrinos Desidero Nafarro y Robles de ## el parentesco espiritual y demas obligaciones y lo firme Antonio L. Sanchez ',\n",
       "  {'entities': [(6, 24, 'PER'),\n",
       "    (28, 82, 'DATE'),\n",
       "    (87, 113, 'PER'),\n",
       "    (125, 129, 'CHAR'),\n",
       "    (164, 208, 'LOC'),\n",
       "    (217, 236, 'LOC'),\n",
       "    (263, 283, 'CHAR'),\n",
       "    (370, 377, 'CHAR'),\n",
       "    (391, 409, 'DATE'),\n",
       "    (417, 430, 'CHAR'),\n",
       "    (445, 451, 'CHAR'),\n",
       "    (452, 464, 'PER'),\n",
       "    (467, 482, 'PER'),\n",
       "    (494, 501, 'CHAR'),\n",
       "    (508, 541, 'LOC'),\n",
       "    (572, 588, 'REL'),\n",
       "    (589, 596, 'PER'),\n",
       "    (599, 605, 'PER'),\n",
       "    (606, 614, 'REL'),\n",
       "    (619, 625, 'PER'),\n",
       "    (628, 643, 'PER'),\n",
       "    (653, 660, 'CHAR'),\n",
       "    (720, 738, 'PER'),\n",
       "    (750, 758, 'REL'),\n",
       "    (759, 784, 'PER'),\n",
       "    (848, 866, 'PER')]}),\n",
       " ('No. 5 Candelaria Santa Cruz En primero de Septiembre de mil ochocientos treintaynuebe yo Don Antonio Loreto Sanchez Presbitero cura beneficiado por Su Majestad de la Iglesia parroquial de la Purisima Concepción de esta villa de Cienfuegos en ella y su jurisdiccion Vicario Eclesiastico por Santa Eclesiastica Illustrisima bautice solemnemente y puse los santos oleos en una negra adulta natural de Guinea de la propiedad de Don Agustin Santa Cruz; en cuya negra ejerci las  sacras ceremonias y preces y le puse por nombre Candelaria fue su madrina Maria del Rosario; aquien adverti el parentesco espiritual y demas obligaciones y lo firme Antonio L. Sanchez ',\n",
       "  {'entities': [(6, 27, 'PER'),\n",
       "    (31, 85, 'DATE'),\n",
       "    (89, 115, 'PER'),\n",
       "    (127, 131, 'CHAR'),\n",
       "    (166, 210, 'LOC'),\n",
       "    (214, 238, 'LOC'),\n",
       "    (265, 285, 'CHAR'),\n",
       "    (374, 379, 'CHAR'),\n",
       "    (380, 386, 'CHAR'),\n",
       "    (387, 394, 'CHAR'),\n",
       "    (398, 404, 'LOC'),\n",
       "    (424, 446, 'PER'),\n",
       "    (456, 461, 'CHAR'),\n",
       "    (522, 532, 'PER'),\n",
       "    (540, 547, 'REL'),\n",
       "    (548, 565, 'PER'),\n",
       "    (639, 657, 'PER')]})]"
      ]
     },
     "execution_count": null,
     "metadata": {},
     "output_type": "execute_result"
    }
   ],
   "source": [
    "#no_test\n",
    "\n",
    "collated_df = prodigy_output_to_collated_df(\"transcriptions/166470_annot.jsonl\")\n",
    "\n",
    "# Split data\n",
    "train_df, valid_df, test_df = split_data_grp(collated_df, prop_train = 0.7, prop_validation = 0.2, grp_var = 'entry_no', seed=seed)\n",
    "\n",
    "# Generate Spacy datasets\n",
    "train_spacy = genSpaCyInput(collated_df)\n",
    "\n",
    "# Look at column names\n",
    "train_spacy[:5]"
   ]
  },
  {
   "cell_type": "code",
   "execution_count": null,
   "metadata": {},
   "outputs": [
    {
     "data": {
      "text/html": [
       "<div>\n",
       "<style scoped>\n",
       "    .dataframe tbody tr th:only-of-type {\n",
       "        vertical-align: middle;\n",
       "    }\n",
       "\n",
       "    .dataframe tbody tr th {\n",
       "        vertical-align: top;\n",
       "    }\n",
       "\n",
       "    .dataframe thead th {\n",
       "        text-align: right;\n",
       "    }\n",
       "</style>\n",
       "<table border=\"1\" class=\"dataframe\">\n",
       "  <thead>\n",
       "    <tr style=\"text-align: right;\">\n",
       "      <th></th>\n",
       "      <th>cycle_no</th>\n",
       "      <th>avg_cycle_loss</th>\n",
       "      <th>precision</th>\n",
       "      <th>recall</th>\n",
       "      <th>f_score</th>\n",
       "    </tr>\n",
       "  </thead>\n",
       "  <tbody>\n",
       "    <tr>\n",
       "      <th>0</th>\n",
       "      <td>1.0</td>\n",
       "      <td>1523.910855</td>\n",
       "      <td>0.0</td>\n",
       "      <td>0.0</td>\n",
       "      <td>0.0</td>\n",
       "    </tr>\n",
       "  </tbody>\n",
       "</table>\n",
       "</div>"
      ],
      "text/plain": [
       "   cycle_no  avg_cycle_loss  precision  recall  f_score\n",
       "0       1.0     1523.910855        0.0     0.0      0.0"
      ]
     },
     "metadata": {},
     "output_type": "display_data"
    },
    {
     "name": "stdout",
     "output_type": "stream",
     "text": [
      "Saved model to models\\166470\n"
     ]
    },
    {
     "data": {
      "text/html": [
       "<div>\n",
       "<style scoped>\n",
       "    .dataframe tbody tr th:only-of-type {\n",
       "        vertical-align: middle;\n",
       "    }\n",
       "\n",
       "    .dataframe tbody tr th {\n",
       "        vertical-align: top;\n",
       "    }\n",
       "\n",
       "    .dataframe thead th {\n",
       "        text-align: right;\n",
       "    }\n",
       "</style>\n",
       "<table border=\"1\" class=\"dataframe\">\n",
       "  <thead>\n",
       "    <tr style=\"text-align: right;\">\n",
       "      <th></th>\n",
       "      <th>cycle_no</th>\n",
       "      <th>avg_cycle_loss</th>\n",
       "      <th>precision</th>\n",
       "      <th>recall</th>\n",
       "      <th>f_score</th>\n",
       "    </tr>\n",
       "  </thead>\n",
       "  <tbody>\n",
       "    <tr>\n",
       "      <th>0</th>\n",
       "      <td>2.0</td>\n",
       "      <td>739.172972</td>\n",
       "      <td>0.0</td>\n",
       "      <td>0.0</td>\n",
       "      <td>0.0</td>\n",
       "    </tr>\n",
       "  </tbody>\n",
       "</table>\n",
       "</div>"
      ],
      "text/plain": [
       "   cycle_no  avg_cycle_loss  precision  recall  f_score\n",
       "0       2.0      739.172972        0.0     0.0      0.0"
      ]
     },
     "metadata": {},
     "output_type": "display_data"
    },
    {
     "name": "stdout",
     "output_type": "stream",
     "text": [
      "Performance hasn't improved for 1 cycles...\n"
     ]
    },
    {
     "data": {
      "text/html": [
       "<div>\n",
       "<style scoped>\n",
       "    .dataframe tbody tr th:only-of-type {\n",
       "        vertical-align: middle;\n",
       "    }\n",
       "\n",
       "    .dataframe tbody tr th {\n",
       "        vertical-align: top;\n",
       "    }\n",
       "\n",
       "    .dataframe thead th {\n",
       "        text-align: right;\n",
       "    }\n",
       "</style>\n",
       "<table border=\"1\" class=\"dataframe\">\n",
       "  <thead>\n",
       "    <tr style=\"text-align: right;\">\n",
       "      <th></th>\n",
       "      <th>cycle_no</th>\n",
       "      <th>avg_cycle_loss</th>\n",
       "      <th>precision</th>\n",
       "      <th>recall</th>\n",
       "      <th>f_score</th>\n",
       "    </tr>\n",
       "  </thead>\n",
       "  <tbody>\n",
       "    <tr>\n",
       "      <th>0</th>\n",
       "      <td>3.0</td>\n",
       "      <td>728.802224</td>\n",
       "      <td>28.04878</td>\n",
       "      <td>24.731183</td>\n",
       "      <td>26.285714</td>\n",
       "    </tr>\n",
       "  </tbody>\n",
       "</table>\n",
       "</div>"
      ],
      "text/plain": [
       "   cycle_no  avg_cycle_loss  precision     recall    f_score\n",
       "0       3.0      728.802224   28.04878  24.731183  26.285714"
      ]
     },
     "metadata": {},
     "output_type": "display_data"
    },
    {
     "name": "stdout",
     "output_type": "stream",
     "text": [
      "Saved model to models\\166470\n"
     ]
    },
    {
     "data": {
      "text/html": [
       "<div>\n",
       "<style scoped>\n",
       "    .dataframe tbody tr th:only-of-type {\n",
       "        vertical-align: middle;\n",
       "    }\n",
       "\n",
       "    .dataframe tbody tr th {\n",
       "        vertical-align: top;\n",
       "    }\n",
       "\n",
       "    .dataframe thead th {\n",
       "        text-align: right;\n",
       "    }\n",
       "</style>\n",
       "<table border=\"1\" class=\"dataframe\">\n",
       "  <thead>\n",
       "    <tr style=\"text-align: right;\">\n",
       "      <th></th>\n",
       "      <th>cycle_no</th>\n",
       "      <th>avg_cycle_loss</th>\n",
       "      <th>precision</th>\n",
       "      <th>recall</th>\n",
       "      <th>f_score</th>\n",
       "    </tr>\n",
       "  </thead>\n",
       "  <tbody>\n",
       "    <tr>\n",
       "      <th>0</th>\n",
       "      <td>4.0</td>\n",
       "      <td>568.182138</td>\n",
       "      <td>38.095238</td>\n",
       "      <td>34.408602</td>\n",
       "      <td>36.158192</td>\n",
       "    </tr>\n",
       "  </tbody>\n",
       "</table>\n",
       "</div>"
      ],
      "text/plain": [
       "   cycle_no  avg_cycle_loss  precision     recall    f_score\n",
       "0       4.0      568.182138  38.095238  34.408602  36.158192"
      ]
     },
     "metadata": {},
     "output_type": "display_data"
    },
    {
     "name": "stdout",
     "output_type": "stream",
     "text": [
      "Saved model to models\\166470\n"
     ]
    },
    {
     "data": {
      "text/html": [
       "<div>\n",
       "<style scoped>\n",
       "    .dataframe tbody tr th:only-of-type {\n",
       "        vertical-align: middle;\n",
       "    }\n",
       "\n",
       "    .dataframe tbody tr th {\n",
       "        vertical-align: top;\n",
       "    }\n",
       "\n",
       "    .dataframe thead th {\n",
       "        text-align: right;\n",
       "    }\n",
       "</style>\n",
       "<table border=\"1\" class=\"dataframe\">\n",
       "  <thead>\n",
       "    <tr style=\"text-align: right;\">\n",
       "      <th></th>\n",
       "      <th>cycle_no</th>\n",
       "      <th>avg_cycle_loss</th>\n",
       "      <th>precision</th>\n",
       "      <th>recall</th>\n",
       "      <th>f_score</th>\n",
       "    </tr>\n",
       "  </thead>\n",
       "  <tbody>\n",
       "    <tr>\n",
       "      <th>0</th>\n",
       "      <td>5.0</td>\n",
       "      <td>487.296879</td>\n",
       "      <td>51.219512</td>\n",
       "      <td>45.16129</td>\n",
       "      <td>48.0</td>\n",
       "    </tr>\n",
       "  </tbody>\n",
       "</table>\n",
       "</div>"
      ],
      "text/plain": [
       "   cycle_no  avg_cycle_loss  precision    recall  f_score\n",
       "0       5.0      487.296879  51.219512  45.16129     48.0"
      ]
     },
     "metadata": {},
     "output_type": "display_data"
    },
    {
     "name": "stdout",
     "output_type": "stream",
     "text": [
      "Saved model to models\\166470\n"
     ]
    },
    {
     "data": {
      "text/html": [
       "<div>\n",
       "<style scoped>\n",
       "    .dataframe tbody tr th:only-of-type {\n",
       "        vertical-align: middle;\n",
       "    }\n",
       "\n",
       "    .dataframe tbody tr th {\n",
       "        vertical-align: top;\n",
       "    }\n",
       "\n",
       "    .dataframe thead th {\n",
       "        text-align: right;\n",
       "    }\n",
       "</style>\n",
       "<table border=\"1\" class=\"dataframe\">\n",
       "  <thead>\n",
       "    <tr style=\"text-align: right;\">\n",
       "      <th></th>\n",
       "      <th>cycle_no</th>\n",
       "      <th>avg_cycle_loss</th>\n",
       "      <th>precision</th>\n",
       "      <th>recall</th>\n",
       "      <th>f_score</th>\n",
       "    </tr>\n",
       "  </thead>\n",
       "  <tbody>\n",
       "    <tr>\n",
       "      <th>0</th>\n",
       "      <td>6.0</td>\n",
       "      <td>443.966988</td>\n",
       "      <td>61.627907</td>\n",
       "      <td>56.989247</td>\n",
       "      <td>59.217877</td>\n",
       "    </tr>\n",
       "  </tbody>\n",
       "</table>\n",
       "</div>"
      ],
      "text/plain": [
       "   cycle_no  avg_cycle_loss  precision     recall    f_score\n",
       "0       6.0      443.966988  61.627907  56.989247  59.217877"
      ]
     },
     "metadata": {},
     "output_type": "display_data"
    },
    {
     "name": "stdout",
     "output_type": "stream",
     "text": [
      "Saved model to models\\166470\n"
     ]
    },
    {
     "data": {
      "text/html": [
       "<div>\n",
       "<style scoped>\n",
       "    .dataframe tbody tr th:only-of-type {\n",
       "        vertical-align: middle;\n",
       "    }\n",
       "\n",
       "    .dataframe tbody tr th {\n",
       "        vertical-align: top;\n",
       "    }\n",
       "\n",
       "    .dataframe thead th {\n",
       "        text-align: right;\n",
       "    }\n",
       "</style>\n",
       "<table border=\"1\" class=\"dataframe\">\n",
       "  <thead>\n",
       "    <tr style=\"text-align: right;\">\n",
       "      <th></th>\n",
       "      <th>cycle_no</th>\n",
       "      <th>avg_cycle_loss</th>\n",
       "      <th>precision</th>\n",
       "      <th>recall</th>\n",
       "      <th>f_score</th>\n",
       "    </tr>\n",
       "  </thead>\n",
       "  <tbody>\n",
       "    <tr>\n",
       "      <th>0</th>\n",
       "      <td>7.0</td>\n",
       "      <td>394.460705</td>\n",
       "      <td>68.235294</td>\n",
       "      <td>62.365591</td>\n",
       "      <td>65.168539</td>\n",
       "    </tr>\n",
       "  </tbody>\n",
       "</table>\n",
       "</div>"
      ],
      "text/plain": [
       "   cycle_no  avg_cycle_loss  precision     recall    f_score\n",
       "0       7.0      394.460705  68.235294  62.365591  65.168539"
      ]
     },
     "metadata": {},
     "output_type": "display_data"
    },
    {
     "name": "stdout",
     "output_type": "stream",
     "text": [
      "Saved model to models\\166470\n"
     ]
    },
    {
     "data": {
      "text/html": [
       "<div>\n",
       "<style scoped>\n",
       "    .dataframe tbody tr th:only-of-type {\n",
       "        vertical-align: middle;\n",
       "    }\n",
       "\n",
       "    .dataframe tbody tr th {\n",
       "        vertical-align: top;\n",
       "    }\n",
       "\n",
       "    .dataframe thead th {\n",
       "        text-align: right;\n",
       "    }\n",
       "</style>\n",
       "<table border=\"1\" class=\"dataframe\">\n",
       "  <thead>\n",
       "    <tr style=\"text-align: right;\">\n",
       "      <th></th>\n",
       "      <th>cycle_no</th>\n",
       "      <th>avg_cycle_loss</th>\n",
       "      <th>precision</th>\n",
       "      <th>recall</th>\n",
       "      <th>f_score</th>\n",
       "    </tr>\n",
       "  </thead>\n",
       "  <tbody>\n",
       "    <tr>\n",
       "      <th>0</th>\n",
       "      <td>8.0</td>\n",
       "      <td>338.02293</td>\n",
       "      <td>71.111111</td>\n",
       "      <td>68.817204</td>\n",
       "      <td>69.945355</td>\n",
       "    </tr>\n",
       "  </tbody>\n",
       "</table>\n",
       "</div>"
      ],
      "text/plain": [
       "   cycle_no  avg_cycle_loss  precision     recall    f_score\n",
       "0       8.0       338.02293  71.111111  68.817204  69.945355"
      ]
     },
     "metadata": {},
     "output_type": "display_data"
    },
    {
     "name": "stdout",
     "output_type": "stream",
     "text": [
      "Saved model to models\\166470\n"
     ]
    },
    {
     "data": {
      "text/html": [
       "<div>\n",
       "<style scoped>\n",
       "    .dataframe tbody tr th:only-of-type {\n",
       "        vertical-align: middle;\n",
       "    }\n",
       "\n",
       "    .dataframe tbody tr th {\n",
       "        vertical-align: top;\n",
       "    }\n",
       "\n",
       "    .dataframe thead th {\n",
       "        text-align: right;\n",
       "    }\n",
       "</style>\n",
       "<table border=\"1\" class=\"dataframe\">\n",
       "  <thead>\n",
       "    <tr style=\"text-align: right;\">\n",
       "      <th></th>\n",
       "      <th>cycle_no</th>\n",
       "      <th>avg_cycle_loss</th>\n",
       "      <th>precision</th>\n",
       "      <th>recall</th>\n",
       "      <th>f_score</th>\n",
       "    </tr>\n",
       "  </thead>\n",
       "  <tbody>\n",
       "    <tr>\n",
       "      <th>0</th>\n",
       "      <td>9.0</td>\n",
       "      <td>283.570117</td>\n",
       "      <td>83.870968</td>\n",
       "      <td>83.870968</td>\n",
       "      <td>83.870968</td>\n",
       "    </tr>\n",
       "  </tbody>\n",
       "</table>\n",
       "</div>"
      ],
      "text/plain": [
       "   cycle_no  avg_cycle_loss  precision     recall    f_score\n",
       "0       9.0      283.570117  83.870968  83.870968  83.870968"
      ]
     },
     "metadata": {},
     "output_type": "display_data"
    },
    {
     "name": "stdout",
     "output_type": "stream",
     "text": [
      "Saved model to models\\166470\n"
     ]
    },
    {
     "data": {
      "text/html": [
       "<div>\n",
       "<style scoped>\n",
       "    .dataframe tbody tr th:only-of-type {\n",
       "        vertical-align: middle;\n",
       "    }\n",
       "\n",
       "    .dataframe tbody tr th {\n",
       "        vertical-align: top;\n",
       "    }\n",
       "\n",
       "    .dataframe thead th {\n",
       "        text-align: right;\n",
       "    }\n",
       "</style>\n",
       "<table border=\"1\" class=\"dataframe\">\n",
       "  <thead>\n",
       "    <tr style=\"text-align: right;\">\n",
       "      <th></th>\n",
       "      <th>cycle_no</th>\n",
       "      <th>avg_cycle_loss</th>\n",
       "      <th>precision</th>\n",
       "      <th>recall</th>\n",
       "      <th>f_score</th>\n",
       "    </tr>\n",
       "  </thead>\n",
       "  <tbody>\n",
       "    <tr>\n",
       "      <th>0</th>\n",
       "      <td>10.0</td>\n",
       "      <td>252.546258</td>\n",
       "      <td>84.042553</td>\n",
       "      <td>84.946237</td>\n",
       "      <td>84.491979</td>\n",
       "    </tr>\n",
       "  </tbody>\n",
       "</table>\n",
       "</div>"
      ],
      "text/plain": [
       "   cycle_no  avg_cycle_loss  precision     recall    f_score\n",
       "0      10.0      252.546258  84.042553  84.946237  84.491979"
      ]
     },
     "metadata": {},
     "output_type": "display_data"
    },
    {
     "name": "stdout",
     "output_type": "stream",
     "text": [
      "Saved model to models\\166470\n"
     ]
    },
    {
     "data": {
      "text/html": [
       "<div>\n",
       "<style scoped>\n",
       "    .dataframe tbody tr th:only-of-type {\n",
       "        vertical-align: middle;\n",
       "    }\n",
       "\n",
       "    .dataframe tbody tr th {\n",
       "        vertical-align: top;\n",
       "    }\n",
       "\n",
       "    .dataframe thead th {\n",
       "        text-align: right;\n",
       "    }\n",
       "</style>\n",
       "<table border=\"1\" class=\"dataframe\">\n",
       "  <thead>\n",
       "    <tr style=\"text-align: right;\">\n",
       "      <th></th>\n",
       "      <th>cycle_no</th>\n",
       "      <th>avg_cycle_loss</th>\n",
       "      <th>precision</th>\n",
       "      <th>recall</th>\n",
       "      <th>f_score</th>\n",
       "    </tr>\n",
       "  </thead>\n",
       "  <tbody>\n",
       "    <tr>\n",
       "      <th>0</th>\n",
       "      <td>11.0</td>\n",
       "      <td>214.879512</td>\n",
       "      <td>88.172043</td>\n",
       "      <td>88.172043</td>\n",
       "      <td>88.172043</td>\n",
       "    </tr>\n",
       "  </tbody>\n",
       "</table>\n",
       "</div>"
      ],
      "text/plain": [
       "   cycle_no  avg_cycle_loss  precision     recall    f_score\n",
       "0      11.0      214.879512  88.172043  88.172043  88.172043"
      ]
     },
     "metadata": {},
     "output_type": "display_data"
    },
    {
     "name": "stdout",
     "output_type": "stream",
     "text": [
      "Saved model to models\\166470\n"
     ]
    },
    {
     "data": {
      "text/html": [
       "<div>\n",
       "<style scoped>\n",
       "    .dataframe tbody tr th:only-of-type {\n",
       "        vertical-align: middle;\n",
       "    }\n",
       "\n",
       "    .dataframe tbody tr th {\n",
       "        vertical-align: top;\n",
       "    }\n",
       "\n",
       "    .dataframe thead th {\n",
       "        text-align: right;\n",
       "    }\n",
       "</style>\n",
       "<table border=\"1\" class=\"dataframe\">\n",
       "  <thead>\n",
       "    <tr style=\"text-align: right;\">\n",
       "      <th></th>\n",
       "      <th>cycle_no</th>\n",
       "      <th>avg_cycle_loss</th>\n",
       "      <th>precision</th>\n",
       "      <th>recall</th>\n",
       "      <th>f_score</th>\n",
       "    </tr>\n",
       "  </thead>\n",
       "  <tbody>\n",
       "    <tr>\n",
       "      <th>0</th>\n",
       "      <td>12.0</td>\n",
       "      <td>179.087398</td>\n",
       "      <td>91.397849</td>\n",
       "      <td>91.397849</td>\n",
       "      <td>91.397849</td>\n",
       "    </tr>\n",
       "  </tbody>\n",
       "</table>\n",
       "</div>"
      ],
      "text/plain": [
       "   cycle_no  avg_cycle_loss  precision     recall    f_score\n",
       "0      12.0      179.087398  91.397849  91.397849  91.397849"
      ]
     },
     "metadata": {},
     "output_type": "display_data"
    },
    {
     "name": "stdout",
     "output_type": "stream",
     "text": [
      "Saved model to models\\166470\n"
     ]
    },
    {
     "data": {
      "text/html": [
       "<div>\n",
       "<style scoped>\n",
       "    .dataframe tbody tr th:only-of-type {\n",
       "        vertical-align: middle;\n",
       "    }\n",
       "\n",
       "    .dataframe tbody tr th {\n",
       "        vertical-align: top;\n",
       "    }\n",
       "\n",
       "    .dataframe thead th {\n",
       "        text-align: right;\n",
       "    }\n",
       "</style>\n",
       "<table border=\"1\" class=\"dataframe\">\n",
       "  <thead>\n",
       "    <tr style=\"text-align: right;\">\n",
       "      <th></th>\n",
       "      <th>cycle_no</th>\n",
       "      <th>avg_cycle_loss</th>\n",
       "      <th>precision</th>\n",
       "      <th>recall</th>\n",
       "      <th>f_score</th>\n",
       "    </tr>\n",
       "  </thead>\n",
       "  <tbody>\n",
       "    <tr>\n",
       "      <th>0</th>\n",
       "      <td>13.0</td>\n",
       "      <td>143.674772</td>\n",
       "      <td>92.553191</td>\n",
       "      <td>93.548387</td>\n",
       "      <td>93.048128</td>\n",
       "    </tr>\n",
       "  </tbody>\n",
       "</table>\n",
       "</div>"
      ],
      "text/plain": [
       "   cycle_no  avg_cycle_loss  precision     recall    f_score\n",
       "0      13.0      143.674772  92.553191  93.548387  93.048128"
      ]
     },
     "metadata": {},
     "output_type": "display_data"
    },
    {
     "name": "stdout",
     "output_type": "stream",
     "text": [
      "Saved model to models\\166470\n"
     ]
    },
    {
     "data": {
      "text/html": [
       "<div>\n",
       "<style scoped>\n",
       "    .dataframe tbody tr th:only-of-type {\n",
       "        vertical-align: middle;\n",
       "    }\n",
       "\n",
       "    .dataframe tbody tr th {\n",
       "        vertical-align: top;\n",
       "    }\n",
       "\n",
       "    .dataframe thead th {\n",
       "        text-align: right;\n",
       "    }\n",
       "</style>\n",
       "<table border=\"1\" class=\"dataframe\">\n",
       "  <thead>\n",
       "    <tr style=\"text-align: right;\">\n",
       "      <th></th>\n",
       "      <th>cycle_no</th>\n",
       "      <th>avg_cycle_loss</th>\n",
       "      <th>precision</th>\n",
       "      <th>recall</th>\n",
       "      <th>f_score</th>\n",
       "    </tr>\n",
       "  </thead>\n",
       "  <tbody>\n",
       "    <tr>\n",
       "      <th>0</th>\n",
       "      <td>14.0</td>\n",
       "      <td>128.931615</td>\n",
       "      <td>96.808511</td>\n",
       "      <td>97.849462</td>\n",
       "      <td>97.326203</td>\n",
       "    </tr>\n",
       "  </tbody>\n",
       "</table>\n",
       "</div>"
      ],
      "text/plain": [
       "   cycle_no  avg_cycle_loss  precision     recall    f_score\n",
       "0      14.0      128.931615  96.808511  97.849462  97.326203"
      ]
     },
     "metadata": {},
     "output_type": "display_data"
    },
    {
     "name": "stdout",
     "output_type": "stream",
     "text": [
      "Saved model to models\\166470\n"
     ]
    },
    {
     "data": {
      "text/html": [
       "<div>\n",
       "<style scoped>\n",
       "    .dataframe tbody tr th:only-of-type {\n",
       "        vertical-align: middle;\n",
       "    }\n",
       "\n",
       "    .dataframe tbody tr th {\n",
       "        vertical-align: top;\n",
       "    }\n",
       "\n",
       "    .dataframe thead th {\n",
       "        text-align: right;\n",
       "    }\n",
       "</style>\n",
       "<table border=\"1\" class=\"dataframe\">\n",
       "  <thead>\n",
       "    <tr style=\"text-align: right;\">\n",
       "      <th></th>\n",
       "      <th>cycle_no</th>\n",
       "      <th>avg_cycle_loss</th>\n",
       "      <th>precision</th>\n",
       "      <th>recall</th>\n",
       "      <th>f_score</th>\n",
       "    </tr>\n",
       "  </thead>\n",
       "  <tbody>\n",
       "    <tr>\n",
       "      <th>0</th>\n",
       "      <td>15.0</td>\n",
       "      <td>112.689841</td>\n",
       "      <td>95.744681</td>\n",
       "      <td>96.774194</td>\n",
       "      <td>96.256684</td>\n",
       "    </tr>\n",
       "  </tbody>\n",
       "</table>\n",
       "</div>"
      ],
      "text/plain": [
       "   cycle_no  avg_cycle_loss  precision     recall    f_score\n",
       "0      15.0      112.689841  95.744681  96.774194  96.256684"
      ]
     },
     "metadata": {},
     "output_type": "display_data"
    },
    {
     "name": "stdout",
     "output_type": "stream",
     "text": [
      "Performance hasn't improved for 1 cycles...\n"
     ]
    },
    {
     "data": {
      "text/html": [
       "<div>\n",
       "<style scoped>\n",
       "    .dataframe tbody tr th:only-of-type {\n",
       "        vertical-align: middle;\n",
       "    }\n",
       "\n",
       "    .dataframe tbody tr th {\n",
       "        vertical-align: top;\n",
       "    }\n",
       "\n",
       "    .dataframe thead th {\n",
       "        text-align: right;\n",
       "    }\n",
       "</style>\n",
       "<table border=\"1\" class=\"dataframe\">\n",
       "  <thead>\n",
       "    <tr style=\"text-align: right;\">\n",
       "      <th></th>\n",
       "      <th>cycle_no</th>\n",
       "      <th>avg_cycle_loss</th>\n",
       "      <th>precision</th>\n",
       "      <th>recall</th>\n",
       "      <th>f_score</th>\n",
       "    </tr>\n",
       "  </thead>\n",
       "  <tbody>\n",
       "    <tr>\n",
       "      <th>0</th>\n",
       "      <td>16.0</td>\n",
       "      <td>95.055718</td>\n",
       "      <td>96.842105</td>\n",
       "      <td>98.924731</td>\n",
       "      <td>97.87234</td>\n",
       "    </tr>\n",
       "  </tbody>\n",
       "</table>\n",
       "</div>"
      ],
      "text/plain": [
       "   cycle_no  avg_cycle_loss  precision     recall   f_score\n",
       "0      16.0       95.055718  96.842105  98.924731  97.87234"
      ]
     },
     "metadata": {},
     "output_type": "display_data"
    },
    {
     "name": "stdout",
     "output_type": "stream",
     "text": [
      "Saved model to models\\166470\n"
     ]
    },
    {
     "data": {
      "text/html": [
       "<div>\n",
       "<style scoped>\n",
       "    .dataframe tbody tr th:only-of-type {\n",
       "        vertical-align: middle;\n",
       "    }\n",
       "\n",
       "    .dataframe tbody tr th {\n",
       "        vertical-align: top;\n",
       "    }\n",
       "\n",
       "    .dataframe thead th {\n",
       "        text-align: right;\n",
       "    }\n",
       "</style>\n",
       "<table border=\"1\" class=\"dataframe\">\n",
       "  <thead>\n",
       "    <tr style=\"text-align: right;\">\n",
       "      <th></th>\n",
       "      <th>cycle_no</th>\n",
       "      <th>avg_cycle_loss</th>\n",
       "      <th>precision</th>\n",
       "      <th>recall</th>\n",
       "      <th>f_score</th>\n",
       "    </tr>\n",
       "  </thead>\n",
       "  <tbody>\n",
       "    <tr>\n",
       "      <th>0</th>\n",
       "      <td>17.0</td>\n",
       "      <td>85.58379</td>\n",
       "      <td>95.789474</td>\n",
       "      <td>97.849462</td>\n",
       "      <td>96.808511</td>\n",
       "    </tr>\n",
       "  </tbody>\n",
       "</table>\n",
       "</div>"
      ],
      "text/plain": [
       "   cycle_no  avg_cycle_loss  precision     recall    f_score\n",
       "0      17.0        85.58379  95.789474  97.849462  96.808511"
      ]
     },
     "metadata": {},
     "output_type": "display_data"
    },
    {
     "name": "stdout",
     "output_type": "stream",
     "text": [
      "Performance hasn't improved for 1 cycles...\n"
     ]
    },
    {
     "data": {
      "text/html": [
       "<div>\n",
       "<style scoped>\n",
       "    .dataframe tbody tr th:only-of-type {\n",
       "        vertical-align: middle;\n",
       "    }\n",
       "\n",
       "    .dataframe tbody tr th {\n",
       "        vertical-align: top;\n",
       "    }\n",
       "\n",
       "    .dataframe thead th {\n",
       "        text-align: right;\n",
       "    }\n",
       "</style>\n",
       "<table border=\"1\" class=\"dataframe\">\n",
       "  <thead>\n",
       "    <tr style=\"text-align: right;\">\n",
       "      <th></th>\n",
       "      <th>cycle_no</th>\n",
       "      <th>avg_cycle_loss</th>\n",
       "      <th>precision</th>\n",
       "      <th>recall</th>\n",
       "      <th>f_score</th>\n",
       "    </tr>\n",
       "  </thead>\n",
       "  <tbody>\n",
       "    <tr>\n",
       "      <th>0</th>\n",
       "      <td>18.0</td>\n",
       "      <td>72.557609</td>\n",
       "      <td>96.842105</td>\n",
       "      <td>98.924731</td>\n",
       "      <td>97.87234</td>\n",
       "    </tr>\n",
       "  </tbody>\n",
       "</table>\n",
       "</div>"
      ],
      "text/plain": [
       "   cycle_no  avg_cycle_loss  precision     recall   f_score\n",
       "0      18.0       72.557609  96.842105  98.924731  97.87234"
      ]
     },
     "metadata": {},
     "output_type": "display_data"
    },
    {
     "name": "stdout",
     "output_type": "stream",
     "text": [
      "Performance hasn't improved for 2 cycles...\n"
     ]
    },
    {
     "data": {
      "text/html": [
       "<div>\n",
       "<style scoped>\n",
       "    .dataframe tbody tr th:only-of-type {\n",
       "        vertical-align: middle;\n",
       "    }\n",
       "\n",
       "    .dataframe tbody tr th {\n",
       "        vertical-align: top;\n",
       "    }\n",
       "\n",
       "    .dataframe thead th {\n",
       "        text-align: right;\n",
       "    }\n",
       "</style>\n",
       "<table border=\"1\" class=\"dataframe\">\n",
       "  <thead>\n",
       "    <tr style=\"text-align: right;\">\n",
       "      <th></th>\n",
       "      <th>cycle_no</th>\n",
       "      <th>avg_cycle_loss</th>\n",
       "      <th>precision</th>\n",
       "      <th>recall</th>\n",
       "      <th>f_score</th>\n",
       "    </tr>\n",
       "  </thead>\n",
       "  <tbody>\n",
       "    <tr>\n",
       "      <th>0</th>\n",
       "      <td>19.0</td>\n",
       "      <td>67.911523</td>\n",
       "      <td>96.842105</td>\n",
       "      <td>98.924731</td>\n",
       "      <td>97.87234</td>\n",
       "    </tr>\n",
       "  </tbody>\n",
       "</table>\n",
       "</div>"
      ],
      "text/plain": [
       "   cycle_no  avg_cycle_loss  precision     recall   f_score\n",
       "0      19.0       67.911523  96.842105  98.924731  97.87234"
      ]
     },
     "metadata": {},
     "output_type": "display_data"
    },
    {
     "name": "stdout",
     "output_type": "stream",
     "text": [
      "Performance hasn't improved for 3 cycles...\n"
     ]
    },
    {
     "data": {
      "text/html": [
       "<div>\n",
       "<style scoped>\n",
       "    .dataframe tbody tr th:only-of-type {\n",
       "        vertical-align: middle;\n",
       "    }\n",
       "\n",
       "    .dataframe tbody tr th {\n",
       "        vertical-align: top;\n",
       "    }\n",
       "\n",
       "    .dataframe thead th {\n",
       "        text-align: right;\n",
       "    }\n",
       "</style>\n",
       "<table border=\"1\" class=\"dataframe\">\n",
       "  <thead>\n",
       "    <tr style=\"text-align: right;\">\n",
       "      <th></th>\n",
       "      <th>cycle_no</th>\n",
       "      <th>avg_cycle_loss</th>\n",
       "      <th>precision</th>\n",
       "      <th>recall</th>\n",
       "      <th>f_score</th>\n",
       "    </tr>\n",
       "  </thead>\n",
       "  <tbody>\n",
       "    <tr>\n",
       "      <th>0</th>\n",
       "      <td>20.0</td>\n",
       "      <td>65.806534</td>\n",
       "      <td>96.842105</td>\n",
       "      <td>98.924731</td>\n",
       "      <td>97.87234</td>\n",
       "    </tr>\n",
       "  </tbody>\n",
       "</table>\n",
       "</div>"
      ],
      "text/plain": [
       "   cycle_no  avg_cycle_loss  precision     recall   f_score\n",
       "0      20.0       65.806534  96.842105  98.924731  97.87234"
      ]
     },
     "metadata": {},
     "output_type": "display_data"
    },
    {
     "name": "stdout",
     "output_type": "stream",
     "text": [
      "Performance hasn't improved for 4 cycles...\n"
     ]
    },
    {
     "data": {
      "text/html": [
       "<div>\n",
       "<style scoped>\n",
       "    .dataframe tbody tr th:only-of-type {\n",
       "        vertical-align: middle;\n",
       "    }\n",
       "\n",
       "    .dataframe tbody tr th {\n",
       "        vertical-align: top;\n",
       "    }\n",
       "\n",
       "    .dataframe thead th {\n",
       "        text-align: right;\n",
       "    }\n",
       "</style>\n",
       "<table border=\"1\" class=\"dataframe\">\n",
       "  <thead>\n",
       "    <tr style=\"text-align: right;\">\n",
       "      <th></th>\n",
       "      <th>cycle_no</th>\n",
       "      <th>avg_cycle_loss</th>\n",
       "      <th>precision</th>\n",
       "      <th>recall</th>\n",
       "      <th>f_score</th>\n",
       "    </tr>\n",
       "  </thead>\n",
       "  <tbody>\n",
       "    <tr>\n",
       "      <th>0</th>\n",
       "      <td>21.0</td>\n",
       "      <td>56.294402</td>\n",
       "      <td>97.87234</td>\n",
       "      <td>98.924731</td>\n",
       "      <td>98.395722</td>\n",
       "    </tr>\n",
       "  </tbody>\n",
       "</table>\n",
       "</div>"
      ],
      "text/plain": [
       "   cycle_no  avg_cycle_loss  precision     recall    f_score\n",
       "0      21.0       56.294402   97.87234  98.924731  98.395722"
      ]
     },
     "metadata": {},
     "output_type": "display_data"
    },
    {
     "name": "stdout",
     "output_type": "stream",
     "text": [
      "Saved model to models\\166470\n"
     ]
    },
    {
     "data": {
      "text/html": [
       "<div>\n",
       "<style scoped>\n",
       "    .dataframe tbody tr th:only-of-type {\n",
       "        vertical-align: middle;\n",
       "    }\n",
       "\n",
       "    .dataframe tbody tr th {\n",
       "        vertical-align: top;\n",
       "    }\n",
       "\n",
       "    .dataframe thead th {\n",
       "        text-align: right;\n",
       "    }\n",
       "</style>\n",
       "<table border=\"1\" class=\"dataframe\">\n",
       "  <thead>\n",
       "    <tr style=\"text-align: right;\">\n",
       "      <th></th>\n",
       "      <th>cycle_no</th>\n",
       "      <th>avg_cycle_loss</th>\n",
       "      <th>precision</th>\n",
       "      <th>recall</th>\n",
       "      <th>f_score</th>\n",
       "    </tr>\n",
       "  </thead>\n",
       "  <tbody>\n",
       "    <tr>\n",
       "      <th>0</th>\n",
       "      <td>22.0</td>\n",
       "      <td>61.447729</td>\n",
       "      <td>98.924731</td>\n",
       "      <td>98.924731</td>\n",
       "      <td>98.924731</td>\n",
       "    </tr>\n",
       "  </tbody>\n",
       "</table>\n",
       "</div>"
      ],
      "text/plain": [
       "   cycle_no  avg_cycle_loss  precision     recall    f_score\n",
       "0      22.0       61.447729  98.924731  98.924731  98.924731"
      ]
     },
     "metadata": {},
     "output_type": "display_data"
    },
    {
     "name": "stdout",
     "output_type": "stream",
     "text": [
      "Saved model to models\\166470\n"
     ]
    },
    {
     "data": {
      "text/html": [
       "<div>\n",
       "<style scoped>\n",
       "    .dataframe tbody tr th:only-of-type {\n",
       "        vertical-align: middle;\n",
       "    }\n",
       "\n",
       "    .dataframe tbody tr th {\n",
       "        vertical-align: top;\n",
       "    }\n",
       "\n",
       "    .dataframe thead th {\n",
       "        text-align: right;\n",
       "    }\n",
       "</style>\n",
       "<table border=\"1\" class=\"dataframe\">\n",
       "  <thead>\n",
       "    <tr style=\"text-align: right;\">\n",
       "      <th></th>\n",
       "      <th>cycle_no</th>\n",
       "      <th>avg_cycle_loss</th>\n",
       "      <th>precision</th>\n",
       "      <th>recall</th>\n",
       "      <th>f_score</th>\n",
       "    </tr>\n",
       "  </thead>\n",
       "  <tbody>\n",
       "    <tr>\n",
       "      <th>0</th>\n",
       "      <td>23.0</td>\n",
       "      <td>50.557498</td>\n",
       "      <td>97.849462</td>\n",
       "      <td>97.849462</td>\n",
       "      <td>97.849462</td>\n",
       "    </tr>\n",
       "  </tbody>\n",
       "</table>\n",
       "</div>"
      ],
      "text/plain": [
       "   cycle_no  avg_cycle_loss  precision     recall    f_score\n",
       "0      23.0       50.557498  97.849462  97.849462  97.849462"
      ]
     },
     "metadata": {},
     "output_type": "display_data"
    },
    {
     "name": "stdout",
     "output_type": "stream",
     "text": [
      "Performance hasn't improved for 1 cycles...\n"
     ]
    },
    {
     "data": {
      "text/html": [
       "<div>\n",
       "<style scoped>\n",
       "    .dataframe tbody tr th:only-of-type {\n",
       "        vertical-align: middle;\n",
       "    }\n",
       "\n",
       "    .dataframe tbody tr th {\n",
       "        vertical-align: top;\n",
       "    }\n",
       "\n",
       "    .dataframe thead th {\n",
       "        text-align: right;\n",
       "    }\n",
       "</style>\n",
       "<table border=\"1\" class=\"dataframe\">\n",
       "  <thead>\n",
       "    <tr style=\"text-align: right;\">\n",
       "      <th></th>\n",
       "      <th>cycle_no</th>\n",
       "      <th>avg_cycle_loss</th>\n",
       "      <th>precision</th>\n",
       "      <th>recall</th>\n",
       "      <th>f_score</th>\n",
       "    </tr>\n",
       "  </thead>\n",
       "  <tbody>\n",
       "    <tr>\n",
       "      <th>0</th>\n",
       "      <td>24.0</td>\n",
       "      <td>48.790201</td>\n",
       "      <td>96.808511</td>\n",
       "      <td>97.849462</td>\n",
       "      <td>97.326203</td>\n",
       "    </tr>\n",
       "  </tbody>\n",
       "</table>\n",
       "</div>"
      ],
      "text/plain": [
       "   cycle_no  avg_cycle_loss  precision     recall    f_score\n",
       "0      24.0       48.790201  96.808511  97.849462  97.326203"
      ]
     },
     "metadata": {},
     "output_type": "display_data"
    },
    {
     "name": "stdout",
     "output_type": "stream",
     "text": [
      "Performance hasn't improved for 2 cycles...\n"
     ]
    },
    {
     "data": {
      "text/html": [
       "<div>\n",
       "<style scoped>\n",
       "    .dataframe tbody tr th:only-of-type {\n",
       "        vertical-align: middle;\n",
       "    }\n",
       "\n",
       "    .dataframe tbody tr th {\n",
       "        vertical-align: top;\n",
       "    }\n",
       "\n",
       "    .dataframe thead th {\n",
       "        text-align: right;\n",
       "    }\n",
       "</style>\n",
       "<table border=\"1\" class=\"dataframe\">\n",
       "  <thead>\n",
       "    <tr style=\"text-align: right;\">\n",
       "      <th></th>\n",
       "      <th>cycle_no</th>\n",
       "      <th>avg_cycle_loss</th>\n",
       "      <th>precision</th>\n",
       "      <th>recall</th>\n",
       "      <th>f_score</th>\n",
       "    </tr>\n",
       "  </thead>\n",
       "  <tbody>\n",
       "    <tr>\n",
       "      <th>0</th>\n",
       "      <td>25.0</td>\n",
       "      <td>45.435177</td>\n",
       "      <td>96.808511</td>\n",
       "      <td>97.849462</td>\n",
       "      <td>97.326203</td>\n",
       "    </tr>\n",
       "  </tbody>\n",
       "</table>\n",
       "</div>"
      ],
      "text/plain": [
       "   cycle_no  avg_cycle_loss  precision     recall    f_score\n",
       "0      25.0       45.435177  96.808511  97.849462  97.326203"
      ]
     },
     "metadata": {},
     "output_type": "display_data"
    },
    {
     "name": "stdout",
     "output_type": "stream",
     "text": [
      "Performance hasn't improved for 3 cycles...\n"
     ]
    },
    {
     "data": {
      "text/html": [
       "<div>\n",
       "<style scoped>\n",
       "    .dataframe tbody tr th:only-of-type {\n",
       "        vertical-align: middle;\n",
       "    }\n",
       "\n",
       "    .dataframe tbody tr th {\n",
       "        vertical-align: top;\n",
       "    }\n",
       "\n",
       "    .dataframe thead th {\n",
       "        text-align: right;\n",
       "    }\n",
       "</style>\n",
       "<table border=\"1\" class=\"dataframe\">\n",
       "  <thead>\n",
       "    <tr style=\"text-align: right;\">\n",
       "      <th></th>\n",
       "      <th>cycle_no</th>\n",
       "      <th>avg_cycle_loss</th>\n",
       "      <th>precision</th>\n",
       "      <th>recall</th>\n",
       "      <th>f_score</th>\n",
       "    </tr>\n",
       "  </thead>\n",
       "  <tbody>\n",
       "    <tr>\n",
       "      <th>0</th>\n",
       "      <td>26.0</td>\n",
       "      <td>42.008834</td>\n",
       "      <td>96.808511</td>\n",
       "      <td>97.849462</td>\n",
       "      <td>97.326203</td>\n",
       "    </tr>\n",
       "  </tbody>\n",
       "</table>\n",
       "</div>"
      ],
      "text/plain": [
       "   cycle_no  avg_cycle_loss  precision     recall    f_score\n",
       "0      26.0       42.008834  96.808511  97.849462  97.326203"
      ]
     },
     "metadata": {},
     "output_type": "display_data"
    },
    {
     "name": "stdout",
     "output_type": "stream",
     "text": [
      "Performance hasn't improved for 4 cycles...\n"
     ]
    },
    {
     "data": {
      "text/html": [
       "<div>\n",
       "<style scoped>\n",
       "    .dataframe tbody tr th:only-of-type {\n",
       "        vertical-align: middle;\n",
       "    }\n",
       "\n",
       "    .dataframe tbody tr th {\n",
       "        vertical-align: top;\n",
       "    }\n",
       "\n",
       "    .dataframe thead th {\n",
       "        text-align: right;\n",
       "    }\n",
       "</style>\n",
       "<table border=\"1\" class=\"dataframe\">\n",
       "  <thead>\n",
       "    <tr style=\"text-align: right;\">\n",
       "      <th></th>\n",
       "      <th>cycle_no</th>\n",
       "      <th>avg_cycle_loss</th>\n",
       "      <th>precision</th>\n",
       "      <th>recall</th>\n",
       "      <th>f_score</th>\n",
       "    </tr>\n",
       "  </thead>\n",
       "  <tbody>\n",
       "    <tr>\n",
       "      <th>0</th>\n",
       "      <td>27.0</td>\n",
       "      <td>44.406255</td>\n",
       "      <td>97.849462</td>\n",
       "      <td>97.849462</td>\n",
       "      <td>97.849462</td>\n",
       "    </tr>\n",
       "  </tbody>\n",
       "</table>\n",
       "</div>"
      ],
      "text/plain": [
       "   cycle_no  avg_cycle_loss  precision     recall    f_score\n",
       "0      27.0       44.406255  97.849462  97.849462  97.849462"
      ]
     },
     "metadata": {},
     "output_type": "display_data"
    },
    {
     "name": "stdout",
     "output_type": "stream",
     "text": [
      "Performance hasn't improved for 5 cycles...\n",
      "Done training after 27 meta cycles.\n"
     ]
    }
   ],
   "source": [
    "#no_test\n",
    "\n",
    "#if you want the same model everytime:\n",
    "#random.seed(seed)\n",
    "#fix_random_seed(seed)\n",
    "\n",
    "#spacy parameters\n",
    "cping = {'start':16, 'end':32, 'cp_rate':1.05}\n",
    "solves = {'learn_rate':0.001}\n",
    "dpout = 0.6\n",
    "save_mdir = 'models/166470'\n",
    "\n",
    "#load model from pretrained\n",
    "nlp_model = load_model()\n",
    "\n",
    "nlp_model, perf_df = model_meta_training(nlp_model, train_spacy, valid_df, verbose=True, save_dir = save_mdir,\n",
    "                                         n_iter=10, solver_params=solves, compound_params=cping, dropout=dpout)"
   ]
  },
  {
   "cell_type": "code",
   "execution_count": null,
   "metadata": {},
   "outputs": [],
   "source": []
  }
 ],
 "metadata": {
  "kernelspec": {
   "display_name": "Python 3",
   "language": "python",
   "name": "python3"
  },
  "language_info": {
   "codemirror_mode": {
    "name": "ipython",
    "version": 3
   },
   "file_extension": ".py",
   "mimetype": "text/x-python",
   "name": "python",
   "nbconvert_exporter": "python",
   "pygments_lexer": "ipython3",
   "version": "3.8.5"
  }
 },
 "nbformat": 4,
 "nbformat_minor": 2
}
